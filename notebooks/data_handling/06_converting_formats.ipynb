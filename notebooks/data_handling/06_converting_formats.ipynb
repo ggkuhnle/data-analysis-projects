{
 "cells": [
  {
   "cell_type": "markdown",
   "id": "fd727e81",
   "metadata": {},
   "source": [
    "# 🔄 3.6 Converting Formats"
   ]
  },
  {
   "cell_type": "markdown",
   "id": "e34c7844",
   "metadata": {},
   "source": [
    "Sometimes datasets must be reshaped for compatibility or analysis.\n",
    "\n",
    "**Long vs Wide:**\n",
    "- `pd.melt()` turns wide → long\n",
    "- `pivot_table()` or `pivot()` turns long → wide\n",
    "\n",
    "**String parsing:**\n",
    "- `str.split()`, `str.extract()`"
   ]
  },
  {
   "cell_type": "code",
   "execution_count": null,
   "id": "bfe167c4",
   "metadata": {},
   "outputs": [],
   "source": [
    "long = pd.melt(df, id_vars=['Name'], var_name='Year', value_name='Value')\n",
    "wide = long.pivot(index='Name', columns='Year', values='Value')"
   ]
  },
  {
   "cell_type": "markdown",
   "id": "87f8ebf6",
   "metadata": {},
   "source": [
    "## 🧪 Exercise\n",
    "Reshape a nutrient table from long to wide format and save as JSON."
   ]
  },
  {
   "cell_type": "markdown",
   "id": "16cebc91",
   "metadata": {},
   "source": [
    "### <details><summary>Advanced: Multi-index Pivoting and Nested Structures</summary>\n",
    "```python\n",
    "wide = df.pivot_table(index=['Name'], columns=['Year'], values='Value')\n",
    "```\n",
    "Also consider exporting nested JSON structures using `orient='records'`.\n",
    "</details>"
   ]
  }
 ],
 "metadata": {},
 "nbformat": 4,
 "nbformat_minor": 5
}
