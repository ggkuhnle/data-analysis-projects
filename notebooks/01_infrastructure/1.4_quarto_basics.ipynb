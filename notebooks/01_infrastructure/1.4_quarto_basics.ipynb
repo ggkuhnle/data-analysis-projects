{
 "cells": [
  {
   "cell_type": "markdown",
   "id": "intro",
   "metadata": {},
   "source": [
    "# 📝 1.4 Quarto Basics\n",
    "\n",
    "This notebook introduces Quarto, a tool for creating reproducible documents combining code, text, and visuals, ideal for nutrition research reports.\n",
    "\n",
    "**Objectives**:\n",
    "- Understand Quarto’s role in reproducible research.\n",
    "- Create a simple Quarto document with Python code.\n",
    "- Render the document to HTML.\n",
    "\n",
    "**Context**: Quarto is used in this toolkit (e.g., `index.qmd`) to share analyses, perfect for MSc projects.\n",
    "\n",
    "<details><summary>Fun Fact</summary>\n",
    "A Quarto document is like a hippo’s lab report—neat, detailed, and ready to share! 🦛\n",
    "</details>"
   ]
  },
  {
   "cell_type": "code",
   "execution_count": 1,
   "id": "setup",
   "metadata": {},
   "outputs": [
    {
     "name": "stdout",
     "output_type": "stream",
     "text": [
      "Quarto environment ready.\n"
     ]
    }
   ],
   "source": [
    "# Install required packages\n",
    "%pip install pandas matplotlib  # Ensures compatibility in Colab\n",
    "import pandas as pd  # For data manipulation\n",
    "import matplotlib.pyplot as plt  # For plotting\n",
    "print('Quarto environment ready.')"
   ]
  },
  {
   "cell_type": "markdown",
   "id": "quarto",
   "metadata": {},
   "source": [
    "## Creating a Quarto Document\n",
    "\n",
    "Load `hippo_diets.csv` and create a plot to include in a Quarto document."
   ]
  },
  {
   "cell_type": "code",
   "execution_count": 2,
   "id": "plot",
   "metadata": {},
   "outputs": [],
   "source": [
    "# Load the dataset\n",
    "df = pd.read_csv('data/hippo_diets.csv')  # Path relative to notebook\n",
    "\n",
    "# Create a histogram\n",
    "plt.hist(df['Calories'], bins=10, color='teal', edgecolor='black')\n",
    "plt.xlabel('Calories (kcal)')  # Label x-axis\n",
    "plt.ylabel('Frequency')  # Label y-axis\n",
    "plt.title('Distribution of Hippo Calorie Intakes')  # Plot title\n",
    "plt.grid(True, alpha=0.3)  # Add light grid\n",
    "plt.show()  # Display plot"
   ]
  },
  {
   "cell_type": "markdown",
   "id": "exercise",
   "metadata": {},
   "source": [
    "## Exercise 1: Draft a Quarto File\n",
    "\n",
    "Create a file `my_quarto.qmd` with the following:\n",
    "\n",
    "```yaml\n",
    "---\n",
    "title: \"Hippo Diet Analysis\"\n",
    "format: html\n",
    "---\n",
    "\n",
    "## Calorie Distribution\n",
    "\n",
    "```{python}\n",
    "# Paste your histogram code here\n",
    "```\n",
    "```\n",
    "\n",
    "Render it using `quarto render my_quarto.qmd` in a terminal. Document your experience below.\n",
    "\n",
    "**Guidance**: Ensure `hippo_diets.csv` is in the same directory."
   ]
  },
  {
   "cell_type": "markdown",
   "id": "your_answer",
   "metadata": {},
   "source": [
    "**Answer**:\n",
    "\n",
    "I created and rendered the Quarto file by..."
   ]
  },
  {
   "cell_type": "markdown",
   "id": "wrap",
   "metadata": {},
   "source": [
    "## Conclusion\n",
    "\n",
    "You’ve learned to use Quarto for reproducible documents, enhancing your nutrition research outputs.\n",
    "\n",
    "**Next Steps**: Begin programming basics in 2.1.\n",
    "\n",
    "**Resources**:\n",
    "- [Quarto Documentation](https://quarto.org/)\n",
    "- [Quarto GitHub](https://github.com/quarto-dev/quarto-cli)\n",
    "- Repository: [github.com/ggkuhnle/data-analysis-toolkit-FNS](https://github.com/ggkuhnle/data-analysis-toolkit-FNS)"
   ]
  }
 ],
 "metadata": {
  "kernelspec": {
   "display_name": "Python 3",
   "language": "python",
   "name": "python3"
  },
  "language_info": {
   "codemirror_mode": {
    "name": "ipython",
    "version": 3
   },
   "file_extension": ".py",
   "mimetype": "text/x-python",
   "name": "python",
   "nbconvert_exporter": "python",
   "pygments_lexer": "ipython3",
   "version": "3.9.7"
  }
 },
 "nbformat": 4,
 "nbformat_minor": 5
}
