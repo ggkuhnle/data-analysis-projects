{
  "cells": [
    {
      "cell_type": "markdown",
      "id": "intro",
      "metadata": {},
      "source": [
        "# \ud83d\udcca 3.2 Importing Data\n",
        "\n",
        "This notebook covers importing datasets into Python, a critical step for nutrition data analysis.\n",
        "\n",
        "**Objectives**:\n",
        "- Import CSV and Excel files using pandas.\n",
        "- Verify data integrity after import.\n",
        "- Apply importing skills to `hippo_nutrients.csv`.\n",
        "\n",
        "**Context**: Importing data correctly ensures accurate analysis of nutrition datasets like NDNS.\n",
        "\n",
        "<details><summary>Fun Fact</summary>\n",
        "Importing data is like a hippo gathering ingredients\u2014get it right, and the feast begins! \ud83e\udd9b\n",
        "</details>"
      ]
    },
    {
      "cell_type": "code",
      "execution_count": null,
      "id": "colab_setup",
      "metadata": {},
      "outputs": [],
      "source": [
        "# Setup for Google Colab: Fetch datasets automatically or manually\n",
        "import os\n",
        "from google.colab import files\n",
        "\n",
        "# Define the module and dataset for this notebook\n",
        "MODULE = '03_data_handling'\n",
        "DATASET = 'hippo_nutrients.csv'\n",
        "DATASET_PATH = os.path.join('data', DATASET)\n",
        "\n",
        "# Step 1: Attempt to clone the repository (automatic method)\n",
        "try:\n",
        "    print('Attempting to clone repository...')\n",
        "    !git clone https://github.com/ggkuhnle/data-analysis-toolkit-FNS.git\n",
        "    os.chdir(f'/content/data-analysis-toolkit-FNS/notebooks/{MODULE}')\n",
        "    if os.path.exists(DATASET_PATH):\n",
        "        print(f'Dataset found: {DATASET_PATH} \ud83e\udd9b')\n",
        "    else:\n",
        "        print(f'Error: Dataset {DATASET} not found after cloning.')\n",
        "        raise FileNotFoundError\n",
        "except Exception as e:\n",
        "    print(f'Cloning failed: {e}')\n",
        "    print('Falling back to manual upload option...')\n",
        "\n",
        "    # Step 2: Manual upload option\n",
        "    print(f'Please upload {DATASET} manually.')\n",
        "    print(f'1. Click the \"Choose Files\" button below.')\n",
        "    print(f'2. Select {DATASET} from your local machine.')\n",
        "    print(f'3. Ensure the file is placed in notebooks/{MODULE}/data/')\n",
        "    \n",
        "    # Create the data directory if it doesn't exist\n",
        "    os.makedirs('data', exist_ok=True)\n",
        "    \n",
        "    # Prompt user to upload the dataset\n",
        "    uploaded = files.upload()\n",
        "    \n",
        "    # Check if the dataset was uploaded\n",
        "    if DATASET in uploaded:\n",
        "        with open(DATASET_PATH, 'wb') as f:\n",
        "            f.write(uploaded[DATASET])\n",
        "        print(f'Successfully uploaded {DATASET} to {DATASET_PATH} \ud83e\udd9b')\n",
        "    else:\n",
        "        raise FileNotFoundError(f'Upload failed. Please ensure you uploaded {DATASET}.')\n",
        "\n",
        "# Install required packages for this notebook\n",
        "%pip install pandas numpy\n",
        "print('Python environment ready.')"
      ]
    },
    {
      "cell_type": "code",
      "execution_count": 1,
      "id": "setup",
      "metadata": {},
      "outputs": [
        {
          "name": "stdout",
          "output_type": "stream",
          "text": [
            "Data import environment ready.\n"
          ]
        }
      ],
      "source": [
        "# Install required packages\n",
        "%pip install pandas openpyxl  # Ensures compatibility in Colab, openpyxl for Excel\n",
        "import pandas as pd  # For data manipulation\n",
        "print('Data import environment ready.')"
      ]
    },
    {
      "cell_type": "markdown",
      "id": "csv_import",
      "metadata": {},
      "source": [
        "## Importing a CSV File\n",
        "\n",
        "Load `hippo_nutrients.csv` and verify its contents."
      ]
    },
    {
      "cell_type": "code",
      "execution_count": 2,
      "id": "csv_load",
      "metadata": {},
      "outputs": [
        {
          "name": "stdout",
          "output_type": "stream",
          "text": [
            "Shape: (100, 6)\n",
            "Columns: ['ID', 'Nutrient', 'Year', 'Value', 'Age', 'Sex']\n"
          ]
        }
      ],
      "source": [
        "# Load CSV file\n",
        "df_csv = pd.read_csv('data/hippo_nutrients.csv')  # Path relative to notebook\n",
        "\n",
        "# Verify data\n",
        "print(f'Shape: {df_csv.shape}')  # Display number of rows and columns\n",
        "print(f'Columns: {df_csv.columns.tolist()}')  # Display column names"
      ]
    },
    {
      "cell_type": "markdown",
      "id": "excel_import",
      "metadata": {},
      "source": [
        "## Importing an Excel File\n",
        "\n",
        "Assume `hippo_nutrients.xlsx` exists (same data as CSV) and import it."
      ]
    },
    {
      "cell_type": "code",
      "execution_count": 3,
      "id": "excel_load",
      "metadata": {},
      "outputs": [],
      "source": [
        "# Load Excel file (commented out as file may not exist)\n",
        "# df_excel = pd.read_excel('data/hippo_nutrients.xlsx')  # Path relative to notebook\n",
        "# print(f'Excel shape: {df_excel.shape}')  # Display shape\n",
        "\n",
        "# For this example, reuse CSV data\n",
        "df_excel = df_csv  # Simulate Excel import\n",
        "print(f'Excel shape: {df_excel.shape}')  # Display shape"
      ]
    },
    {
      "cell_type": "markdown",
      "id": "exercise",
      "metadata": {},
      "source": [
        "## Exercise 1: Import and Summarise\n",
        "\n",
        "Import `hippo_nutrients.csv` and calculate the mean `Value` for Iron intakes. Document your code with comments.\n",
        "\n",
        "**Guidance**: Filter for `Nutrient == 'Iron'` and use `df['Value'].mean()`."
      ]
    },
    {
      "cell_type": "markdown",
      "id": "your_answer",
      "metadata": {},
      "source": [
        "**Answer**:\n",
        "\n",
        "My import and summary code is..."
      ]
    },
    {
      "cell_type": "markdown",
      "id": "wrap",
      "metadata": {},
      "source": [
        "## Conclusion\n",
        "\n",
        "You\u2019ve learned to import CSV and Excel files, preparing nutrition data for analysis.\n",
        "\n",
        "**Next Steps**: Explore data cleaning in 3.3.\n",
        "\n",
        "**Resources**:\n",
        "- [Pandas I/O](https://pandas.pydata.org/docs/user_guide/io.html)\n",
        "- [OpenPyXL Documentation](https://openpyxl.readthedocs.io/)\n",
        "- Repository: [github.com/ggkuhnle/data-analysis-toolkit-FNS](https://github.com/ggkuhnle/data-analysis-toolkit-FNS)"
      ]
    }
  ],
  "metadata": {
    "kernelspec": {
      "display_name": "Python 3",
      "language": "python",
      "name": "python3"
    },
    "language_info": {
      "codemirror_mode": {
        "name": "ipython",
        "version": 3
      },
      "file_extension": ".py",
      "mimetype": "text/x-python",
      "name": "python",
      "nbconvert_exporter": "python",
      "pygments_lexer": "ipython3",
      "version": "3.9.7"
    }
  },
  "nbformat": 4,
  "nbformat_minor": 5
}