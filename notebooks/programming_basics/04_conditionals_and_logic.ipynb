{
 "cells": [
  {
   "cell_type": "markdown",
   "id": "03bb883d",
   "metadata": {},
   "source": [
    "# 🔁 Conditionals and Logic\n",
    "\n",
    "This notebook introduces **if statements** and **logic** in Python — the building blocks for decision making.\n",
    "\n",
    "In Excel, you’ve probably used:\n",
    "\n",
    "```excel\n",
    "=IF(A1 > 10, \"High\", \"Low\")\n",
    "```\n",
    "\n",
    "In Python, we do something very similar!\n"
   ]
  },
  {
   "cell_type": "markdown",
   "id": "bd0ff7c3",
   "metadata": {},
   "source": [
    "## 💡 What are conditionals?\n",
    "\n",
    "Conditionals let us run different code depending on whether something is **True** or **False**.\n",
    "\n",
    "```python\n",
    "if weight > 1000:\n",
    "    print(\"Big hippo!\")\n",
    "```\n",
    "\n",
    "The structure:\n",
    "```python\n",
    "if condition:\n",
    "    do_this\n",
    "elif another_condition:\n",
    "    do_that\n",
    "else:\n",
    "    do_something_else\n",
    "```\n"
   ]
  },
  {
   "cell_type": "code",
   "execution_count": null,
   "id": "e58998a4",
   "metadata": {},
   "outputs": [],
   "source": [
    "weight = 1200\n",
    "\n",
    "if weight > 1000:\n",
    "    print(\"Big hippo!\")\n",
    "else:\n",
    "    print(\"Small hippo!\")"
   ]
  },
  {
   "cell_type": "markdown",
   "id": "ea032d68",
   "metadata": {},
   "source": [
    "## 🧠 Comparison operators\n",
    "\n",
    "| Operator | Meaning              | Example     |\n",
    "|----------|----------------------|-------------|\n",
    "| `==`     | equal to             | `x == 3`    |\n",
    "| `!=`     | not equal to         | `x != 0`    |\n",
    "| `>`      | greater than         | `x > 1000`  |\n",
    "| `<`      | less than            | `x < 50`    |\n",
    "| `>=`     | greater or equal     | `x >= 1.8`  |\n",
    "| `<=`     | less or equal        | `x <= 99`   |\n"
   ]
  },
  {
   "cell_type": "markdown",
   "id": "5cd4e775",
   "metadata": {},
   "source": [
    "## 🔄 if...elif...else chain\n",
    "\n",
    "```python\n",
    "bmi = 32\n",
    "\n",
    "if bmi < 18.5:\n",
    "    print(\"Underweight\")\n",
    "elif bmi < 25:\n",
    "    print(\"Normal weight\")\n",
    "elif bmi < 30:\n",
    "    print(\"Overweight\")\n",
    "else:\n",
    "    print(\"Obese\")\n",
    "```\n"
   ]
  },
  {
   "cell_type": "code",
   "execution_count": null,
   "id": "48138d1b",
   "metadata": {},
   "outputs": [],
   "source": [
    "bmi = 22\n",
    "\n",
    "if bmi < 18.5:\n",
    "    print(\"Underweight\")\n",
    "elif bmi < 25:\n",
    "    print(\"Normal weight\")\n",
    "elif bmi < 30:\n",
    "    print(\"Overweight\")\n",
    "else:\n",
    "    print(\"Obese\")"
   ]
  },
  {
   "cell_type": "markdown",
   "id": "55bcf8c1",
   "metadata": {},
   "source": [
    "## 🎯 Ternary (inline) `if`\n",
    "\n",
    "Shortcuts for quick conditions:\n",
    "\n",
    "```python\n",
    "status = \"hungry\" if time > 12 else \"not hungry\"\n",
    "```\n"
   ]
  },
  {
   "cell_type": "code",
   "execution_count": null,
   "id": "cc2459c9",
   "metadata": {},
   "outputs": [],
   "source": [
    "time = 13\n",
    "status = \"hungry\" if time > 12 else \"not hungry\"\n",
    "print(status)"
   ]
  },
  {
   "cell_type": "markdown",
   "id": "8f9e2b7f",
   "metadata": {},
   "source": [
    "## 🧪 Exercises\n",
    "\n",
    "1. Create a variable `score` with a number between 0–100. Write logic to assign it a grade (A, B, C, etc).\n",
    "2. Make a variable `hippo_age` and print different messages for under 5, 5–10, and over 10.\n",
    "3. Optional: Write an inline `if` to choose `\"tea\"` or `\"coffee\"` depending on the time of day.\n"
   ]
  },
  {
   "cell_type": "markdown",
   "id": "e705b539",
   "metadata": {},
   "source": [
    "## 🔍 Advanced View\n",
    "\n",
    "<details><summary>Click to expand</summary>\n",
    "\n",
    "### Boolean logic\n",
    "\n",
    "You can combine conditions using:\n",
    "- `and` → both must be True\n",
    "- `or` → either can be True\n",
    "- `not` → flips the result\n",
    "\n",
    "```python\n",
    "if weight > 1000 and hungry:\n",
    "    print(\"Watch out!\")\n",
    "```\n",
    "\n",
    "Conditionals are everywhere — and become even more powerful inside loops and functions.\n",
    "\n",
    "</details>\n"
   ]
  }
 ],
 "metadata": {},
 "nbformat": 4,
 "nbformat_minor": 5
}
