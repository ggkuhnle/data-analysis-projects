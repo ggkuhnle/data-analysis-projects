{
 "cells": [
  {
   "cell_type": "markdown",
   "id": "37649b81",
   "metadata": {},
   "source": [
    "# 🧩 2.5 Functions and Modular Code"
   ]
  },
  {
   "cell_type": "markdown",
   "id": "1ee2d2f2",
   "metadata": {},
   "source": [
    "Functions let you reuse blocks of code and structure your programmes clearly.\n",
    "\n",
    "**Basic syntax:**\n",
    "```python\n",
    "def function_name(parameters):\n",
    "    \"\"\"Optional docstring.\"\"\"\n",
    "    result = do_something(parameters)\n",
    "    return result\n",
    "```"
   ]
  },
  {
   "cell_type": "code",
   "execution_count": null,
   "id": "01da3290",
   "metadata": {},
   "outputs": [],
   "source": [
    "def calculate_bmi(weight_kg, height_m):\n",
    "    \"\"\"Calculate BMI given weight in kg and height in m\"\"\"\n",
    "    return weight_kg / (height_m ** 2)\n",
    "\n",
    "calculate_bmi(70, 1.75)"
   ]
  },
  {
   "cell_type": "markdown",
   "id": "2bbb55fc",
   "metadata": {},
   "source": [
    "## 🧪 Exercise\n",
    "- Write a function `convert_mg_to_g` that converts milligrams to grams.\n",
    "- Apply it to a list of values using a loop."
   ]
  },
  {
   "cell_type": "markdown",
   "id": "46743968",
   "metadata": {},
   "source": [
    "## 🧠 Advanced (foldable)\n",
    "<details><summary>Default Arguments and Keyword Arguments</summary>\n",
    "\n",
    "You can specify default values:\n",
    "```python\n",
    "def greet(name, greeting=\"Hello\"):\n",
    "    return f\"{greeting}, {name}!\"\n",
    "```\n",
    "Keyword arguments make calls clearer:\n",
    "```python\n",
    "greet(name=\"Gunter\", greeting=\"Hi\")\n",
    "```\n",
    "</details>"
   ]
  }
 ],
 "metadata": {},
 "nbformat": 4,
 "nbformat_minor": 5
}
