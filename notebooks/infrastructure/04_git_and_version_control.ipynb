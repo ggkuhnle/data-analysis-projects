{
 "cells": [
  {
   "cell_type": "markdown",
   "id": "39c6080d",
   "metadata": {},
   "source": [
    "# 🔁 Git and Version Control\n",
    "\n",
    "Version control helps track changes to your code and collaborate safely.\n",
    "\n",
    "**Basic Git workflow**:\n",
    "```bash\n",
    "git init\n",
    "git add .\n",
    "git commit -m \"Initial commit\"\n",
    "git push\n",
    "```\n",
    "\n",
    "Use GitHub to store your project online and collaborate with others."
   ]
  }
 ],
 "metadata": {},
 "nbformat": 4,
 "nbformat_minor": 5
}
