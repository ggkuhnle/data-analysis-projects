# 🗄️ Databases (Local and Cloud)

_Basics of using SQLite and PostgreSQL, with a Snowflake preview._

🧪 **Exercise**: Query nutrient data from SQLite and plot trends.