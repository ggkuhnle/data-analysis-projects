{
 "cells": [
  {
   "cell_type": "markdown",
   "id": "3e523735",
   "metadata": {},
   "source": [
    "# 🧮 3.5 Sorting, Filtering, Grouping, Joining"
   ]
  },
  {
   "cell_type": "markdown",
   "id": "cfe7368c",
   "metadata": {},
   "source": [
    "These techniques help transform and aggregate datasets.\n",
    "\n",
    "- **Sorting:** `df.sort_values()`\n",
    "- **Filtering:** `df.query()` or boolean indexing\n",
    "- **Grouping:** `df.groupby()`\n",
    "- **Joining:** `merge()` or `concat()`"
   ]
  },
  {
   "cell_type": "code",
   "execution_count": null,
   "id": "414f207c",
   "metadata": {},
   "outputs": [],
   "source": [
    "grouped = df.groupby(['Sex', 'Age'])['Iron'].mean().reset_index()\n",
    "sorted_df = df.sort_values(by='Folate', ascending=False)\n",
    "filtered = df.query('Iron > 8')"
   ]
  },
  {
   "cell_type": "markdown",
   "id": "bb266212",
   "metadata": {},
   "source": [
    "## 🧪 Exercise\n",
    "Group by `AgeGroup` and `Sex` and calculate the average vitamin C intake."
   ]
  },
  {
   "cell_type": "markdown",
   "id": "1f4db766",
   "metadata": {},
   "source": [
    "### <details><summary>Advanced: Multi-key Merging and Reshaping</summary>\n",
    "Use `pd.merge(df1, df2, on=['ID', 'Time'])` for joining with multiple keys.\n",
    "</details>"
   ]
  }
 ],
 "metadata": {},
 "nbformat": 4,
 "nbformat_minor": 5
}
