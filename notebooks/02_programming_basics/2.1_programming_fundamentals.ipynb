{
 "cells": [
  {
   "cell_type": "markdown",
   "id": "894fe4fd",
   "metadata": {},
   "source": [
    "# 🧠 Programming Fundamentals: The Big Picture\n",
    "\n",
    "Before we dive into writing Python code, it helps to understand **what programming actually is** and **why it matters for data analysis in nutrition, food, and sensory science**.\n"
   ]
  },
  {
   "cell_type": "markdown",
   "id": "28303a7a",
   "metadata": {},
   "source": [
    "## 🧱 What Is a Program?\n",
    "\n",
    "A **computer program** is just a set of **instructions** (the code) and **data** (the values it works on). Imagine a hippo cookbook: the recipe is the instructions, and the ingredients are the data.\n",
    "\n",
    "A simple Python program:\n",
    "```text\n",
    "calories = 2500\n",
    "protein = 80\n",
    "print(\"This diet provides\", calories, \"kcal and\", protein, \"g of protein.\")\n",
    "```\n"
   ]
  },
  {
   "cell_type": "markdown",
   "id": "7dec685b",
   "metadata": {},
   "source": [
    "## 🧩 Structure of a Program\n",
    "\n",
    "Most programs are built from a few key elements:\n",
    "- **Variables** (store data)\n",
    "- **Functions** (perform actions)\n",
    "- **Conditionals** (make decisions)\n",
    "- **Loops** (repeat actions)\n",
    "- **Comments** (explain the code)\n",
    "- **Error Handling** (deal with unexpected problems)\n",
    "\n",
    "These are like the pots, pans, and measuring spoons of the programming world. You don’t need them all at once—but you will use them often.\n"
   ]
  },
  {
   "cell_type": "markdown",
   "id": "2c13cccd",
   "metadata": {},
   "source": [
    "## 🧑‍🍳 Naming Things: Variables and Functions\n",
    "\n",
    "Choose **descriptive names** for clarity. Avoid `x`, `y`, or `stuff` unless it's obvious what they are. Use `snake_case` (lowercase with underscores) in Python.\n",
    "\n",
    "Examples:\n",
    "```text\n",
    "hippo_name = \"Hilda\"\n",
    "calcium_intake_mg = 1200\n",
    "```\n"
   ]
  },
  {
   "cell_type": "markdown",
   "id": "8313f08f",
   "metadata": {},
   "source": [
    "## 🪶 Formatting and Indentation\n",
    "\n",
    "Python is picky about layout! You **must** indent your code blocks using spaces (not tabs). This tells Python what belongs together.\n",
    "\n",
    "Bad:\n",
    "```python\n",
    "if iron_intake > 8.0:\n",
    "print(\"Sufficient intake\")  # ← No indentation!\n",
    "```\n",
    "\n",
    "Good:\n",
    "```python\n",
    "if iron_intake > 8.0:\n",
    "    print(\"Sufficient intake\")  # ← Indented!\n",
    "```\n",
    "\n",
    "> **Tip**: Most editors fix this for you. Stick to 4 spaces.\n"
   ]
  },
  {
   "cell_type": "markdown",
   "id": "ac0ca740",
   "metadata": {},
   "source": [
    "## 🗣️ Comment Your Code\n",
    "\n",
    "Comments are notes in your code, ignored by Python but **read by humans**.\n",
    "\n",
    "```python\n",
    "# This line calculates iron intake\n",
    "iron_intake = 8.2\n",
    "```\n",
    "\n",
    "Use comments to:\n",
    "- Explain *why* you’re doing something\n",
    "- Note assumptions or limitations\n",
    "- Make future you grateful\n"
   ]
  },
  {
   "cell_type": "markdown",
   "id": "9ccf9620",
   "metadata": {},
   "source": [
    "## 🚨 Try–Except: Handling Errors Gracefully\n",
    "\n",
    "Python has a friendly way to catch errors using `try`/`except`. For example:\n",
    "\n",
    "```python\n",
    "try:\n",
    "    result = 100 / 0\n",
    "except ZeroDivisionError:\n",
    "    print(\"Oops! Can't divide by zero.\")\n",
    "```\n",
    "\n",
    "This helps keep your program running even when something goes wrong (and it will!).\n"
   ]
  },
  {
   "cell_type": "markdown",
   "id": "18b98ffa",
   "metadata": {},
   "source": [
    "## 🦛 In Summary\n",
    "\n",
    "Writing code is giving clear, structured instructions—like explaining a nutrition experiment to a hippo. The clearer your code, the better it performs. 🧃\n",
    "\n",
    "Next, we’ll explore the **building blocks** of Python: variables, data types, and functions.\n"
   ]
  }
 ],
 "metadata": {
  "language_info": {
   "name": "python"
  }
 },
 "nbformat": 4,
 "nbformat_minor": 5
}
