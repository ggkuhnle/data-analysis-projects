{
 "cells": [
  {
   "cell_type": "markdown",
   "id": "7f4ef935",
   "metadata": {},
   "source": [
    "# 🔢 Data Types and Conversion\n",
    "\n",
    "Understand common data types and how to convert them.\n",
    "```python\n",
    "x = '123'\n",
    "int(x)\n",
    "```"
   ]
  }
 ],
 "metadata": {},
 "nbformat": 4,
 "nbformat_minor": 5
}
