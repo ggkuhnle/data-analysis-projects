{
 "cells": [
  {
   "cell_type": "markdown",
   "id": "286b1fd7",
   "metadata": {},
   "source": [
    "# 🧠 What is Code? (And Why Should You Care?)\n",
    "\n",
    "Welcome! In this notebook, we’ll explore the most fundamental question:  \n",
    "**What *is* code? And what does it *do*?**\n",
    "\n",
    "If you've ever used formulas in Excel, written commands in SPSS, or followed a cooking recipe, you've already met the basic idea of coding.\n"
   ]
  },
  {
   "cell_type": "markdown",
   "id": "b0e621db",
   "metadata": {},
   "source": [
    "## 💡 Code: Giving Instructions to a Computer\n",
    "\n",
    "At its heart, code is **a series of instructions**. You’re telling the computer *what* to do, *in what order*, and sometimes *under what conditions*.\n",
    "\n",
    "Think of a recipe:\n",
    "\n",
    "```text\n",
    "1. Take two eggs\n",
    "2. Whisk them\n",
    "3. Add flour and sugar\n",
    "4. Bake for 25 minutes\n",
    "```\n",
    "\n",
    "That’s a **script**: a repeatable sequence of steps. That’s what we do when we code.\n"
   ]
  },
  {
   "cell_type": "markdown",
   "id": "fd03ee99",
   "metadata": {},
   "source": [
    "## 🖥️ Interpreted vs Compiled Code\n",
    "\n",
    "- **Python** is an *interpreted* language: it runs each line one by one.\n",
    "- Languages like C or Java are *compiled*: they’re turned into a machine-readable program all at once.\n",
    "\n",
    "In data science, **interpreted languages** like Python and R are more popular because they’re easier to experiment with.\n"
   ]
  },
  {
   "cell_type": "code",
   "execution_count": null,
   "id": "d701f4af",
   "metadata": {},
   "outputs": [],
   "source": [
    "# Let's try a simple script\n",
    "print(\"Hello, student!\")\n",
    "print(\"This is Python running your instructions.\")"
   ]
  },
  {
   "cell_type": "markdown",
   "id": "2806f7f3",
   "metadata": {},
   "source": [
    "📝 In Excel, you might write:\n",
    "```\n",
    "=SUM(A1:A10)\n",
    "```\n",
    "In Python, we write:\n",
    "```python\n",
    "sum([1, 2, 3, 4, 5])\n",
    "```\n",
    "\n",
    "Same idea: give instructions → get a result.\n"
   ]
  },
  {
   "cell_type": "markdown",
   "id": "6d7e9440",
   "metadata": {},
   "source": [
    "## 🧪 Exercises\n",
    "\n",
    "1. Write a line of Python that prints your name.\n",
    "2. Add another line that prints your favourite food.\n",
    "3. Optional: Think of one action you often repeat in Excel or SPSS — how *might* that be expressed as a step-by-step instruction?\n"
   ]
  },
  {
   "cell_type": "markdown",
   "id": "c297550a",
   "metadata": {},
   "source": [
    "## 🔍 Advanced View\n",
    "\n",
    "<details><summary>Click to expand</summary>\n",
    "\n",
    "### Code is more than syntax — it's thinking.\n",
    "\n",
    "Coding trains us to:\n",
    "- Break problems into small steps\n",
    "- Be explicit about what we want\n",
    "- Handle unexpected situations (errors, exceptions)\n",
    "\n",
    "Over time, you’ll find that even **non-coding** tasks become more structured — this is why programming is such a powerful skill.\n",
    "\n",
    "</details>\n"
   ]
  }
 ],
 "metadata": {},
 "nbformat": 4,
 "nbformat_minor": 5
}
