{
 "cells": [
  {
   "cell_type": "markdown",
   "id": "intro",
   "metadata": {},
   "source": [
    "# 🧮 2.2 Data Types and Conversion\n",
    "\n",
    "This notebook explores Python data types and type conversion, critical for handling nutrition data accurately.\n",
    "\n",
    "**Objectives**:\n",
    "- Understand basic data types: integers, floats, strings.\n",
    "- Perform type conversion for data consistency.\n",
    "- Apply data types to nutrition-related variables.\n",
    "\n",
    "**Context**: Correct data types ensure reliable calculations, such as averaging nutrient intakes.\n",
    "\n",
    "<details><summary>Fun Fact</summary>\n",
    "Data types are like a hippo’s food labels—knowing what’s what prevents a mix-up! 🦛\n",
    "</details>"
   ]
  },
  {
   "cell_type": "code",
   "execution_count": 1,
   "id": "setup",
   "metadata": {},
   "outputs": [
    {
     "name": "stdout",
     "output_type": "stream",
     "text": [
      "Python environment ready.\n"
     ]
    }
   ],
   "source": [
    "# No external packages needed for this notebook\n",
    "print('Python environment ready.')"
   ]
  },
  {
   "cell_type": "markdown",
   "id": "types",
   "metadata": {},
   "source": [
    "## Exploring Data Types\n",
    "\n",
    "Create variables with different data types for a hippo’s diet and check their types."
   ]
  },
  {
   "cell_type": "code",
   "execution_count": 2,
   "id": "types_example",
   "metadata": {},
   "outputs": [
    {
     "name": "stdout",
     "output_type": "stream",
     "text": [
      "hippo_id: <class 'str'>\n",
      "calories: <class 'int'>\n",
      "protein: <class 'float'>\n"
     ]
    }
   ],
   "source": [
    "# Define variables for a hippo’s diet\n",
    "hippo_id = 'H1'  # String for hippo identifier\n",
    "calories = 2500  # Integer for daily calorie intake\n",
    "protein = 80.5  # Float for protein intake in grams\n",
    "\n",
    "# Check data types\n",
    "print(f'hippo_id: {type(hippo_id)}')  # Display type of hippo_id\n",
    "print(f'calories: {type(calories)}')  # Display type of calories\n",
    "print(f'protein: {type(protein)}')  # Display type of protein"
   ]
  },
  {
   "cell_type": "markdown",
   "id": "conversion",
   "metadata": {},
   "source": [
    "## Type Conversion\n",
    "\n",
    "Convert a string nutrient value to a float for calculations."
   ]
  },
  {
   "cell_type": "code",
   "execution_count": 3,
   "id": "convert",
   "metadata": {},
   "outputs": [
    {
     "name": "stdout",
     "output_type": "stream",
     "text": [
      "Iron as float: 8.2\n",
      "Type after conversion: <class 'float'>\n"
     ]
    }
   ],
   "source": [
    "# String nutrient value from a dataset\n",
    "iron_str = '8.2'  # Iron intake as a string\n",
    "\n",
    "# Convert to float\n",
    "iron_float = float(iron_str)  # Convert string to float\n",
    "\n",
    "# Verify conversion\n",
    "print(f'Iron as float: {iron_float}')  # Display converted value\n",
    "print(f'Type after conversion: {type(iron_float)}')  # Display new type"
   ]
  },
  {
   "cell_type": "markdown",
   "id": "exercise",
   "metadata": {},
   "source": [
    "## Exercise 1: Convert and Calculate\n",
    "\n",
    "Convert a string calcium value (e.g., '1200') to an integer and calculate its percentage of a 2000 mg reference intake. Document your code with comments.\n",
    "\n",
    "**Guidance**: Use `int()` and calculate `(calcium / 2000) * 100`."
   ]
  },
  {
   "cell_type": "markdown",
   "id": "your_answer",
   "metadata": {},
   "source": [
    "**Answer**:\n",
    "\n",
    "My code for calcium conversion is..."
   ]
  },
  {
   "cell_type": "markdown",
   "id": "wrap",
   "metadata": {},
   "source": [
    "## Conclusion\n",
    "\n",
    "You’ve learned Python data types and conversion, essential for nutrition data processing.\n",
    "\n",
    "**Next Steps**: Explore functions and loops in 2.3.\n",
    "\n",
    "**Resources**:\n",
    "- [Python Data Types](https://docs.python.org/3/library/stdtypes.html)\n",
    "- [W3Schools Python](https://www.w3schools.com/python/)\n",
    "- Repository: [github.com/ggkuhnle/data-analysis-toolkit-FNS](https://github.com/ggkuhnle/data-analysis-toolkit-FNS)"
   ]
  }
 ],
 "metadata": {
  "kernelspec": {
   "display_name": "Python 3",
   "language": "python",
   "name": "python3"
  },
  "language_info": {
   "codemirror_mode": {
    "name": "ipython",
    "version": 3
   },
   "file_extension": ".py",
   "mimetype": "text/x-python",
   "name": "python",
   "nbconvert_exporter": "python",
   "pygments_lexer": "ipython3",
   "version": "3.9.7"
  }
 },
 "nbformat": 4,
 "nbformat_minor": 5
}
