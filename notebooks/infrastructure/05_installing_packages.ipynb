{
 "cells": [
  {
   "cell_type": "markdown",
   "id": "21d35551",
   "metadata": {},
   "source": [
    "# 📦 Installing and Managing Python Packages\n",
    "\n",
    "Packages are how Python grows. Learn to install, manage, and update them.\n",
    "\n",
    "## 💡 Basic View\n",
    "\n",
    "- Using `!pip install` in Colab\n",
    "- Common packages: pandas, matplotlib\n",
    "\n",
    "## 🔍 Advanced View\n",
    "\n",
    "<details><summary>Click to expand</summary>\n",
    "\n",
    "- Creating `requirements.txt`\n",
    "- Using `venv` for clean environments\n",
    "- Version pinning and conflicts\n",
    "\n",
    "</details>\n",
    "\n",
    "## 🧪 Exercises\n",
    "\n",
    "1. Install a new package in Colab.\n",
    "2. Try exporting your environment with pip freeze > requirements.txt.\n",
    "3. Optional: use `venv` to create a fresh Python environment.\n"
   ]
  }
 ],
 "metadata": {},
 "nbformat": 4,
 "nbformat_minor": 5
}
