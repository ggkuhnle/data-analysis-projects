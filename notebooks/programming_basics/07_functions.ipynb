{
 "cells": [
  {
   "cell_type": "markdown",
   "id": "7399ffa1",
   "metadata": {},
   "source": [
    "# 🧰 Functions in Python\n",
    "\n",
    "Functions are **mini-programs inside your program**.  \n",
    "They let you organise, reuse, and structure your code more clearly — just like using `=AVERAGE()` in Excel.\n"
   ]
  },
  {
   "cell_type": "markdown",
   "id": "d963f9c1",
   "metadata": {},
   "source": [
    "## 🔧 What is a function?\n",
    "\n",
    "A function is a **named block of code** that performs a specific task.\n",
    "\n",
    "```python\n",
    "def greet():\n",
    "    print(\"Hello!\")\n",
    "```\n",
    "\n",
    "You can call it later with:\n",
    "\n",
    "```python\n",
    "greet()\n",
    "```\n"
   ]
  },
  {
   "cell_type": "code",
   "execution_count": null,
   "id": "ba19133a",
   "metadata": {},
   "outputs": [],
   "source": [
    "def greet():\n",
    "    print(\"Hello there!\")\n",
    "\n",
    "greet()"
   ]
  },
  {
   "cell_type": "markdown",
   "id": "124f5521",
   "metadata": {},
   "source": [
    "## 🧮 Functions with arguments\n",
    "\n",
    "Functions can take **inputs** (arguments) and return **outputs**.\n",
    "\n",
    "```python\n",
    "def square(x):\n",
    "    return x * x\n",
    "```\n",
    "\n",
    "This lets us reuse the function on different values.\n"
   ]
  },
  {
   "cell_type": "code",
   "execution_count": null,
   "id": "69fed127",
   "metadata": {},
   "outputs": [],
   "source": [
    "def square(x):\n",
    "    return x * x\n",
    "\n",
    "print(square(5))\n",
    "print(square(12))"
   ]
  },
  {
   "cell_type": "markdown",
   "id": "0b521644",
   "metadata": {},
   "source": [
    "## ✨ Real example: BMI calculator\n",
    "\n",
    "```python\n",
    "def bmi(weight, height):\n",
    "    return weight / height**2\n",
    "```\n"
   ]
  },
  {
   "cell_type": "code",
   "execution_count": null,
   "id": "d3fd979d",
   "metadata": {},
   "outputs": [],
   "source": [
    "def bmi(weight, height):\n",
    "    return weight / height**2\n",
    "\n",
    "print(\"BMI is\", round(bmi(75, 1.75), 1))"
   ]
  },
  {
   "cell_type": "markdown",
   "id": "0e8fbc0e",
   "metadata": {},
   "source": [
    "## 🧪 Exercises\n",
    "\n",
    "1. Write a function that converts kilograms to pounds.\n",
    "2. Create a function that returns `\"Big\"` or `\"Small\"` depending on whether a number is over 1000.\n",
    "3. Optional: Create a function that takes two numbers and returns the larger one.\n"
   ]
  },
  {
   "cell_type": "markdown",
   "id": "1d444d62",
   "metadata": {},
   "source": [
    "## 🔍 Advanced View\n",
    "\n",
    "<details><summary>Click to expand</summary>\n",
    "\n",
    "### Why use functions?\n",
    "\n",
    "- Keep code clean and readable\n",
    "- Avoid repetition\n",
    "- Make your logic reusable\n",
    "\n",
    "### Syntax tips\n",
    "\n",
    "- Use `def` to define\n",
    "- `return` to send a result back\n",
    "- Arguments can be optional with defaults:\n",
    "  ```python\n",
    "  def greet(name=\"you\"):\n",
    "      print(\"Hi\", name)\n",
    "  ```\n",
    "\n",
    "### Compare to SPSS macros or Excel formulas:\n",
    "- `=IF()`, `=ROUND()` in Excel are functions\n",
    "- You can create your own in Python\n",
    "\n",
    "</details>\n"
   ]
  }
 ],
 "metadata": {},
 "nbformat": 4,
 "nbformat_minor": 5
}
