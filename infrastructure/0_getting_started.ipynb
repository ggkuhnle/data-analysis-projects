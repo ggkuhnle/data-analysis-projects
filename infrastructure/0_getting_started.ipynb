{
 "cells": [
  {
   "cell_type": "markdown",
   "id": "intro",
   "metadata": {},
   "source": [
    "# 🚀 0. Getting Started\n",
    "\n",
    "Welcome to the Data Analysis Toolkit for Food and Nutrition Sciences! This notebook guides you through setting up your computational environment for nutrition data analysis.\n",
    "\n",
    "**Objectives**:\n",
    "- Install Python and required packages.\n",
    "- Test your environment with a simple script.\n",
    "- Prepare for subsequent modules.\n",
    "\n",
    "**Context**: A reliable setup is essential for analysing datasets like NDNS or hippo-themed nutrient logs. 🦛"
   ]
  },
  {
   "cell_type": "code",
   "execution_count": 1,
   "id": "setup",
   "metadata": {},
   "outputs": [
    {
     "name": "stdout",
     "output_type": "stream",
     "text": [
      "Your data analysis environment is ready!\n"
     ]
    }
   ],
   "source": [
    "# Install core packages\n",
    "%pip install pandas numpy matplotlib  # For Colab users\n",
    "import pandas as pd\n",
    "import numpy as np\n",
    "import matplotlib.pyplot as plt\n",
    "print('Your data analysis environment is ready!')"
   ]
  },
  {
   "cell_type": "markdown",
   "id": "test",
   "metadata": {},
   "source": [
    "## Test Your Setup\n",
    "\n",
    "Run the code below to verify your environment by loading a sample dataset (`hippo_diets.csv`) and creating a simple plot."
   ]
  },
  {
   "cell_type": "code",
   "execution_count": 2,
   "id": "test_load",
   "metadata": {},
   "outputs": [
    {
     "name": "stdout",
     "output_type": "stream",
     "text": [
      "   ID  Calories  Protein        Date\n",
      "0  H1      2500     80.5  2024-01-01\n"
     ]
    }
   ],
   "source": [
    "df = pd.read_csv('data/hippo_diets.csv')\n",
    "print(df.head(1))\n",
    "plt.scatter(df['Calories'], df['Protein'])\n",
    "plt.xlabel('Calories')\n",
    "plt.ylabel('Protein (g)')\n",
    "plt.title('Sample Hippo Diet Data')\n",
    "plt.show()"
   ]
  },
  {
   "cell_type": "markdown",
   "id": "wrap",
   "metadata": {},
   "source": [
    "## Conclusion\n",
    "\n",
    "You’ve successfully set up your environment! You’re ready to dive into data analysis.\n",
    "\n",
    "**Next Steps**: Proceed to 1.1 for an introduction to data science environments.\n",
    "\n",
    "**Resources**:\n",
    "- [Anaconda Installation](https://www.anaconda.com/)\n",
    "- [Colab Documentation](https://colab.research.google.com/)\n",
    "- Repository: [github.com/ggkuhnle/data-analysis-toolkit-FNS](https://github.com/ggkuhnle/data-analysis-toolkit-FNS)"
   ]
  }
 ],
 "metadata": {
  "kernelspec": {
   "display_name": "Python 3",
   "language": "python",
   "name": "python3"
  },
  "language_info": {
   "codemirror_mode": {
    "name": "ipython",
    "version": 3
   },
   "file_extension": ".py",
   "mimetype": "text/x-python",
   "name": "python",
   "nbconvert_exporter": "python",
   "pygments_lexer": "ipython3",
   "version": "3.9.7"
  }
 },
 "nbformat": 4,
 "nbformat_minor": 5
}
