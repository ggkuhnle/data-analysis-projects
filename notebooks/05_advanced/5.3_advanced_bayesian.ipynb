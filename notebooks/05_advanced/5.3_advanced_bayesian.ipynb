{
  "cells": [
    {
      "cell_type": "markdown",
      "id": "frontmatter",
      "metadata": {},
      "source": [
        "---\n",
        "title: \"Advanced Bayesian Modelling\"\n",
        "output-file: \"advanced_bayesian.html\"\n",
        "format: html\n",
        "---"
      ]
    },
    {
      "cell_type": "code",
      "execution_count": null,
      "id": "colab_setup",
      "metadata": {},
      "outputs": [],
      "source": [
        "# Setup for Google Colab: Fetch datasets automatically or manually\n",
        "import os\n",
        "from google.colab import files\n",
        "\n",
        "# Define the module and dataset for this notebook\n",
        "MODULE = '05_advanced'  # e.g., '01_infrastructure'\n",
        "DATASET = 'large_food_log.csv'  # e.g., 'hippo_diets.csv'\n",
        "BASE_PATH = '/content/data-analysis-toolkit-FNS'\n",
        "MODULE_PATH = os.path.join(BASE_PATH, 'notebooks', MODULE)\n",
        "DATASET_PATH = os.path.join('data', DATASET)\n",
        "\n",
        "# Step 1: Attempt to clone the repository (automatic method)\n",
        "# Note: If you encounter a cloning error (e.g., 'fatal: destination path already exists'),\n",
        "#       reset the runtime (Runtime > Restart runtime) and run this cell again.\n",
        "try:\n",
        "    print('Attempting to clone repository...')\n",
        "    if os.path.exists(BASE_PATH):\n",
        "        print('Repository already exists, skipping clone.')\n",
        "    else:\n",
        "        !git clone https://github.com/ggkuhnle/data-analysis-toolkit-FNS.git\n",
        "    \n",
        "    # Debug: Print directory structure\n",
        "    print('Listing repository contents:')\n",
        "    !ls {BASE_PATH}\n",
        "    print(f'Listing notebooks directory contents:')\n",
        "    !ls {BASE_PATH}/notebooks\n",
        "    \n",
        "    # Check if the module directory exists\n",
        "    if not os.path.exists(MODULE_PATH):\n",
        "        raise FileNotFoundError(f'Module directory {MODULE_PATH} not found. Check the repository structure.')\n",
        "    \n",
        "    # Set working directory to the notebook's folder\n",
        "    os.chdir(MODULE_PATH)\n",
        "    \n",
        "    # Verify dataset is accessible\n",
        "    if os.path.exists(DATASET_PATH):\n",
        "        print(f'Dataset found: {DATASET_PATH} \ud83e\udd9b')\n",
        "    else:\n",
        "        print(f'Error: Dataset {DATASET} not found after cloning.')\n",
        "        raise FileNotFoundError\n",
        "except Exception as e:\n",
        "    print(f'Cloning failed: {e}')\n",
        "    print('Falling back to manual upload option...')\n",
        "\n",
        "    # Step 2: Manual upload option\n",
        "    print(f'Please upload {DATASET} manually.')\n",
        "    print(f'1. Click the \"Choose Files\" button below.')\n",
        "    print(f'2. Select {DATASET} from your local machine.')\n",
        "    print(f'3. Ensure the file is placed in notebooks/{MODULE}/data/')\n",
        "    \n",
        "    # Create the data directory if it doesn't exist\n",
        "    os.makedirs('data', exist_ok=True)\n",
        "    \n",
        "    # Prompt user to upload the dataset\n",
        "    uploaded = files.upload()\n",
        "    \n",
        "    # Check if the dataset was uploaded\n",
        "    if DATASET in uploaded:\n",
        "        with open(DATASET_PATH, 'wb') as f:\n",
        "            f.write(uploaded[DATASET])\n",
        "        print(f'Successfully uploaded {DATASET} to {DATASET_PATH} \ud83e\udd9b')\n",
        "    else:\n",
        "        raise FileNotFoundError(f'Upload failed. Please ensure you uploaded {DATASET}.')\n",
        "\n",
        "# Install required packages for this notebook\n",
        "%pip install pandas numpy\n",
        "print('Python environment ready.')"
      ]
    },
    {
      "cell_type": "markdown",
      "id": "intro",
      "metadata": {},
      "source": [
        "# \ud83e\udde0 5.3 Advanced Bayesian Modelling\n",
        "\n",
        "This notebook explores advanced Bayesian modelling techniques for nutrition data analysis, building on basic Bayesian methods.\n",
        "\n",
        "**Objectives**:\n",
        "- Build hierarchical Bayesian models to account for group variations.\n",
        "- Interpret posterior distributions for nutrition insights.\n",
        "- Apply models to `hippo_nutrients.csv` to estimate nutrient intake variations.\n",
        "\n",
        "**Context**: Hierarchical Bayesian models are powerful for nutrition research, enabling robust estimation of nutrient intakes across groups, such as hippo populations.\n",
        "\n",
        "<details><summary>Fun Fact</summary>\n",
        "Bayesian models are like a hippo\u2019s intuition\u2014blending prior knowledge with new data for wise decisions! \ud83e\udd9b\n",
        "</details>"
      ]
    },
    {
      "cell_type": "code",
      "execution_count": 1,
      "id": "setup",
      "metadata": {},
      "outputs": [
        {
          "name": "stdout",
          "output_type": "stream",
          "text": [
            "Bayesian environment ready.\n"
          ]
        }
      ],
      "source": [
        "# Install required packages for Bayesian modelling\n",
        "%pip install pandas numpy pymc  # Ensures compatibility in Colab\n",
        "import pandas as pd  # For data manipulation and loading datasets\n",
        "import numpy as np  # For numerical operations and random sampling\n",
        "import pymc as pm  # For Bayesian modelling and sampling\n",
        "print('Bayesian environment ready.')"
      ]
    },
    {
      "cell_type": "markdown",
      "id": "load_data",
      "metadata": {},
      "source": [
        "## Data Preparation\n",
        "\n",
        "Load `hippo_nutrients.csv` from the data handling module and filter for Iron data to model intakes by sex."
      ]
    },
    {
      "cell_type": "code",
      "execution_count": 2,
      "id": "load",
      "metadata": {},
      "outputs": [
        {
          "name": "stdout",
          "output_type": "stream",
          "text": [
            "Iron data shape: (50, 6)\n"
          ]
        }
      ],
      "source": [
        "# Load the nutrient dataset\n",
        "df = pd.read_csv('../03_data_handling/data/hippo_nutrients.csv')  # Path relative to advanced module\n",
        "\n",
        "# Filter for Iron data and remove missing values\n",
        "df_iron = df[df['Nutrient'] == 'Iron'].dropna()\n",
        "print(f'Iron data shape: {df_iron.shape}')  # Display number of rows and columns"
      ]
    },
    {
      "cell_type": "markdown",
      "id": "model",
      "metadata": {},
      "source": [
        "## Hierarchical Bayesian Model\n",
        "\n",
        "Build a hierarchical Bayesian model to estimate Iron intakes, accounting for differences between female (F) and male (M) hippos."
      ]
    },
    {
      "cell_type": "code",
      "execution_count": 3,
      "id": "model",
      "metadata": {},
      "outputs": [],
      "source": [
        "# Encode Sex as numerical index (F=0, M=1)\n",
        "sex_idx = df_iron['Sex'].map({'F': 0, 'M': 1}).values\n",
        "\n",
        "# Define hierarchical model\n",
        "with pm.Model() as model:\n",
        "    # Priors for group means (Female and Male)\n",
        "    mu = pm.Normal('mu', mu=8, sigma=2, shape=2)  # Mean Iron intake for F (0) and M (1)\n",
        "    sigma = pm.HalfNormal('sigma', sigma=1)  # Shared standard deviation\n",
        "    \n",
        "    # Likelihood of observed Iron intakes\n",
        "    iron = pm.Normal('iron', mu=mu[sex_idx], sigma=sigma, observed=df_iron['Value'])\n",
        "    \n",
        "    # Sample from posterior distribution\n",
        "    trace = pm.sample(1000, tune=1000, return_inferencedata=False)  # 1000 samples after tuning"
      ]
    },
    {
      "cell_type": "markdown",
      "id": "posterior",
      "metadata": {},
      "source": [
        "## Posterior Analysis\n",
        "\n",
        "Summarise and visualise the posterior distributions of Iron intake means for female and male hippos."
      ]
    },
    {
      "cell_type": "code",
      "execution_count": 4,
      "id": "posterior",
      "metadata": {},
      "outputs": [
        {
          "name": "stdout",
          "output_type": "stream",
          "text": [
            "Posterior means: Female=8.1, Male=8.0\n"
          ]
        }
      ],
      "source": [
        "# Calculate posterior means for Female and Male\n",
        "mu_posterior = trace['mu'].mean(axis=0)\n",
        "print(f'Posterior means: Female={round(mu_posterior[0], 1)}, Male={round(mu_posterior[1], 1)}')\n",
        "\n",
        "# Visualise posterior distributions\n",
        "pm.plot_posterior(trace, var_names=['mu'])  # Plot histograms of mu\n",
        "plt.show()  # Display plot"
      ]
    },
    {
      "cell_type": "markdown",
      "id": "exercise",
      "metadata": {},
      "source": [
        "## Exercise: Build Your Own Model\n",
        "\n",
        "Create a hierarchical Bayesian model for Calcium intakes, grouped by `Year` (2024, 2025). Summarise the posterior means in a Markdown cell below.\n",
        "\n",
        "**Guidance**:\n",
        "- Filter `df` for `Nutrient == 'Calcium'` and remove missing values.\n",
        "- Encode `Year` as a numerical index (e.g., 2024=0, 2025=1).\n",
        "- Use `pm.Normal` for group means and `pm.HalfNormal` for sigma.\n",
        "- Sample and summarise the posterior with `pm.sample()` and `trace['mu'].mean()`."
      ]
    },
    {
      "cell_type": "markdown",
      "id": "your_answer",
      "metadata": {},
      "source": [
        "**Answer**:\n",
        "\n",
        "My Calcium model code and posterior summary are as follows:\n",
        "\n",
        "```python\n",
        "# Your code here\n",
        "```\n",
        "\n",
        "**Posterior Summary**:\n",
        "\n",
        "- Year 2024: Mean = [Your Result]\n",
        "- Year 2025: Mean = [Your Result]"
      ]
    },
    {
      "cell_type": "markdown",
      "id": "wrap",
      "metadata": {},
      "source": [
        "## Conclusion\n",
        "\n",
        "You\u2019ve applied advanced Bayesian modelling to estimate nutrient intake variations, capturing uncertainty across groups.\n",
        "\n",
        "**Next Steps**: Explore database querying with SQL in `5.4_databases_sql.ipynb`.\n",
        "\n",
        "**Resources**:\n",
        "- [PyMC Documentation](https://docs.pymc.io/)\n",
        "- [Bayesian Analysis Guide](https://www.datacamp.com/community/tutorials/bayesian-methods-python)\n",
        "- Repository: [github.com/ggkuhnle/data-analysis-toolkit-FNS](https://github.com/ggkuhnle/data-analysis-toolkit-FNS)"
      ]
    }
  ],
  "metadata": {
    "kernelspec": {
      "display_name": "Python 3",
      "language": "python",
      "name": "python3"
    },
    "language_info": {
      "codemirror_mode": {
        "name": "ipython",
        "version": 3
      },
      "file_extension": ".py",
      "mimetype": "text/x-python",
      "name": "python",
      "nbconvert_exporter": "python",
      "pygments_lexer": "ipython3",
      "version": "3.9.7"
    }
  },
  "nbformat": 4,
  "nbformat_minor": 5
}