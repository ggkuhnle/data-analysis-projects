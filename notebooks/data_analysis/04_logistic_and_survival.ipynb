{
 "cells": [
  {
   "cell_type": "markdown",
   "id": "f30bf318",
   "metadata": {},
   "source": [
    "# 📉 Logistic and Survival Analysis\n",
    "\n",
    "Using logistic regression and Kaplan-Meier.\n",
    "```python\n",
    "# coming soon\n",
    "```"
   ]
  }
 ],
 "metadata": {},
 "nbformat": 4,
 "nbformat_minor": 5
}
