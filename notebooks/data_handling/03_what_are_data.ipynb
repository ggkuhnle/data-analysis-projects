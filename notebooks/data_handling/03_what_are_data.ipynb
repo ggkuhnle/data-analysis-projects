{
 "cells": [
  {
   "cell_type": "markdown",
   "id": "3e9af529",
   "metadata": {},
   "source": [
    "# 📊 3.1 What Are Data? Types and Structures"
   ]
  },
  {
   "cell_type": "markdown",
   "id": "d4834d0c",
   "metadata": {},
   "source": [
    "This notebook introduces foundational concepts in data structure.\n",
    "\n",
    "We will cover:\n",
    "- What is a **vector**, **table**, or **tidy dataset**?\n",
    "- The differences between **wide** and **long** format\n",
    "- How these formats appear in tools like **Excel**, **R**, and **pandas**\n",
    "\n",
    "Understanding data structure is essential for cleaning, transforming, and analysing data efficiently."
   ]
  },
  {
   "cell_type": "markdown",
   "id": "50cd28db",
   "metadata": {},
   "source": [
    "## 🔢 What Are Data?\n",
    "\n",
    "**Data** are representations of information — typically organised in a tabular format.\n",
    "\n",
    "- **Vector**: A single list of values, e.g. `[1, 2, 3, 4]`\n",
    "- **Table (DataFrame)**: Rows and columns, like an Excel sheet\n",
    "- **Tidy data**: Each row is an observation; each column is a variable"
   ]
  },
  {
   "cell_type": "markdown",
   "id": "bcbb012d",
   "metadata": {},
   "source": [
    "### 📐 Wide vs Long Format\n",
    "\n",
    "- **Wide format**: More columns, fewer rows (e.g. one column per timepoint)\n",
    "- **Long format**: Fewer columns, more rows (e.g. values stacked in a single column)\n",
    "\n",
    "**Example (Wide):**\n",
    "\n",
    "| Subject | Weight_Day1 | Weight_Day2 |\n",
    "|---------|-------------|-------------|\n",
    "| A       | 70          | 71          |\n",
    "| B       | 80          | 79          |\n",
    "\n",
    "**Same data (Long):**\n",
    "\n",
    "| Subject | Day   | Weight |\n",
    "|---------|-------|--------|\n",
    "| A       | Day1  | 70     |\n",
    "| A       | Day2  | 71     |\n",
    "| B       | Day1  | 80     |\n",
    "| B       | Day2  | 79     |"
   ]
  },
  {
   "cell_type": "code",
   "execution_count": null,
   "id": "78988445",
   "metadata": {},
   "outputs": [],
   "source": [
    "# Example using pandas to reshape from wide to long format\n",
    "import pandas as pd\n",
    "\n",
    "df_wide = pd.DataFrame({\n",
    "    'Subject': ['A', 'B'],\n",
    "    'Weight_Day1': [70, 80],\n",
    "    'Weight_Day2': [71, 79]\n",
    "})\n",
    "\n",
    "df_long = pd.melt(df_wide, id_vars='Subject', \n",
    "                  var_name='Day', value_name='Weight')\n",
    "df_long['Day'] = df_long['Day'].str.replace('Weight_', '')\n",
    "df_long"
   ]
  },
  {
   "cell_type": "markdown",
   "id": "71e3e6ea",
   "metadata": {},
   "source": [
    "## 🧪 Exercise: Convert Wide to Long\n",
    "\n",
    "Try this yourself with a new example:\n",
    "- Create a wide-format dataset showing fruit consumption across days.\n",
    "- Use `pd.melt()` to convert it to long format.\n",
    "- Rename the columns to match tidy principles.\n",
    "- Add a comment on why long format is helpful for plotting or analysis."
   ]
  },
  {
   "cell_type": "markdown",
   "id": "4ff72b69",
   "metadata": {},
   "source": [
    "## 🧠 Advanced: Why Tidy Format Matters\n",
    "<details><summary>Click to expand</summary>\n",
    "\n",
    "**Tidy format** simplifies operations like:\n",
    "\n",
    "- Grouping and summarising (e.g. with `groupby`)\n",
    "- Filtering and faceting plots\n",
    "- Fitting regression models (where variables must be clearly identified)\n",
    "\n",
    "In many R and Python libraries, long/tidy data is the expected input format.\n",
    "\n",
    "</details>"
   ]
  }
 ],
 "metadata": {},
 "nbformat": 4,
 "nbformat_minor": 5
}
