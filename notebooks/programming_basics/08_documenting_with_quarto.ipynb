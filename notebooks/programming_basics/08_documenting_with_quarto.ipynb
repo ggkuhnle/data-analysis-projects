{
 "cells": [
  {
   "cell_type": "markdown",
   "id": "0bf616d9",
   "metadata": {},
   "source": [
    "# 📄 2.8 Documenting with Markdown and Quarto"
   ]
  },
  {
   "cell_type": "markdown",
   "id": "9ba2e4ca",
   "metadata": {},
   "source": [
    "Good documentation makes your code reusable and shareable.\n",
    "\n",
    "Python supports **Markdown** in Jupyter notebooks, and **Quarto** for full reports."
   ]
  },
  {
   "cell_type": "markdown",
   "id": "3d9104f3",
   "metadata": {},
   "source": [
    "### Markdown Basics\n",
    "```markdown\n",
    "# Heading 1\n",
    "## Heading 2\n",
    "**bold**, *italic*, `code`\n",
    "- Bullet list\n",
    "```\n"
   ]
  },
  {
   "cell_type": "markdown",
   "id": "cd82186c",
   "metadata": {},
   "source": [
    "### Quarto\n",
    "- Like Markdown but supports code + output\n",
    "- Outputs: PDF, HTML, Word\n",
    "- Write `.qmd` files and render using `quarto render`\n",
    "\n",
    "**Example:**\n",
    "```qmd\n",
    "```{python}\n",
    "import numpy as np\n",
    "np.mean([1, 2, 3])\n",
    "```\n",
    "```"
   ]
  },
  {
   "cell_type": "markdown",
   "id": "5444fd42",
   "metadata": {},
   "source": [
    "## 🧪 Exercise\n",
    "- Add a Markdown cell in this notebook documenting a BMI function\n",
    "- Try writing a `.qmd` file with:\n",
    "  - Title\n",
    "  - One heading\n",
    "  - One code block\n",
    "  - One inline equation (e.g. `$x^2$`)"
   ]
  },
  {
   "cell_type": "markdown",
   "id": "a7834893",
   "metadata": {},
   "source": [
    "## 🧠 Advanced (foldable)\n",
    "<details><summary>Quarto Output Formats</summary>\n",
    "\n",
    "- `quarto render file.qmd --to html` – render to webpage\n",
    "- `quarto render file.qmd --to pdf` – render to PDF\n",
    "\n",
    "Quarto supports multiple programming languages, citations, cross-referencing, and interactive widgets.\n",
    "</details>"
   ]
  }
 ],
 "metadata": {},
 "nbformat": 4,
 "nbformat_minor": 5
}
