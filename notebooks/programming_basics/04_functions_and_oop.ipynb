{
 "cells": [
  {
   "cell_type": "markdown",
   "id": "bd9fa862",
   "metadata": {},
   "source": [
    "# ⚙️ Functions and OOP\n",
    "\n",
    "Learn to write and use functions and simple classes.\n",
    "```python\n",
    "def greet(name):\n",
    "    return f\"Hello, {name}!\"\n",
    "```"
   ]
  }
 ],
 "metadata": {},
 "nbformat": 4,
 "nbformat_minor": 5
}
