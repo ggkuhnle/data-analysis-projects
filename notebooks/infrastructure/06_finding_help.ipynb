{
 "cells": [
  {
   "cell_type": "markdown",
   "id": "61f63d3b",
   "metadata": {},
   "source": [
    "# 🧠 Finding Help and Documentation\n",
    "\n",
    "Learning to solve your own problems = a superpower.\n",
    "\n",
    "## 💡 Basic View\n",
    "\n",
    "- `?` and `help()` in notebooks\n",
    "- Google effectively\n",
    "- Look for examples, not just theory\n",
    "\n",
    "## 🔍 Advanced View\n",
    "\n",
    "<details><summary>Click to expand</summary>\n",
    "\n",
    "- Navigating official docs (e.g. pandas, matplotlib)\n",
    "- When to use Stack Overflow\n",
    "- Asking good questions\n",
    "\n",
    "</details>\n",
    "\n",
    "## 🧪 Exercises\n",
    "\n",
    "1. Look up how to use `df.describe()` and try it.\n",
    "2. Google “how to plot a histogram with seaborn”.\n",
    "3. Optional: find an unanswered question on Stack Overflow and draft a helpful answer.\n"
   ]
  }
 ],
 "metadata": {},
 "nbformat": 4,
 "nbformat_minor": 5
}
