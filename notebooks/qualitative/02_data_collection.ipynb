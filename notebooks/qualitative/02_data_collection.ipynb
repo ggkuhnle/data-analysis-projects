{
 "cells": [
  {
   "cell_type": "markdown",
   "id": "465f5916",
   "metadata": {},
   "source": [
    "# 📋 6.2 Data Collection Methods"
   ]
  },
  {
   "cell_type": "markdown",
   "id": "aa8567b1",
   "metadata": {},
   "source": [
    "### Common Collection Methods\n",
    "- **Interviews** (1:1, structured or open-ended)\n",
    "- **Focus Groups** (small groups, guided discussion)\n",
    "- **Surveys with open-ended questions**\n",
    "\n",
    "### Ethics & Consent\n",
    "- Anonymity, confidentiality\n",
    "- Consent forms\n",
    "- Data protection principles (GDPR)\n",
    "\n",
    "**Tip:** Record interviews (with permission) for transcription and analysis"
   ]
  }
 ],
 "metadata": {},
 "nbformat": 4,
 "nbformat_minor": 5
}
