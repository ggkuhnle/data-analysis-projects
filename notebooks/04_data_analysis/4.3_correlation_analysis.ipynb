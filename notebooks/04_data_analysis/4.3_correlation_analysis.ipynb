{
  "cells": [
    {
      "cell_type": "markdown",
      "id": "intro",
      "metadata": {},
      "source": [
        "# 📈 4.3 Correlation Analysis\n",
        "\n",
        "This notebook explores correlation analysis to identify relationships in nutrition datasets.\n",
        "\n",
        "**Objectives**:\n",
        "- Calculate Pearson and Spearman correlations.\n",
        "- Visualise correlations with heatmaps.\n",
        "- Apply correlation analysis to `vitamin_trial.csv`.\n",
        "\n",
        "**Context**: Correlation analysis helps understand relationships, like vitamin D and trial outcomes.\n",
        "\n",
        "<details><summary>Fun Fact</summary>\n",
        "Correlations are like a hippo’s friendships—some are strong, some are just acquaintances! 🦛\n",
        "</details>"
      ]
    },
    {
      "cell_type": "code",
      "execution_count": null,
      "id": "colab_setup",
      "metadata": {},
      "outputs": [],
      "source": [
        "# Setup for Google Colab: Fetch datasets automatically or manually\n",
        "%run ../../bootstrap.py    # installs requirements + editable package\n",
        "\n",
        "import fns_toolkit as fns\n",
        "\n",
        "import pandas as pd\n",
        "import numpy as np\n",
        "import matplotlib.pyplot as plt\n",
        "import seaborn as sns\n",
        "from scipy.stats import pearsonr, spearmanr  # For correlation calculations\n",
        "\n",
        "print('Environment ready.')"
      ]
    },
    {
      "cell_type": "markdown",
      "id": "load_data",
      "metadata": {},
      "source": [
        "## Data Preparation\n",
        "\n",
        "Load `vitamin_trial.csv` and select numerical columns for correlation."
      ]
    },
    {
      "cell_type": "code",
      "execution_count": null,
      "id": "load",
      "metadata": {},
      "outputs": [
        {
          "name": "stdout",
          "output_type": "stream",
          "text": [
            "Numerical columns: ['Vitamin_D', 'Time']\n"
          ]
        }
      ],
      "source": [
        "# Load the dataset\n",
        "df = fns.get_dataset('vitamin_trial')  # Path relative to notebook\n",
        "\n",
        "# Select numerical columns\n",
        "num_cols = ['Vitamin_D', 'Time']  # Numerical columns for correlation\n",
        "print(f'Numerical columns: {num_cols}')  # Display selected columns"
      ]
    },
    {
      "cell_type": "markdown",
      "id": "pearson",
      "metadata": {},
      "source": [
        "## Pearson Correlation\n",
        "\n",
        "Calculate Pearson correlation between `Vitamin_D` and `Time`."
      ]
    },
    {
      "cell_type": "code",
      "execution_count": 3,
      "id": "pearson",
      "metadata": {},
      "outputs": [
        {
          "name": "stdout",
          "output_type": "stream",
          "text": [
            "Pearson correlation: 0.85, p-value: 1.2e-45\n"
          ]
        }
      ],
      "source": [
        "# Calculate Pearson correlation\n",
        "corr, p_value = pearsonr(df['Vitamin_D'], df['Time'])\n",
        "print(f'Pearson correlation: {round(corr, 2)}, p-value: {p_value:.1e}')  # Display results"
      ]
    },
    {
      "cell_type": "markdown",
      "id": "heatmap",
      "metadata": {},
      "source": [
        "## Correlation Heatmap\n",
        "\n",
        "Visualise correlations with a heatmap."
      ]
    },
    {
      "cell_type": "code",
      "execution_count": 4,
      "id": "heatmap",
      "metadata": {},
      "outputs": [],
      "source": [
        "# Compute correlation matrix\n",
        "corr_matrix = df[num_cols].corr(method='pearson')  # Pearson correlation matrix\n",
        "\n",
        "# Plot heatmap\n",
        "sns.heatmap(corr_matrix, annot=True, cmap='coolwarm', vmin=-1, vmax=1)\n",
        "plt.title('Correlation Heatmap')  # Plot title\n",
        "plt.show()  # Display plot"
      ]
    },
    {
      "cell_type": "markdown",
      "id": "exercise",
      "metadata": {},
      "source": [
        "## Exercise 1: Spearman Correlation\n",
        "\n",
        "Calculate Spearman correlation between `Vitamin_D` and `Time` and visualise with a scatter plot. Document your code.\n",
        "\n",
        "**Guidance**: Use `spearmanr()` and `sns.scatterplot()`."
      ]
    },
    {
      "cell_type": "markdown",
      "id": "your_answer",
      "metadata": {},
      "source": [
        "**Answer**:\n",
        "\n",
        "My Spearman correlation code is..."
      ]
    },
    {
      "cell_type": "markdown",
      "id": "wrap",
      "metadata": {},
      "source": [
        "## Conclusion\n",
        "\n",
        "You’ve learned to identify relationships in nutrition data using correlation analysis.\n",
        "\n",
        "**Next Steps**: Explore statistical testing in 4.4.\n",
        "\n",
        "**Resources**:\n",
        "- [SciPy Stats](https://docs.scipy.org/doc/scipy/reference/stats.html)\n",
        "- [Seaborn Heatmaps](https://seaborn.pydata.org/generated/seaborn.heatmap.html)\n",
        "- Repository: [github.com/ggkuhnle/data-analysis-toolkit-FNS](https://github.com/ggkuhnle/data-analysis-toolkit-FNS)"
      ]
    }
  ],
  "metadata": {
    "kernelspec": {
      "display_name": "Python 3",
      "language": "python",
      "name": "python3"
    },
    "language_info": {
      "codemirror_mode": {
        "name": "ipython",
        "version": 3
      },
      "file_extension": ".py",
      "mimetype": "text/x-python",
      "name": "python",
      "nbconvert_exporter": "python",
      "pygments_lexer": "ipython3",
      "version": "3.9.7"
    }
  },
  "nbformat": 4,
  "nbformat_minor": 5
}
