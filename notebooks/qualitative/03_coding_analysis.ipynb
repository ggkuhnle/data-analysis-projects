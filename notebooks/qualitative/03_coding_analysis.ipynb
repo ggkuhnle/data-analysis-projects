{
 "cells": [
  {
   "cell_type": "markdown",
   "id": "5dca61b9",
   "metadata": {},
   "source": [
    "# 🧩 6.3 Basic Coding and Thematic Analysis"
   ]
  },
  {
   "cell_type": "markdown",
   "id": "5d3fed94",
   "metadata": {},
   "source": [
    "### Coding: Assigning labels to chunks of text\n",
    "- **Manual coding**: Read, highlight, summarise\n",
    "- **Thematic analysis**:\n",
    "  1. Familiarise with data\n",
    "  2. Generate codes\n",
    "  3. Group into themes\n",
    "  4. Review and define themes\n",
    "\n",
    "### Tools:\n",
    "- [Taguette](https://www.taguette.org/): free, easy to use\n",
    "- RQDA (in R), NVivo (commercial)\n",
    "\n",
    "**Exercise:** Read short transcript and manually identify 2-3 recurring themes"
   ]
  }
 ],
 "metadata": {},
 "nbformat": 4,
 "nbformat_minor": 5
}
