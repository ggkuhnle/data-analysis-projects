{
  "cells": [
    {
      "cell_type": "markdown",
      "id": "intro",
      "metadata": {},
      "source": [
        "# 📈 5.1 Bayesian Methods in Nutrition Research\n",
        "\n",
        "This notebook introduces Bayesian methods for nutrition data analysis, focusing on comparing two groups (e.g., Female vs. Male) using PyMC. Bayesian statistics allow us to model uncertainty and update our beliefs with data—perfect for nutrition studies where variability is common!\n",
        "\n",
        "**Objectives**:\n",
        "- Learn the basics of Bayesian inference.\n",
        "- Apply Bayesian methods to compare nutrient intake between groups.\n",
        "- Visualise posterior distributions using ArviZ.\n",
        "\n",
        "**Context**: In nutrition research, we often compare groups (e.g., vitamin levels in females vs. males). Bayesian methods provide a flexible framework to estimate parameters and quantify uncertainty.\n",
        "\n",
        "<details><summary>Fun Fact</summary>\n",
        "Bayesian methods are like a hippo updating its diet plan—starting with a guess (prior) and refining it with new data (posterior)! 🦛\n",
        "</details>"
      ]
    },
    {
      "cell_type": "code",
      "execution_count": null,
      "id": "colab_setup",
      "metadata": {},
      "outputs": [],
      "source": [
        "# Setup for Google Colab: Fetch datasets automatically or manually\n",
        "%run ../../bootstrap.py    # installs requirements + editable package\n",
        "\n",
        "import fns_toolkit as fns\n",
        "\n",
        "import pandas as pd\n",
        "import numpy as np"
      ]
    },
    {
      "cell_type": "markdown",
      "id": "data",
      "metadata": {},
      "source": [
        "## 📊 Load and Explore Data\n",
        "\n",
        "We’ll use `vitamin_trial.csv` to compare vitamin levels between females and males. The dataset includes:\n",
        "- `vitamin_level`: The measured vitamin level (e.g., Vitamin D in ng/mL).\n",
        "- `sex`: Group indicator (0 for Female, 1 for Male)."
      ]
    },
    {
      "cell_type": "code",
      "execution_count": null,
      "id": "load_data",
      "metadata": {},
      "outputs": [],
      "source": [
        "# Load the dataset\n",
        "data = fns.get_dataset('vitamin_trial')\n",
        "\n",
        "# Extract vitamin levels and group indicators\n",
        "y = data['vitamin_level'].values  # Response variable\n",
        "group = data['sex'].values        # 0 for Female, 1 for Male\n",
        "\n",
        "# Quick summary\n",
        "print('Mean vitamin levels:')\n",
        "print(f'Female: {np.mean(y[group == 0]):.1f}')\n",
        "print(f'Male: {np.mean(y[group == 1]):.1f}')"
      ]
    },
    {
      "cell_type": "markdown",
      "id": "model",
      "metadata": {},
      "source": [
        "## 🧠 Bayesian Model\n",
        "\n",
        "We’ll model the vitamin levels as normally distributed with different means for each group:\n",
        "\n",
        "- **Priors**:\n",
        "  - `mu[0]`: Mean vitamin level for Females ~ Normal(0, 10)\n",
        "  - `mu[1]`: Mean vitamin level for Males ~ Normal(0, 10)\n",
        "  - `sigma`: Standard deviation ~ HalfNormal(1)\n",
        "- **Likelihood**:\n",
        "  - `vitamin_level` ~ Normal(mu[group], sigma)"
      ]
    },
    {
      "cell_type": "code",
      "execution_count": null,
      "id": "bayesian_model",
      "metadata": {},
      "outputs": [],
      "source": [
        "# Import Bayesian libraries\n",
        "import pymc as pm\n",
        "import arviz as az\n",
        "import matplotlib.pyplot as plt\n",
        "\n",
        "# Check PyMC version for compatibility\n",
        "print(f'PyMC version: {pm.__version__}')\n",
        "\n",
        "# Define the Bayesian model\n",
        "with pm.Model() as model:\n",
        "    # Priors for the means of Female (group 0) and Male (group 1)\n",
        "    mu = pm.Normal('mu', mu=0, sigma=10, shape=2)  # Mean for each group\n",
        "    \n",
        "    # Prior for standard deviation\n",
        "    sigma = pm.HalfNormal('sigma', sigma=1)\n",
        "    \n",
        "    # Likelihood: vitamin levels are normally distributed\n",
        "    y_obs = pm.Normal('y_obs', mu=mu[group], sigma=sigma, observed=y)\n",
        "    \n",
        "    # Sample from the posterior\n",
        "    trace = pm.sample(1000, tune=1000, return_inferencedata=True)"
      ]
    },
    {
      "cell_type": "markdown",
      "id": "results",
      "metadata": {},
      "source": [
        "## 📉 Posterior Analysis\n",
        "\n",
        "Let’s calculate the posterior means for each group and visualise the posterior distributions of `mu`."
      ]
    },
    {
      "cell_type": "code",
      "execution_count": null,
      "id": "posterior",
      "metadata": {},
      "outputs": [],
      "source": [
        "# Calculate posterior means for Female and Male\n",
        "mu_posterior = trace.posterior['mu'].mean(dim=['chain', 'draw'])\n",
        "print(f'Posterior means: Female={round(float(mu_posterior[0]), 1)}, Male={round(float(mu_posterior[1]), 1)}')\n",
        "\n",
        "# Visualise posterior distributions\n",
        "az.plot_posterior(trace, var_names=['mu'])  # Plot histograms of mu\n",
        "plt.show()  # Display plot"
      ]
    },
    {
      "cell_type": "markdown",
      "id": "exercise",
      "metadata": {},
      "source": [
        "## 🧪 Exercises\n",
        "\n",
        "1. **Change the Prior**: Modify the prior for `mu` to `Normal(5, 5)` and re-run the analysis. How do the posterior means change? Write your observations in a Markdown cell.\n",
        "\n",
        "2. **Add a Parameter**: Extend the model to include a different `sigma` for each group (e.g., `sigma = pm.HalfNormal('sigma', sigma=1, shape=2)`). Re-run the sampling and plot the posteriors for both `mu` and `sigma`.\n",
        "\n",
        "3. **Compare Groups**: Calculate the posterior difference between `mu[1]` (Male) and `mu[0]` (Female) and plot its distribution using `az.plot_posterior`.\n",
        "\n",
        "**Guidance**: Use the code above as a starting point. Experiment with priors and parameters to see how they affect the results!"
      ]
    },
    {
      "cell_type": "markdown",
      "id": "your_answer",
      "metadata": {},
      "source": [
        "**Your Answers**:\n",
        "\n",
        "**Exercise 1: Change the Prior**  \n",
        "[Write your observations here]\n",
        "\n",
        "**Exercise 2: Add a Parameter**  \n",
        "[Write your code and results here]\n",
        "\n",
        "**Exercise 3: Compare Groups**  \n",
        "[Write your code and results here]"
      ]
    },
    {
      "cell_type": "markdown",
      "id": "wrap",
      "metadata": {},
      "source": [
        "## Conclusion\n",
        "\n",
        "You’ve applied Bayesian methods to compare vitamin levels between females and males, calculating posterior means and visualising distributions. Bayesian approaches are powerful for nutrition research, allowing you to incorporate prior knowledge and quantify uncertainty.\n",
        "\n",
        "**Next Steps**: Explore workflow automation in `5.2_workflow_automation.ipynb`.\n",
        "\n",
        "**Resources**:\n",
        "- [PyMC Documentation](https://www.pymc.io/)\n",
        "- [ArviZ Documentation](https://arviz-devs.github.io/arviz/)\n",
        "- Repository: [github.com/ggkuhnle/data-analysis-toolkit-FNS](https://github.com/ggkuhnle/data-analysis-toolkit-FNS)"
      ]
    }
  ],
  "metadata": {
    "kernelspec": {
      "display_name": "Python 3",
      "language": "python",
      "name": "python3"
    },
    "language_info": {
      "codemirror_mode": {
        "name": "ipython",
        "version": 3
      },
      "file_extension": ".py",
      "mimetype": "text/x-python",
      "name": "python",
      "nbconvert_exporter": "python",
      "pygments_lexer": "ipython3",
      "version": "3.9.7"
    }
  },
  "nbformat": 4,
  "nbformat_minor": 5
}
