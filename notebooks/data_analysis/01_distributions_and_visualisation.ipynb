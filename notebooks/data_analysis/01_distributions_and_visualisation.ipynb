# 📊 4.1 Distributions and Visualisation

This notebook introduces key techniques to explore and visualise the distribution of numerical data.