{
  "cells": [
    {
      "cell_type": "markdown",
      "id": "intro",
      "metadata": {},
      "source": [
        "# 📓 1.4 Quarto Basics\n",
        "\n",
        "This notebook introduces Quarto, a tool for creating reproducible documents combining code, text, and visuals, ideal for nutrition research reports.\n",
        "\n",
        "**Objectives**:\n",
        "- Understand Quarto’s role in reproducible research.\n",
        "- Create a simple Quarto document with Python code.\n",
        "- Render the document to HTML.\n",
        "\n",
        "**Context**: Quarto is used in this toolkit (e.g., `index.qmd`) to share analyses, perfect for MSc projects.\n",
        "\n",
        "<details><summary>Fun Fact</summary>\n",
        "A Quarto document is like a hippo’s lab report—neat, detailed, and ready to share! 🦛\n",
        "</details>"
      ]
    },
    {
      "cell_type": "markdown",
      "id": "0f043831",
      "metadata": {},
      "source": [
        "# 📝 What is Quarto?\n",
        "\n",
        "**Quarto** is an open-source scientific and technical publishing system that allows you to create fully reproducible documents that combine **code, narrative text, and visuals**. It's designed for **researchers, analysts, and data scientists** who need to communicate their findings in a clear, flexible, and transparent way.\n",
        "\n",
        "---\n",
        "\n",
        "<details>\n",
        "<summary><strong>🔍 Why use Quarto?</strong></summary>\n",
        "\n",
        "#### ✅ **Key Features of Quarto**:\n",
        "- **Integrates code and text**: Mix code chunks (Python, R) with Markdown narrative.\n",
        "- **Supports multiple languages**: Python, R, Julia, Observable JS.\n",
        "- **Reproducible**: Re-runs code on render and embeds updated results.\n",
        "- **Flexible outputs**: HTML, PDF, Word, slides, books, websites.\n",
        "- **Version control-friendly**: Plain-text `.qmd` files work well with Git.\n",
        "- **Interactive**: Extend with Shiny, Plotly, Bokeh, or widgets.\n",
        "</details>\n",
        "\n",
        "---\n",
        "\n",
        "## 📊 What Can You Use Quarto For?\n",
        "\n",
        "| Use Case            | Description                                                                 |\n",
        "|---------------------|-----------------------------------------------------------------------------|\n",
        "| **Data Reports**    | Generate clean, consistent research reports combining code, figures, analysis. |\n",
        "| **Lab Notebooks**   | Create digital, reproducible records of your work—great for collaborations. |\n",
        "| **Teaching Materials** | Build slides, handouts, tutorials from one source.                         |\n",
        "| **Websites**        | Build research/teaching sites with integrated results.                      |\n",
        "| **Dashboards**      | With extensions, create interactive dashboards.                             |\n",
        "\n",
        "---\n",
        "\n",
        "<details>\n",
        "<summary><strong>💡 Example: Nutrition Study Report</strong></summary>\n",
        "\n",
        "Imagine analysing polyphenol intake from the NDNS dataset. Using Quarto you could:\n",
        "- Load data with Python\n",
        "- Run models\n",
        "- Generate plots/tables\n",
        "- Write interpretations\n",
        "- Render a stand-alone HTML/PDF—all from one `.qmd` file!\n",
        "</details>\n",
        "\n",
        "---\n",
        "\n",
        "## 💾 How Does It Work?\n",
        "\n",
        "A Quarto file uses the `.qmd` extension and typically includes:\n",
        "```yaml\n",
        "---\n",
        "title: \"Example Analysis\"\n",
        "format: html\n",
        "---\n",
        "\n",
        "## Results\n",
        "\n",
        "```{python}\n",
        "import pandas as pd\n",
        "df = pd.read_csv(\"data.csv\")\n",
        "df.describe()\n",
        "```\n",
        "```\n",
        "Running `quarto render myfile.qmd` executes all code, embeds outputs, and produces the final HTML (or PDF) document.\n",
        "\n",
        "---\n",
        "\n",
        "📚 [Quarto Documentation →](https://quarto.org)  \n",
        "🎓 Perfect for MSc nutrition, food science, and sensory analysis students."
      ]
    },
    {
      "cell_type": "markdown",
      "id": "b3719fb2",
      "metadata": {},
      "source": [
        "## 🧪 From Concept to Practice\n",
        "\n",
        "Let’s try it with our `hippo_diets.csv` data. We’ll load the data, make a plot, and then you’ll draft a `.qmd` file to render yourself."
      ]
    },
    {
      "cell_type": "code",
      "execution_count": null,
      "id": "setup",
      "metadata": {},
      "outputs": [
        {
          "name": "stdout",
          "output_type": "stream",
          "text": [
            "Quarto environment ready.\n"
          ]
        }
      ],
      "source": [
        "# Setup for Google Colab: Fetch datasets automatically or manually\n",
        "%run ../../bootstrap.py    # installs requirements + editable package\n",
        "\n",
        "import fns_toolkit as fns\n",
        "\n",
        "import pandas as pd\n",
        "import numpy as np\n",
        "import matplotlib.pyplot as plt\n",
        "\n",
        "print('Quarto environment ready.')"
      ]
    },
    {
      "cell_type": "markdown",
      "id": "quarto",
      "metadata": {},
      "source": [
        "## Creating a Quarto-ready Plot\n",
        "Load `hippo_diets.csv` and make a histogram for your Quarto report:"
      ]
    },
    {
      "cell_type": "code",
      "execution_count": null,
      "id": "plot",
      "metadata": {},
      "outputs": [],
      "source": [
        "df = fns.get_dataset('hippo_diets')\n",
        "plt.hist(df['Calories'], bins=10, edgecolor='black')\n",
        "plt.xlabel('Calories (kcal)')\n",
        "plt.ylabel('Frequency')\n",
        "plt.title('Distribution of Hippo Calorie Intakes')\n",
        "plt.grid(True, alpha=0.3)\n",
        "plt.show()"
      ]
    },
    {
      "cell_type": "markdown",
      "id": "exercise",
      "metadata": {},
      "source": [
        "## 🧪 Exercise 1: Draft a Quarto File\n",
        "1. Create `my_quarto.qmd` with:\n",
        "   ```yaml\n",
        "   ---\n",
        "   title: \"Hippo Diet Analysis\"\n",
        "   format: html\n",
        "   ---\n",
        "\n",
        "   ## Calorie Distribution\n",
        "   ```{python}\n",
        "   # Paste your histogram code here\n",
        "   ```\n",
        "   ```\n",
        "2. In a terminal, run:\n",
        "   ```bash\n",
        "   quarto render my_quarto.qmd\n",
        "   ```\n",
        "3. Paste any errors or your success message below."
      ]
    },
    {
      "cell_type": "markdown",
      "id": "your_answer",
      "metadata": {},
      "source": [
        "**Answer**:\n",
        "I created and rendered the Quarto file by..."
      ]
    },
    {
      "cell_type": "markdown",
      "id": "wrap",
      "metadata": {},
      "source": [
        "## Conclusion\n",
        "\n",
        "You’ve learned the basics of Quarto for reproducible documents, enhancing your nutrition research outputs.\n",
        "\n",
        "**Next Steps**: Begin programming basics in **2.1 Python fundamentals**.\n",
        "\n",
        "**Resources**:\n",
        "- [Quarto Documentation](https://quarto.org/)\n",
        "- [Quarto on GitHub](https://github.com/quarto-dev/quarto-cli)\n",
        "- Course Repo: [ggkuhnle/data-analysis-toolkit-FNS](https://github.com/ggkuhnle/data-analysis-toolkit-FNS)"
      ]
    }
  ],
  "metadata": {
    "kernelspec": {
      "display_name": "Python 3",
      "language": "python",
      "name": "python3"
    },
    "language_info": {
      "name": "python",
      "version": "3.9.7"
    }
  },
  "nbformat": 4,
  "nbformat_minor": 5
}
