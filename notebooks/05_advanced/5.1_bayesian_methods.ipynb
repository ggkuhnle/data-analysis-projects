{
  "cells": [
    {
      "cell_type": "markdown",
      "id": "intro",
      "metadata": {},
      "source": [
        "# 🧠 5.1 Bayesian Methods in Nutrition Research\n",
        "\n",
        "This notebook introduces Bayesian methods for nutrition data analysis using **PyMC** and **ArviZ**. We'll compare two groups (Control vs Treatment) in a vitamin D trial to estimate group means, their difference, and the uncertainty around them.\n",
        "\n",
        "**You will:**\n",
        "- Fit a simple two-group Bayesian model to `Vitamin_D`.\n",
        "- Examine diagnostics (trace plots, R-hat, ESS).\n",
        "- Quantify the posterior difference between groups.\n",
        "- Perform posterior predictive checks (PPC).\n",
        "\n",
        "<details><summary>Why Bayesian?</summary>\n",
        "Bayesian analysis combines prior information (priors) with data (likelihood) to produce a distribution of plausible parameter values (posterior). This is helpful in nutrition research where uncertainty and variation are the norm.\n",
        "</details>"
      ]
    },
    {
      "cell_type": "code",
      "execution_count": null,
      "id": "colab_setup",
      "metadata": {},
      "outputs": [],
      "source": [
        "# Setup for Google Colab: clone repo and locate data\n",
        "import os\n",
        "from google.colab import files\n",
        "\n",
        "MODULE = '04_data_analysis'            # where vitamin_trial.csv lives in this course\n",
        "DATASET = 'vitamin_trial.csv'\n",
        "BASE_PATH = '/content/data-analysis-projects'\n",
        "MODULE_PATH = os.path.join(BASE_PATH, 'notebooks', MODULE)\n",
        "DATASET_PATH = os.path.join('data', DATASET)\n",
        "\n",
        "try:\n",
        "    print('Attempting to clone repository...')\n",
        "    if not os.path.exists(BASE_PATH):\n",
        "        !git clone https://github.com/ggkuhnle/data-analysis-projects.git\n",
        "    print('Setting working directory...')\n",
        "    os.chdir(MODULE_PATH)\n",
        "    if os.path.exists(DATASET_PATH):\n",
        "        print(f'Dataset found: {DATASET_PATH} ✅')\n",
        "    else:\n",
        "        raise FileNotFoundError('Dataset missing after clone.')\n",
        "except Exception as e:\n",
        "    print(f'Cloning failed: {e}')\n",
        "    print('Falling back to manual upload...')\n",
        "    os.makedirs('data', exist_ok=True)\n",
        "    uploaded = files.upload()\n",
        "    if DATASET in uploaded:\n",
        "        with open(DATASET_PATH, 'wb') as f:\n",
        "            f.write(uploaded[DATASET])\n",
        "        print(f'Successfully uploaded {DATASET} ✅')\n",
        "    else:\n",
        "        raise FileNotFoundError(f'Upload failed. Please upload {DATASET}.')"
      ]
    },
    {
      "cell_type": "code",
      "execution_count": null,
      "id": "install_libs",
      "metadata": {},
      "outputs": [],
      "source": [
        "%pip install -q pandas numpy pymc arviz matplotlib\n",
        "import pandas as pd, numpy as np, pymc as pm, arviz as az, matplotlib.pyplot as plt\n",
        "az.rcParams['plot.matplotlib.show'] = True\n",
        "print('Bayesian environment ready.')"
      ]
    },
    {
      "cell_type": "markdown",
      "id": "load_explore",
      "metadata": {},
      "source": [
        "## 📥 Load & Explore\n",
        "We use `vitamin_trial.csv` which (in this course) contains at least:\n",
        "- `Vitamin_D`: numeric outcome (e.g., µg)\n",
        "- `Group`: categorical (`Control` / `Treatment`)\n",
        "\n",
        "We'll compare group means for `Vitamin_D`."
      ]
    },
    {
      "cell_type": "code",
      "execution_count": null,
      "id": "load_df",
      "metadata": {},
      "outputs": [],
      "source": [
        "df = pd.read_csv('data/vitamin_trial.csv')\n",
        "print('Shape:', df.shape)\n",
        "display(df.head())\n",
        "\n",
        "assert {'Vitamin_D','Group'}.issubset(df.columns), 'Expected columns Vitamin_D and Group are missing.'\n",
        "print('\\nMeans by Group:')\n",
        "display(df.groupby('Group', observed=True)['Vitamin_D'].mean().round(2))"
      ]
    },
    {
      "cell_type": "markdown",
      "id": "model_spec",
      "metadata": {},
      "source": [
        "## 🧩 Model Specification\n",
        "We model **Vitamin_D ~ Normal( μ[group], σ )** with group-specific means and a shared σ.\n",
        "\n",
        "**Priors (weakly-informative):**\n",
        "- μ[group] ~ Normal(0, 10)\n",
        "- σ ~ HalfNormal(10)\n",
        "\n",
        "These are intentionally broad; adapt to your domain knowledge as needed."
      ]
    },
    {
      "cell_type": "code",
      "execution_count": null,
      "id": "pymc_model",
      "metadata": {},
      "outputs": [],
      "source": [
        "y = df['Vitamin_D'].to_numpy()\n",
        "grp = df['Group'].map({'Control':0, 'Treatment':1}).to_numpy()\n",
        "\n",
        "with pm.Model() as model:\n",
        "    mu = pm.Normal('mu', mu=0, sigma=10, shape=2)\n",
        "    sigma = pm.HalfNormal('sigma', sigma=10)\n",
        "    y_obs = pm.Normal('y_obs', mu=mu[grp], sigma=sigma, observed=y)\n",
        "\n",
        "    # Sample posterior\n",
        "    idata = pm.sample(1500, tune=1500, target_accept=0.9, random_seed=42)\n",
        "\n",
        "    # Posterior predictive for PPC\n",
        "    ppc = pm.sample_posterior_predictive(idata, random_seed=42)"
      ]
    },
    {
      "cell_type": "markdown",
      "id": "diagnostics",
      "metadata": {},
      "source": [
        "## 🔍 Diagnostics & Summaries\n",
        "Check MCMC diagnostics (R-hat, ESS) and inspect trace plots to ensure good mixing."
      ]
    },
    {
      "cell_type": "code",
      "execution_count": null,
      "id": "diag_code",
      "metadata": {},
      "outputs": [],
      "source": [
        "print(az.summary(idata, var_names=['mu','sigma'], round_to=2))\n",
        "az.plot_trace(idata, var_names=['mu','sigma']); plt.show()\n",
        "\n",
        "# Posterior for group means\n",
        "az.plot_posterior(idata, var_names=['mu']); plt.show()"
      ]
    },
    {
      "cell_type": "markdown",
      "id": "difference",
      "metadata": {},
      "source": [
        "## 🔗 Posterior Difference (Treatment − Control)\n",
        "We compute the posterior for Δ = μ[Treatment] − μ[Control] and the probability that Δ > 0."
      ]
    },
    {
      "cell_type": "code",
      "execution_count": null,
      "id": "difference_code",
      "metadata": {},
      "outputs": [],
      "source": [
        "mu_post = idata.posterior['mu']  # (chain, draw, 2)\n",
        "diff = (mu_post.sel(mu_dim_0=1) - mu_post.sel(mu_dim_0=0)).values.flatten()\n",
        "az.plot_posterior(diff, ref_val=0); plt.title('Posterior: Δ mean (Treatment - Control)'); plt.show()\n",
        "print(f\"P(Δ>0) = {(diff>0).mean():.3f}\")"
      ]
    },
    {
      "cell_type": "markdown",
      "id": "ppc",
      "metadata": {},
      "source": [
        "## 📦 Posterior Predictive Checks (PPC)\n",
        "Compare simulated data from the posterior with observed data to assess model fit."
      ]
    },
    {
      "cell_type": "code",
      "execution_count": null,
      "id": "ppc_code",
      "metadata": {},
      "outputs": [],
      "source": [
        "# Robust conversion to InferenceData for PPC plot (handles PyMC return variations)\n",
        "try:\n",
        "    # PyMC >= 5 often returns InferenceData directly\n",
        "    idata_ppc = ppc\n",
        "    # If not InferenceData, this will raise\n",
        "    _ = idata_ppc.posterior_predictive\n",
        "except Exception:\n",
        "    # Dict-like fallback\n",
        "    idata_ppc = az.from_dict(posterior_predictive={'y_obs': ppc['y_obs']}, observed_data={'y_obs': y})\n",
        "\n",
        "az.plot_ppc(idata_ppc); plt.show()"
      ]
    },
    {
      "cell_type": "markdown",
      "id": "interpret",
      "metadata": {},
      "source": [
        "## 📝 Interpretation Tips\n",
        "- **Posterior means (μ)**: central tendency for each group.\n",
        "- **Δ posterior**: if most mass > 0, Treatment likely increases Vitamin_D relative to Control.\n",
        "- **PPC**: large misfit suggests revisiting the likelihood (e.g., heavier tails), adding predictors, or transforming the outcome.\n",
        "\n",
        "<details><summary>Further reading</summary>\n",
        "- PyMC: https://www.pymc.io/\n",
        "- ArviZ: https://arviz-devs.github.io/arviz/\n",
        "- Prior choice: think in outcome units (e.g., µg) and expected variability.\n",
        "</details>"
      ]
    },
    {
      "cell_type": "markdown",
      "id": "exercises",
      "metadata": {},
      "source": [
        "## 🧪 Exercises\n",
        "1) **Change the prior** for `mu` to `Normal(10, 5)` and `sigma` to `HalfNormal(5)`. Does the posterior difference meaningfully change?\n",
        "\n",
        "2) **Add a predictor**: include `Time` if available (create a simple linear model: `Vitamin_D ~ Normal( α[group] + β·Time, σ )`).\n",
        "\n",
        "3) **Heavier tails**: re-fit with a Student-t likelihood (e.g., `pm.StudentT`) and compare PPCs.\n",
        "\n",
        "💡 *Write a short markdown interpretation for each experiment.*"
      ]
    },
    {
      "cell_type": "markdown",
      "id": "wrap",
      "metadata": {},
      "source": [
        "## ✅ Wrap-up\n",
        "You fitted a two-group Bayesian model, checked diagnostics, quantified the posterior difference, and validated fit with PPC. This workflow generalises to many nutrition questions: comparing interventions, stratifying by subgroups, or extending to multivariable models."
      ]
    }
  ],
  "metadata": {
    "kernelspec": {
      "display_name": "Python 3",
      "language": "python",
      "name": "python3"
    },
    "language_info": {
      "name": "python"
    }
  },
  "nbformat": 4,
  "nbformat_minor": 5
}
