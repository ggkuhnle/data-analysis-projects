{
 "cells": [
  {
   "cell_type": "markdown",
   "id": "48da7baf",
   "metadata": {},
   "source": [
    "# 📥 Importing Data\n",
    "\n",
    "Import CSV, Excel, and other files.\n",
    "```python\n",
    "import pandas as pd\n",
    "df = pd.read_csv('data.csv')\n",
    "```"
   ]
  }
 ],
 "metadata": {},
 "nbformat": 4,
 "nbformat_minor": 5
}
