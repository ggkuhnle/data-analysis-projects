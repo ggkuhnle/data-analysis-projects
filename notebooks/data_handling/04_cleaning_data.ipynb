{
 "cells": [
  {
   "cell_type": "markdown",
   "id": "e2caa1d7",
   "metadata": {},
   "source": [
    "# 🧼 3.4 Cleaning Data\n",
    "\n",
    "**Covered:**\n",
    "- Handling missing values\n",
    "- Renaming columns\n",
    "- Replacing and mapping values"
   ]
  },
  {
   "cell_type": "code",
   "execution_count": null,
   "id": "70fbf852",
   "metadata": {},
   "outputs": [],
   "source": [
    "import pandas as pd\n",
    "import numpy as np\n",
    "\n",
    "df = pd.DataFrame({\n",
    "    'food': ['apple', 'banana', 'bread', 'banana'],\n",
    "    'energy_kcal': [52, 89, np.nan, 85]\n",
    "})\n",
    "df['energy_kcal'] = df['energy_kcal'].fillna(df['energy_kcal'].mean())\n",
    "df['food'] = df['food'].replace('banana', 'ripe banana')\n",
    "df"
   ]
  }
 ],
 "metadata": {},
 "nbformat": 4,
 "nbformat_minor": 5
}
