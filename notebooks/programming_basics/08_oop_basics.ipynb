{
 "cells": [
  {
   "cell_type": "markdown",
   "id": "d1ba5c56",
   "metadata": {},
   "source": [
    "# 🐘 2.6 Object-Oriented Programming (OOP) Basics\n",
    "\n",
    "Object-Oriented Programming (OOP) is a way to organise code by bundling **data** and **functions** into units called **objects**.\n",
    "\n",
    "**Think of it this way:**\n",
    "- A `class` is like a **recipe** or **blueprint**.\n",
    "- An `object` is a **dish** you make from that recipe.\n",
    "\n",
    "OOP is useful for:\n",
    "- 🧱 Modularity: keeping code clean and organised\n",
    "- ♻️ Reusability: reuse logic without rewriting\n",
    "- 🔒 Abstraction: hide unnecessary details\n",
    "- 🌱 Extensibility: add new features easily\n",
    "\n",
    "In Python, everything is an object — even numbers and strings!"
   ]
  },
  {
   "cell_type": "markdown",
   "id": "74bd43b4",
   "metadata": {},
   "source": [
    "## 🐾 Example: Hippo Nutrition\n",
    "\n",
    "Let’s define a class to represent a hippo's diet:\n",
    "```python\n",
    "class Hippo:\n",
    "    def __init__(self, name, weight_kg, daily_grass_kg):\n",
    "        self.name = name\n",
    "        self.weight_kg = weight_kg\n",
    "        self.daily_grass_kg = daily_grass_kg\n",
    "\n",
    "    def daily_energy_kcal(self):\n",
    "        # Roughly 2.5 kcal per gram of dry grass\n",
    "        return self.daily_grass_kg * 1000 * 2.5\n",
    "```\n",
    "- `__init__` sets up the hippo's profile\n",
    "- `self` refers to the specific hippo\n",
    "- `daily_energy_kcal()` calculates energy intake"
   ]
  },
  {
   "cell_type": "code",
   "execution_count": null,
   "id": "37362193",
   "metadata": {},
   "outputs": [],
   "source": [
    "hippy = Hippo(\"Hilda\", 1200, 40)\n",
    "print(f\"{hippy.name} eats about {hippy.daily_energy_kcal():,.0f} kcal of grass per day!\")"
   ]
  },
  {
   "cell_type": "markdown",
   "id": "7625d1e3",
   "metadata": {},
   "source": [
    "## ⚙️ Accessing Attributes and Methods\n",
    "\n",
    "```python\n",
    "hippy.name           # Attribute\n",
    "hippy.daily_energy_kcal()  # Method\n",
    "```\n",
    "This is the same dot syntax you’ve used with pandas:\n",
    "- `df.head()`\n",
    "- `df.describe()`\n",
    "\n",
    "`df` is an object too!"
   ]
  },
  {
   "cell_type": "markdown",
   "id": "382275b4",
   "metadata": {},
   "source": [
    "## 🧪 Exercise\n",
    "Create a class `FoodItem` that:\n",
    "- Stores `name`, `kcal_per_100g`\n",
    "- Has a method `kcal_for_portion(grams)` to return kcal for a given portion\n",
    "\n",
    "**Example call:**\n",
    "`banana.kcal_for_portion(120)`"
   ]
  },
  {
   "cell_type": "markdown",
   "id": "91fd6050",
   "metadata": {},
   "source": [
    "## 🧠 Advanced Concepts (click to expand)\n",
    "<details><summary>Inheritance, Magic Methods, and More</summary>\n",
    "\n",
    "### 🔄 Inheritance\n",
    "Make a new class based on an existing one:\n",
    "```python\n",
    "class SuperHippo(Hippo):\n",
    "    def __init__(self, name, weight_kg, daily_grass_kg, extra_supplement_kcal):\n",
    "        super().__init__(name, weight_kg, daily_grass_kg)\n",
    "        self.extra = extra_supplement_kcal\n",
    "    def total_energy(self):\n",
    "        return self.daily_energy_kcal() + self.extra\n",
    "```\n",
    "\n",
    "### ✨ Magic Methods\n",
    "`__str__` and `__repr__` make objects more readable:\n",
    "```python\n",
    "def __str__(self):\n",
    "    return f\"{self.name} the hippo weighs {self.weight_kg} kg.\"\n",
    "```\n",
    "\n",
    "### 🆚 Class vs Instance Variables\n",
    "- `self.var` is **unique to each object**\n",
    "- `Class.var` is **shared across all**\n",
    "\n",
    "</details>"
   ]
  }
 ],
 "metadata": {},
 "nbformat": 4,
 "nbformat_minor": 5
}
