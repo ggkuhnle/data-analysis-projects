{
  "cells": [
    {
      "cell_type": "markdown",
      "id": "intro",
      "metadata": {},
      "source": [
        "# \u2699\ufe0f 5.2 Workflow Automation\n",
        "\n",
        "This notebook introduces workflow automation to streamline nutrition data processing.\n",
        "\n",
        "**Objectives**:\n",
        "- Create reusable data processing functions.\n",
        "- Automate workflows with scripts.\n",
        "- Apply automation to `large_food_log.csv`.\n",
        "\n",
        "**Context**: Automation saves time in nutrition research, like processing large diet logs.\n",
        "\n",
        "<details><summary>Fun Fact</summary>\n",
        "Automation is like a hippo\u2019s chef\u2014preparing meals efficiently every day! \ud83e\udd9b\n",
        "</details>"
      ]
    },
    {
      "cell_type": "code",
      "execution_count": null,
      "id": "colab_setup",
      "metadata": {},
      "outputs": [],
      "source": [
        "# Setup for Google Colab: Fetch datasets automatically or manually\n",
        "import os\n",
        "from google.colab import files\n",
        "\n",
        "# Define the module and dataset for this notebook\n",
        "MODULE = '05_advanced'  # e.g., '01_infrastructure'\n",
        "DATASET = 'large_food_log.csv'  # e.g., 'hippo_diets.csv'\n",
        "BASE_PATH = '/content/data-analysis-toolkit-FNS'\n",
        "MODULE_PATH = os.path.join(BASE_PATH, 'notebooks', MODULE)\n",
        "DATASET_PATH = os.path.join('data', DATASET)\n",
        "\n",
        "# Step 1: Attempt to clone the repository (automatic method)\n",
        "# Note: If you encounter a cloning error (e.g., 'fatal: destination path already exists'),\n",
        "#       reset the runtime (Runtime > Restart runtime) and run this cell again.\n",
        "try:\n",
        "    print('Attempting to clone repository...')\n",
        "    if os.path.exists(BASE_PATH):\n",
        "        print('Repository already exists, skipping clone.')\n",
        "    else:\n",
        "        !git clone https://github.com/ggkuhnle/data-analysis-toolkit-FNS.git\n",
        "    \n",
        "    # Debug: Print directory structure\n",
        "    print('Listing repository contents:')\n",
        "    !ls {BASE_PATH}\n",
        "    print(f'Listing notebooks directory contents:')\n",
        "    !ls {BASE_PATH}/notebooks\n",
        "    \n",
        "    # Check if the module directory exists\n",
        "    if not os.path.exists(MODULE_PATH):\n",
        "        raise FileNotFoundError(f'Module directory {MODULE_PATH} not found. Check the repository structure.')\n",
        "    \n",
        "    # Set working directory to the notebook's folder\n",
        "    os.chdir(MODULE_PATH)\n",
        "    \n",
        "    # Verify dataset is accessible\n",
        "    if os.path.exists(DATASET_PATH):\n",
        "        print(f'Dataset found: {DATASET_PATH} \ud83e\udd9b')\n",
        "    else:\n",
        "        print(f'Error: Dataset {DATASET} not found after cloning.')\n",
        "        raise FileNotFoundError\n",
        "except Exception as e:\n",
        "    print(f'Cloning failed: {e}')\n",
        "    print('Falling back to manual upload option...')\n",
        "\n",
        "    # Step 2: Manual upload option\n",
        "    print(f'Please upload {DATASET} manually.')\n",
        "    print(f'1. Click the \"Choose Files\" button below.')\n",
        "    print(f'2. Select {DATASET} from your local machine.')\n",
        "    print(f'3. Ensure the file is placed in notebooks/{MODULE}/data/')\n",
        "    \n",
        "    # Create the data directory if it doesn't exist\n",
        "    os.makedirs('data', exist_ok=True)\n",
        "    \n",
        "    # Prompt user to upload the dataset\n",
        "    uploaded = files.upload()\n",
        "    \n",
        "    # Check if the dataset was uploaded\n",
        "    if DATASET in uploaded:\n",
        "        with open(DATASET_PATH, 'wb') as f:\n",
        "            f.write(uploaded[DATASET])\n",
        "        print(f'Successfully uploaded {DATASET} to {DATASET_PATH} \ud83e\udd9b')\n",
        "    else:\n",
        "        raise FileNotFoundError(f'Upload failed. Please ensure you uploaded {DATASET}.')\n",
        "\n",
        "# Install required packages for this notebook\n",
        "%pip install pandas numpy\n",
        "print('Python environment ready.')"
      ]
    },
    {
      "cell_type": "code",
      "execution_count": 1,
      "id": "setup",
      "metadata": {},
      "outputs": [
        {
          "name": "stdout",
          "output_type": "stream",
          "text": [
            "Automation environment ready.\n"
          ]
        }
      ],
      "source": [
        "# Install required packages\n",
        "%pip install pandas  # Ensures compatibility in Colab\n",
        "import pandas as pd  # For data manipulation\n",
        "print('Automation environment ready.')"
      ]
    },
    {
      "cell_type": "markdown",
      "id": "load_data",
      "metadata": {},
      "source": [
        "## Data Preparation\n",
        "\n",
        "Load `large_food_log.csv`, a dataset of hippo meal nutrients."
      ]
    },
    {
      "cell_type": "code",
      "execution_count": 2,
      "id": "load",
      "metadata": {},
      "outputs": [
        {
          "name": "stdout",
          "output_type": "stream",
          "text": [
            "Shape: (500, 5)\n"
          ]
        }
      ],
      "source": [
        "# Load the dataset\n",
        "df = pd.read_csv('data/large_food_log.csv')  # Path relative to notebook\n",
        "print(f'Shape: {df.shape}')  # Display number of rows and columns"
      ]
    },
    {
      "cell_type": "markdown",
      "id": "functions",
      "metadata": {},
      "source": [
        "## Automation Functions\n",
        "\n",
        "Create a function to summarise nutrient amounts by meal."
      ]
    },
    {
      "cell_type": "code",
      "execution_count": 3,
      "id": "function",
      "metadata": {},
      "outputs": [
        {
          "name": "stdout",
          "output_type": "stream",
          "text": [
            "               Amount\n",
            "Meal     Nutrient    \n",
            "Breakfast Calcium    300.0\n",
            "          Iron        2.5\n",
            "          Protein    25.0\n",
            "          Vitamin_D  11.0\n"
          ]
        }
      ],
      "source": [
        "# Define summary function\n",
        "def summarize_nutrients(df, group_by='Meal'):\n",
        "    \"\"\"Summarize nutrient amounts by specified column.\n",
        "    Args:\n",
        "        df (DataFrame): Input data\n",
        "        group_by (str): Column to group by\n",
        "    Returns:\n",
        "        DataFrame: Mean nutrient amounts\n",
        "    \"\"\"\n",
        "    summary = df.groupby([group_by, 'Nutrient'])['Amount'].mean().unstack()\n",
        "    return summary\n",
        "\n",
        "# Apply function\n",
        "summary = summarize_nutrients(df, 'Meal')\n",
        "print(summary.head(4))  # Display first few rows"
      ]
    },
    {
      "cell_type": "markdown",
      "id": "exercise",
      "metadata": {},
      "source": [
        "## Exercise 1: Automate Workflow\n",
        "\n",
        "Create a function to filter `df` for a specific `Nutrient` and summarise by `Date`. Apply it to Protein data. Document your code.\n",
        "\n",
        "**Guidance**: Define a function with `df[df['Nutrient'] == nutrient]` and `groupby('Date')`."
      ]
    },
    {
      "cell_type": "markdown",
      "id": "your_answer",
      "metadata": {},
      "source": [
        "**Answer**:\n",
        "\n",
        "My automation code is..."
      ]
    },
    {
      "cell_type": "markdown",
      "id": "wrap",
      "metadata": {},
      "source": [
        "## Conclusion\n",
        "\n",
        "You\u2019ve learned to automate nutrition data workflows with reusable functions.\n",
        "\n",
        "**Next Steps**: Explore advanced Bayesian methods in 5.3.\n",
        "\n",
        "**Resources**:\n",
        "- [Pandas GroupBy](https://pandas.pydata.org/docs/user_guide/groupby.html)\n",
        "- [Automation Guide](https://www.datacamp.com/community/tutorials/python-data-science-automation)\n",
        "- Repository: [github.com/ggkuhnle/data-analysis-toolkit-FNS](https://github.com/ggkuhnle/data-analysis-toolkit-FNS)"
      ]
    }
  ],
  "metadata": {
    "kernelspec": {
      "display_name": "Python 3",
      "language": "python",
      "name": "python3"
    },
    "language_info": {
      "codemirror_mode": {
        "name": "ipython",
        "version": 3
      },
      "file_extension": ".py",
      "mimetype": "text/x-python",
      "name": "python",
      "nbconvert_exporter": "python",
      "pygments_lexer": "ipython3",
      "version": "3.9.7"
    }
  },
  "nbformat": 4,
  "nbformat_minor": 5
}