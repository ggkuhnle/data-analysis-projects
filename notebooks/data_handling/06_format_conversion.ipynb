{
 "cells": [
  {
   "cell_type": "markdown",
   "id": "9e696a02",
   "metadata": {},
   "source": [
    "# 🔄 3.6 Converting Formats\n",
    "\n",
    "- Long <-> wide\n",
    "- String manipulation\n",
    "- Save as JSON"
   ]
  },
  {
   "cell_type": "code",
   "execution_count": null,
   "id": "f9e99bff",
   "metadata": {},
   "outputs": [],
   "source": [
    "import pandas as pd\n",
    "\n",
    "df_long = pd.DataFrame({\n",
    "    'participant': ['P1', 'P1', 'P2', 'P2'],\n",
    "    'year': [2020, 2021, 2020, 2021],\n",
    "    'vitamin_d': [10.5, 12.1, 9.8, 11.0]\n",
    "})\n",
    "df_wide = df_long.pivot(index='participant', columns='year', values='vitamin_d')\n",
    "df_wide.to_json('vitamin_d.json')"
   ]
  }
 ],
 "metadata": {},
 "nbformat": 4,
 "nbformat_minor": 5
}
