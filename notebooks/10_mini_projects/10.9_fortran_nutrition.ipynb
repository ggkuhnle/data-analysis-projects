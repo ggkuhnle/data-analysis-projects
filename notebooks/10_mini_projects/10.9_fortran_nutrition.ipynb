{
 "cells": [
  {
   "cell_type": "markdown",
   "metadata": {
    "tags": []
   },
   "source": [
    "# Classic Languages in Nutrition Science 🧪🖥️  \n",
    "\n",
    "This notebook is a small time-travel through **Fortran, C, Pascal, Forth, and COBOL**—all solving the same tiny task: compute a **nutritional index** from **sugar** and **SFA** intakes:  \n",
    "\n",
    "> **Index = 0.4 × Sugar + 0.6 × SFA**  \n",
    "> (Lower = healthier)\n",
    "\n",
    "We’ll:  \n",
    "- Build a mini dataset in Python and save it as a simple text file.  \n",
    "- Implement the index in **Fortran (f90)**, **C**, **Pascal**, **Forth**, and **COBOL**.  \n",
    "- Optionally compile & run each variant (if the compiler is installed), then pull results back into Python for plotting.  \n",
    "- Discuss where each language *actually* shows up in scientific computing.\n",
    "\n",
    "### TL;DR\n",
    "- **Fortran**: still big in HPC (linear algebra, PDEs, climate)—*totally legit for science*.  \n",
    "- **C**: systems + numerics; the backbone of many numeric libs (BLAS/LAPACK bindings).  \n",
    "- **Pascal**: historically used for teaching & some engineering; modern FreePascal makes it easy.  \n",
    "- **Forth**: stack-based; niche, compact, fun for embedded/prototyping—*not typical* for mainstream science.  \n",
    "- **COBOL**: business/data processing; rarely used for numerics—*possible*, but not idiomatic for science.  \n",
    "\n",
    "Everything writes a text file of 5 scores we can compare side-by-side. Let’s go! 🚀"
   ]
  },
  {
   "cell_type": "markdown",
   "metadata": {
    "tags": []
   },
   "source": [
    "## Step 1 — Create a tiny dataset 📋\n",
    "We’ll keep input dead simple: whitespace-separated **Sugar** and **SFA** (grams/day), one participant per line, in `intakes.txt`."
   ]
  },
  {
   "cell_type": "code",
   "execution_count": null,
   "metadata": {
    "tags": []
   },
   "outputs": [],
   "source": [
    "import pandas as pd\n",
    "data = pd.DataFrame({\n",
    "    'Participant': ['P1','P2','P3','P4','P5'],\n",
    "    'Sugar_Intake': [40,55,30,60,25],\n",
    "    'SFA_Intake':   [20,35,15,40,10]\n",
    "})\n",
    "data[['Sugar_Intake','SFA_Intake']].to_csv('intakes.txt', sep=' ', index=False, header=False)\n",
    "print('Wrote intakes.txt')\n",
    "print(data)"
   ]
  },
  {
   "cell_type": "markdown",
   "metadata": {
    "tags": []
   },
   "source": [
    "## Reference result in Python ✅\n",
    "We’ll compute the same index in Python so we can check all the language outputs match exactly."
   ]
  },
  {
   "cell_type": "code",
   "execution_count": null,
   "metadata": {
    "tags": []
   },
   "outputs": [],
   "source": [
    "py_ref = (0.4*data['Sugar_Intake'] + 0.6*data['SFA_Intake']).round(6).tolist()\n",
    "py_ref"
   ]
  },
  {
   "cell_type": "markdown",
   "metadata": {
    "tags": []
   },
   "source": [
    "<hr />\n",
    "## Fortran (F2008+) 🧮\n",
    "Still a major player in scientific HPC. We’ll read `intakes.txt`, compute, and write `index_fortran.txt`.\n",
    "\n",
    "### Source: `nutrition_index.f90`"
   ]
  },
  {
   "cell_type": "code",
   "execution_count": null,
   "metadata": {
    "tags": []
   },
   "outputs": [],
   "source": [
    "fortran_src = r'''program nutrition_index\n",
    "  implicit none\n",
    "  integer, parameter :: n=5\n",
    "  real :: sugar(n), sfa(n), idx(n)\n",
    "  integer :: i\n",
    "  open(unit=10, file='intakes.txt', status='old')\n",
    "  do i=1,n\n",
    "    read(10,*) sugar(i), sfa(i)\n",
    "  end do\n",
    "  close(10)\n",
    "  do i=1,n\n",
    "    idx(i) = 0.4*sugar(i) + 0.6*sfa(i)\n",
    "  end do\n",
    "  open(unit=20, file='index_fortran.txt', status='replace')\n",
    "  do i=1,n\n",
    "    write(20,'(F0.6)') idx(i)\n",
    "  end do\n",
    "  close(20)\n",
    "  print *, 'Wrote index_fortran.txt'\n",
    "end program nutrition_index''' \n",
    "open('nutrition_index.f90','w').write(fortran_src)\n",
    "print('Wrote nutrition_index.f90')"
   ]
  },
  {
   "cell_type": "code",
   "execution_count": null,
   "metadata": {
    "tags": []
   },
   "outputs": [],
   "source": [
    "import subprocess, sys\n",
    "def run(cmd):\n",
    "    try:\n",
    "        subprocess.run(cmd, check=True, stdout=subprocess.PIPE, stderr=subprocess.PIPE)\n",
    "        return True\n",
    "    except Exception as e:\n",
    "        print('Command failed:', ' '.join(cmd))\n",
    "        print(e)\n",
    "        return False\n",
    "\n",
    "# Compile & run Fortran (requires gfortran)\n",
    "ok = run(['gfortran','-O2','-o','nutrition_index','nutrition_index.f90'])\n",
    "if ok:\n",
    "    ok = run(['./nutrition_index'])"
   ]
  },
  {
   "cell_type": "code",
   "execution_count": null,
   "metadata": {
    "tags": []
   },
   "outputs": [],
   "source": [
    "import pandas as pd\n",
    "try:\n",
    "    f_idx = pd.read_csv('index_fortran.txt', header=None)[0].round(6).tolist()\n",
    "except Exception:\n",
    "    f_idx = None\n",
    "f_idx"
   ]
  },
  {
   "cell_type": "markdown",
   "metadata": {
    "tags": []
   },
   "source": [
    "<hr />\n",
    "## C (ISO C99) ⚙️\n",
    "C underpins a lot of numeric libraries, and is ideal for portable command-line tools.\n",
    "\n",
    "### Source: `nutrition_index.c`"
   ]
  },
  {
   "cell_type": "code",
   "execution_count": null,
   "metadata": {
    "tags": []
   },
   "outputs": [],
   "source": [
    "c_src = r'''#include <stdio.h>\n",
    "int main(void){\n",
    "  FILE *in=fopen(\"intakes.txt\",\"r\");\n",
    "  FILE *out=fopen(\"index_c.txt\",\"w\");\n",
    "  if(!in||!out){fprintf(stderr, \"file error\\n\");return 1;}\n",
    "  double sugar, sfa, idx; int i;\n",
    "  for(i=0;i<5;i++){\n",
    "    if(fscanf(in, \"%lf %lf\", &sugar, &sfa)!=2) return 1;\n",
    "    idx = 0.4*sugar + 0.6*sfa;\n",
    "    fprintf(out, \"%.6f\\n\", idx);\n",
    "  }\n",
    "  fclose(in); fclose(out);\n",
    "  return 0;\n",
    "}'''\n",
    "open('nutrition_index.c','w').write(c_src)\n",
    "print('Wrote nutrition_index.c')"
   ]
  },
  {
   "cell_type": "code",
   "execution_count": null,
   "metadata": {
    "tags": []
   },
   "outputs": [],
   "source": [
    "ok = run(['cc','-O2','-o','nutrition_index_c','nutrition_index.c'])\n",
    "if ok:\n",
    "    ok = run(['./nutrition_index_c'])"
   ]
  },
  {
   "cell_type": "code",
   "execution_count": null,
   "metadata": {
    "tags": []
   },
   "outputs": [],
   "source": [
    "try:\n",
    "    c_idx = pd.read_csv('index_c.txt', header=None)[0].round(6).tolist()\n",
    "except Exception:\n",
    "    c_idx = None\n",
    "c_idx"
   ]
  },
  {
   "cell_type": "markdown",
   "metadata": {
    "tags": []
   },
   "source": [
    "<hr />\n",
    "## Pascal (FreePascal) 🧰\n",
    "Pascal is clean and readable; **FreePascal** compilers are widely available.\n",
    "\n",
    "### Source: `nutrition_index.pas`"
   ]
  },
  {
   "cell_type": "code",
   "execution_count": null,
   "metadata": {
    "tags": []
   },
   "outputs": [],
   "source": [
    "pas_src = r'''program NutritionIndex;\n",
    "var\n",
    "  infile, outfile: text;\n",
    "  i: integer;\n",
    "  sugar, sfa, idx: real;\n",
    "begin\n",
    "  assign(infile, 'intakes.txt'); reset(infile);\n",
    "  assign(outfile,'index_pascal.txt'); rewrite(outfile);\n",
    "  for i:=1 to 5 do begin\n",
    "    readln(infile, sugar, sfa);\n",
    "    idx := 0.4*sugar + 0.6*sfa;\n",
    "    writeln(outfile, idx:0:6);\n",
    "  end;\n",
    "  close(infile); close(outfile);\n",
    "end.\n",
    "'''\n",
    "open('nutrition_index.pas','w').write(pas_src)\n",
    "print('Wrote nutrition_index.pas')"
   ]
  },
  {
   "cell_type": "code",
   "execution_count": null,
   "metadata": {
    "tags": []
   },
   "outputs": [],
   "source": [
    "ok = run(['fpc','-O2','nutrition_index.pas'])\n",
    "if ok:\n",
    "    ok = run(['./nutrition_index'])  # FreePascal may output ./nutrition_index"
   ]
  },
  {
   "cell_type": "code",
   "execution_count": null,
   "metadata": {
    "tags": []
   },
   "outputs": [],
   "source": [
    "try:\n",
    "    p_idx = pd.read_csv('index_pascal.txt', header=None)[0].round(6).tolist()\n",
    "except Exception:\n",
    "    p_idx = None\n",
    "p_idx"
   ]
  },
  {
   "cell_type": "markdown",
   "metadata": {
    "tags": []
   },
   "source": [
    "<hr />\n",
    "## Forth (gforth) 🧱\n",
    "Forth is stack-based and terse. It’s *fun*, tiny, and fast for embedded work—**not** common in mainstream scientific pipelines, but you can do math just fine.\n",
    "\n",
    "### Source: `nutrition_index.fs`  \n",
    "Reads `intakes.txt` and writes `index_forth.txt`."
   ]
  },
  {
   "cell_type": "code",
   "execution_count": null,
   "metadata": {
    "tags": []
   },
   "outputs": [],
   "source": [
    "forth_src = r''': process-line ( fd-out -- ) \\ expects sugar sfa on input stream\n",
    "  bl word number >r   \\ read sugar -> R: sugar\n",
    "  bl word number >r   \\ read sfa   -> R: sugar sfa\n",
    "  r> 0.6e f*          \\ sfa * 0.6\n",
    "  r> 0.4e f* f+       \\ + sugar*0.4\n",
    "  f>str dup >r        \\ format float to string\n",
    "  rot write-file      \\ write line\n",
    "  r> drop ;\n",
    "\n",
    ": main ( -- )\n",
    "  s\" intakes.txt\" r/o open-file throw value fd-in\n",
    "  s\" index_forth.txt\" w/o create-file throw value fd-out\n",
    "  5 0 do fd-in read-line throw if fd-out process-line else leave then loop\n",
    "  fd-in close-file drop fd-out close-file drop ;\n",
    "\n",
    "main bye\n",
    "'''\n",
    "open('nutrition_index.fs','w').write(forth_src)\n",
    "print('Wrote nutrition_index.fs')"
   ]
  },
  {
   "cell_type": "code",
   "execution_count": null,
   "metadata": {
    "tags": []
   },
   "outputs": [],
   "source": [
    "ok = run(['gforth','nutrition_index.fs'])\n",
    "# gforth prints to stdout; file should be written if gforth exists"
   ]
  },
  {
   "cell_type": "code",
   "execution_count": null,
   "metadata": {
    "tags": []
   },
   "outputs": [],
   "source": [
    "try:\n",
    "    forth_idx = pd.read_csv('index_forth.txt', header=None)[0].astype(float).round(6).tolist()\n",
    "except Exception:\n",
    "    forth_idx = None\n",
    "forth_idx"
   ]
  },
  {
   "cell_type": "markdown",
   "metadata": {
    "tags": []
   },
   "source": [
    "<hr />\n",
    "## COBOL (GnuCOBOL) 🧾\n",
    "COBOL is *business/data-processing* oriented (files, ledgers, reports). Not a science workhorse, but with **GnuCOBOL** you can absolutely do numeric calculations.\n",
    "\n",
    "### Source: `nutrition_index.cob`  \n",
    "Reads `intakes.txt` and writes `index_cobol.txt`."
   ]
  },
  {
   "cell_type": "code",
   "execution_count": null,
   "metadata": {
    "tags": []
   },
   "outputs": [],
   "source": [
    "cobol_src = r'''       IDENTIFICATION DIVISION.\n",
    "       PROGRAM-ID. NUTRITION-INDEX.\n",
    "       ENVIRONMENT DIVISION.\n",
    "       INPUT-OUTPUT SECTION.\n",
    "       FILE-CONTROL.\n",
    "           SELECT IN-FILE ASSIGN TO 'intakes.txt'\n",
    "               ORGANIZATION LINE SEQUENTIAL.\n",
    "           SELECT OUT-FILE ASSIGN TO 'index_cobol.txt'\n",
    "               ORGANIZATION LINE SEQUENTIAL.\n",
    "       DATA DIVISION.\n",
    "       FILE SECTION.\n",
    "       FD IN-FILE.\n",
    "       01 IN-REC.\n",
    "          05 SUGAR    PIC 9(3).\n",
    "          05 FILLER   PIC X  VALUE SPACE.\n",
    "          05 SFA      PIC 9(3).\n",
    "       FD OUT-FILE.\n",
    "       01 OUT-REC     PIC X(20).\n",
    "       WORKING-STORAGE SECTION.\n",
    "       01 EOF-FLAG    PIC X VALUE 'N'.\n",
    "       01 IDX         PIC 9(3)V9(6).\n",
    "       01 STR         PIC X(20).\n",
    "       PROCEDURE DIVISION.\n",
    "           OPEN INPUT IN-FILE\n",
    "                OUTPUT OUT-FILE\n",
    "           PERFORM VARYING IDX FROM 1 BY 1 UNTIL EOF-FLAG = 'Y'\n",
    "              READ IN-FILE\n",
    "                  AT END MOVE 'Y' TO EOF-FLAG\n",
    "                  NOT AT END\n",
    "                     COMPUTE IDX = 0.4 * SUGAR + 0.6 * SFA\n",
    "                     MOVE FUNCTION NUMVAL-C (FUNCTION FORMAT (IDX, '999.999999')) TO STR\n",
    "                     WRITE OUT-REC FROM STR\n",
    "              END-READ\n",
    "           END-PERFORM\n",
    "           CLOSE IN-FILE OUT-FILE\n",
    "           STOP RUN.\n",
    "'''\n",
    "open('nutrition_index.cob','w').write(cobol_src)\n",
    "print('Wrote nutrition_index.cob')"
   ]
  },
  {
   "cell_type": "code",
   "execution_count": null,
   "metadata": {
    "tags": []
   },
   "outputs": [],
   "source": [
    "ok = run(['cobc','-x','-O2','nutrition_index.cob'])\n",
    "if ok:\n",
    "    ok = run(['./nutrition_index'])"
   ]
  },
  {
   "cell_type": "code",
   "execution_count": null,
   "metadata": {
    "tags": []
   },
   "outputs": [],
   "source": [
    "try:\n",
    "    cob_idx = pd.read_csv('index_cobol.txt', header=None)[0].astype(float).round(6).tolist()\n",
    "except Exception:\n",
    "    cob_idx = None\n",
    "cob_idx"
   ]
  },
  {
   "cell_type": "markdown",
   "metadata": {
    "tags": []
   },
   "source": [
    "<hr />\n",
    "## Compare all results 🧪✅\n",
    "Everything should match the Python reference `[28, 41, 21, 48, 17]` up to rounding."
   ]
  },
  {
   "cell_type": "code",
   "execution_count": null,
   "metadata": {
    "tags": []
   },
   "outputs": [],
   "source": [
    "rows = []\n",
    "rows.append(['Python (ref)', py_ref])\n",
    "rows.append(['Fortran',     f_idx])\n",
    "rows.append(['C',           c_idx])\n",
    "rows.append(['Pascal',      p_idx])\n",
    "rows.append(['Forth',       forth_idx])\n",
    "rows.append(['COBOL',       cob_idx])\n",
    "comp = pd.DataFrame(rows, columns=['Language','Index'])\n",
    "comp"
   ]
  },
  {
   "cell_type": "code",
   "execution_count": null,
   "metadata": {
    "tags": []
   },
   "outputs": [],
   "source": [
    "import matplotlib.pyplot as plt, seaborn as sns\n",
    "m = []\n",
    "for lang, arr in zip(comp['Language'], comp['Index']):\n",
    "    if arr is None: continue\n",
    "    for i, v in enumerate(arr, start=1):\n",
    "        m.append({'Language':lang, 'Participant':f'P{i}', 'Index':v})\n",
    "plotdf = pd.DataFrame(m)\n",
    "plt.figure(figsize=(8,5))\n",
    "sns.barplot(data=plotdf, x='Participant', y='Index', hue='Language')\n",
    "plt.title('Nutritional Index per Participant — Cross-language Match')\n",
    "plt.tight_layout(); plt.show()"
   ]
  },
  {
   "cell_type": "markdown",
   "metadata": {
    "tags": []
   },
   "source": [
    "<hr />\n",
    "## Where these languages fit (pragmatically)\n",
    "\n",
    "- **Fortran**: Mature numerics, array semantics, excellent compilers. Still first-class for linear algebra, PDEs, simulation kernels. Many nutrition/epi models historically used Fortran. Modern Fortran (2008/2018) is nice.\n",
    "- **C**: Systems work, bindings, high-performance kernels (BLAS/LAPACK vendors expose C ABI). Great when you need close-to-metal speed with broad portability.\n",
    "- **Pascal**: Historically important; with **FreePascal**/Lazarus you can still build fast native code. Less common in cutting-edge scientific HPC today, but perfectly usable for deterministic numerics.\n",
    "- **Forth**: Tiny, interactive, stack-based; shines in embedded/retrocomputing or when you want to *think in concatenative style*. Not a typical choice for scientific teams or reproducible pipelines.\n",
    "- **COBOL**: Built for business logic and record processing (banking, ledgers). You *can* do numeric work (as shown), but the ecosystem is not aimed at HPC/science. Consider it a fun demonstration rather than a recommendation.\n",
    "\n",
    "### Interop tip for modern workflows\n",
    "- Write kernels in Fortran/C for speed 👉 expose as shared libraries 👉 call from **Python (NumPy/CFFI/ctypes)** or **R** for analysis/plotting. Best of both worlds.\n",
    "\n",
    "<hr />\n",
    "## Setup recipes (optional)\n",
    "You only need these if you want to compile locally.\n",
    "\n",
    "macOS (Homebrew):\n",
    "```bash\n",
    "brew install gcc        # gfortran in this bundle\n",
    "brew install gforth\n",
    "brew install gnu-cobol\n",
    "brew install fpc        # FreePascal\n",
    "```\n",
    "Ubuntu/Debian:\n",
    "```bash\n",
    "sudo apt-get update\n",
    "sudo apt-get install gfortran build-essential gforth open-cobol fp-compiler\n",
    "```\n",
    "\n",
    "<hr />\n",
    "## Learning points & Next steps\n",
    "- The same deterministic numeric formula yields identical results across languages—*what matters is I/O, precision, and testing*.\n",
    "- If speed is the real bottleneck, push tight loops to **Fortran/C**, keep analysis/visualisation in **Python/R**.\n",
    "- Try swapping the index for something a bit richer (e.g., z-scored inputs, or vectorised computation over thousands of rows) and compare compile times & run times.\n",
    "- If you’re curious, re-implement with **Rust** or **Zig** for modern systems-language ergonomics and safety.\n",
    "\n",
    "Have fun mixing old-school power tools with modern data science! 🧪🧰"
   ]
  }
 ],
 "metadata": {
  "kernelspec": {
   "display_name": "venv",
   "language": "python",
   "name": "python3"
  },
  "language_info": {
   "name": "python"
  }
 },
 "nbformat": 4,
 "nbformat_minor": 5
}
