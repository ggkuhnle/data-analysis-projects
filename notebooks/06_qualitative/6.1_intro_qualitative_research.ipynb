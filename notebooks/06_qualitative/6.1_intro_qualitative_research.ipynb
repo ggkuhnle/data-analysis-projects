{
  "cells": [
    {
      "cell_type": "markdown",
      "id": "intro",
      "metadata": {},
      "source": [
        "# \ud83e\uddfe 6.1 Introduction to Qualitative Research\n",
        "\n",
        "This notebook explores qualitative methods for nutrition studies, such as analysing food preference surveys.\n",
        "\n",
        "**Objectives**:\n",
        "- Compare quantitative and qualitative approaches.\n",
        "- Analyse textual survey data.\n",
        "- Apply basic text processing techniques.\n",
        "\n",
        "**Context**: Qualitative data, like hippo food preferences, provides rich insights into dietary behaviours. \ud83e\udd9b\n",
        "\n",
        "<details><summary>Fun Fact</summary>\n",
        "Qualitative data is like a hippo\u2019s diary\u2014full of stories and nuances! \ud83e\udd9b\n",
        "</details>"
      ]
    },
    {
      "cell_type": "code",
      "execution_count": null,
      "id": "colab_setup",
      "metadata": {},
      "outputs": [],
      "source": [
        "# Setup for Google Colab: Fetch datasets automatically or manually\n",
        "import os\n",
        "from google.colab import files\n",
        "\n",
        "# Define the module and dataset for this notebook\n",
        "MODULE = '06_qualitative'  # e.g., '01_infrastructure'\n",
        "DATASET = 'food_preferences.txt'  # e.g., 'hippo_diets.csv'\n",
        "BASE_PATH = '/content/data-analysis-toolkit-FNS'\n",
        "MODULE_PATH = os.path.join(BASE_PATH, 'notebooks', MODULE)\n",
        "DATASET_PATH = os.path.join('data', DATASET)\n",
        "\n",
        "# Step 1: Attempt to clone the repository (automatic method)\n",
        "# Note: If you encounter a cloning error (e.g., 'fatal: destination path already exists'),\n",
        "#       reset the runtime (Runtime > Restart runtime) and run this cell again.\n",
        "try:\n",
        "    print('Attempting to clone repository...')\n",
        "    if os.path.exists(BASE_PATH):\n",
        "        print('Repository already exists, skipping clone.')\n",
        "    else:\n",
        "        !git clone https://github.com/ggkuhnle/data-analysis-toolkit-FNS.git\n",
        "    \n",
        "    # Debug: Print directory structure\n",
        "    print('Listing repository contents:')\n",
        "    !ls {BASE_PATH}\n",
        "    print(f'Listing notebooks directory contents:')\n",
        "    !ls {BASE_PATH}/notebooks\n",
        "    \n",
        "    # Check if the module directory exists\n",
        "    if not os.path.exists(MODULE_PATH):\n",
        "        raise FileNotFoundError(f'Module directory {MODULE_PATH} not found. Check the repository structure.')\n",
        "    \n",
        "    # Set working directory to the notebook's folder\n",
        "    os.chdir(MODULE_PATH)\n",
        "    \n",
        "    # Verify dataset is accessible\n",
        "    if os.path.exists(DATASET_PATH):\n",
        "        print(f'Dataset found: {DATASET_PATH} \ud83e\udd9b')\n",
        "    else:\n",
        "        print(f'Error: Dataset {DATASET} not found after cloning.')\n",
        "        raise FileNotFoundError\n",
        "except Exception as e:\n",
        "    print(f'Cloning failed: {e}')\n",
        "    print('Falling back to manual upload option...')\n",
        "\n",
        "    # Step 2: Manual upload option\n",
        "    print(f'Please upload {DATASET} manually.')\n",
        "    print(f'1. Click the \"Choose Files\" button below.')\n",
        "    print(f'2. Select {DATASET} from your local machine.')\n",
        "    print(f'3. Ensure the file is placed in notebooks/{MODULE}/data/')\n",
        "    \n",
        "    # Create the data directory if it doesn't exist\n",
        "    os.makedirs('data', exist_ok=True)\n",
        "    \n",
        "    # Prompt user to upload the dataset\n",
        "    uploaded = files.upload()\n",
        "    \n",
        "    # Check if the dataset was uploaded\n",
        "    if DATASET in uploaded:\n",
        "        with open(DATASET_PATH, 'wb') as f:\n",
        "            f.write(uploaded[DATASET])\n",
        "        print(f'Successfully uploaded {DATASET} to {DATASET_PATH} \ud83e\udd9b')\n",
        "    else:\n",
        "        raise FileNotFoundError(f'Upload failed. Please ensure you uploaded {DATASET}.')\n",
        "\n",
        "# Install required packages for this notebook\n",
        "%pip install pandas numpy\n",
        "print('Python environment ready.')"
      ]
    },
    {
      "cell_type": "code",
      "execution_count": 1,
      "id": "setup",
      "metadata": {},
      "outputs": [],
      "source": [
        "# Install required packages\n",
        "%pip install pandas  # For Colab users\n",
        "import pandas as pd\n",
        "print('Qualitative analysis environment ready.')"
      ]
    },
    {
      "cell_type": "markdown",
      "id": "load_data",
      "metadata": {},
      "source": [
        "## Data Preparation\n",
        "\n",
        "Load `food_preferences.txt`, a survey of hippo food preferences."
      ]
    },
    {
      "cell_type": "code",
      "execution_count": 2,
      "id": "load",
      "metadata": {},
      "outputs": [
        {
          "name": "stdout",
          "output_type": "stream",
          "text": [
            "['Hippo H1: I enjoy crunchy carrots for their sweetness.\\n', 'Hippo H2: Grass is acceptable, but fruit is preferred.\\n']\n"
          ]
        }
      ],
      "source": [
        "with open('data/food_preferences.txt', 'r') as f:\n",
        "    responses = f.readlines()\n",
        "print(responses[:2])"
      ]
    },
    {
      "cell_type": "markdown",
      "id": "process",
      "metadata": {},
      "source": [
        "## Basic Text Analysis\n",
        "\n",
        "Count the frequency of words like \u2018carrots\u2019 or \u2018fruit\u2019 in the responses."
      ]
    },
    {
      "cell_type": "code",
      "execution_count": 3,
      "id": "count",
      "metadata": {},
      "outputs": [
        {
          "name": "stdout",
          "output_type": "stream",
          "text": [
            "Word counts: {'carrots': 10, 'fruit': 15}\n"
          ]
        }
      ],
      "source": [
        "word_counts = {'carrots': 0, 'fruit': 0}\n",
        "for response in responses:\n",
        "    for word in word_counts:\n",
        "        word_counts[word] += response.lower().count(word)\n",
        "print(f'Word counts: {word_counts}')"
      ]
    },
    {
      "cell_type": "markdown",
      "id": "exercise",
      "metadata": {},
      "source": [
        "## Exercise 1: Expand Analysis\n",
        "\n",
        "Add another word (e.g., \u2018vegetables\u2019) to the count and describe its prevalence in a Markdown cell."
      ]
    },
    {
      "cell_type": "markdown",
      "id": "your_answer",
      "metadata": {},
      "source": [
        "**Answer**:\n",
        "\n",
        "The word \u2018vegetables\u2019 appears..."
      ]
    },
    {
      "cell_type": "markdown",
      "id": "wrap",
      "metadata": {},
      "source": [
        "## Conclusion\n",
        "\n",
        "You\u2019ve explored qualitative data analysis with text processing. Next, dive deeper into text analysis in 6.2.\n",
        "\n",
        "**Resources**:\n",
        "- [Python Text Processing](https://docs.python.org/3/library/string.html)\n",
        "- [Qualitative Research Guide](https://www.qualitative-research.net/)\n",
        "- Repository: [github.com/ggkuhnle/data-analysis-toolkit-FNS](https://github.com/ggkuhnle/data-analysis-toolkit-FNS)"
      ]
    }
  ],
  "metadata": {
    "kernelspec": {
      "display_name": "Python 3",
      "language": "python",
      "name": "python3"
    },
    "language_info": {
      "codemirror_mode": {
        "name": "ipython",
        "version": 3
      },
      "file_extension": ".py",
      "mimetype": "text/x-python",
      "name": "python",
      "nbconvert_exporter": "python",
      "pygments_lexer": "ipython3",
      "version": "3.9.7"
    }
  },
  "nbformat": 4,
  "nbformat_minor": 5
}