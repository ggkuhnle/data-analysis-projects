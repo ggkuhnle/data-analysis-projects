{
 "cells": [
  {
   "cell_type": "markdown",
   "id": "d1cf91a9",
   "metadata": {},
   "source": [
    "# 🧪 Mini Project Template"
   ]
  },
  {
   "cell_type": "code",
   "execution_count": null,
   "id": "98f05579",
   "metadata": {},
   "outputs": [],
   "source": [
    "## Instructions:\n",
    "# - Describe your dataset\n",
    "# - State your hypotheses\n",
    "# - Run your analysis"
   ]
  }
 ],
 "metadata": {},
 "nbformat": 4,
 "nbformat_minor": 5
}
