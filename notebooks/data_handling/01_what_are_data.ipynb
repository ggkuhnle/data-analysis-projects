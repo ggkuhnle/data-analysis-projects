# 📊 3.1 What Are Data? Types and Structures

This notebook introduces the foundational concepts of data structure.

- What is a vector, table, or tidy dataset?
- Differences between wide and long format
- How these relate to tools like Excel and pandas

🧪 **Exercise**: Convert wide-format survey data to long-format using `pd.melt()`.