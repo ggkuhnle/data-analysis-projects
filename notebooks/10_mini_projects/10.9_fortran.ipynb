{
  "cells": [
    {
      "cell_type": "markdown",
      "metadata": {},
      "source": [
        "# Exploring Fortran in Nutrition Science 🧪📊\n",
        "\n",
        "Welcome to this fun mini-project where we take a step back in time and explore **Fortran**, a programming language that has played a significant role in scientific computing since the 1950s! Fortran (short for *Formula Translation*) was widely used in early nutrition and epidemiological research for simulations, statistical modeling, and numerical computations. In this notebook, we’ll use Fortran to calculate a simple nutritional index based on dietary intakes, bringing a bit of historical flair to our modern data science toolkit.\n",
        "\n",
        "We’ll:\n",
        "- **Learn about Fortran’s role** in scientific computing history 🕰️\n",
        "- **Calculate a nutritional index** using sugar and SFA intake data 🍬🥛\n",
        "- **Run Fortran code** externally and display the results in this notebook 📈\n",
        "\n",
        "Let’s have some fun and see what Fortran can do in nutrition science!"
      ]
    },
    {
      "cell_type": "markdown",
      "metadata": {},
      "source": [
        "## How to Download and Run This Notebook 📥\n",
        "\n",
        "To make this notebook easy to use, here’s how you can download and run it, along with the Fortran code:\n",
        "\n",
        "1. **Download the Notebook**:\n",
        "   - If you’re viewing this on a platform like GitHub or a rendered HTML page, you can download the raw `.ipynb` file by clicking the 'Raw' button or 'Download' link (if available).\n",
        "   - Alternatively, copy the JSON content of this notebook (provided in the `<xaiArtifact/>` tag with artifact ID `d4e5f6g7-h8i9-40j1-k2l3-m4n5o6p7q8r9`) and save it as `10.9_fortran_nutrition.ipynb`.\n",
        "   - To save manually: Copy the JSON content, paste it into a text editor, and save the file with a `.ipynb` extension (e.g., `10.9_fortran_nutrition.ipynb`).\n",
        "\n",
        "2. **Download the Fortran Code**:\n",
        "   - In Step 4, you’ll find the Fortran code (`nutrition_index.f90`) embedded in a Markdown cell. Copy the code block, paste it into a text editor, and save it as `nutrition_index.f90` in the same directory as this notebook.\n",
        "\n",
        "3. **Run the Notebook**:\n",
        "   - Open Jupyter Notebook in your environment:\n",
        "     ```bash\n",
        "     source ~/Documents/data-analysis-projects/venv/bin/activate\n",
        "     jupyter notebook\n",
        "     ```\n",
        "   - Open `10.9_fortran_nutrition.ipynb` and follow the steps to run the cells.\n",
        "\n",
        "Let’s get started with the analysis!"
      ]
    },
    {
      "cell_type": "markdown",
      "metadata": {},
      "source": [
        "## Step 1: A Brief History of Fortran in Scientific Computing 🕰️\n",
        "\n",
        "Fortran was developed by IBM in the 1950s and became the go-to language for scientific and engineering applications due to its efficiency in numerical computations. In nutrition science, Fortran was used for early computational models, such as simulating metabolic processes, analysing dietary surveys, and performing statistical analyses like ANOVA or regression.\n",
        "\n",
        "While Python has largely replaced Fortran in modern data science, Fortran is still used in high-performance computing (e.g., climate modelling, computational chemistry) because of its speed and ability to handle complex mathematical operations. Today, we’ll use Fortran to calculate a simple nutritional index, giving us a taste of its capabilities!"
      ]
    },
    {
      "cell_type": "markdown",
      "metadata": {},
      "source": [
        "## Step 2: Define the Problem - Calculating a Nutritional Index 🍬🥛\n",
        "\n",
        "Let’s define a simple task: calculating a nutritional index based on sugar and SFA (saturated fatty acid) intake. We’ll use a small dataset of 5 participants with their daily sugar and SFA intakes (in grams). The index will be a weighted score:\n",
        "\n",
        "- Nutritional Index = (Sugar Intake × 0.4) + (SFA Intake × 0.6)\n",
        "- Lower scores indicate healthier diets (less sugar and SFA).\n",
        "\n",
        "We’ll write a Fortran program to read the intake data, compute the index for each participant, and save the results to a file. Then, we’ll load the results into this notebook for visualisation."
      ]
    },
    {
      "cell_type": "markdown",
      "metadata": {},
      "source": [
        "## Step 3: Create the Dataset 📋\n",
        "\n",
        "First, let’s create a small dataset of sugar and SFA intakes for 5 participants and save it to a file (`intakes.txt`) that our Fortran program can read."
      ]
    },
    {
      "cell_type": "code",
      "execution_count": 1,
      "metadata": {},
      "outputs": [
        {
          "name": "stdout",
          "output_type": "stream",
          "text": [
            "Dataset of Intakes:\n",
            "  Participant  Sugar_Intake  SFA_Intake\n",
            "0          P1            40          20\n",
            "1          P2            55          35\n",
            "2          P3            30          15\n",
            "3          P4            60          40\n",
            "4          P5            25          10\n"
          ]
        }
      ],
      "source": [
        "import pandas as pd\n",
        "\n",
        "# Create a small dataset\n",
        "data = pd.DataFrame({\n",
        "    'Participant': ['P1', 'P2', 'P3', 'P4', 'P5'],\n",
        "    'Sugar_Intake': [40, 55, 30, 60, 25],  # grams/day\n",
        "    'SFA_Intake': [20, 35, 15, 40, 10]     # grams/day\n",
        "})\n",
        "\n",
        "# Save the data to a text file (space-separated)\n",
        "data[['Sugar_Intake', 'SFA_Intake']].to_csv('intakes.txt', sep=' ', index=False, header=False)\n",
        "\n",
        "# Display the dataset\n",
        "print(\"Dataset of Intakes:\")\n",
        "print(data)"
      ]
    },
    {
      "cell_type": "markdown",
      "metadata": {},
      "source": [
        "## Step 4: Write the Fortran Program 🖥️\n",
        "\n",
        "Below is the Fortran program (`nutrition_index.f90`) that reads the intake data, calculates the nutritional index for each participant, and saves the results to a file (`index_scores.txt`).\n",
        "\n",
        "Copy the code below into a file named `nutrition_index.f90` in the same directory as this notebook:\n",
        "\n",
        "```fortran\n",
        "program nutrition_index\n",
        "    implicit none\n",
        "    integer, parameter :: n = 5  ! Number of participants\n",
        "    real :: sugar(n), sfa(n), index(n)\n",
        "    integer :: i\n",
        "\n",
        "    ! Open the input file\n",
        "    open(unit=10, file='intakes.txt', status='old')\n",
        "\n",
        "    ! Read sugar and SFA intakes\n",
        "    do i = 1, n\n",
        "        read(10, *) sugar(i), sfa(i)\n",
        "    end do\n",
        "    close(10)\n",
        "\n",
        "    ! Calculate the nutritional index\n",
        "    do i = 1, n\n",
        "        index(i) = (sugar(i) * 0.4) + (sfa(i) * 0.6)\n",
        "    end do\n",
        "\n",
        "    ! Save the results to a file\n",
        "    open(unit=20, file='index_scores.txt', status='replace')\n",
        "    do i = 1, n\n",
        "        write(20, *) index(i)\n",
        "    end do\n",
        "    close(20)\n",
        "\n",
        "    print *, 'Nutritional index scores saved to index_scores.txt'\n",
        "end program nutrition_index\n",
        "```"
      ]
    },
    {
      "cell_type": "markdown",
      "metadata": {},
      "source": [
        "## Step 5: Compile and Run the Fortran Program ⚙️\n",
        "\n",
        "To run the Fortran program, you’ll need a Fortran compiler like `gfortran`. If you don’t have `gfortran` installed, you can install it on macOS using Homebrew:\n",
        "\n",
        "```bash\n",
        "brew install gcc\n",
        "```\n",
        "\n",
        "Then, compile and run the program:\n",
        "\n",
        "```bash\n",
        "gfortran -o nutrition_index nutrition_index.f90\n",
        "./nutrition_index\n",
        "```\n",
        "\n",
        "This will read `intakes.txt`, calculate the nutritional index scores, and save them to `index_scores.txt`. Let’s run this command in the notebook using Python’s `subprocess` module."
      ]
    },
    {
      "cell_type": "code",
      "execution_count": null,
      "metadata": {},
      "outputs": [],
      "source": [
        "import subprocess\n",
        "\n",
        "# Compile the Fortran program\n",
        "try:\n",
        "    subprocess.run(['gfortran', '-o', 'nutrition_index', 'nutrition_index.f90'], check=True)\n",
        "    print(\"Fortran program compiled successfully.\")\n",
        "except subprocess.CalledProcessError:\n",
        "    print(\"Error: Failed to compile the Fortran program. Ensure gfortran is installed and nutrition_index.f90 exists.\")\n",
        "\n",
        "# Run the Fortran program\n",
        "try:\n",
        "    subprocess.run(['./nutrition_index'], check=True)\n",
        "    print(\"Fortran program executed successfully.\")\n",
        "except subprocess.CalledProcessError:\n",
        "    print(\"Error: Failed to run the Fortran program. Ensure it compiled correctly.\")"
      ]
    },
    {
      "cell_type": "markdown",
      "metadata": {},
      "source": [
        "## Step 6: Load and Visualise the Results 📈\n",
        "\n",
        "The Fortran program saved the nutritional index scores to `index_scores.txt`. Let’s load the results into the notebook and visualise them alongside the original intake data."
      ]
    },
    {
      "cell_type": "code",
      "execution_count": null,
      "metadata": {},
      "outputs": [],
      "source": [
        "# Load the index scores\n",
        "index_scores = pd.read_csv('index_scores.txt', header=None, names=['Nutritional_Index'])\n",
        "\n",
        "# Combine with the original data\n",
        "data['Nutritional_Index'] = index_scores\n",
        "\n",
        "# Display the results\n",
        "print(\"Results with Nutritional Index:\")\n",
        "print(data)\n",
        "\n",
        "# Visualise the nutritional index\n",
        "plt.figure(figsize=(8, 6))\n",
        "sns.barplot(x='Nutritional_Index', y='Participant', data=data)\n",
        "plt.title('Nutritional Index Scores by Participant 📊')\n",
        "plt.xlabel('Nutritional Index (Lower = Healthier)')\n",
        "plt.ylabel('Participant')\n",
        "plt.tight_layout()\n",
        "plt.show()"
      ]
    },
    {
      "cell_type": "markdown",
      "metadata": {},
      "source": [
        "## Step 7: Learning Points and Next Steps 🎓\n",
        "\n",
        "### Learning Points\n",
        "- **Fortran’s Legacy**: Fortran has a rich history in scientific computing, particularly in nutrition and epidemiology, where it was used for early computational models. It’s still valued for its performance in numerical tasks.\n",
        "- **Numerical Computation**: We used Fortran to perform a simple calculation (nutritional index), showcasing its ability to handle numerical data efficiently.\n",
        "- **Integration with Modern Tools**: By running Fortran externally and loading the results into Python, we combined the strengths of both languages—Fortran’s computational speed and Python’s visualisation capabilities.\n",
        "- **Fun Exploration**: Exploring Fortran adds a unique and enjoyable element to our mini-projects, bridging the past and present of scientific computing.\n",
        "\n",
        "### Next Steps\n",
        "- **More Complex Fortran Models**: Try using Fortran for more advanced nutrition science tasks, such as simulating dietary intake over time or solving differential equations for metabolic models.\n",
        "- **Fortran in Jupyter**: Explore the `fortran-magic` package to run Fortran code directly in Jupyter Notebook cells:\n",
        "  ```bash\n",
        "  pip install fortran-magic\n",
        "  ```\n",
        "  Then load the extension in a notebook cell:\n",
        "  ```python\n",
        "  %load_ext fortranmagic\n",
        "  ```\n",
        "- **Compare with Python**: Rewrite the nutritional index calculation in Python and compare the results and performance with Fortran.\n",
        "- **Historical Context**: Research historical nutrition studies that used Fortran to add more context to your project.\n",
        "\n",
        "*Keep having fun exploring computational methods in nutrition science! 🥕📉*\n",
        "\n",
        "---\n",
        "\n",
        "### Setup Requirements\n",
        "1. **Install Libraries**:\n",
        "   ```bash\n",
        "   source ~/Documents/data-analysis-projects/venv/bin/activate\n",
        "   pip install pandas==2.2.3 matplotlib==3.9.2 seaborn==0.13.2\n",
        "   ```\n",
        "2. **Install a Fortran Compiler**:\n",
        "   - On macOS, install `gfortran` via Homebrew:\n",
        "     ```bash\n",
        "     brew install gcc\n",
        "     ```\n",
        "   - On Linux, install `gfortran`:\n",
        "     ```bash\n",
        "     sudo apt-get install gfortran\n",
        "     ```\n",
        "   - On Windows, install `gfortran` via MinGW or WSL.\n",
        "3. **Environment**: Python 3.9, compatible with Apple Silicon (MPS).\n",
        "4. **Fortran File**: Ensure `nutrition_index.f90` is saved in the same directory as this notebook.\n",
        "\n",
        "### Expected Output\n",
        "- **Dataset Table**: A small table showing sugar and SFA intakes for 5 participants.\n",
        "- **Fortran Output**: Nutritional index scores saved to `index_scores.txt` and displayed in the notebook.\n",
        "- **Bar Plot**: A visualisation of the nutritional index scores by participant."
      ]
    }
  ],
  "metadata": {
    "kernelspec": {
      "display_name": "venv",
      "language": "python",
      "name": "python3"
    },
    "language_info": {
      "codemirror_mode": {
        "name": "ipython",
        "version": 3
      },
      "file_extension": ".py",
      "mimetype": "text/x-python",
      "name": "python",
      "nbconvert_exporter": "python",
      "pygments_lexer": "ipython3",
      "version": "3.9.6"
    }
  },
  "nbformat": 4,
  "nbformat_minor": 5
}
