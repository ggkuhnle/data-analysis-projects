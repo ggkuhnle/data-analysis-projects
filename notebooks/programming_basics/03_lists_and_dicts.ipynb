{
 "cells": [
  {
   "cell_type": "markdown",
   "id": "cc1ed78d",
   "metadata": {},
   "source": [
    "# 📚 Lists and Dictionaries\n",
    "\n",
    "In this notebook, we introduce two **collection types** that are central to Python: **lists** and **dictionaries**. These help you store and organise groups of values.\n"
   ]
  },
  {
   "cell_type": "markdown",
   "id": "ec37fb1f",
   "metadata": {},
   "source": [
    "## 📋 Lists\n",
    "\n",
    "A list is a collection of items — ordered, and changeable.\n",
    "\n",
    "It’s like a column in Excel or a numbered set of SPSS values.\n",
    "\n",
    "```python\n",
    "foods = [\"apple\", \"banana\", \"carrot\"]\n",
    "```\n",
    "\n",
    "You can:\n",
    "\n",
    "- Access by position (`foods[0]`)\n",
    "- Add new items (`append`)\n",
    "- Change them (`foods[1] = \"blueberry\"`)\n"
   ]
  },
  {
   "cell_type": "code",
   "execution_count": null,
   "id": "e67c6183",
   "metadata": {},
   "outputs": [],
   "source": [
    "foods = [\"apple\", \"banana\", \"carrot\"]\n",
    "print(foods[0])      # First item\n",
    "foods.append(\"date\") # Add a new item\n",
    "print(foods)"
   ]
  },
  {
   "cell_type": "markdown",
   "id": "cc88c37c",
   "metadata": {},
   "source": [
    "### Looping through a list\n",
    "\n",
    "```python\n",
    "for item in foods:\n",
    "    print(item)\n",
    "```\n"
   ]
  },
  {
   "cell_type": "code",
   "execution_count": null,
   "id": "9a7220bf",
   "metadata": {},
   "outputs": [],
   "source": [
    "for food in foods:\n",
    "    print(\"Food:\", food)"
   ]
  },
  {
   "cell_type": "markdown",
   "id": "343a334f",
   "metadata": {},
   "source": [
    "## 🔑 Dictionaries\n",
    "\n",
    "Dictionaries store data as **key–value pairs** — like variable/value maps.\n",
    "\n",
    "Useful for:\n",
    "- Storing animal traits\n",
    "- Mapping codes to descriptions\n",
    "- JSON-like data structures\n",
    "\n",
    "```python\n",
    "hippo = {\n",
    "    \"species\": \"hippo\",\n",
    "    \"weight\": 1500,\n",
    "    \"herbivore\": True\n",
    "}\n",
    "```\n"
   ]
  },
  {
   "cell_type": "code",
   "execution_count": null,
   "id": "4cdfb61d",
   "metadata": {},
   "outputs": [],
   "source": [
    "hippo = {\"species\": \"hippo\", \"weight\": 1500, \"herbivore\": True}\n",
    "print(hippo[\"weight\"])\n",
    "hippo[\"weight\"] = 1600\n",
    "print(hippo)"
   ]
  },
  {
   "cell_type": "markdown",
   "id": "450d6615",
   "metadata": {},
   "source": [
    "Dictionaries are like named columns in SPSS or Excel with headers, but **for one object**.\n",
    "\n",
    "Compare:\n",
    "\n",
    "- Excel row:\n",
    "  \n",
    "  | species | weight | herbivore |\n",
    "  |---------|--------|-----------|\n",
    "  | hippo   | 1500   | TRUE      |\n",
    "\n",
    "- Python dict:\n",
    "  ```python\n",
    "  {\"species\": \"hippo\", \"weight\": 1500, \"herbivore\": True}\n",
    "  ```\n"
   ]
  },
  {
   "cell_type": "markdown",
   "id": "2e0e79c6",
   "metadata": {},
   "source": [
    "## 🧪 Exercises\n",
    "\n",
    "1. Make a list of your 3 favourite fruits.\n",
    "2. Add a new one, then print the whole list.\n",
    "3. Create a dictionary with 3 properties of a dog (e.g. breed, age, size).\n",
    "4. Access and modify one of them.\n"
   ]
  },
  {
   "cell_type": "markdown",
   "id": "91ed5e9b",
   "metadata": {},
   "source": [
    "## 🔍 Advanced View\n",
    "\n",
    "<details><summary>Click to expand</summary>\n",
    "\n",
    "### Lists\n",
    "\n",
    "- Allow duplicates\n",
    "- Ordered: you can sort or reverse them\n",
    "- Use `.append()`, `.remove()`, `.sort()`\n",
    "\n",
    "### Dictionaries\n",
    "\n",
    "- Keys must be unique (like variable names)\n",
    "- Access via square brackets (`mydict[\"key\"]`)\n",
    "- Can contain nested data\n",
    "\n",
    "These structures will later help us when handling real data like JSON or complex datasets.\n",
    "\n",
    "</details>\n"
   ]
  }
 ],
 "metadata": {
  "kernelspec": {
   "display_name": "Python 3 (ipykernel)",
   "language": "python",
   "name": "python3"
  },
  "language_info": {
   "codemirror_mode": {
    "name": "ipython",
    "version": 3
   },
   "file_extension": ".py",
   "mimetype": "text/x-python",
   "name": "python",
   "nbconvert_exporter": "python",
   "pygments_lexer": "ipython3",
   "version": "3.9.6"
  }
 },
 "nbformat": 4,
 "nbformat_minor": 5
}
