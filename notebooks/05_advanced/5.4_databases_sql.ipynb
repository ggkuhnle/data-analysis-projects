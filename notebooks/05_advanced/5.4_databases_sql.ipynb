{
  "cells": [
    {
      "cell_type": "markdown",
      "id": "intro",
      "metadata": {},
      "source": [
        "# 🗄️ 5.4 Databases and SQL\n",
        "\n",
        "This notebook introduces SQL for querying nutrition databases.\n",
        "\n",
        "**Objectives**:\n",
        "- Create and populate a SQLite database.\n",
        "- Write SQL queries for data extraction.\n",
        "- Apply SQL to `large_food_log.csv`.\n",
        "\n",
        "**Context**: SQL manages large nutrition datasets, like detailed food logs.\n",
        "\n",
        "<details><summary>Fun Fact</summary>\n",
        "SQL is like a hippo’s pantry index—finding snacks fast! 🦛\n",
        "</details>"
      ]
    },
    {
      "cell_type": "code",
      "execution_count": null,
      "id": "colab_setup",
      "metadata": {},
      "outputs": [],
      "source": [
        "# Setup for Google Colab: Fetch datasets automatically or manually\n",
        "%run ../../bootstrap.py    # installs requirements + editable package\n",
        "\n",
        "import fns_toolkit as fns\n",
        "\n",
        "import pandas as pd\n",
        "import sqlite3  # For SQLite database"
      ]
    },
    {
      "cell_type": "markdown",
      "id": "load_data",
      "metadata": {},
      "source": [
        "## Data Preparation\n",
        "\n",
        "Load `large_food_log.csv` and create a SQLite database."
      ]
    },
    {
      "cell_type": "code",
      "execution_count": null,
      "id": "load",
      "metadata": {},
      "outputs": [],
      "source": [
        "# Load the dataset\n",
        "df = fns.get_dataset('large_food_log')  # Path relative to notebook\n",
        "\n",
        "# Create SQLite database\n",
        "conn = sqlite3.connect('nutrition.db')  # Create database\n",
        "df.to_sql('food_log', conn, if_exists='replace', index=False)  # Write to table"
      ]
    },
    {
      "cell_type": "markdown",
      "id": "query",
      "metadata": {},
      "source": [
        "## SQL Queries\n",
        "\n",
        "Query the database to summarise nutrient amounts by meal."
      ]
    },
    {
      "cell_type": "code",
      "execution_count": 3,
      "id": "query",
      "metadata": {},
      "outputs": [
        {
          "name": "stdout",
          "output_type": "stream",
          "text": [
            "   Meal Nutrient      Avg_Amount\n",
            "0  Breakfast  Calcium  300.0\n",
            "1  Breakfast     Iron    2.5\n"
          ]
        }
      ],
      "source": [
        "# Query: Average nutrient amount by meal\n",
        "query = \"\"\"\n",
        "SELECT Meal, Nutrient, AVG(Amount) as Avg_Amount\n",
        "FROM food_log\n",
        "GROUP BY Meal, Nutrient\n",
        "\"\"\"\n",
        "result = pd.read_sql_query(query, conn)\n",
        "print(result.head(2))  # Display first two rows"
      ]
    },
    {
      "cell_type": "markdown",
      "id": "exercise",
      "metadata": {},
      "source": [
        "## Exercise 1: Write a Query\n",
        "\n",
        "Write a SQL query to find total `Amount` for Protein by `Date`. Document your code.\n",
        "\n",
        "**Guidance**: Use `SUM(Amount)` and `GROUP BY Date`."
      ]
    },
    {
      "cell_type": "markdown",
      "id": "your_answer",
      "metadata": {},
      "source": [
        "**Answer**:\n",
        "\n",
        "My SQL query code is..."
      ]
    },
    {
      "cell_type": "markdown",
      "id": "wrap",
      "metadata": {},
      "source": [
        "## Conclusion\n",
        "\n",
        "You’ve learned to use SQL for querying nutrition databases.\n",
        "\n",
        "**Next Steps**: Explore dashboards in 5.5.\n",
        "\n",
        "**Resources**:\n",
        "- [SQLite Documentation](https://www.sqlite.org/docs.html)\n",
        "- [SQL Guide](https://www.w3schools.com/sql/)\n",
        "- Repository: [github.com/ggkuhnle/data-analysis-toolkit-FNS](https://github.com/ggkuhnle/data-analysis-toolkit-FNS)"
      ]
    }
  ],
  "metadata": {
    "kernelspec": {
      "display_name": "Python 3",
      "language": "python",
      "name": "python3"
    },
    "language_info": {
      "codemirror_mode": {
        "name": "ipython",
        "version": 3
      },
      "file_extension": ".py",
      "mimetype": "text/x-python",
      "name": "python",
      "nbconvert_exporter": "python",
      "pygments_lexer": "ipython3",
      "version": "3.9.7"
    }
  },
  "nbformat": 4,
  "nbformat_minor": 5
}
