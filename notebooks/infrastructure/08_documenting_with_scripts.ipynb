{
 "cells": [
  {
   "cell_type": "markdown",
   "id": "6de3779c",
   "metadata": {},
   "source": [
    "# 📝 Documenting Your Work with Scripts and Logs\n",
    "\n",
    "Make your analysis traceable, understandable, and repeatable.\n",
    "\n",
    "## 💡 Basic View\n",
    "\n",
    "- Scripts tell the story of what you did\n",
    "- Unlike Excel: nothing disappears\n",
    "\n",
    "## 🔍 Advanced View\n",
    "\n",
    "<details><summary>Click to expand</summary>\n",
    "\n",
    "- Logging vs printing\n",
    "- Building cleaning pipelines\n",
    "- Structured protocol templates\n",
    "\n",
    "</details>\n",
    "\n",
    "## 🧪 Exercises\n",
    "\n",
    "1. Write a script that reads a dataset and drops the first row.\n",
    "2. Add comments explaining each step.\n",
    "3. Optional: use version control to track script changes over time.\n"
   ]
  }
 ],
 "metadata": {},
 "nbformat": 4,
 "nbformat_minor": 5
}
