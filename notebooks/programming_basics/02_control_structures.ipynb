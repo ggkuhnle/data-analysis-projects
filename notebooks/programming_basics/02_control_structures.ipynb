{
 "cells": [
  {
   "cell_type": "markdown",
   "id": "c95bf67d",
   "metadata": {},
   "source": [
    "# 🔁 Control Structures: if, elif, else"
   ]
  },
  {
   "cell_type": "code",
   "execution_count": null,
   "id": "e66ad4cc",
   "metadata": {},
   "outputs": [],
   "source": [
    "age = 20\n",
    "if age < 18:\n",
    "    print('Minor')\n",
    "elif age < 65:\n",
    "    print('Adult')\n",
    "else:\n",
    "    print('Senior')"
   ]
  }
 ],
 "metadata": {},
 "nbformat": 4,
 "nbformat_minor": 5
}
