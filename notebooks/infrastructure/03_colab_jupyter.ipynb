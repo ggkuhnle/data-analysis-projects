{
 "cells": [
  {
   "cell_type": "markdown",
   "id": "c016ed8e",
   "metadata": {},
   "source": [
    "# ☁️ Using Google Colab and Jupyter\n",
    "\n",
    "Jupyter Notebooks are a core tool for interactive data science. In this notebook, we explore two major ways to use them: Google Colab (cloud) and Jupyter (local).\n"
   ]
  },
  {
   "cell_type": "markdown",
   "id": "10ca256a",
   "metadata": {},
   "source": [
    "## 💡 Basic View\n",
    "\n",
    "**Jupyter Notebooks** are documents that mix:\n",
    "- **Code cells** (you can run)\n",
    "- **Markdown cells** (text, notes, explanations)\n",
    "- **Output** (tables, plots, printed messages)\n",
    "\n",
    "You can run them in two main places:\n",
    "\n",
    "| Platform     | What it is        | Pros                          | Cons                        |\n",
    "|--------------|-------------------|-------------------------------|-----------------------------|\n",
    "| Google Colab | Online notebook in your browser | Free, no install needed, good for class | Needs internet |\n",
    "| Jupyter      | Local app (via Anaconda or pip) | Full control, offline use     | Needs install               |\n"
   ]
  },
  {
   "cell_type": "code",
   "execution_count": null,
   "id": "bebf89bf",
   "metadata": {},
   "outputs": [],
   "source": [
    "# A simple code cell\n",
    "print(\"Hello from a notebook!\")"
   ]
  },
  {
   "cell_type": "markdown",
   "id": "7608824d",
   "metadata": {},
   "source": [
    "### How to Run a Colab Notebook\n",
    "\n",
    "1. Go to your GitHub or shared notebook link\n",
    "2. Click \"Open in Colab\"\n",
    "3. Run each cell using the ▶️ icon or `Shift + Enter`\n",
    "\n",
    "You can edit, save to your Google Drive, and download as `.ipynb` or `.pdf`.\n",
    "\n"
   ]
  },
  {
   "cell_type": "markdown",
   "id": "49372951",
   "metadata": {},
   "source": [
    "### How to Use Jupyter Locally\n",
    "\n",
    "Install via:\n",
    "```bash\n",
    "pip install notebook\n",
    "jupyter notebook\n",
    "```\n",
    "Or install **Anaconda** to get Jupyter preinstalled.\n",
    "\n",
    "You'll open a browser window with access to your files and can run notebooks just like in Colab.\n"
   ]
  },
  {
   "cell_type": "markdown",
   "id": "132ace7a",
   "metadata": {},
   "source": [
    "## 🔍 Advanced View\n",
    "\n",
    "<details><summary>Click to expand</summary>\n",
    "\n",
    "### Which Should I Use?\n",
    "\n",
    "| Use Case              | Tool         |\n",
    "|-----------------------|--------------|\n",
    "| Quick work, sharing   | Google Colab |\n",
    "| Heavy data, offline   | Jupyter      |\n",
    "| Integrating with Git  | Jupyter (via VS Code or terminal) |\n",
    "\n",
    "### VS Code Integration\n",
    "\n",
    "You can open and run notebooks directly inside **Visual Studio Code** with the Jupyter extension — handy if you prefer one environment.\n",
    "\n",
    "</details>\n"
   ]
  },
  {
   "cell_type": "markdown",
   "id": "671e8c8d",
   "metadata": {},
   "source": [
    "## 🧪 Exercises\n",
    "\n",
    "1. Open this notebook in Google Colab. Run the first cell.\n",
    "2. Add a new Markdown cell and type your name using `# My name is...`.\n",
    "3. Optional: install Jupyter and open a local notebook file.\n"
   ]
  }
 ],
 "metadata": {},
 "nbformat": 4,
 "nbformat_minor": 5
}
