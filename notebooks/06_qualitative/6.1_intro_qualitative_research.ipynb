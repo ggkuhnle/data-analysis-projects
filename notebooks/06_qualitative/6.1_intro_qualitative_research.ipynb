{
  "cells": [
    {
      "cell_type": "markdown",
      "id": "intro",
      "metadata": {},
      "source": [
        "# 🧬 6.1 Introduction to Qualitative Research\n",
        "\n",
        "Qualitative research explores the **why** and **how** of experiences, behaviours, and meanings. Instead of measuring quantities (grams, mmol/L), it examines **language, stories, and context**—for example, *why* a family chooses certain foods, *how* participants experience a diet, or *what* barriers hippos (ok, stakeholders 🦛) face when changing routines.\n",
        "\n",
        "Unlike quantitative methods that test hypotheses with numbers, qualitative approaches seek **rich descriptions** and **interpretations**. You’ll often work with interviews, focus groups, open-ended survey responses, diaries, field notes, or observations.\n",
        "\n",
        "---\n",
        "## 🎯 Objectives\n",
        "- Understand what qualitative research is (and isn’t), and when to use it.\n",
        "- Compare qualitative vs. quantitative approaches and how they complement each other.\n",
        "- Get hands-on: load and lightly explore open-ended text (food preference notes).\n",
        "- Prepare for rigorous analysis (sampling, reflexivity, ethics, coding frameworks).\n",
        "\n",
        "<details><summary>Key concepts (click)</summary>\n",
        "\n",
        "**Data types**: interviews, focus groups, observation notes, diaries, open-ended survey text.\n",
        "\n",
        "**Designs**: phenomenology (lived experience), grounded theory (theory building), ethnography (culture/setting), case study, narrative analysis, reflexive thematic analysis.\n",
        "\n",
        "**Sampling**: purposive, maximum variation, snowball, theoretical sampling (until *saturation*: no new themes emerge).\n",
        "\n",
        "**Trustworthiness**: credibility (member checks, triangulation), dependability (audit trail), confirmability (reflexivity), transferability (thick description).\n",
        "\n",
        "**Ethics**: consent, confidentiality, anonymisation, data minimisation, secure storage.\n",
        "</details>"
      ]
    },
    {
      "cell_type": "markdown",
      "id": "when_to_use",
      "metadata": {},
      "source": [
        "## 🧭 When to use qualitative methods?\n",
        "- To **understand experiences** (e.g., why participants prefer certain foods).\n",
        "- To explore **contexts and systems** (e.g., food access, cultural norms).\n",
        "- To **generate hypotheses** and inform interventions or surveys.\n",
        "- To explain **unexpected quantitative results** (mixed methods)."
      ]
    },
    {
      "cell_type": "markdown",
      "id": "colab",
      "metadata": {},
      "source": [
        "## 🔧 Setup (Colab)\n",
        "Clone repo or upload `food_preferences.txt` (open-ended responses)."
      ]
    },
    {
      "cell_type": "code",
      "execution_count": null,
      "id": "colab_setup",
      "metadata": {},
      "outputs": [],
      "source": [
        "import os\n",
        "from google.colab import files\n",
        "\n",
        "MODULE = '06_qualitative'\n",
        "DATASET = 'food_preferences.txt'\n",
        "BASE_PATH = '/content/data-analysis-projects'\n",
        "MODULE_PATH = os.path.join(BASE_PATH, 'notebooks', MODULE)\n",
        "DATASET_PATH = os.path.join(MODULE_PATH, 'data', DATASET)\n",
        "\n",
        "try:\n",
        "    if not os.path.exists(BASE_PATH):\n",
        "        print('Cloning repository...')\n",
        "        !git clone https://github.com/ggkuhnle/data-analysis-projects.git\n",
        "    os.chdir(MODULE_PATH)\n",
        "    if not os.path.exists(DATASET_PATH):\n",
        "        raise FileNotFoundError('Dataset missing after clone.')\n",
        "    print('Dataset ready ✅')\n",
        "except Exception as e:\n",
        "    print('Setup fallback: upload file...')\n",
        "    os.makedirs('data', exist_ok=True)\n",
        "    uploaded = files.upload()\n",
        "    if DATASET in uploaded:\n",
        "        with open(os.path.join('data', DATASET), 'wb') as f:\n",
        "            f.write(uploaded[DATASET])\n",
        "        print('Uploaded dataset ✅')\n",
        "    else:\n",
        "        raise FileNotFoundError('Upload food_preferences.txt to continue.')"
      ]
    },
    {
      "cell_type": "markdown",
      "id": "load",
      "metadata": {},
      "source": [
        "## 📥 Load the qualitative data\n",
        "We treat each line as one response (e.g., short interview note or survey comment)."
      ]
    },
    {
      "cell_type": "code",
      "execution_count": null,
      "id": "read",
      "metadata": {},
      "outputs": [],
      "source": [
        "import pandas as pd\n",
        "from pathlib import Path\n",
        "\n",
        "txt = Path('data')/'food_preferences.txt'\n",
        "responses = [r.strip() for r in txt.read_text(encoding='utf-8').splitlines() if r.strip()]\n",
        "df = pd.DataFrame({'response_id': range(1, len(responses)+1), 'text': responses})\n",
        "print('N responses:', len(df))\n",
        "df.head(5)"
      ]
    },
    {
      "cell_type": "markdown",
      "id": "first_look",
      "metadata": {},
      "source": [
        "## 🔍 First look (light-touch)\n",
        "Before coding/themes, a quick *familiarisation* pass helps: skim, note recurring words, surprising phrases, and tone."
      ]
    },
    {
      "cell_type": "code",
      "execution_count": null,
      "id": "skim",
      "metadata": {},
      "outputs": [],
      "source": [
        "for i, row in df.head(8).iterrows():\n",
        "    print(f\"{row['response_id']:>2}: {row['text']}\")"
      ]
    },
    {
      "cell_type": "markdown",
      "id": "rigor",
      "metadata": {},
      "source": [
        "## 📏 Rigour in qualitative work\n",
        "- **Reflexivity**: keep a short **reflexive memo** about your assumptions, role, and decisions.\n",
        "- **Audit trail**: version a **codebook**, note inclusion/exclusion criteria, justify transformations.\n",
        "- **Ethics**: anonymise identifiers, store raw audio/text securely, manage consent and withdrawal.\n",
        "- **Triangulation**: compare data sources (e.g., interview + observation + logs)."
      ]
    },
    {
      "cell_type": "markdown",
      "id": "quick_counts",
      "metadata": {},
      "source": [
        "## 🧪 Tiny, safe quantifications\n",
        "Counting words isn’t *the* analysis, but it can help orient you. We’ll keep this light and non-dominant."
      ]
    },
    {
      "cell_type": "code",
      "execution_count": null,
      "id": "counts",
      "metadata": {},
      "outputs": [],
      "source": [
        "targets = ['carrot', 'carrots', 'fruit', 'grass', 'sweet', 'bitter']\n",
        "word_counts = {t:0 for t in targets}\n",
        "for t in df['text'].str.lower():\n",
        "    for w in targets:\n",
        "        word_counts[w] += t.count(w)\n",
        "word_counts"
      ]
    },
    {
      "cell_type": "markdown",
      "id": "coding_next",
      "metadata": {},
      "source": [
        "## 🧩 Next steps: from familiarisation → coding → themes\n",
        "1) Generate **initial codes** (labels on meaningful segments).\n",
        "2) Group codes into **candidate themes**.\n",
        "3) **Review & refine** themes against the data.\n",
        "4) **Define & name** themes; select vivid excerpts.\n",
        "5) **Report** with thick description and transparent decisions.\n",
        "\n",
        "👉 You’ll practice coding in **6.2 and 6.3** (with reliability checks)."
      ]
    },
    {
      "cell_type": "markdown",
      "id": "exercises",
      "metadata": {},
      "source": [
        "## 🧩 Exercises\n",
        "1. **Reflexive memo (5–8 lines)**: what prior beliefs might shape your interpretations?\n",
        "2. **Context probe**: list three non-text sources you’d triangulate (e.g., observation, diet logs, environmental notes)—why?\n",
        "3. **Ethics**: identify any direct identifiers in these responses; propose an anonymisation rule."
      ]
    },
    {
      "cell_type": "markdown",
      "id": "wrap",
      "metadata": {},
      "source": [
        "## ✅ Conclusion\n",
        "You’ve set a solid foundation for qualitative work—design choices, rigour, ethics, and a first “feel” for the text. Next, we’ll preprocess and move toward codes and themes.\n",
        "\n",
        "<details><summary>Further reading</summary>\n",
        "- Reflexive Thematic Analysis (overview)\n",
        "- Qualitative rigour & trustworthiness\n",
        "- Ethics & anonymisation in text\n",
        "</details>"
      ]
    }
  ],
  "metadata": {
    "kernelspec": {"display_name": "Python 3", "language": "python", "name": "python3"},
    "language_info": {"name": "python", "version": "3.9"}
  },
  "nbformat": 4,
  "nbformat_minor": 5
}
