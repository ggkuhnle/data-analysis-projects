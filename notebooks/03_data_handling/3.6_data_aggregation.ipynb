{
  "cells": [
    {
      "cell_type": "markdown",
      "id": "intro",
      "metadata": {},
      "source": [
        "# 📈 3.5 Data Aggregation\n",
        "\n",
        "This notebook covers data aggregation techniques to summarise and combine nutrition datasets.\n",
        "\n",
        "**Objectives**:\n",
        "- Summarise data with group-by operations.\n",
        "- Join datasets for comprehensive analysis.\n",
        "- Aggregate `hippo_nutrients.csv` for insights.\n",
        "\n",
        "**Context**: Aggregation provides high-level insights from nutrition data, like average intakes across groups.\n",
        "\n",
        "<details><summary>Fun Fact</summary>\n",
        "Aggregating data is like a hippo summing up its daily snacks—big picture, big impact! 🦛\n",
        "</details>"
      ]
    },
    {
      "cell_type": "code",
      "execution_count": null,
      "id": "colab_setup",
      "metadata": {},
      "outputs": [],
      "source": [
        "# Setup for Google Colab: Fetch datasets automatically or manually\n",
        "%run ../../bootstrap.py    # installs requirements + editable package\n",
        "\n",
        "import fns_toolkit as fns\n",
        "\n",
        "import pandas as pd\n",
        "import numpy as np\n",
        "import matplotlib.pyplot as plt\n",
        "\n",
        "print('Environment ready.')"
      ]
    },
    {
      "cell_type": "markdown",
      "id": "load_data",
      "metadata": {},
      "source": [
        "## Data Preparation\n",
        "\n",
        "Load `hippo_nutrients.csv` and inspect its structure."
      ]
    },
    {
      "cell_type": "code",
      "execution_count": null,
      "id": "load",
      "metadata": {},
      "outputs": [
        {
          "name": "stdout",
          "output_type": "stream",
          "text": [
            "   ID Nutrient  Year  Value  Age Sex\n",
            "0  H1     Iron  2024    8.2   25   F\n",
            "1  H1     Iron  2025    8.5   26   F\n"
          ]
        }
      ],
      "source": [
        "# Load the dataset\n",
        "df = fns.get_dataset('hippo_nutrients')  # Path relative to notebook\n",
        "print(df.head(2))  # Display first two rows"
      ]
    },
    {
      "cell_type": "markdown",
      "id": "summarise",
      "metadata": {},
      "source": [
        " ## Summarising Data\n",
        "\n",
        "Summarise `Value` by `Nutrient` and `Sex` using mean and count."
      ]
    },
    {
      "cell_type": "code",
      "execution_count": 3,
      "id": "summarise",
      "metadata": {},
      "outputs": [
        {
          "name": "stdout",
          "output_type": "stream",
          "text": [
            "                   Value       \n",
            "                    mean count\n",
            "Nutrient   Sex                 \n",
            "Calcium    F    1150.0    25\n",
            "           M    1140.0    25\n",
            "Iron       F       8.1    25\n",
            "           M       8.0    25\n",
            "Vitamin_D  F      10.6    25\n",
            "           M      10.4    25\n"
          ]
        }
      ],
      "source": [
        "# Group by Nutrient and Sex, compute mean and count\n",
        "summary = df.groupby(['Nutrient', 'Sex'])['Value'].agg(['mean', 'count'])\n",
        "print(summary)  # Display summary"
      ]
    },
    {
      "cell_type": "markdown",
      "id": "join",
      "metadata": {},
      "source": [
        "## Joining Data\n",
        "\n",
        "Create a small dataset of hippo weights and join with `df`."
      ]
    },
    {
      "cell_type": "code",
      "execution_count": 4,
      "id": "join",
      "metadata": {},
      "outputs": [
        {
          "name": "stdout",
          "output_type": "stream",
          "text": [
            "   ID Nutrient  Year  Value  Age Sex  Weight\n",
            "0  H1     Iron  2024    8.2   25   F    2000\n",
            "1  H1     Iron  2025    8.5   26   F    2000\n"
          ]
        }
      ],
      "source": [
        "# Create a small weight dataset\n",
        "weights = pd.DataFrame({\n",
        "    'ID': ['H1', 'H2', 'H3'],\n",
        "    'Weight': [2000, 2100, 1950]  # Weight in kg\n",
        "})\n",
        "\n",
        "# Join with main dataset\n",
        "df_joined = df.merge(weights, on='ID', how='left')\n",
        "print(df_joined.head(2))  # Display joined data"
      ]
    },
    {
      "cell_type": "markdown",
      "id": "exercise",
      "metadata": {},
      "source": [
        "## Exercise 1: Aggregate and Join\n",
        "\n",
        "Summarise mean `Value` by `Nutrient` and `Year`, then join with a dataset of reference intakes (e.g., Iron: 15 mg). Document your code.\n",
        "\n",
        "**Guidance**: Use `groupby(['Nutrient', 'Year'])` and `merge()`."
      ]
    },
    {
      "cell_type": "markdown",
      "id": "your_answer",
      "metadata": {},
      "source": [
        "**Answer**:\n",
        "\n",
        "My aggregation and join code is..."
      ]
    },
    {
      "cell_type": "markdown",
      "id": "wrap",
      "metadata": {},
      "source": [
        "## Conclusion\n",
        "\n",
        "You’ve learned to aggregate nutrition data through summarisation and joining, unlocking key insights.\n",
        "\n",
        "**Next Steps**: Move to data analysis in 4.1.\n",
        "\n",
        "**Resources**:\n",
        "- [Pandas Merging](https://pandas.pydata.org/docs/user_guide/merging.html)\n",
        "- [Pandas GroupBy](https://pandas.pydata.org/docs/user_guide/groupby.html)\n",
        "- Repository: [github.com/ggkuhnle/data-analysis-toolkit-FNS](https://github.com/ggkuhnle/data-analysis-toolkit-FNS)"
      ]
    }
  ],
  "metadata": {
    "kernelspec": {
      "display_name": "Python 3",
      "language": "python",
      "name": "python3"
    },
    "language_info": {
      "codemirror_mode": {
        "name": "ipython",
        "version": 3
      },
      "file_extension": ".py",
      "mimetype": "text/x-python",
      "name": "python",
      "nbconvert_exporter": "python",
      "pygments_lexer": "ipython3",
      "version": "3.9.7"
    }
  },
  "nbformat": 4,
  "nbformat_minor": 5
}
