{
 "cells": [
  {
   "cell_type": "markdown",
   "id": "79957e0f",
   "metadata": {},
   "source": [
    "# 🖋️ Coding Style and Comments\n",
    "\n",
    "Writing good code isn’t just about **making it work** — it’s about making it clear to yourself and others.\n",
    "\n",
    "In this notebook, we’ll look at how to:\n",
    "- Use **comments** to explain your thinking\n",
    "- Write code that is **readable**\n",
    "- Follow **naming conventions** that others expect\n"
   ]
  },
  {
   "cell_type": "markdown",
   "id": "692b65e7",
   "metadata": {},
   "source": [
    "## 💬 Comments in Python\n",
    "\n",
    "Use `#` to leave notes **for humans** — Python will ignore them.\n",
    "\n",
    "```python\n",
    "# This calculates the area of a rectangle\n",
    "area = length * width\n",
    "```\n"
   ]
  },
  {
   "cell_type": "code",
   "execution_count": null,
   "id": "c9853f88",
   "metadata": {},
   "outputs": [],
   "source": [
    "# Calculate BMI from weight and height\n",
    "weight = 70  # kg\n",
    "height = 1.75  # metres\n",
    "bmi = weight / height**2\n",
    "print(\"BMI:\", round(bmi, 1))"
   ]
  },
  {
   "cell_type": "markdown",
   "id": "d6bbdc18",
   "metadata": {},
   "source": [
    "## 🔤 Variable Names\n",
    "\n",
    "Pick **clear, descriptive** names.\n",
    "\n",
    "❌ Bad:\n",
    "\n",
    "```python\n",
    "a = 70\n",
    "b = 1.75\n",
    "c = a / b**2\n",
    "```\n",
    "\n",
    "✅ Better:\n",
    "\n",
    "```python\n",
    "weight_kg = 70\n",
    "height_m = 1.75\n",
    "bmi = weight_kg / height_m**2\n",
    "```\n"
   ]
  },
  {
   "cell_type": "markdown",
   "id": "89ee64a9",
   "metadata": {},
   "source": [
    "### Naming Conventions\n",
    "\n",
    "Python uses **snake_case** for most names:\n",
    "- `hippo_weight`\n",
    "- `blood_pressure`\n",
    "- `total_energy_intake`\n",
    "\n",
    "Avoid names like `Data1`, `testvar`, or `tmp123` in final scripts!\n"
   ]
  },
  {
   "cell_type": "markdown",
   "id": "cbf63f7a",
   "metadata": {},
   "source": [
    "## 🧱 Docstrings for Functions\n",
    "\n",
    "When you define a function, you can include a description:\n",
    "\n",
    "```python\n",
    "def square(x):\n",
    "    \"\"\"Returns the square of x.\"\"\"\n",
    "    return x * x\n",
    "```\n"
   ]
  },
  {
   "cell_type": "code",
   "execution_count": null,
   "id": "8a6e260a",
   "metadata": {},
   "outputs": [],
   "source": [
    "def describe_food(name, calories):\n",
    "    \"\"\"Prints a simple food label with name and energy.\"\"\"\n",
    "    print(f\"{name}: {calories} kcal\")\n",
    "\n",
    "describe_food(\"Avocado\", 160)"
   ]
  },
  {
   "cell_type": "markdown",
   "id": "28117bf1",
   "metadata": {},
   "source": [
    "## 🧪 Exercises\n",
    "\n",
    "1. Take an old code snippet and improve the names and comments.\n",
    "2. Add a docstring to a function you’ve written.\n",
    "3. Optional: Invent a confusing variable name and rewrite it clearly.\n"
   ]
  },
  {
   "cell_type": "markdown",
   "id": "49e64828",
   "metadata": {},
   "source": [
    "## 🔍 Advanced View\n",
    "\n",
    "<details><summary>Click to expand</summary>\n",
    "\n",
    "### Why does style matter?\n",
    "\n",
    "- Code is read more often than it is written\n",
    "- Clear names help **spot bugs**\n",
    "- You'll thank yourself months later\n",
    "\n",
    "### Tools\n",
    "\n",
    "- `black` – formats Python code automatically\n",
    "- `flake8`, `pylint` – check for style issues\n",
    "- Most editors (e.g. VS Code) highlight style errors\n",
    "\n",
    "</details>\n"
   ]
  }
 ],
 "metadata": {},
 "nbformat": 4,
 "nbformat_minor": 5
}
