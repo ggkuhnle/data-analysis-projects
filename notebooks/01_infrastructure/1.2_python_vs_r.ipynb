{
 "cells": [
  {
   "cell_type": "markdown",
   "id": "intro",
   "metadata": {},
   "source": [
    "# 🧮 1.2 Python vs. R for Nutrition Data Analysis\n",
    "\n",
    "This notebook compares Python and R as tools for data analysis in food and nutrition sciences, helping MSc students choose the right tool.\n",
    "\n",
    "**Objectives**:\n",
    "- Understand the strengths and weaknesses of Python and R.\n",
    "- Perform a simple analysis in Python using `hippo_diets.csv`.\n",
    "- Reflect on tool selection for nutrition research.\n",
    "\n",
    "**Context**: Both Python and R are widely used in nutrition studies (e.g., NDNS analysis). Python excels in flexibility, while R shines in statistical packages.\n",
    "\n",
    "<details><summary>Fun Fact</summary>\n",
    "Choosing a tool is like a hippo picking its favourite snack—both carrots and fruit have their merits! 🦛\n",
    "</details>"
   ]
  },
  {
   "cell_type": "code",
   "execution_count": 1,
   "id": "setup",
   "metadata": {},
   "outputs": [
    {
     "name": "stdout",
     "output_type": "stream",
     "text": [
      "Python environment ready.\n"
     ]
    }
   ],
   "source": [
    "# Install required packages\n",
    "%pip install pandas numpy  # Ensures compatibility in Colab\n",
    "import pandas as pd  # For data manipulation\n",
    "import numpy as np  # For numerical operations\n",
    "print('Python environment ready.')"
   ]
  },
  {
   "cell_type": "markdown",
   "id": "analysis",
   "metadata": {},
   "source": [
    "## Python Analysis Example\n",
    "\n",
    "Load `hippo_diets.csv` and compute summary statistics for calories and protein."
   ]
  },
  {
   "cell_type": "code",
   "execution_count": 2,
   "id": "stats",
   "metadata": {},
   "outputs": [
    {
     "name": "stdout",
     "output_type": "stream",
     "text": [
      "       Calories    Protein\n",
      "count      50.0  45.000000\n",
      "mean     2450.0  78.200000\n",
      "std       150.0   5.000000\n",
      "min      2200.0  70.000000\n",
      "max      2700.0  85.000000\n"
     ]
    }
   ],
   "source": [
    "# Load the dataset\n",
    "df = pd.read_csv('data/hippo_diets.csv')  # Path relative to notebook\n",
    "\n",
    "# Compute summary statistics\n",
    "summary = df[['Calories', 'Protein']].describe().loc[['count', 'mean', 'std', 'min', 'max']]\n",
    "print(summary)  # Display stats"
   ]
  },
  {
   "cell_type": "markdown",
   "id": "exercise",
   "metadata": {},
   "source": [
    "## Exercise 1: Compare Tools\n",
    "\n",
    "Run the code above and write a Markdown cell comparing Python’s output to what you might expect from R (e.g., using `summary()`).\n",
    "\n",
    "**Guidance**: Consider ease of use, output format, and package availability."
   ]
  },
  {
   "cell_type": "markdown",
   "id": "your_answer",
   "metadata": {},
   "source": [
    "**Answer**:\n",
    "\n",
    "Python’s `describe()` provides..."
   ]
  },
  {
   "cell_type": "markdown",
   "id": "wrap",
   "metadata": {},
   "source": [
    "## Conclusion\n",
    "\n",
    "You’ve compared Python and R and performed a Python analysis. Python’s flexibility makes it ideal for this toolkit, but R is valuable for specific statistical tasks.\n",
    "\n",
    "**Next Steps**: Explore version control with Git in 1.3.\n",
    "\n",
    "**Resources**:\n",
    "- [Python Documentation](https://docs.python.org/3/)\n",
    "- [R Project](https://www.r-project.org/)\n",
    "- Repository: [github.com/ggkuhnle/data-analysis-toolkit-FNS](https://github.com/ggkuhnle/data-analysis-toolkit-FNS)"
   ]
  }
 ],
 "metadata": {
  "kernelspec": {
   "display_name": "Python 3",
   "language": "python",
   "name": "python3"
  },
  "language_info": {
   "codemirror_mode": {
    "name": "ipython",
    "version": 3
   },
   "file_extension": ".py",
   "mimetype": "text/x-python",
   "name": "python",
   "nbconvert_exporter": "python",
   "pygments_lexer": "ipython3",
   "version": "3.9.7"
  }
 },
 "nbformat": 4,
 "nbformat_minor": 5
}
