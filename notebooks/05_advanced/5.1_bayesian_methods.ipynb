{
  "cells": [
    {
      "cell_type": "markdown",
      "id": "intro",
      "metadata": {},
      "source": [
        "# \ud83d\udcc8 5.1 Bayesian Methods in Nutrition Research\n",
        "\n",
        "This notebook introduces Bayesian methods for nutrition data analysis, focusing on comparing two groups (e.g., Female vs. Male) using PyMC. Bayesian statistics allow us to model uncertainty and update our beliefs with data\u2014perfect for nutrition studies where variability is common!\n",
        "\n",
        "**Objectives**:\n",
        "- Learn the basics of Bayesian inference.\n",
        "- Apply Bayesian methods to compare nutrient intake between groups.\n",
        "- Visualise posterior distributions using ArviZ.\n",
        "\n",
        "**Context**: In nutrition research, we often compare groups (e.g., vitamin levels in females vs. males). Bayesian methods provide a flexible framework to estimate parameters and quantify uncertainty.\n",
        "\n",
        "<details><summary>Fun Fact</summary>\n",
        "Bayesian methods are like a hippo updating its diet plan\u2014starting with a guess (prior) and refining it with new data (posterior)! \ud83e\udd9b\n",
        "</details>"
      ]
    },
    {
      "cell_type": "code",
      "execution_count": null,
      "id": "colab_setup",
      "metadata": {},
      "outputs": [],
      "source": [
        "# Setup for Google Colab: Fetch datasets automatically or manually\n",
        "import os\n",
        "from google.colab import files\n",
        "\n",
        "# Define the module and dataset for this notebook\n",
        "MODULE = '05_advanced'  # e.g., '01_infrastructure'\n",
        "DATASET = 'large_food_log.csv'  # e.g., 'hippo_diets.csv'\n",
        "BASE_PATH = '/content/data-analysis-projects'\n",
        "MODULE_PATH = os.path.join(BASE_PATH, 'notebooks', MODULE)\n",
        "DATASET_PATH = os.path.join('data', DATASET)\n",
        "\n",
        "# Step 1: Attempt to clone the repository (automatic method)\n",
        "# Note: If you encounter a cloning error (e.g., 'fatal: destination path already exists'),\n",
        "#       reset the runtime (Runtime > Restart runtime) and run this cell again.\n",
        "try:\n",
        "    print('Attempting to clone repository...')\n",
        "    if os.path.exists(BASE_PATH):\n",
        "        print('Repository already exists, skipping clone.')\n",
        "    else:\n",
        "        !git clone https://github.com/ggkuhnle/data-analysis-projects.git\n",
        "    \n",
        "    # Debug: Print directory structure\n",
        "    print('Listing repository contents:')\n",
        "    !ls {BASE_PATH}\n",
        "    print(f'Listing notebooks directory contents:')\n",
        "    !ls {BASE_PATH}/notebooks\n",
        "    \n",
        "    # Check if the module directory exists\n",
        "    if not os.path.exists(MODULE_PATH):\n",
        "        raise FileNotFoundError(f'Module directory {MODULE_PATH} not found. Check the repository structure.')\n",
        "    \n",
        "    # Set working directory to the notebook's folder\n",
        "    os.chdir(MODULE_PATH)\n",
        "    \n",
        "    # Verify dataset is accessible\n",
        "    if os.path.exists(DATASET_PATH):\n",
        "        print(f'Dataset found: {DATASET_PATH} \ud83e\udd9b')\n",
        "    else:\n",
        "        print(f'Error: Dataset {DATASET} not found after cloning.')\n",
        "        raise FileNotFoundError\n",
        "except Exception as e:\n",
        "    print(f'Cloning failed: {e}')\n",
        "    print('Falling back to manual upload option...')\n",
        "\n",
        "    # Step 2: Manual upload option\n",
        "    print(f'Please upload {DATASET} manually.')\n",
        "    print(f'1. Click the \"Choose Files\" button below.')\n",
        "    print(f'2. Select {DATASET} from your local machine.')\n",
        "    print(f'3. Ensure the file is placed in notebooks/{MODULE}/data/')\n",
        "    \n",
        "    # Create the data directory if it doesn't exist\n",
        "    os.makedirs('data', exist_ok=True)\n",
        "    \n",
        "    # Prompt user to upload the dataset\n",
        "    uploaded = files.upload()\n",
        "    \n",
        "    # Check if the dataset was uploaded\n",
        "    if DATASET in uploaded:\n",
        "        with open(DATASET_PATH, 'wb') as f:\n",
        "            f.write(uploaded[DATASET])\n",
        "        print(f'Successfully uploaded {DATASET} to {DATASET_PATH} \ud83e\udd9b')\n",
        "    else:\n",
        "        raise FileNotFoundError(f'Upload failed. Please ensure you uploaded {DATASET}.')\n",
        "\n",
        "# Install required packages for this notebook\n",
        "%pip install pandas numpy\n",
        "print('Python environment ready.')"
      ]
    },
    {
      "cell_type": "markdown",
      "id": "data",
      "metadata": {},
      "source": [
        "## \ud83d\udcca Load and Explore Data\n",
        "\n",
        "We\u2019ll use `vitamin_trial.csv` to compare vitamin levels between females and males. The dataset includes:\n",
        "- `vitamin_level`: The measured vitamin level (e.g., Vitamin D in ng/mL).\n",
        "- `sex`: Group indicator (0 for Female, 1 for Male)."
      ]
    },
    {
      "cell_type": "code",
      "execution_count": null,
      "id": "load_data",
      "metadata": {},
      "outputs": [],
      "source": [
        "# Import libraries for data handling\n",
        "import pandas as pd\n",
        "import numpy as np\n",
        "\n",
        "# Load the dataset\n",
        "data = pd.read_csv('data/vitamin_trial.csv')\n",
        "\n",
        "# Extract vitamin levels and group indicators\n",
        "y = data['vitamin_level'].values  # Response variable\n",
        "group = data['sex'].values        # 0 for Female, 1 for Male\n",
        "\n",
        "# Quick summary\n",
        "print('Mean vitamin levels:')\n",
        "print(f'Female: {np.mean(y[group == 0]):.1f}')\n",
        "print(f'Male: {np.mean(y[group == 1]):.1f}')"
      ]
    },
    {
      "cell_type": "markdown",
      "id": "model",
      "metadata": {},
      "source": [
        "## \ud83e\udde0 Bayesian Model\n",
        "\n",
        "We\u2019ll model the vitamin levels as normally distributed with different means for each group:\n",
        "\n",
        "- **Priors**:\n",
        "  - `mu[0]`: Mean vitamin level for Females ~ Normal(0, 10)\n",
        "  - `mu[1]`: Mean vitamin level for Males ~ Normal(0, 10)\n",
        "  - `sigma`: Standard deviation ~ HalfNormal(1)\n",
        "- **Likelihood**:\n",
        "  - `vitamin_level` ~ Normal(mu[group], sigma)"
      ]
    },
    {
      "cell_type": "code",
      "execution_count": null,
      "id": "bayesian_model",
      "metadata": {},
      "outputs": [],
      "source": [
        "# Import Bayesian libraries\n",
        "import pymc as pm\n",
        "import arviz as az\n",
        "import matplotlib.pyplot as plt\n",
        "\n",
        "# Check PyMC version for compatibility\n",
        "print(f'PyMC version: {pm.__version__}')\n",
        "\n",
        "# Define the Bayesian model\n",
        "with pm.Model() as model:\n",
        "    # Priors for the means of Female (group 0) and Male (group 1)\n",
        "    mu = pm.Normal('mu', mu=0, sigma=10, shape=2)  # Mean for each group\n",
        "    \n",
        "    # Prior for standard deviation\n",
        "    sigma = pm.HalfNormal('sigma', sigma=1)\n",
        "    \n",
        "    # Likelihood: vitamin levels are normally distributed\n",
        "    y_obs = pm.Normal('y_obs', mu=mu[group], sigma=sigma, observed=y)\n",
        "    \n",
        "    # Sample from the posterior\n",
        "    trace = pm.sample(1000, tune=1000, return_inferencedata=True)"
      ]
    },
    {
      "cell_type": "markdown",
      "id": "results",
      "metadata": {},
      "source": [
        "## \ud83d\udcc9 Posterior Analysis\n",
        "\n",
        "Let\u2019s calculate the posterior means for each group and visualise the posterior distributions of `mu`."
      ]
    },
    {
      "cell_type": "code",
      "execution_count": null,
      "id": "posterior",
      "metadata": {},
      "outputs": [],
      "source": [
        "# Calculate posterior means for Female and Male\n",
        "mu_posterior = trace.posterior['mu'].mean(dim=['chain', 'draw'])\n",
        "print(f'Posterior means: Female={round(float(mu_posterior[0]), 1)}, Male={round(float(mu_posterior[1]), 1)}')\n",
        "\n",
        "# Visualise posterior distributions\n",
        "az.plot_posterior(trace, var_names=['mu'])  # Plot histograms of mu\n",
        "plt.show()  # Display plot"
      ]
    },
    {
      "cell_type": "markdown",
      "id": "exercise",
      "metadata": {},
      "source": [
        "## \ud83e\uddea Exercises\n",
        "\n",
        "1. **Change the Prior**: Modify the prior for `mu` to `Normal(5, 5)` and re-run the analysis. How do the posterior means change? Write your observations in a Markdown cell.\n",
        "\n",
        "2. **Add a Parameter**: Extend the model to include a different `sigma` for each group (e.g., `sigma = pm.HalfNormal('sigma', sigma=1, shape=2)`). Re-run the sampling and plot the posteriors for both `mu` and `sigma`.\n",
        "\n",
        "3. **Compare Groups**: Calculate the posterior difference between `mu[1]` (Male) and `mu[0]` (Female) and plot its distribution using `az.plot_posterior`.\n",
        "\n",
        "**Guidance**: Use the code above as a starting point. Experiment with priors and parameters to see how they affect the results!"
      ]
    },
    {
      "cell_type": "markdown",
      "id": "your_answer",
      "metadata": {},
      "source": [
        "**Your Answers**:\n",
        "\n",
        "**Exercise 1: Change the Prior**  \n",
        "[Write your observations here]\n",
        "\n",
        "**Exercise 2: Add a Parameter**  \n",
        "[Write your code and results here]\n",
        "\n",
        "**Exercise 3: Compare Groups**  \n",
        "[Write your code and results here]"
      ]
    },
    {
      "cell_type": "markdown",
      "id": "wrap",
      "metadata": {},
      "source": [
        "## Conclusion\n",
        "\n",
        "You\u2019ve applied Bayesian methods to compare vitamin levels between females and males, calculating posterior means and visualising distributions. Bayesian approaches are powerful for nutrition research, allowing you to incorporate prior knowledge and quantify uncertainty.\n",
        "\n",
        "**Next Steps**: Explore workflow automation in `5.2_workflow_automation.ipynb`.\n",
        "\n",
        "**Resources**:\n",
        "- [PyMC Documentation](https://www.pymc.io/)\n",
        "- [ArviZ Documentation](https://arviz-devs.github.io/arviz/)\n",
        "- Repository: [github.com/ggkuhnle/data-analysis-projects](https://github.com/ggkuhnle/data-analysis-projects)"
      ]
    }
  ],
  "metadata": {
    "kernelspec": {
      "display_name": "Python 3",
      "language": "python",
      "name": "python3"
    },
    "language_info": {
      "codemirror_mode": {
        "name": "ipython",
        "version": 3
      },
      "file_extension": ".py",
      "mimetype": "text/x-python",
      "name": "python",
      "nbconvert_exporter": "python",
      "pygments_lexer": "ipython3",
      "version": "3.9.7"
    }
  },
  "nbformat": 4,
  "nbformat_minor": 5
}