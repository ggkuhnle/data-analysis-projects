{
 "cells": [
  {
   "cell_type": "markdown",
   "id": "df6bf758",
   "metadata": {},
   "source": [
    "# 🧰 3.0 Introduction to Data‑Handling\n",
    "\n",
    "Welcome to the wild swamp of data wrangling! In this notebook, we’ll chart the river from raw inputs to tasty summaries, using nutrition and food‑science examples (with a few hippo-themed jokes to keep things hippo-thetical).\n",
    "\n",
    "### Learning Objectives\n",
    "\n",
    "- Map out the end‑to‑end steps from raw inputs to aggregated summaries  \n",
    "- Identify and connect to key nutrition and food‑science data sources  \n",
    "- Get familiar with the Python libraries and environment setup  \n",
    "\n",
    "### Key Datasets\n",
    "\n",
    "- **`hippo_nutrients.csv`**: Experimental macronutrient and micronutrient profiles for hippopotamus feeding trials  \n",
    "- **FoodData Central API**: REST API access to USDA’s FoodData Central for comprehensive food composition data  \n",
    "- **`clinical_trial_data.xlsx`**: Simulated dietary intervention results from a randomized trial  \n",
    "- **Local SQLite database (`fns_db.sqlite`)**: Consolidated tables for nutrient reference values and cohort metadata  \n",
    "\n"
   ]
  },
  {
   "cell_type": "code",
   "execution_count": null,
   "id": "2013d747",
   "metadata": {},
   "outputs": [],
   "source": [
    "%run ../../bootstrap.py    # installs requirements + editable package\n",
    "\n",
    "import fns_toolkit as fns"
   ]
  },
  {
   "cell_type": "markdown",
   "id": "6ddf0b42",
   "metadata": {},
   "source": [
    "---\n",
    "### Verify Your Environment\n",
    "\n",
    "Run the following to confirm your versions and ensure everything’s ready for our hippo expedition."
   ]
  },
  {
   "cell_type": "code",
   "execution_count": null,
   "id": "5daf1904",
   "metadata": {},
   "outputs": [],
   "source": [
    "import sys\n",
    "import pandas as pd\n",
    "import numpy as np\n",
    "\n",
    "print(f\"Python version: {sys.version.split()[0]}\")\n",
    "print(f\"pandas version: {pd.__version__}\")\n",
    "print(f\"numpy version: {np.__version__}\")"
   ]
  },
  {
   "cell_type": "markdown",
   "id": "373b8808",
   "metadata": {},
   "source": [
    "---\n",
    "### 🚀 Roadmap\n",
    "\n",
    "Here’s our journey through Part 3:\n",
    "\n",
    "1. **3.1 Principles of Tidy Data**: Learn the four rules that make data hippo-riffic.  \n",
    "2. **3.2 Importing & Connecting**: Pull in datasets from CSVs, APIs, and databases.  \n",
    "3. **3.3 Data Cleaning & Quality Checks**: Handle missing values and inconsistent measurements.  \n",
    "4. **3.4 Reshaping & Merging Datasets**: Tame wide and long data, and join multiple tables.  \n",
    "5. **3.5 Transformation & Feature Engineering**: Create new variables like flavanol ratios.  \n",
    "6. **3.6 Aggregation & Summarization**: Summarise intake by cohort and export results.  \n",
    "\n",
    "Ready to get your feet wet? Let’s dive into 3.1 next — may your code be ever crash-free and your data as tidy as a basking hippo!"
   ]
  }
 ],
 "metadata": {
  "language_info": {
   "name": "python"
  }
 },
 "nbformat": 4,
 "nbformat_minor": 5
}
