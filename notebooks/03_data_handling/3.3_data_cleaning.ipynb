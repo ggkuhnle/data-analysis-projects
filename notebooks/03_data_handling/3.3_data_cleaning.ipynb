{
  "cells": [
    {
      "cell_type": "markdown",
      "id": "intro",
      "metadata": {},
      "source": [
        "# \ud83e\uddf9 3.3 Data Cleaning\n",
        "\n",
        "This notebook covers data cleaning techniques to prepare nutrition datasets for analysis.\n",
        "\n",
        "**Objectives**:\n",
        "- Handle missing values and duplicates.\n",
        "- Validate data consistency.\n",
        "- Clean `hippo_nutrients.csv` for analysis.\n",
        "\n",
        "**Context**: Clean data is essential for reliable nutrition research, like NDNS studies.\n",
        "\n",
        "<details><summary>Fun Fact</summary>\n",
        "Cleaning data is like a hippo tidying its pond\u2014clear water, clear insights! \ud83e\udd9b\n",
        "</details>"
      ]
    },
    {
      "cell_type": "code",
      "execution_count": null,
      "id": "colab_setup",
      "metadata": {},
      "outputs": [],
      "source": [
        "# Setup for Google Colab: Fetch datasets automatically or manually\n",
        "import os\n",
        "from google.colab import files\n",
        "\n",
        "# Define the module and dataset for this notebook\n",
        "MODULE = '03_data_handling'\n",
        "DATASET = 'hippo_nutrients.csv'\n",
        "DATASET_PATH = os.path.join('data', DATASET)\n",
        "\n",
        "# Step 1: Attempt to clone the repository (automatic method)\n",
        "try:\n",
        "    print('Attempting to clone repository...')\n",
        "    !git clone https://github.com/ggkuhnle/data-analysis-toolkit-FNS.git\n",
        "    os.chdir(f'/content/data-analysis-toolkit-FNS/notebooks/{MODULE}')\n",
        "    if os.path.exists(DATASET_PATH):\n",
        "        print(f'Dataset found: {DATASET_PATH} \ud83e\udd9b')\n",
        "    else:\n",
        "        print(f'Error: Dataset {DATASET} not found after cloning.')\n",
        "        raise FileNotFoundError\n",
        "except Exception as e:\n",
        "    print(f'Cloning failed: {e}')\n",
        "    print('Falling back to manual upload option...')\n",
        "\n",
        "    # Step 2: Manual upload option\n",
        "    print(f'Please upload {DATASET} manually.')\n",
        "    print(f'1. Click the \"Choose Files\" button below.')\n",
        "    print(f'2. Select {DATASET} from your local machine.')\n",
        "    print(f'3. Ensure the file is placed in notebooks/{MODULE}/data/')\n",
        "    \n",
        "    # Create the data directory if it doesn't exist\n",
        "    os.makedirs('data', exist_ok=True)\n",
        "    \n",
        "    # Prompt user to upload the dataset\n",
        "    uploaded = files.upload()\n",
        "    \n",
        "    # Check if the dataset was uploaded\n",
        "    if DATASET in uploaded:\n",
        "        with open(DATASET_PATH, 'wb') as f:\n",
        "            f.write(uploaded[DATASET])\n",
        "        print(f'Successfully uploaded {DATASET} to {DATASET_PATH} \ud83e\udd9b')\n",
        "    else:\n",
        "        raise FileNotFoundError(f'Upload failed. Please ensure you uploaded {DATASET}.')\n",
        "\n",
        "# Install required packages for this notebook\n",
        "%pip install pandas numpy\n",
        "print('Python environment ready.')"
      ]
    },
    {
      "cell_type": "code",
      "execution_count": 1,
      "id": "setup",
      "metadata": {},
      "outputs": [
        {
          "name": "stdout",
          "output_type": "stream",
          "text": [
            "Data cleaning environment ready.\n"
          ]
        }
      ],
      "source": [
        "# Install required packages\n",
        "%pip install pandas numpy  # Ensures compatibility in Colab\n",
        "import pandas as pd  # For data manipulation\n",
        "import numpy as np  # For numerical operations\n",
        "print('Data cleaning environment ready.')"
      ]
    },
    {
      "cell_type": "markdown",
      "id": "load_data",
      "metadata": {},
      "source": [
        "## Data Preparation\n",
        "\n",
        "Load `hippo_nutrients.csv` and check for issues like missing values."
      ]
    },
    {
      "cell_type": "code",
      "execution_count": 2,
      "id": "load",
      "metadata": {},
      "outputs": [
        {
          "name": "stdout",
          "output_type": "stream",
          "text": [
            "Missing values:\n",
            "ID          0\n",
            "Nutrient    0\n",
            "Year        0\n",
            "Value       8\n",
            "Age         0\n",
            "Sex         0\n",
            "dtype: int64\n"
          ]
        }
      ],
      "source": [
        "# Load the dataset\n",
        "df = pd.read_csv('data/hippo_nutrients.csv')  # Path relative to notebook\n",
        "\n",
        "# Check for missing values\n",
        "print('Missing values:')\n",
        "print(df.isnull().sum())  # Display count of missing values per column"
      ]
    },
    {
      "cell_type": "markdown",
      "id": "missing",
      "metadata": {},
      "source": [
        "## Handling Missing Values\n",
        "\n",
        "Fill missing `Value` entries with the mean for each nutrient."
      ]
    },
    {
      "cell_type": "code",
      "execution_count": 3,
      "id": "fill_missing",
      "metadata": {},
      "outputs": [
        {
          "name": "stdout",
          "output_type": "stream",
          "text": [
            "Missing values after filling: 0\n"
          ]
        }
      ],
      "source": [
        "# Group by nutrient and fill missing values with mean\n",
        "df['Value'] = df.groupby('Nutrient')['Value'].transform(lambda x: x.fillna(x.mean()))\n",
        "\n",
        "# Verify no missing values\n",
        "print(f'Missing values after filling: {df[\"Value\"].isnull().sum()}')  # Check Value column"
      ]
    },
    {
      "cell_type": "markdown",
      "id": "duplicates",
      "metadata": {},
      "source": [
        "## Removing Duplicates\n",
        "\n",
        "Check for and remove duplicate rows."
      ]
    },
    {
      "cell_type": "code",
      "execution_count": 4,
      "id": "duplicates",
      "metadata": {},
      "outputs": [
        {
          "name": "stdout",
          "output_type": "stream",
          "text": [
            "Duplicates: 0\n"
          ]
        }
      ],
      "source": [
        "# Check for duplicates\n",
        "duplicates = df.duplicated().sum()  # Count duplicate rows\n",
        "print(f'Duplicates: {duplicates}')\n",
        "\n",
        "# Remove duplicates if any\n",
        "df = df.drop_duplicates()  # Drop duplicate rows"
      ]
    },
    {
      "cell_type": "markdown",
      "id": "exercise",
      "metadata": {},
      "source": [
        "## Exercise 1: Clean and Validate\n",
        "\n",
        "Filter for Calcium data, fill missing `Value` entries with the median, and check for duplicates. Document your code.\n",
        "\n",
        "**Guidance**: Use `df[df['Nutrient'] == 'Calcium']` and `fillna(df['Value'].median())`."
      ]
    },
    {
      "cell_type": "markdown",
      "id": "your_answer",
      "metadata": {},
      "source": [
        "**Answer**:\n",
        "\n",
        "My cleaning code is..."
      ]
    },
    {
      "cell_type": "markdown",
      "id": "wrap",
      "metadata": {},
      "source": [
        "## Conclusion\n",
        "\n",
        "You\u2019ve learned to clean nutrition data by handling missing values and duplicates.\n",
        "\n",
        "**Next Steps**: Explore data transformation in 3.4.\n",
        "\n",
        "**Resources**:\n",
        "- [Pandas Data Cleaning](https://pandas.pydata.org/docs/user_guide/missing_data.html)\n",
        "- [Data Cleaning Guide](https://www.datacamp.com/community/tutorials/data-preparation-with-pandas)\n",
        "- Repository: [github.com/ggkuhnle/data-analysis-toolkit-FNS](https://github.com/ggkuhnle/data-analysis-toolkit-FNS)"
      ]
    }
  ],
  "metadata": {
    "kernelspec": {
      "display_name": "Python 3",
      "language": "python",
      "name": "python3"
    },
    "language_info": {
      "codemirror_mode": {
        "name": "ipython",
        "version": 3
      },
      "file_extension": ".py",
      "mimetype": "text/x-python",
      "name": "python",
      "nbconvert_exporter": "python",
      "pygments_lexer": "ipython3",
      "version": "3.9.7"
    }
  },
  "nbformat": 4,
  "nbformat_minor": 5
}