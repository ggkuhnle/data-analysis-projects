# 🔄 3.6 Converting Formats

Work with different table layouts and export types:
- Wide to long with `melt()`
- String manipulation
- Save as JSON

🧪 **Exercise**: Convert wide dataset to long and export.