{
 "cells": [
  {
   "cell_type": "markdown",
   "id": "7ce4b69e",
   "metadata": {},
   "source": [
    "# 🐍 Python vs 🧮 R vs Other Tools\n",
    "\n",
    "| Feature | Python | R | Excel | SAS |\n",
    "|--------|--------|---|-------|-----|\n",
    "| General purpose | ✅ | ❌ | ❌ | ❌ |\n",
    "| Data manipulation | ✅ | ✅ | ⚠️ | ✅ |\n",
    "| Visualisation | ✅ | ✅ | ⚠️ | ✅ |\n",
    "| Reproducibility | ✅ | ✅ | ❌ | ✅ |\n",
    "\n",
    "Python is widely used in data science because it's general-purpose, scriptable, and integrates well with tools and APIs."
   ]
  }
 ],
 "metadata": {},
 "nbformat": 4,
 "nbformat_minor": 5
}
