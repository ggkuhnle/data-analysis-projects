{
 "cells": [
  {
   "cell_type": "markdown",
   "id": "intro",
   "metadata": {},
   "source": [
    "# 📊 5.1 Bayesian Methods\n",
    "\n",
    "This notebook introduces Bayesian inference for analysing nutrient intakes, a powerful approach for nutrition studies such as NDNS analysis. Bayesian methods combine prior knowledge with observed data to estimate parameters with uncertainty.\n",
    "\n",
    "**Objectives**:\n",
    "- Understand Bayesian principles: priors, likelihoods, and posteriors.\n",
    "- Apply PyMC to model nutrient intake data.\n",
    "- Interpret posterior distributions for practical insights.\n",
    "\n",
    "**Context**: Bayesian methods are ideal for small datasets or when prior information (e.g., Recommended Dietary Allowances) is available. We will model iron intakes using `nutrient_survey.csv`.\n",
    "\n",
    "<details>\n",
    "<summary>Advanced Note</summary>\n",
    "Bayesian methods offer advantages over frequentist approaches (covered in 4.4) for handling uncertainty in nutrition research.\n",
    "</details>"
   ]
  },
  {
   "cell_type": "code",
   "execution_count": 1,
   "id": "setup",
   "metadata": {},
   "outputs": [],
   "source": [
    "# Install required packages\n",
    "%pip install pymc pandas numpy matplotlib  # For Colab users\n",
    "import pymc as pm\n",
    "import pandas as pd\n",
    "import matplotlib.pyplot as plt\n",
    "import numpy as np\n",
    "print('Bayesian analysis environment ready.')"
   ]
  },
  {
   "cell_type": "markdown",
   "id": "load_data",
   "metadata": {},
   "source": [
    "## Data Preparation\n",
    "\n",
    "We will use `nutrient_survey.csv`, a simulated dataset of nutrient intakes. The following code loads and filters iron data."
   ]
  },
  {
   "cell_type": "code",
   "execution_count": 2,
   "id": "load",
   "metadata": {},
   "outputs": [
    {
     "name": "stdout",
     "output_type": "stream",
     "text": [
      "   ID Nutrient  Year  Value  Age Sex\n",
      "0  P1     Iron  2024    8.2   25   F\n",
      "1  P1     Iron  2025    8.5   26   F\n"
     ]
    }
   ],
   "source": [
    "df = pd.read_csv('../data_handling/data/nutrient_survey.csv')\n",
    "iron_data = df[df['Nutrient'] == 'Iron']['Value'].dropna()\n",
    "print(df.head(2))"
   ]
  },
  {
   "cell_type": "markdown",
   "id": "bayesian",
   "metadata": {},
   "source": [
    "## Bayesian Model\n",
    "\n",
    "We assume iron intake follows a normal distribution with a prior mean of 8 mg (based on RDA). The model estimates the true mean and uncertainty.\n",
    "\n",
    "**Exercise 1**: Run the Bayesian model to estimate iron intake."
   ]
  },
  {
   "cell_type": "code",
   "execution_count": 3,
   "id": "model",
   "metadata": {},
   "outputs": [],
   "source": [
    "with pm.Model() as model:\n",
    "    mu = pm.Normal('mu', mu=8, sigma=2)  # Prior: mean ~ N(8, 2)\n",
    "    sigma = pm.HalfNormal('sigma', sigma=1)\n",
    "    obs = pm.Normal('obs', mu=mu, sigma=sigma, observed=iron_data)\n",
    "    trace = pm.sample(1000, return_inferencedata=False)\n",
    "\n",
    "# Plot posterior\n",
    "plt.hist(trace['mu'], bins=30, density=True)\n",
    "plt.title('Posterior Distribution of Iron Intake Mean')\n",
    "plt.xlabel('Mean Iron Intake (mg)')\n",
    "plt.ylabel('Density')\n",
    "plt.show()"
   ]
  },
  {
   "cell_type": "markdown",
   "id": "exercise",
   "metadata": {},
   "source": [
    "## Exercise 2: Interpret Results\n",
    "\n",
    "Examine the posterior plot. Estimate the likely range for iron intake and document your findings in a Markdown cell.\n",
    "\n",
    "**Guidance**: Identify the histogram’s peak and approximate 95% credible interval."
   ]
  },
  {
   "cell_type": "markdown",
   "id": "your_answer",
   "metadata": {},
   "source": [
    "**Answer**:\n",
    "\n",
    "The likely range for iron intake is..."
   ]
  },
  {
   "cell_type": "markdown",
   "id": "wrap",
   "metadata": {},
   "source": [
    "## Conclusion\n",
    "\n",
    "This notebook demonstrated Bayesian inference using PyMC to estimate nutrient intakes. You have learned:\n",
    "- How to specify priors and likelihoods.\n",
    "- Modelling with PyMC for nutrition data.\n",
    "- Interpreting posterior distributions.\n",
    "\n",
    "**Next Steps**: Explore workflow automation in 5.2.\n",
    "\n",
    "**Resources**:\n",
    "- [PyMC Documentation](https://www.pymc.io/)\n",
    "- [Bayesian Methods for Nutrition](https://statswithr.com/book/bayesian-basics.html)\n",
    "- Repository: [github.com/ggkuhnle/data-analysis-toolkit-FNS](https://github.com/ggkuhnle/data-analysis-toolkit-FNS)"
   ]
  }
 ],
 "metadata": {
  "kernelspec": {
   "display_name": "Python 3",
   "language": "python",
   "name": "python3"
  },
  "language_info": {
   "codemirror_mode": {
    "name": "ipython",
    "version": 3
   },
   "file_extension": ".py",
   "mimetype": "text/x-python",
   "name": "python",
   "nbconvert_exporter": "python",
   "pygments_lexer": "ipython3",
   "version": "3.9.7"
  }
 },
 "nbformat": 4,
 "nbformat_minor": 5
}
