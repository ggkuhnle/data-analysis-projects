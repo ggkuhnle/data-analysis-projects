{
 "cells": [
  {
   "cell_type": "markdown",
   "id": "3222a744",
   "metadata": {},
   "source": [
    "# 🐍 Introduction to Python Programming\n",
    "\n",
    "This notebook covers basic syntax, variables, and functions in Python."
   ]
  },
  {
   "cell_type": "code",
   "execution_count": null,
   "id": "0de1bbcb",
   "metadata": {},
   "outputs": [],
   "source": [
    "a = 5\n",
    "b = 3\n",
    "a + b  # Try changing the values!"
   ]
  },
  {
   "cell_type": "code",
   "execution_count": null,
   "id": "a9c49f51",
   "metadata": {},
   "outputs": [],
   "source": [
    "def greet(name):\n",
    "    return f\"Hello, {name}!\"\n",
    "\n",
    "greet(\"Charlotte\")"
   ]
  }
 ],
 "metadata": {},
 "nbformat": 4,
 "nbformat_minor": 5
}
