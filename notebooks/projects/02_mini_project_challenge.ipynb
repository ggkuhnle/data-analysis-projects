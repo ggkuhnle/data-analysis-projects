{
 "cells": [
  {
   "cell_type": "markdown",
   "metadata": {},
   "source": [
    "# 🎓 Mini Project Challenge: Food Frequency Analysis\n",
    "\n",
    "Analyse a simplified food frequency dataset and derive food group scores.\n",
    "\n",
    "## Tasks\n",
    "- Clean the uploaded FFQ data\n",
    "- Create food groups\n",
    "- Generate visual summaries and descriptive stats"
   ]
  },
  {
   "cell_type": "code",
   "metadata": {},
   "source": [
    "# 🧰 Load FFQ dataset\n",
    "import pandas as pd\n",
    "ffq = pd.read_csv('/mnt/data/sample_ffq.csv')\n",
    "ffq.head()"
   ],
   "execution_count": null,
   "outputs": []
  }
 ],
 "metadata": {
  "kernelspec": {
   "display_name": "Python 3",
   "language": "python",
   "name": "python3"
  },
  "language_info": {
   "name": "python",
   "version": "3.9"
  }
 },
 "nbformat": 4,
 "nbformat_minor": 2
}