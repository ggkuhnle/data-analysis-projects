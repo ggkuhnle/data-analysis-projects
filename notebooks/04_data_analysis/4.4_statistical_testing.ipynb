{
  "cells": [
    {
      "cell_type": "markdown",
      "id": "intro",
      "metadata": {},
      "source": [
        "# \ud83e\uddea 4.4 Statistical Testing\n",
        "\n",
        "This notebook introduces statistical hypothesis testing to compare nutrition data groups.\n",
        "\n",
        "**Objectives**:\n",
        "- Perform t-tests and ANOVA.\n",
        "- Interpret p-values and effect sizes.\n",
        "- Apply tests to `vitamin_trial.csv`.\n",
        "\n",
        "**Context**: Statistical tests validate differences, like vitamin D levels between trial groups.\n",
        "\n",
        "<details><summary>Fun Fact</summary>\n",
        "Statistical tests are like a hippo weighing its snacks\u2014measuring differences matters! \ud83e\udd9b\n",
        "</details>"
      ]
    },
    {
      "cell_type": "code",
      "execution_count": null,
      "id": "colab_setup",
      "metadata": {},
      "outputs": [],
      "source": [
        "# Setup for Google Colab: Fetch datasets automatically or manually\n",
        "import os\n",
        "from google.colab import files\n",
        "\n",
        "# Define the module and dataset for this notebook\n",
        "MODULE = '04_data_analysis'\n",
        "DATASET = 'vitamin_trial.csv'\n",
        "DATASET_PATH = os.path.join('data', DATASET)\n",
        "\n",
        "# Step 1: Attempt to clone the repository (automatic method)\n",
        "try:\n",
        "    print('Attempting to clone repository...')\n",
        "    !git clone https://github.com/ggkuhnle/data-analysis-toolkit-FNS.git\n",
        "    os.chdir(f'/content/data-analysis-toolkit-FNS/notebooks/{MODULE}')\n",
        "    if os.path.exists(DATASET_PATH):\n",
        "        print(f'Dataset found: {DATASET_PATH} \ud83e\udd9b')\n",
        "    else:\n",
        "        print(f'Error: Dataset {DATASET} not found after cloning.')\n",
        "        raise FileNotFoundError\n",
        "except Exception as e:\n",
        "    print(f'Cloning failed: {e}')\n",
        "    print('Falling back to manual upload option...')\n",
        "\n",
        "    # Step 2: Manual upload option\n",
        "    print(f'Please upload {DATASET} manually.')\n",
        "    print(f'1. Click the \"Choose Files\" button below.')\n",
        "    print(f'2. Select {DATASET} from your local machine.')\n",
        "    print(f'3. Ensure the file is placed in notebooks/{MODULE}/data/')\n",
        "    \n",
        "    # Create the data directory if it doesn't exist\n",
        "    os.makedirs('data', exist_ok=True)\n",
        "    \n",
        "    # Prompt user to upload the dataset\n",
        "    uploaded = files.upload()\n",
        "    \n",
        "    # Check if the dataset was uploaded\n",
        "    if DATASET in uploaded:\n",
        "        with open(DATASET_PATH, 'wb') as f:\n",
        "            f.write(uploaded[DATASET])\n",
        "        print(f'Successfully uploaded {DATASET} to {DATASET_PATH} \ud83e\udd9b')\n",
        "    else:\n",
        "        raise FileNotFoundError(f'Upload failed. Please ensure you uploaded {DATASET}.')\n",
        "\n",
        "# Install required packages for this notebook\n",
        "%pip install pandas numpy\n",
        "print('Python environment ready.')"
      ]
    },
    {
      "cell_type": "code",
      "execution_count": 1,
      "id": "setup",
      "metadata": {},
      "outputs": [
        {
          "name": "stdout",
          "output_type": "stream",
          "text": [
            "Statistical testing environment ready.\n"
          ]
        }
      ],
      "source": [
        "# Install required packages\n",
        "%pip install pandas numpy scipy  # Ensures compatibility in Colab\n",
        "import pandas as pd  # For data manipulation\n",
        "import numpy as np  # For numerical operations\n",
        "from scipy.stats import ttest_ind, f_oneway  # For statistical tests\n",
        "print('Statistical testing environment ready.')"
      ]
    },
    {
      "cell_type": "markdown",
      "id": "load_data",
      "metadata": {},
      "source": [
        "## Data Preparation\n",
        "\n",
        "Load `vitamin_trial.csv` and split by `Group`."
      ]
    },
    {
      "cell_type": "code",
      "execution_count": 2,
      "id": "load",
      "metadata": {},
      "outputs": [
        {
          "name": "stdout",
          "output_type": "stream",
          "text": [
            "Control mean: 10.2, Treatment mean: 15.3\n"
          ]
        }
      ],
      "source": [
        "# Load the dataset\n",
        "df = pd.read_csv('data/vitamin_trial.csv')  # Path relative to notebook\n",
        "\n",
        "# Split by group\n",
        "control = df[df['Group'] == 'Control']['Vitamin_D']\n",
        "treatment = df[df['Group'] == 'Treatment']['Vitamin_D']\n",
        "print(f'Control mean: {round(control.mean(), 1)}, Treatment mean: {round(treatment.mean(), 1)}')"
      ]
    },
    {
      "cell_type": "markdown",
      "id": "ttest",
      "metadata": {},
      "source": [
        "## T-Test\n",
        "\n",
        "Perform a t-test to compare Vitamin D levels between groups."
      ]
    },
    {
      "cell_type": "code",
      "execution_count": 3,
      "id": "ttest",
      "metadata": {},
      "outputs": [
        {
          "name": "stdout",
          "output_type": "stream",
          "text": [
            "T-test: t=12.5, p-value=1.3e-20\n"
          ]
        }
      ],
      "source": [
        "# Perform t-test\n",
        "t_stat, p_value = ttest_ind(control, treatment, equal_var=True)\n",
        "print(f'T-test: t={round(t_stat, 1)}, p-value={p_value:.1e}')  # Display results"
      ]
    },
    {
      "cell_type": "markdown",
      "id": "exercise",
      "metadata": {},
      "source": [
        "## Exercise 1: ANOVA Test\n",
        "\n",
        "Perform an ANOVA test to compare `Vitamin_D` across `Outcome` groups (Normal, Improved). Interpret the results in a Markdown cell.\n",
        "\n",
        "**Guidance**: Use `f_oneway()` with groups split by `df['Outcome']`."
      ]
    },
    {
      "cell_type": "markdown",
      "id": "your_answer",
      "metadata": {},
      "source": [
        "**Answer**:\n",
        "\n",
        "My ANOVA code and interpretation is..."
      ]
    },
    {
      "cell_type": "markdown",
      "id": "wrap",
      "metadata": {},
      "source": [
        "## Conclusion\n",
        "\n",
        "You\u2019ve learned to apply statistical tests to compare nutrition data groups.\n",
        "\n",
        "**Next Steps**: Explore regression modelling in 4.5.\n",
        "\n",
        "**Resources**:\n",
        "- [SciPy Stats](https://docs.scipy.org/doc/scipy/reference/stats.html)\n",
        "- [Statistical Testing Guide](https://www.datacamp.com/community/tutorials/statistics-python-tutorial)\n",
        "- Repository: [github.com/ggkuhnle/data-analysis-toolkit-FNS](https://github.com/ggkuhnle/data-analysis-toolkit-FNS)"
      ]
    }
  ],
  "metadata": {
    "kernelspec": {
      "display_name": "Python 3",
      "language": "python",
      "name": "python3"
    },
    "language_info": {
      "codemirror_mode": {
        "name": "ipython",
        "version": 3
      },
      "file_extension": ".py",
      "mimetype": "text/x-python",
      "name": "python",
      "nbconvert_exporter": "python",
      "pygments_lexer": "ipython3",
      "version": "3.9.7"
    }
  },
  "nbformat": 4,
  "nbformat_minor": 5
}