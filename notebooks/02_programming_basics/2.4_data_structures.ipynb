{
  "cells": [
    {
      "cell_type": "markdown",
      "metadata": {},
      "source": [
        "# 📊 2.4 Data Structures\n",
        "\n",
        "This notebook introduces Python data structures — lists, tuples, sets, dictionaries, NumPy arrays, and pandas DataFrames — for organizing and analysing nutrition data.\n",
        "\n",
        "**Objectives**:\n",
        "- Use **lists**, **tuples**, and **sets** to store and manipulate nutrient data.\n",
        "- Work with **dictionaries** for labelled data.\n",
        "- Perform numerical operations with **NumPy arrays** and **list comprehensions**.\n",
        "- Explore **pandas DataFrames** for tabular data and read real CSV files.\n",
        "- **Convert** between different data structures.\n",
        "\n",
        "**Context**: Data structures are the backbone of nutrition datasets, like NDNS or hippo diet logs.\n",
        "\n",
        "<details><summary>Fun Fact</summary>\n",
        "A DataFrame is like a hippo’s pantry — everything neatly organised for quick access! 🦛\n",
        "</details>"
      ]
    },
    {
      "cell_type": "code",
      "execution_count": null,
      "metadata": {},
      "outputs": [],
      "source": [
        "# Setup: install & import core libraries\n",
        "%pip install pandas numpy  # install if needed\n",
        "import pandas as pd\n",
        "import numpy as np\n",
        "print('Python environment ready.')"
      ]
    },
    {
      "cell_type": "markdown",
      "metadata": {},
      "source": [
        "## 📦 What Are Data Structures?\n",
        "\n",
        "When working with data — nutrient intakes, participant IDs, or sensory scores — we need containers to **store**, **organise**, and **manipulate** it. Different structures suit different tasks:\n",
        "\n",
        "- **List**: ordered collection of items (like a shopping list).\n",
        "- **Tuple**: immutable sequence (fixed recipe steps).\n",
        "- **Set**: unordered collection of unique elements.\n",
        "- **Dictionary**: key–value pairs (like nutrition labels).\n",
        "- **NumPy array**: fast numerical arrays (like spreadsheets optimized for math).\n",
        "- **pandas DataFrame**: tabular data (rows + columns, like Excel/R tables).\n",
        "\n",
        "In this notebook, we’ll explore each and see how they apply to nutrition research."
      ]
    },
    {
      "cell_type": "markdown",
      "metadata": {},
      "source": [
        "## 🧺 Lists in Python\n",
        "\n",
        "A **list** holds an ordered collection of items, which you can modify, extend, and iterate over.\n",
        "\n",
        "### ▶ Creating & Accessing\n",
        "```python\n",
        "# Daily calcium intakes for hippos (mg)\n",
        "calcium_intakes = [1200, 1150, 1250]\n",
        "\n",
        "print(calcium_intakes[0])   # First element\n",
        "print(calcium_intakes[-1])  # Last element\n",
        "```\n",
        "\n",
        "### ▶ Common Operations\n",
        "```python\n",
        "len(calcium_intakes)        # Number of items\n",
        "sum(calcium_intakes)        # Total intake\n",
        "max(calcium_intakes)        # Highest value\n",
        "\n",
        "calcium_intakes.append(1180)     # Add new intake\n",
        "calcium_intakes[1] = 1190        # Update second value\n",
        "calcium_intakes.remove(1250)     # Remove a value\n",
        "```\n",
        "\n",
        "### ▶ List Comprehension vs. NumPy\n",
        "```python\n",
        "# Python list comprehension\n",
        "kilojoules = [c * 4.184 for c in calcium_intakes]\n",
        "print(kilojoules)\n",
        "\n",
        "# Equivalent NumPy operation\n",
        "kj_array = np.array(calcium_intakes) * 4.184\n",
        "print(kj_array)\n",
        "```\n",
        "\n",
        "<details><summary>💡 Advanced Tip</summary>\n",
        "Lists can store mixed types, even nested lists:\n",
        "```python\n",
        "mixed = ['apple', 3.5, True, [1,2,3]]\n",
        "```\n",
        "</details>"
      ]
    },
    {
      "cell_type": "markdown",
      "metadata": {},
      "source": [
        "## 🧪 Exercise: List Practice\n",
        "\n",
        "1. Create a list of iron intakes for three hippos (`8.2`, `7.9`, `8.5`).\n",
        "2. Print the full list.\n",
        "3. Access and print the second value.\n",
        "4. Add another intake (`8.1`).\n",
        "5. Calculate and print the average.\n",
        "\n",
        "_Hint_: `average = sum(my_list) / len(my_list)`"
      ]
    },
    {
      "cell_type": "code",
      "execution_count": null,
      "metadata": {},
      "outputs": [],
      "source": [
        "# Your code here"
      ]
    },
    {
      "cell_type": "markdown",
      "metadata": {},
      "source": [
        "## 🔗 Tuples & Sets\n",
        "\n",
        "- **Tuple**: immutable ordered sequence. Good for fixed collections (e.g. coordinate pairs).\n",
        "- **Set**: unordered collection of unique items. Useful to remove duplicates.\n",
        "\n",
        "```python\n",
        "# Tuple example\n",
        "hippo_ids = ('H1', 'H2', 'H3')\n",
        "\n",
        "# Set example\n",
        "nutrients = {'Iron', 'Calcium', 'Protein', 'Iron'}  # 'Iron' appears once\n",
        "print(hippo_ids)\n",
        "print(nutrients)\n",
        "```"
      ]
    },
    {
      "cell_type": "markdown",
      "metadata": {},
      "source": [
        "## 🧪 Exercise: Tuples & Sets\n",
        "\n",
        "1. Create a tuple of unique hippo IDs: `('H1','H2','H3','H2')` and print it.\n",
        "2. Create a set from the list `['apple','banana','apple','carrot']` and print the result."
      ]
    },
    {
      "cell_type": "code",
      "execution_count": null,
      "metadata": {},
      "outputs": [],
      "source": [
        "# Your code here"
      ]
    },
    {
      "cell_type": "markdown",
      "metadata": {},
      "source": [
        "## 📚 Dictionaries\n",
        "\n",
        "Store **key–value** pairs for labelled data.\n",
        "\n",
        "```python\n",
        "hippo_nutrients = {\n",
        "    'Iron': 8.2,\n",
        "    'Calcium': 1200,\n",
        "    'Protein': 80.5\n",
        "}\n",
        "print(hippo_nutrients['Calcium'])  # 1200\n",
        "\n",
        "# Add/update/remove\n",
        "hippo_nutrients['Vitamin C'] = 90\n",
        "hippo_nutrients['Iron'] = 8.5\n",
        "del hippo_nutrients['Protein']\n",
        "\n",
        "# Looping\n",
        "for k, v in hippo_nutrients.items():\n",
        "    print(f'{k}: {v}')\n",
        "```"
      ]
    },
    {
      "cell_type": "markdown",
      "metadata": {},
      "source": [
        "## 🧪 Exercise: Build a Dictionary\n",
        "\n",
        "Create `hippo_H5` with:\n",
        "- `'Calories'`: 2500  \n",
        "- `'Protein'`: 82.0  \n",
        "- `'Water'`: 3500  \n",
        "\n",
        "Print it, then update `'Water'` to `3600`."
      ]
    },
    {
      "cell_type": "code",
      "execution_count": null,
      "metadata": {},
      "outputs": [],
      "source": [
        "# Your code here"
      ]
    },
    {
      "cell_type": "markdown",
      "metadata": {},
      "source": [
        "## 🧮 NumPy Arrays\n",
        "\n",
        "Fast, vectorised arrays for numerical computing.\n",
        "\n",
        "```python\n",
        "import numpy as np\n",
        "iron = np.array([8.2, 7.9, 8.5])\n",
        "print(iron + 1)           # [9.2, 8.9, 9.5]\n",
        "print(np.mean(iron))      # 8.866...\n",
        "```"
      ]
    },
    {
      "cell_type": "markdown",
      "metadata": {},
      "source": [
        "## 🧪 Exercise: NumPy Practice\n",
        "\n",
        "1. Create `calcium = np.array([1200,1150,1250])`  \n",
        "2. Print it and its type.  \n",
        "3. Compute the mean.  \n",
        "4. Convert to grams (`*0.001`).  \n",
        "5. Access the last element."
      ]
    },
    {
      "cell_type": "code",
      "execution_count": null,
      "metadata": {},
      "outputs": [],
      "source": [
        "# Your code here"
      ]
    },
    {
      "cell_type": "markdown",
      "metadata": {},
      "source": [
        "## 🐼 pandas DataFrames\n",
        "\n",
        "Tabular data like spreadsheets.\n",
        "\n",
        "```python\n",
        "# From a dict\n",
        "data = {\n",
        "  'ID': ['H1','H2','H3'],\n",
        "  'Calories': [2500,2450,2600],\n",
        "  'Protein': [80.5,78.0,85.2]\n",
        "}\n",
        "df = pd.DataFrame(data)\n",
        "print(df.head())\n",
        "\n",
        "# From a CSV\n",
        "df2 = pd.read_csv('data/hippo_diets.csv')\n",
        "df2.head()\n",
        "```"
      ]
    },
    {
      "cell_type": "markdown",
      "metadata": {},
      "source": [
        "## 🧪 Exercise: DataFrame Practice\n",
        "\n",
        "1. Create a DataFrame for hippos H4/H5 with Calories, Protein, Water.\n",
        "2. Read `hippo_diets.csv`, show first 5 rows.\n",
        "3. Filter rows where Calories > 2500."
      ]
    },
    {
      "cell_type": "code",
      "execution_count": null,
      "metadata": {},
      "outputs": [],
      "source": [
        "# Your code here"
      ]
    },
    {
      "cell_type": "markdown",
      "metadata": {},
      "source": [
        "## 🔄 Converting Between Structures\n",
        "\n",
        "- `list → array`: `np.array(my_list)`  \n",
        "- `array → list`: `my_array.tolist()`  \n",
        "- `dict → DataFrame`: `pd.DataFrame([my_dict])`  \n",
        "- `DataFrame → dict`: `df.to_dict(orient='records')`\n"
      ]
    },
    {
      "cell_type": "markdown",
      "metadata": {},
      "source": [
        "## 📋 Summary\n",
        "\n",
        "| Structure       | Ordered? | Mutable? | When to Use                                      |\n",
        "|-----------------|----------|----------|--------------------------------------------------|\n",
        "| **List**        | Yes      | Yes      | Ordered collections, simple sequences            |\n",
        "| **Tuple**       | Yes      | No       | Fixed sequences, safe keys for dicts             |\n",
        "| **Set**         | No       | Yes      | Unique elements, membership tests                |\n",
        "| **Dictionary**  | No       | Yes      | Labelled data, fast lookups by key               |\n",
        "| **NumPy Array** | Yes      | Yes      | Fast numerical operations, vectorisation         |\n",
        "| **DataFrame**   | Yes      | Yes      | Tabular data with mixed types and rich methods   |\n",
        "\n",
        "**Next:** Dive into object oriented programming in `2.4_oop_basics.ipynb` 🦛"
      ]
    }
  ],
  "metadata": {
    "kernelspec": {
      "display_name": "Python 3",
      "language": "python",
      "name": "python3"
    },
    "language_info": {
      "name": "python",
      "version": "3.9"
    }
  },
  "nbformat": 4,
  "nbformat_minor": 5
}
