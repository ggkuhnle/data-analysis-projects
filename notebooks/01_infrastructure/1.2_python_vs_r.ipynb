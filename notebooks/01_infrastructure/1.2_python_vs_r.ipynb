{
  "cells": [
    {
      "cell_type": "markdown",
      "id": "intro",
      "metadata": {},
      "source": [
        "# 🧮 1.2 Python vs R vs Other Tools for Nutrition Data Analysis\n",
        "\n",
        "This notebook compares Python, R, SPSS, and XLStat as tools for data analysis in food and nutrition sciences, helping MSc students choose the right tool for their research.\n",
        "\n",
        "**Objectives**:\n",
        "\n",
        "- Understand the strengths and weaknesses of Python, R, SPSS, and XLStat.\n",
        "- Perform a simple analysis in Python using `hippo_diets.csv`.\n",
        "- Reflect on tool selection for nutrition research (e.g., NDNS analysis).\n",
        "\n",
        "**Context**: Nutrition studies often require robust data analysis tools. Python offers flexibility, R excels in statistical packages, SPSS provides a user-friendly interface, and XLStat integrates with Excel for sensory analysis. Choosing the right tool depends on your project needs!\n",
        "\n",
        "<details><summary>Fun Fact</summary>\n",
        "Choosing a tool is like a hippo picking its favourite snack—carrots, fruit, or a mix of both might suit different tastes! 🦛\n",
        "</details>"
      ]
    },
    {
      "cell_type": "markdown",
      "id": "49a1985c",
      "metadata": {},
      "source": [
        "## 🧰 What Do We Mean by “Tools”?\n",
        "\n",
        "In data science, a **tool** is a program or environment that helps you:\n",
        "- Load and clean data\n",
        "- Perform calculations and analysis\n",
        "- Visualise or report results\n",
        "\n",
        "You’ve probably used some already — Excel, SPSS, R, or Python.  \n",
        "Each tool has different strengths depending on the *kind of problem* and *how much flexibility or automation* you need.\n",
        "\n",
        "Choosing a tool is part of being a thoughtful data analyst — like choosing the right lab equipment!\n"
      ]
    },
    {
      "cell_type": "markdown",
      "id": "comparison",
      "metadata": {},
      "source": [
        "## 💡 Tool Comparison\n",
        "\n",
        "Here’s a detailed comparison of Python, R, SPSS, and XLStat, focusing on their use in nutrition data analysis:\n",
        "\n",
        "| Tool      | Strengths                          | Limitations                     | Best For                        |\n",
        "|-----------|------------------------------------|----------------------------------|---------------------------------|\n",
        "| **Python** | Open-source, general-purpose, readable, supports automation, machine learning, and large datasets | Requires coding knowledge, slightly more setup | Pipelines, dashboards, reproducible workflows, NDNS analysis |\n",
        "| **R**      | Excellent statistical packages (e.g., `ggplot2`, `dplyr`), built-in stats functions, visualisation | Less general-purpose, steeper learning curve for non-stats tasks | Statistical analysis, visualisation, epidemiology studies |\n",
        "| **SPSS**   | User-friendly GUI, menu-driven stats, widely used in social sciences and nutrition | Limited flexibility, expensive, poor reproducibility (manual steps) | Quick statistical tests, small studies, users preferring GUI |\n",
        "| **XLStat** | Integrates with Excel, excellent for sensory analysis and multivariate stats, user-friendly | Expensive, closed environment, limited scripting, tied to Excel’s limitations | Sensory evaluation, Excel-based workflows, quick multivariate analysis |\n",
        "\n",
        "**Detailed Differences**:\n",
        "\n",
        "#### 🔧 **Usability**: \n",
        "  - Python and R require coding but offer flexibility and reproducibility. Python’s syntax (e.g., `pandas`) is often more intuitive for beginners, while R’s statistical functions (e.g., `summary()`) are straightforward for stats tasks.\n",
        "  - SPSS uses a graphical interface, making it accessible for non-coders, but manual steps (e.g., clicking menus) hinder automation. For example, running an ANOVA in SPSS involves selecting options through menus, which isn’t logged as code.\n",
        "  - XLStat also uses a GUI within Excel, ideal for users comfortable with spreadsheets. It simplifies tasks like principal component analysis (PCA) for sensory data but lacks the depth of Python or R for custom analyses.\n",
        "\n",
        "#### 🔄 **Reproducibility**:\n",
        "  - Python and R excel here—code can be shared and rerun exactly (e.g., this notebook!). Python’s `pandas` and R’s `dplyr` allow scripted workflows.\n",
        "  - SPSS and XLStat struggle with reproducibility. SPSS can generate syntax, but it’s often an afterthought, and XLStat’s Excel integration means steps are buried in spreadsheet operations, making them error-prone and hard to replicate.\n",
        "\n",
        "#### 💷 **Cost**:\n",
        "  - Python and R are free and open-source, making them accessible for students and researchers.\n",
        "  - SPSS and XLStat are commercial. SPSS requires a costly licence, often prohibitive for individuals, though universities may provide access. XLStat also requires a paid licence, adding to Excel’s cost, which can be a barrier for small research groups.\n",
        "\n",
        "#### 🤸 **Flexibility**:\n",
        "  - Python is the most flexible, supporting everything from data cleaning (`pandas`) to machine learning (`scikit-learn`) and dashboards (`Dash`). It’s ideal for building end-to-end pipelines in nutrition research.\n",
        "  - R is strong for statistical modelling and visualisation but less suited for non-stats tasks like web apps.\n",
        "  - SPSS is rigid—its GUI limits customisation, and scripting is clunky. It’s best for standard statistical tests (e.g., t-tests, ANOVA).\n",
        "  - XLStat offers flexibility within Excel’s ecosystem, with modules for sensory analysis, but it’s constrained by Excel’s limitations (e.g., handling large datasets, automation).\n",
        "\n",
        "**Why Python for This Toolkit?**  \n",
        "Python is our choice because it’s free, supports reproducible workflows, and can handle everything from small scripts to large nutrition data pipelines (e.g., NDNS analysis). It’s also widely used in modern research, making it a valuable skill for MSc students!"
      ]
    },
    {
      "cell_type": "markdown",
      "id": "5bcb37e8",
      "metadata": {},
      "source": [
        "## 🍽️ Common Use Cases in Food & Nutrition Sciences\n",
        "\n",
        "| Scenario                                  | Best Tool |\n",
        "|-------------------------------------------|-----------|\n",
        "| Analysing NDNS dietary intake data        | 🐍 Python, 📊 R |\n",
        "| Quick t-test for nutrient intervention    | 📋 SPSS |\n",
        "| Multivariate PCA for sensory scores       | 📈 XLStat |\n",
        "| Creating automated plots and reports      | 🐍 Python |\n",
        "| Statistical model for food safety risk    | 📊 R |\n",
        "\n"
      ]
    },
    {
      "cell_type": "markdown",
      "id": "car_analogy",
      "metadata": {},
      "source": [
        "## 🚗 Fun Analogy: If Statistics Tools Were Cars…\n",
        "\n",
        "To lighten things up, here’s a humorous take on these tools as cars, reflecting their characteristics in data analysis:\n",
        "\n",
        "![If statistics programs/languages were cars](images/statistics.png)\n",
        "\n",
        "- **Excel**: A broken-down car—familiar but unreliable for serious analysis due to errors and lack of reproducibility.\n",
        "- **SPSS**: An old station wagon—functional for basic stats but outdated and slow for modern research needs.\n",
        "- **Python**: A sleek Tesla—modern, versatile, and powerful, perfect for cutting-edge nutrition research.\n",
        "- **R**: A Mad Max-style armoured vehicle—robust for stats but complex and intimidating for beginners.\n",
        "- **Stata**: A reliable SUV—practical and user-friendly, though not as flexible as Python or R.\n",
        "- **Minitab**: A small hatchback—basic and limited, suitable for quick tasks but not heavy lifting.\n",
        "- **SAS**: A classic luxury car—powerful and expensive, often overkill for most nutrition studies.\n",
        "\n",
        "**Note**: SPSS and XLStat aren’t shown in the image, but we’d imagine SPSS as a dependable but clunky minivan (user-friendly but not agile) and XLStat as a modified Excel car—handy for specific tasks but constrained by its base model (Excel)!"
      ]
    },
    {
      "cell_type": "markdown",
      "id": "1e32a656",
      "metadata": {},
      "source": [
        "## 🧭 Tool Selection Guide\n",
        "\n",
        "Use this quick decision tree to help choose a data analysis tool based on your preferences:\n",
        "\n",
        "```\n",
        "Are you comfortable writing code?\n",
        "├── ❌ No\n",
        "│   ├── Prefer Excel?               → ✅ XLStat\n",
        "│   └── Prefer menu-based stats?   → ✅ SPSS\n",
        "└── ✅ Yes\n",
        "    ├── Focus on statistics/plots? → ✅ R\n",
        "    └── Need automation/flexibility? → ✅ Python\n",
        "```\n",
        "\n",
        "---\n",
        "\n",
        "## 🍽️ Common Use Cases in Food & Nutrition Sciences\n",
        "\n",
        "| Scenario | Best Tool |\n",
        "|----------|-----------|\n",
        "| Analysing NDNS dietary intake data | Python, R |\n",
        "| Quick t-test for nutrient intervention | SPSS |\n",
        "| Multivariate PCA for sensory scores | XLStat |\n",
        "| Creating automated plots and reports | Python |\n",
        "| Statistical model for food safety risk | R |\n",
        "\n",
        "--- \n",
        "\n",
        "**Tip**: There's no perfect tool — it depends on your project, dataset size, goals, and your own learning style!\n",
        "\n",
        "<details>\n",
        "<summary>🦛</summary> \n",
        "*Hippo says: \"Use the tool that gets you moving, not just the one with the flashiest horn.\"*</summary>\n"
      ]
    },
    {
      "cell_type": "code",
      "execution_count": null,
      "id": "colab_setup",
      "metadata": {},
      "outputs": [],
      "source": [
        "# Setup for Google Colab: Fetch datasets automatically or manually\n",
        "%run ../../bootstrap.py    # installs requirements + editable package\n",
        "\n",
        "import fns_toolkit as fns\n",
        "\n",
        "import pandas as pd  # For data manipulation\n",
        "import numpy as np  # For numerical operations"
      ]
    },
    {
      "cell_type": "markdown",
      "id": "analysis",
      "metadata": {},
      "source": [
        "## Python Analysis Example\n",
        "\n",
        "Let’s perform a simple analysis in Python using `hippo_diets.csv` to compute summary statistics for calories and protein. This mirrors what you might do in R, SPSS, or XLStat, but with Python’s reproducible code."
      ]
    },
    {
      "cell_type": "code",
      "execution_count": null,
      "id": "stats",
      "metadata": {},
      "outputs": [],
      "source": [
        "\n",
        "df = fns.get_dataset('hippo_diets')\n",
        "\n",
        "# Compute summary statistics for Calories and Protein columns\n",
        "# .describe() generates stats like count, mean, std, min, max\n",
        "# We select specific rows for clarity\n",
        "summary = df[['Calories', 'Protein']].describe().loc[['count', 'mean', 'std', 'min', 'max']]\n",
        "print(summary)  # Display the summary statistics"
      ]
    },
    {
      "cell_type": "markdown",
      "id": "compare_methods",
      "metadata": {},
      "source": [
        "## How Other Tools Would Do This\n",
        "\n",
        "**R**:\n",
        "In R, you’d use `summary()` for similar stats:\n",
        "```r\n",
        "df <- read.csv('data/hippo_diets.csv')\n",
        "summary(df[, c('Calories', 'Protein')])\n",
        "```\n",
        "R’s output includes quartiles (e.g., 25%, 50%, 75%), which Python’s `describe()` also provides but we filtered out for brevity.\n",
        "\n",
        "**SPSS**:\n",
        "In SPSS, you’d:\n",
        "1. Import `hippo_diets.csv` via File > Open > Data.\n",
        "2. Go to Analyze > Descriptive Statistics > Frequencies.\n",
        "3. Select `Calories` and `Protein`, then click Statistics to choose mean, std, min, max.\n",
        "4. Run and view results in the Output window.\n",
        "This is user-friendly but manual—steps aren’t scripted, making it hard to reproduce.\n",
        "\n",
        "**XLStat**:\n",
        "In XLStat (within Excel):\n",
        "1. Open `hippo_diets.csv` in Excel.\n",
        "2. Go to XLStat > Describing Data > Descriptive Statistics.\n",
        "3. Select `Calories` and `Protein` columns, choose stats (mean, std, etc.), and run.\n",
        "4. Results appear in a new Excel sheet.\n",
        "This is quick for Excel users but limited by Excel’s scalability and lack of scripting."
      ]
    },
    {
      "cell_type": "markdown",
      "id": "exercise",
      "metadata": {},
      "source": [
        "## 🧪 Exercises\n",
        "\n",
        "1. **Compare Outputs**: Run the Python code above. How does Python’s `describe()` output compare to what you’d expect from R’s `summary()`, SPSS’s Frequencies, or XLStat’s Descriptive Statistics? Write your thoughts in a Markdown cell below. Consider ease of use, output format, and reproducibility.\n",
        "\n",
        "2. **Calculate a Median**: Write a Python script to calculate the median of `[1, 2, 3, 4, 100]`. How would you do this in SPSS or XLStat? (Hint: SPSS uses Analyze > Descriptive Statistics; XLStat uses Describing Data > Descriptive Statistics.)\n",
        "\n",
        "3. **Research Tools**: Choose one tool (SPSS or XLStat) and Google “<tool> vs Python for nutrition data analysis”. Summarise your findings in a Markdown cell. How does this influence your tool choice for a project like NDNS analysis?\n",
        "\n",
        "**Guidance**: Use the comparison table and car analogy to reflect on which tool suits your research needs!"
      ]
    },
    {
      "cell_type": "markdown",
      "id": "your_answer",
      "metadata": {},
      "source": [
        "**Your Answers**:\n",
        "\n",
        "**Exercise 1: Compare Outputs**  \n",
        "Python’s `describe()` provides...\n",
        "\n",
        "**Exercise 2: Calculate Median**  \n",
        "[Write your Python code and compare with SPSS/XLStat]\n",
        "\n",
        "**Exercise 3: Research Tools**  \n",
        "[Summarise your findings here]"
      ]
    },
    {
      "cell_type": "markdown",
      "id": "wrap",
      "metadata": {},
      "source": [
        "## Conclusion\n",
        "\n",
        "You’ve compared Python, R, SPSS, and XLStat for nutrition data analysis and performed a Python analysis with `hippo_diets.csv`. Python’s flexibility and reproducibility make it ideal for this toolkit, but R, SPSS, and XLStat have their strengths—R for stats, SPSS for GUI users, and XLStat for Excel-based sensory analysis.\n",
        "\n",
        "**Next Steps**: Explore version control with Git in `1.3_intro_to_git.ipynb`.\n",
        "\n",
        "**Resources**:\n",
        "- [Python Documentation](https://docs.python.org/3/)\n",
        "- [R Project](https://www.r-project.org/)\n",
        "- [SPSS Overview](https://www.ibm.com/products/spss-statistics)\n",
        "- [XLStat Features](https://www.xlstat.com/en/)\n",
        "- Repository: [github.com/ggkuhnle/data-analysis-toolkit-FNS](https://github.com/ggkuhnle/data-analysis-toolkit-FNS)"
      ]
    }
  ],
  "metadata": {
    "kernelspec": {
      "display_name": "Python 3",
      "language": "python",
      "name": "python3"
    },
    "language_info": {
      "codemirror_mode": {
        "name": "ipython",
        "version": 3
      },
      "file_extension": ".py",
      "mimetype": "text/x-python",
      "name": "python",
      "nbconvert_exporter": "python",
      "pygments_lexer": "ipython3",
      "version": "3.9.7"
    }
  },
  "nbformat": 4,
  "nbformat_minor": 5
}
