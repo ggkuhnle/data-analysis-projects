{
 "cells": [
  {
   "cell_type": "markdown",
   "id": "3ef96bfe",
   "metadata": {},
   "source": [
    "# 📈 Regression and Correlation\n",
    "\n",
    "Linear regression using statsmodels.\n",
    "```python\n",
    "import statsmodels.api as sm\n",
    "```"
   ]
  }
 ],
 "metadata": {},
 "nbformat": 4,
 "nbformat_minor": 5
}
