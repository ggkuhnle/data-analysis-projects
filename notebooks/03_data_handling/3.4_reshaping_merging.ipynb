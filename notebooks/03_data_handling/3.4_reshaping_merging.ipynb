{
  "cells": [
    {
      "cell_type": "markdown",
      "id": "intro",
      "metadata": {},
      "source": [
        "# 🔄 3.4 Data Transformation\n",
        "\n",
        "This notebook explores data transformation techniques to prepare nutrition datasets for analysis.\n",
        "\n",
        "**Objectives**:\n",
        "- Filter and group data for insights.\n",
        "- Pivot data for alternative views.\n",
        "- Transform `hippo_nutrients.csv` for analysis.\n",
        "\n",
        "**Context**: Transformation enables meaningful insights from nutrition data, like comparing nutrient intakes across groups.\n",
        "\n",
        "<details><summary>Fun Fact</summary>\n",
        "Transforming data is like a hippo rearranging its snacks—same stuff, better view! 🦛\n",
        "</details>"
      ]
    },
    {
      "cell_type": "code",
      "execution_count": null,
      "id": "colab_setup",
      "metadata": {},
      "outputs": [],
      "source": [
        "# Setup for Google Colab: Fetch datasets automatically or manually\n",
        "%run ../../bootstrap.py    # installs requirements + editable package\n",
        "\n",
        "import fns_toolkit as fns\n",
        "\n",
        "import pandas as pd\n",
        "import numpy as np\n",
        "import matplotlib.pyplot as plt\n",
        "\n",
        "print('Environment ready.')"
      ]
    },
    {
      "cell_type": "markdown",
      "id": "load_data",
      "metadata": {},
      "source": [
        " ## Data Preparation\n",
        "\n",
        "Load `hippo_nutrients.csv` and inspect its structure."
      ]
    },
    {
      "cell_type": "code",
      "execution_count": null,
      "id": "load",
      "metadata": {},
      "outputs": [
        {
          "name": "stdout",
          "output_type": "stream",
          "text": [
            "   ID Nutrient  Year  Value  Age Sex\n",
            "0  H1     Iron  2024    8.2   25   F\n",
            "1  H1     Iron  2025    8.5   26   F\n"
          ]
        }
      ],
      "source": [
        "# Load the dataset\n",
        "df = fns.get_dataset('hippo_nutrients')  # Path relative to notebook\n",
        "print(df.head(2))  # Display first two rows"
      ]
    },
    {
      "cell_type": "markdown",
      "id": "filter",
      "metadata": {},
      "source": [
        "## Filtering Data\n",
        "\n",
        "Filter for female hippos and Iron intakes."
      ]
    },
    {
      "cell_type": "code",
      "execution_count": 3,
      "id": "filter",
      "metadata": {},
      "outputs": [
        {
          "name": "stdout",
          "output_type": "stream",
          "text": [
            "   ID Nutrient  Year  Value  Age Sex\n",
            "0  H1     Iron  2024    8.2   25   F\n",
            "1  H1     Iron  2025    8.5   26   F\n"
          ]
        }
      ],
      "source": [
        "# Filter for female hippos and Iron\n",
        "df_female_iron = df[(df['Sex'] == 'F') & (df['Nutrient'] == 'Iron')]\n",
        "print(df_female_iron.head(2))  # Display filtered data"
      ]
    },
    {
      "cell_type": "markdown",
      "id": "group",
      "metadata": {},
      "source": [
        "## Grouping Data\n",
        "\n",
        "Group by `Nutrient` and calculate mean `Value`."
      ]
    },
    {
      "cell_type": "code",
      "execution_count": 4,
      "id": "group",
      "metadata": {},
      "outputs": [
        {
          "name": "stdout",
          "output_type": "stream",
          "text": [
            "Nutrient\n",
            "Calcium     1150.0\n",
            "Iron           8.0\n",
            "Vitamin_D     10.5\n",
            "Name: Value, dtype: float64\n"
          ]
        }
      ],
      "source": [
        "# Group by nutrient and compute mean\n",
        "mean_values = df.groupby('Nutrient')['Value'].mean()\n",
        "print(mean_values)  # Display mean values"
      ]
    },
    {
      "cell_type": "markdown",
      "id": "pivot",
      "metadata": {},
      "source": [
        " ## Pivoting Data\n",
        "\n",
        "Pivot the data to show `Value` by `Nutrient` and `Year`."
      ]
    },
    {
      "cell_type": "code",
      "execution_count": 5,
      "id": "pivot",
      "metadata": {},
      "outputs": [
        {
          "name": "stdout",
          "output_type": "stream",
          "text": [
            "Year      2024  2025\n",
            "Nutrient            \n",
            "Calcium   1150  1140\n",
            "Iron         8     8\n",
            "Vitamin_D   10    11\n"
          ]
        }
      ],
      "source": [
        "# Pivot data\n",
        "df_pivot = df.pivot_table(values='Value', index='Nutrient', columns='Year', aggfunc='mean')\n",
        "print(df_pivot)  # Display pivoted data"
      ]
    },
    {
      "cell_type": "markdown",
      "id": "exercise",
      "metadata": {},
      "source": [
        " ## Exercise 1: Transform Data\n",
        "\n",
        "Filter for Vitamin_D data in 2024, group by `Sex`, and compute median `Value`. Document your code.\n",
        "\n",
        "**Guidance**: Use `df[(df['Nutrient'] == 'Vitamin_D') & (df['Year'] == 2024)]` and `groupby('Sex')['Value'].median()`."
      ]
    },
    {
      "cell_type": "markdown",
      "id": "your_answer",
      "metadata": {},
      "source": [
        "**Answer**:\n",
        "\n",
        "My transformation code is..."
      ]
    },
    {
      "cell_type": "markdown",
      "id": "wrap",
      "metadata": {},
      "source": [
        "## Conclusion\n",
        "\n",
        "You’ve learned to transform nutrition data through filtering, grouping, and pivoting.\n",
        "\n",
        "**Next Steps**: Explore data aggregation in 3.5.\n",
        "\n",
        "**Resources**:\n",
        "- [Pandas GroupBy](https://pandas.pydata.org/docs/user_guide/groupby.html)\n",
        "- [Pandas Pivot](https://pandas.pydata.org/docs/user_guide/reshaping.html)\n",
        "- Repository: [github.com/ggkuhnle/data-analysis-toolkit-FNS](https://github.com/ggkuhnle/data-analysis-toolkit-FNS)"
      ]
    }
  ],
  "metadata": {
    "kernelspec": {
      "display_name": "Python 3",
      "language": "python",
      "name": "python3"
    },
    "language_info": {
      "codemirror_mode": {
        "name": "ipython",
        "version": 3
      },
      "file_extension": ".py",
      "mimetype": "text/x-python",
      "name": "python",
      "nbconvert_exporter": "python",
      "pygments_lexer": "ipython3",
      "version": "3.9.7"
    }
  },
  "nbformat": 4,
  "nbformat_minor": 5
}
