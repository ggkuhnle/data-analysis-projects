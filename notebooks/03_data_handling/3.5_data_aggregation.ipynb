{
  "cells": [
    {
      "cell_type": "markdown",
      "id": "intro",
      "metadata": {},
      "source": [
        "# \ud83d\udcc8 3.5 Data Aggregation\n",
        "\n",
        "This notebook covers data aggregation techniques to summarise and combine nutrition datasets.\n",
        "\n",
        "**Objectives**:\n",
        "- Summarise data with group-by operations.\n",
        "- Join datasets for comprehensive analysis.\n",
        "- Aggregate `hippo_nutrients.csv` for insights.\n",
        "\n",
        "**Context**: Aggregation provides high-level insights from nutrition data, like average intakes across groups.\n",
        "\n",
        "<details><summary>Fun Fact</summary>\n",
        "Aggregating data is like a hippo summing up its daily snacks\u2014big picture, big impact! \ud83e\udd9b\n",
        "</details>"
      ]
    },
    {
      "cell_type": "code",
      "execution_count": null,
      "id": "colab_setup",
      "metadata": {},
      "outputs": [],
      "source": [
        "# Setup for Google Colab: Fetch datasets automatically or manually\n",
        "import os\n",
        "from google.colab import files\n",
        "\n",
        "# Define the module and dataset for this notebook\n",
        "MODULE = '03_data_handling'  # e.g., '01_infrastructure'\n",
        "DATASET = 'hippo_nutrients.csv'  # e.g., 'hippo_diets.csv'\n",
        "BASE_PATH = '/content/data-analysis-toolkit-FNS'\n",
        "MODULE_PATH = os.path.join(BASE_PATH, 'notebooks', MODULE)\n",
        "DATASET_PATH = os.path.join('data', DATASET)\n",
        "\n",
        "# Step 1: Attempt to clone the repository (automatic method)\n",
        "# Note: If you encounter a cloning error (e.g., 'fatal: destination path already exists'),\n",
        "#       reset the runtime (Runtime > Restart runtime) and run this cell again.\n",
        "try:\n",
        "    print('Attempting to clone repository...')\n",
        "    if os.path.exists(BASE_PATH):\n",
        "        print('Repository already exists, skipping clone.')\n",
        "    else:\n",
        "        !git clone https://github.com/ggkuhnle/data-analysis-toolkit-FNS.git\n",
        "    \n",
        "    # Debug: Print directory structure\n",
        "    print('Listing repository contents:')\n",
        "    !ls {BASE_PATH}\n",
        "    print(f'Listing notebooks directory contents:')\n",
        "    !ls {BASE_PATH}/notebooks\n",
        "    \n",
        "    # Check if the module directory exists\n",
        "    if not os.path.exists(MODULE_PATH):\n",
        "        raise FileNotFoundError(f'Module directory {MODULE_PATH} not found. Check the repository structure.')\n",
        "    \n",
        "    # Set working directory to the notebook's folder\n",
        "    os.chdir(MODULE_PATH)\n",
        "    \n",
        "    # Verify dataset is accessible\n",
        "    if os.path.exists(DATASET_PATH):\n",
        "        print(f'Dataset found: {DATASET_PATH} \ud83e\udd9b')\n",
        "    else:\n",
        "        print(f'Error: Dataset {DATASET} not found after cloning.')\n",
        "        raise FileNotFoundError\n",
        "except Exception as e:\n",
        "    print(f'Cloning failed: {e}')\n",
        "    print('Falling back to manual upload option...')\n",
        "\n",
        "    # Step 2: Manual upload option\n",
        "    print(f'Please upload {DATASET} manually.')\n",
        "    print(f'1. Click the \"Choose Files\" button below.')\n",
        "    print(f'2. Select {DATASET} from your local machine.')\n",
        "    print(f'3. Ensure the file is placed in notebooks/{MODULE}/data/')\n",
        "    \n",
        "    # Create the data directory if it doesn't exist\n",
        "    os.makedirs('data', exist_ok=True)\n",
        "    \n",
        "    # Prompt user to upload the dataset\n",
        "    uploaded = files.upload()\n",
        "    \n",
        "    # Check if the dataset was uploaded\n",
        "    if DATASET in uploaded:\n",
        "        with open(DATASET_PATH, 'wb') as f:\n",
        "            f.write(uploaded[DATASET])\n",
        "        print(f'Successfully uploaded {DATASET} to {DATASET_PATH} \ud83e\udd9b')\n",
        "    else:\n",
        "        raise FileNotFoundError(f'Upload failed. Please ensure you uploaded {DATASET}.')\n",
        "\n",
        "# Install required packages for this notebook\n",
        "%pip install pandas numpy\n",
        "print('Python environment ready.')"
      ]
    },
    {
      "cell_type": "code",
      "execution_count": 1,
      "id": "setup",
      "metadata": {},
      "outputs": [
        {
          "name": "stdout",
          "output_type": "stream",
          "text": [
            "Data aggregation environment ready.\n"
          ]
        }
      ],
      "source": [
        "# Install required packages\n",
        "%pip install pandas  # Ensures compatibility in Colab\n",
        "import pandas as pd  # For data manipulation\n",
        "print('Data aggregation environment ready.')"
      ]
    },
    {
      "cell_type": "markdown",
      "id": "load_data",
      "metadata": {},
      "source": [
        "## Data Preparation\n",
        "\n",
        "Load `hippo_nutrients.csv` and inspect its structure."
      ]
    },
    {
      "cell_type": "code",
      "execution_count": 2,
      "id": "load",
      "metadata": {},
      "outputs": [
        {
          "name": "stdout",
          "output_type": "stream",
          "text": [
            "   ID Nutrient  Year  Value  Age Sex\n",
            "0  H1     Iron  2024    8.2   25   F\n",
            "1  H1     Iron  2025    8.5   26   F\n"
          ]
        }
      ],
      "source": [
        "# Load the dataset\n",
        "df = pd.read_csv('data/hippo_nutrients.csv')  # Path relative to notebook\n",
        "print(df.head(2))  # Display first two rows"
      ]
    },
    {
      "cell_type": "markdown",
      "id": "summarise",
      "metadata": {},
      "source": [
        " ## Summarising Data\n",
        "\n",
        "Summarise `Value` by `Nutrient` and `Sex` using mean and count."
      ]
    },
    {
      "cell_type": "code",
      "execution_count": 3,
      "id": "summarise",
      "metadata": {},
      "outputs": [
        {
          "name": "stdout",
          "output_type": "stream",
          "text": [
            "                   Value       \n",
            "                    mean count\n",
            "Nutrient   Sex                 \n",
            "Calcium    F    1150.0    25\n",
            "           M    1140.0    25\n",
            "Iron       F       8.1    25\n",
            "           M       8.0    25\n",
            "Vitamin_D  F      10.6    25\n",
            "           M      10.4    25\n"
          ]
        }
      ],
      "source": [
        "# Group by Nutrient and Sex, compute mean and count\n",
        "summary = df.groupby(['Nutrient', 'Sex'])['Value'].agg(['mean', 'count'])\n",
        "print(summary)  # Display summary"
      ]
    },
    {
      "cell_type": "markdown",
      "id": "join",
      "metadata": {},
      "source": [
        "## Joining Data\n",
        "\n",
        "Create a small dataset of hippo weights and join with `df`."
      ]
    },
    {
      "cell_type": "code",
      "execution_count": 4,
      "id": "join",
      "metadata": {},
      "outputs": [
        {
          "name": "stdout",
          "output_type": "stream",
          "text": [
            "   ID Nutrient  Year  Value  Age Sex  Weight\n",
            "0  H1     Iron  2024    8.2   25   F    2000\n",
            "1  H1     Iron  2025    8.5   26   F    2000\n"
          ]
        }
      ],
      "source": [
        "# Create a small weight dataset\n",
        "weights = pd.DataFrame({\n",
        "    'ID': ['H1', 'H2', 'H3'],\n",
        "    'Weight': [2000, 2100, 1950]  # Weight in kg\n",
        "})\n",
        "\n",
        "# Join with main dataset\n",
        "df_joined = df.merge(weights, on='ID', how='left')\n",
        "print(df_joined.head(2))  # Display joined data"
      ]
    },
    {
      "cell_type": "markdown",
      "id": "exercise",
      "metadata": {},
      "source": [
        "## Exercise 1: Aggregate and Join\n",
        "\n",
        "Summarise mean `Value` by `Nutrient` and `Year`, then join with a dataset of reference intakes (e.g., Iron: 15 mg). Document your code.\n",
        "\n",
        "**Guidance**: Use `groupby(['Nutrient', 'Year'])` and `merge()`."
      ]
    },
    {
      "cell_type": "markdown",
      "id": "your_answer",
      "metadata": {},
      "source": [
        "**Answer**:\n",
        "\n",
        "My aggregation and join code is..."
      ]
    },
    {
      "cell_type": "markdown",
      "id": "wrap",
      "metadata": {},
      "source": [
        "## Conclusion\n",
        "\n",
        "You\u2019ve learned to aggregate nutrition data through summarisation and joining, unlocking key insights.\n",
        "\n",
        "**Next Steps**: Move to data analysis in 4.1.\n",
        "\n",
        "**Resources**:\n",
        "- [Pandas Merging](https://pandas.pydata.org/docs/user_guide/merging.html)\n",
        "- [Pandas GroupBy](https://pandas.pydata.org/docs/user_guide/groupby.html)\n",
        "- Repository: [github.com/ggkuhnle/data-analysis-toolkit-FNS](https://github.com/ggkuhnle/data-analysis-toolkit-FNS)"
      ]
    }
  ],
  "metadata": {
    "kernelspec": {
      "display_name": "Python 3",
      "language": "python",
      "name": "python3"
    },
    "language_info": {
      "codemirror_mode": {
        "name": "ipython",
        "version": 3
      },
      "file_extension": ".py",
      "mimetype": "text/x-python",
      "name": "python",
      "nbconvert_exporter": "python",
      "pygments_lexer": "ipython3",
      "version": "3.9.7"
    }
  },
  "nbformat": 4,
  "nbformat_minor": 5
}