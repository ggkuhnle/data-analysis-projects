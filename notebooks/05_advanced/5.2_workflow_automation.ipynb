{
  "cells": [
    {
      "cell_type": "markdown",
      "id": "intro",
      "metadata": {},
      "source": [
        "# ⚙️ 5.2 Workflow Automation\n",
        "\n",
        "This notebook introduces workflow automation to streamline nutrition data processing.\n",
        "\n",
        "**Objectives**:\n",
        "- Create reusable data processing functions.\n",
        "- Automate workflows with scripts.\n",
        "- Apply automation to `large_food_log.csv`.\n",
        "\n",
        "**Context**: Automation saves time in nutrition research, like processing large diet logs.\n",
        "\n",
        "<details><summary>Fun Fact</summary>\n",
        "Automation is like a hippo’s chef—preparing meals efficiently every day! 🦛\n",
        "</details>"
      ]
    },
    {
      "cell_type": "code",
      "execution_count": null,
      "id": "colab_setup",
      "metadata": {},
      "outputs": [],
      "source": [
        "# Setup for Google Colab: Fetch datasets automatically or manually\n",
        "%run ../../bootstrap.py    # installs requirements + editable package\n",
        "\n",
        "import fns_toolkit as fns\n",
        "\n",
        "import pandas as pd\n",
        "import numpy as np"
      ]
    },
    {
      "cell_type": "markdown",
      "id": "load_data",
      "metadata": {},
      "source": [
        "## Data Preparation\n",
        "\n",
        "Load `large_food_log.csv`, a dataset of hippo meal nutrients."
      ]
    },
    {
      "cell_type": "code",
      "execution_count": null,
      "id": "load",
      "metadata": {},
      "outputs": [
        {
          "name": "stdout",
          "output_type": "stream",
          "text": [
            "Shape: (500, 5)\n"
          ]
        }
      ],
      "source": [
        "# Load the dataset\n",
        "df = fns.get_dataset('large_food_log')  # Path relative to notebook\n",
        "print(f'Shape: {df.shape}')  # Display number of rows and columns"
      ]
    },
    {
      "cell_type": "markdown",
      "id": "functions",
      "metadata": {},
      "source": [
        "## Automation Functions\n",
        "\n",
        "Create a function to summarise nutrient amounts by meal."
      ]
    },
    {
      "cell_type": "code",
      "execution_count": 3,
      "id": "function",
      "metadata": {},
      "outputs": [
        {
          "name": "stdout",
          "output_type": "stream",
          "text": [
            "               Amount\n",
            "Meal     Nutrient    \n",
            "Breakfast Calcium    300.0\n",
            "          Iron        2.5\n",
            "          Protein    25.0\n",
            "          Vitamin_D  11.0\n"
          ]
        }
      ],
      "source": [
        "# Define summary function\n",
        "def summarize_nutrients(df, group_by='Meal'):\n",
        "    \"\"\"Summarize nutrient amounts by specified column.\n",
        "    Args:\n",
        "        df (DataFrame): Input data\n",
        "        group_by (str): Column to group by\n",
        "    Returns:\n",
        "        DataFrame: Mean nutrient amounts\n",
        "    \"\"\"\n",
        "    summary = df.groupby([group_by, 'Nutrient'])['Amount'].mean().unstack()\n",
        "    return summary\n",
        "\n",
        "# Apply function\n",
        "summary = summarize_nutrients(df, 'Meal')\n",
        "print(summary.head(4))  # Display first few rows"
      ]
    },
    {
      "cell_type": "markdown",
      "id": "exercise",
      "metadata": {},
      "source": [
        "## Exercise 1: Automate Workflow\n",
        "\n",
        "Create a function to filter `df` for a specific `Nutrient` and summarise by `Date`. Apply it to Protein data. Document your code.\n",
        "\n",
        "**Guidance**: Define a function with `df[df['Nutrient'] == nutrient]` and `groupby('Date')`."
      ]
    },
    {
      "cell_type": "markdown",
      "id": "your_answer",
      "metadata": {},
      "source": [
        "**Answer**:\n",
        "\n",
        "My automation code is..."
      ]
    },
    {
      "cell_type": "markdown",
      "id": "wrap",
      "metadata": {},
      "source": [
        "## Conclusion\n",
        "\n",
        "You’ve learned to automate nutrition data workflows with reusable functions.\n",
        "\n",
        "**Next Steps**: Explore advanced Bayesian methods in 5.3.\n",
        "\n",
        "**Resources**:\n",
        "- [Pandas GroupBy](https://pandas.pydata.org/docs/user_guide/groupby.html)\n",
        "- [Automation Guide](https://www.datacamp.com/community/tutorials/python-data-science-automation)\n",
        "- Repository: [github.com/ggkuhnle/data-analysis-toolkit-FNS](https://github.com/ggkuhnle/data-analysis-toolkit-FNS)"
      ]
    }
  ],
  "metadata": {
    "kernelspec": {
      "display_name": "Python 3",
      "language": "python",
      "name": "python3"
    },
    "language_info": {
      "codemirror_mode": {
        "name": "ipython",
        "version": 3
      },
      "file_extension": ".py",
      "mimetype": "text/x-python",
      "name": "python",
      "nbconvert_exporter": "python",
      "pygments_lexer": "ipython3",
      "version": "3.9.7"
    }
  },
  "nbformat": 4,
  "nbformat_minor": 5
}
