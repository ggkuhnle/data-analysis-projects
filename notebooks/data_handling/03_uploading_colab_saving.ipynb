{
 "cells": [
  {
   "cell_type": "markdown",
   "id": "7c8c17e2",
   "metadata": {},
   "source": [
    "# ☁️ 3.3 Uploading to Colab and Saving Outputs\n",
    "\n",
    "**Covered:**\n",
    "- Uploading files in Google Colab\n",
    "- Saving cleaned data to `.csv` or `.json`"
   ]
  },
  {
   "cell_type": "code",
   "execution_count": null,
   "id": "936ca91a",
   "metadata": {},
   "outputs": [],
   "source": [
    "from google.colab import files\n",
    "uploaded = files.upload()"
   ]
  },
  {
   "cell_type": "code",
   "execution_count": null,
   "id": "e3b35769",
   "metadata": {},
   "outputs": [],
   "source": [
    "# Save your DataFrame to file\n",
    "df.to_csv('cleaned_data.csv', index=False)\n",
    "files.download('cleaned_data.csv')"
   ]
  }
 ],
 "metadata": {},
 "nbformat": 4,
 "nbformat_minor": 5
}
