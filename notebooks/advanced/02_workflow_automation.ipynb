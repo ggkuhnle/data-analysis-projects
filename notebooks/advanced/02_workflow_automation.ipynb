{
 "cells": [
  {
   "cell_type": "markdown",
   "metadata": {},
   "source": [
    "# 🔁 Workflow Automation\n",
    "\n",
    "Learn how to automate data analysis with Quarto and GitHub Actions...\n",
   ]
  }
 ],
 "metadata": {},
 "nbformat": 4,
 "nbformat_minor": 5
}