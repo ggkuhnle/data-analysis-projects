{
 "cells": [
  {
   "cell_type": "markdown",
   "id": "6bcdb43b",
   "metadata": {},
   "source": [
    "# ✍️ 2.7 Coding Styles"
   ]
  },
  {
   "cell_type": "markdown",
   "id": "7a1e33be",
   "metadata": {},
   "source": [
    "Writing readable code makes collaboration and debugging easier. Python uses the **PEP8** style guide."
   ]
  },
  {
   "cell_type": "markdown",
   "id": "5c684168",
   "metadata": {},
   "source": [
    "### ✅ Key Principles\n",
    "- Use **clear variable names** (e.g. `iron_intake`, not `x`)\n",
    "- **Indent with 4 spaces**\n",
    "- Use **docstrings** to explain functions\n",
    "- **Avoid long lines** (>79 characters)"
   ]
  },
  {
   "cell_type": "code",
   "execution_count": null,
   "id": "688a75bc",
   "metadata": {},
   "outputs": [],
   "source": [
    "def calculate_bmi(weight_kg, height_m):\n",
    "    \"\"\"Calculate and return BMI.\"\"\"\n",
    "    return weight_kg / (height_m ** 2)"
   ]
  },
  {
   "cell_type": "markdown",
   "id": "a8a94681",
   "metadata": {},
   "source": [
    "## 🛠 Tools\n",
    "- `black` – auto-formats your code\n",
    "- `flake8` – checks for style violations\n",
    "\n",
    "```bash\n",
    "pip install black flake8\n",
    "black script.py\n",
    "flake8 script.py\n",
    "```"
   ]
  },
  {
   "cell_type": "markdown",
   "id": "c00c7caa",
   "metadata": {},
   "source": [
    "## 🧪 Exercise\n",
    "- Reformat the following messy code to meet PEP8:\n",
    "```python\n",
    "def getbmi(w,h):return w/h**2\n",
    "```\n"
   ]
  },
  {
   "cell_type": "markdown",
   "id": "c997efed",
   "metadata": {},
   "source": [
    "## 🧠 Advanced (foldable)\n",
    "<details><summary>Docstring Conventions</summary>\n",
    "\n",
    "**Numpy style:**\n",
    "```python\n",
    "def my_function(x):\n",
    "    \"\"\"\n",
    "    Add 10 to the input.\n",
    "\n",
    "    Parameters\n",
    "    ----------\n",
    "    x : int or float\n",
    "        The number to modify\n",
    "\n",
    "    Returns\n",
    "    -------\n",
    "    int or float\n",
    "        Modified result\n",
    "    \"\"\"\n",
    "    return x + 10\n",
    "```</details>"
   ]
  }
 ],
 "metadata": {},
 "nbformat": 4,
 "nbformat_minor": 5
}
