{
 "cells": [
  {
   "cell_type": "markdown",
   "id": "intro",
   "metadata": {
    "tags": []
   },
   "source": [
    "# 📉 4.5 Regression Modelling\n",
    "\n",
    "Regression models let us **quantify relationships** and **make predictions**. In this notebook we’ll move from simple OLS to multivariable, non-linear, and regularised models, add diagnostics, and finish with bootstrapping for robust uncertainty.\n",
    "\n",
    "---\n",
    "## 🎯 Objectives\n",
    "- Build linear regression models (OLS, sklearn).\n",
    "- Add categorical predictors and interactions.\n",
    "- Extend to non-linear forms (poly, splines, random forest).\n",
    "- Use regularisation (Ridge/Lasso) for shrinkage.\n",
    "- Run diagnostics (residuals, heteroskedasticity, influence).\n",
    "- Apply **bootstrapping** to quantify uncertainty.\n",
    "\n",
    "<details><summary>Fun Fact</summary>\n",
    "Regression is like a hippo guessing snack size: past patterns guide future meals 🦛\n",
    "</details>"
   ]
  },
  {
   "cell_type": "code",
   "execution_count": null,
   "id": "colab_setup",
   "metadata": {
    "tags": []
   },
   "outputs": [],
   "source": [
    "import os\n",
    "from google.colab import files\n",
    "\n",
    "MODULE = '04_data_analysis'\n",
    "DATASET = 'vitamin_trial.csv'\n",
    "BASE_PATH = '/content/data-analysis-projects'\n",
    "MODULE_PATH = os.path.join(BASE_PATH, 'notebooks', MODULE)\n",
    "DATASET_PATH = os.path.join('data', DATASET)\n",
    "\n",
    "try:\n",
    "    if not os.path.exists(BASE_PATH):\n",
    "        !git clone https://github.com/ggkuhnle/data-analysis-projects.git\n",
    "    os.chdir(MODULE_PATH)\n",
    "    if os.path.exists(DATASET_PATH):\n",
    "        print(f'Dataset found: {DATASET_PATH} ✅')\n",
    "    else:\n",
    "        raise FileNotFoundError('Dataset missing after clone.')\n",
    "except Exception as e:\n",
    "    print(f'Cloning failed: {e}')\n",
    "    print('Upload dataset manually...')\n",
    "    os.makedirs('data', exist_ok=True)\n",
    "    uploaded = files.upload()\n",
    "    if DATASET in uploaded:\n",
    "        with open(DATASET_PATH, 'wb') as f:\n",
    "            f.write(uploaded[DATASET])"
   ]
  },
  {
   "cell_type": "code",
   "execution_count": null,
   "id": "libs",
   "metadata": {
    "tags": []
   },
   "outputs": [],
   "source": [
    "%pip install -q pandas numpy seaborn matplotlib statsmodels scikit-learn patsy\n",
    "import pandas as pd, numpy as np\n",
    "import seaborn as sns, matplotlib.pyplot as plt\n",
    "import statsmodels.api as sm, statsmodels.formula.api as smf\n",
    "from sklearn.linear_model import LinearRegression, RidgeCV, LassoCV\n",
    "from sklearn.preprocessing import PolynomialFeatures, StandardScaler\n",
    "from sklearn.pipeline import make_pipeline\n",
    "from sklearn.model_selection import train_test_split, cross_val_score\n",
    "from sklearn.metrics import r2_score, mean_squared_error\n",
    "from sklearn.ensemble import RandomForestRegressor\n",
    "from statsmodels.stats.diagnostic import het_breuschpagan\n",
    "from statsmodels.stats.outliers_influence import variance_inflation_factor\n",
    "sns.set_theme()\n",
    "print('Regression environment ready.')"
   ]
  },
  {
   "cell_type": "markdown",
   "id": "load",
   "metadata": {
    "tags": []
   },
   "source": [
    "## 1) Load Data\n",
    "We’ll use `vitamin_trial.csv` (simulated)."
   ]
  },
  {
   "cell_type": "code",
   "execution_count": null,
   "id": "load_data",
   "metadata": {
    "tags": []
   },
   "outputs": [],
   "source": [
    "df = pd.read_csv('data/vitamin_trial.csv')\n",
    "print(df.shape)\n",
    "display(df.head())"
   ]
  },
  {
   "cell_type": "markdown",
   "id": "ols",
   "metadata": {
    "tags": []
   },
   "source": [
    "## 2) Simple OLS Regression\n",
    "Predict Vitamin D from Time using OLS."
   ]
  },
  {
   "cell_type": "code",
   "execution_count": null,
   "id": "ols_fit",
   "metadata": {
    "tags": []
   },
   "outputs": [],
   "source": [
    "m1 = smf.ols('Vitamin_D ~ Time', data=df).fit()\n",
    "print(m1.summary())"
   ]
  },
  {
   "cell_type": "markdown",
   "id": "multi",
   "metadata": {
    "tags": []
   },
   "source": [
    "## 3) Multivariable & Interactions\n",
    "Add Group and its interaction with Time."
   ]
  },
  {
   "cell_type": "code",
   "execution_count": null,
   "id": "multi_fit",
   "metadata": {
    "tags": []
   },
   "outputs": [],
   "source": [
    "if {'Group','Time'}.issubset(df.columns):\n",
    "    m2 = smf.ols('Vitamin_D ~ Time * C(Group)', data=df).fit()\n",
    "    print(m2.summary())"
   ]
  },
  {
   "cell_type": "markdown",
   "id": "sklearn",
   "metadata": {
    "tags": []
   },
   "source": [
    "## 4) sklearn Pipelines\n",
    "Fit models with preprocessing pipelines."
   ]
  },
  {
   "cell_type": "code",
   "execution_count": null,
   "id": "pipe",
   "metadata": {
    "tags": []
   },
   "outputs": [],
   "source": [
    "X = df[['Time']]\n",
    "y = df['Vitamin_D']\n",
    "X_tr, X_te, y_tr, y_te = train_test_split(X,y,test_size=0.3,random_state=1)\n",
    "pipe = make_pipeline(StandardScaler(), LinearRegression())\n",
    "pipe.fit(X_tr, y_tr)\n",
    "print('R² test:', r2_score(y_te, pipe.predict(X_te)))"
   ]
  },
  {
   "cell_type": "markdown",
   "id": "nonlinear",
   "metadata": {
    "tags": []
   },
   "source": [
    "## 5) Non-linear Models\n",
    "- **Polynomial regression**\n",
    "- **Splines**\n",
    "- **Random Forest**"
   ]
  },
  {
   "cell_type": "code",
   "execution_count": null,
   "id": "poly_rf",
   "metadata": {
    "tags": []
   },
   "outputs": [],
   "source": [
    "# Polynomial\n",
    "poly = make_pipeline(PolynomialFeatures(3), LinearRegression())\n",
    "poly.fit(X_tr,y_tr)\n",
    "print('Poly R²:', r2_score(y_te, poly.predict(X_te)))\n",
    "\n",
    "# Random forest\n",
    "rf = RandomForestRegressor(n_estimators=200, random_state=1)\n",
    "rf.fit(X_tr,y_tr)\n",
    "print('RF R²:', r2_score(y_te, rf.predict(X_te)))"
   ]
  },
  {
   "cell_type": "markdown",
   "id": "regularisation",
   "metadata": {
    "tags": []
   },
   "source": [
    "## 6) Regularisation\n",
    "Ridge and Lasso shrink coefficients, useful for multicollinearity."
   ]
  },
  {
   "cell_type": "code",
   "execution_count": null,
   "id": "ridge_lasso",
   "metadata": {
    "tags": []
   },
   "outputs": [],
   "source": [
    "Xd = pd.get_dummies(df[['Time','Group']], drop_first=True)\n",
    "yd = df['Vitamin_D']\n",
    "\n",
    "ridge = RidgeCV(alphas=[0.1,1,10]).fit(Xd,yd)\n",
    "lasso = LassoCV(cv=5).fit(Xd,yd)\n",
    "print('Ridge coeffs:', ridge.coef_)\n",
    "print('Lasso coeffs:', lasso.coef_)"
   ]
  },
  {
   "cell_type": "markdown",
   "id": "diagnostics",
   "metadata": {
    "tags": []
   },
   "source": [
    "## 7) Diagnostics\n",
    "- Residual plots\n",
    "- Breusch–Pagan test\n",
    "- VIF\n",
    "- Influence (Cook’s D)"
   ]
  },
  {
   "cell_type": "code",
   "execution_count": null,
   "id": "residuals",
   "metadata": {
    "tags": []
   },
   "outputs": [],
   "source": [
    "resid = m2.resid if 'm2' in globals() else m1.resid\n",
    "fitted = m2.fittedvalues if 'm2' in globals() else m1.fittedvalues\n",
    "plt.scatter(fitted,resid)\n",
    "plt.axhline(0,color='red')\n",
    "plt.title('Residuals vs Fitted')\n",
    "plt.show()\n",
    "\n",
    "lm, lm_p, fval, f_p = het_breuschpagan(resid, m2.model.exog if 'm2' in globals() else m1.model.exog)\n",
    "print('Breusch–Pagan p=', lm_p)\n",
    "\n",
    "# VIF\n",
    "X_exog = m2.model.exog if 'm2' in globals() else m1.model.exog\n",
    "vifs = [variance_inflation_factor(X_exog,i) for i in range(X_exog.shape[1])]\n",
    "print('VIFs:', vifs)\n",
    "\n",
    "# Influence\n",
    "infl = m2.get_influence() if 'm2' in globals() else m1.get_influence()\n",
    "print('Max Cook D:', infl.cooks_distance[0].max())"
   ]
  },
  {
   "cell_type": "markdown",
   "id": "bootstrap",
   "metadata": {
    "tags": []
   },
   "source": [
    "## 8) Bootstrapping for Uncertainty\n",
    "Pairs bootstrap for coefficient CIs and performance."
   ]
  },
  {
   "cell_type": "code",
   "execution_count": null,
   "id": "boot_coef",
   "metadata": {
    "tags": []
   },
   "outputs": [],
   "source": [
    "np.random.seed(42)\n",
    "B=500\n",
    "params=[]\n",
    "for b in range(B):\n",
    "    boot=df.sample(len(df),replace=True)\n",
    "    try:\n",
    "        m=smf.ols('Vitamin_D ~ Time + C(Group)',data=boot).fit()\n",
    "        params.append(m.params)\n",
    "    except:\n",
    "        continue\n",
    "coef_df=pd.DataFrame(params)\n",
    "ci=coef_df.quantile([0.025,0.975]).T\n",
    "est=smf.ols('Vitamin_D ~ Time + C(Group)',data=df).fit().params\n",
    "boot_summary=pd.concat([est,ci],axis=1)\n",
    "boot_summary.columns=['estimate','low','high']\n",
    "display(boot_summary)"
   ]
  },
  {
   "cell_type": "code",
   "execution_count": null,
   "id": "boot_perf",
   "metadata": {
    "tags": []
   },
   "outputs": [],
   "source": [
    "r2s=[]\n",
    "for b in range(B):\n",
    "    boot=df.sample(len(df),replace=True)\n",
    "    Xb=pd.get_dummies(boot[['Time','Group']],drop_first=True)\n",
    "    yb=boot['Vitamin_D']\n",
    "    mdl=LinearRegression().fit(Xb,yb)\n",
    "    r2s.append(mdl.score(Xb,yb))\n",
    "print('Bootstrap R² CI:', np.percentile(r2s,[2.5,97.5]))"
   ]
  },
  {
   "cell_type": "markdown",
   "id": "wrap",
   "metadata": {
    "tags": []
   },
   "source": [
    "## ✅ Conclusion\n",
    "- OLS, multivariable and interactions, pipelines.\n",
    "- Non-linear (poly, RF), regularisation.\n",
    "- Diagnostics for assumptions.\n",
    "- Bootstrapping for robust CIs and performance.\n",
    "\n",
    "👉 Next: **4.6 Logistic Regression & Survival Analysis**"
   ]
  }
 ],
 "metadata": {
  "kernelspec": {
   "display_name": "Python 3",
   "language": "python",
   "name": "python3"
  },
  "language_info": {
   "name": "python"
  }
 },
 "nbformat": 4,
 "nbformat_minor": 5
}