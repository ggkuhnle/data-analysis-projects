{
 "cells": [
  {
   "cell_type": "markdown",
   "id": "915029f9",
   "metadata": {},
   "source": [
    "# 📊 3.1 What Are Data? Types and Structures\n",
    "\n",
    "This notebook introduces foundational data concepts.\n",
    "\n",
    "We'll cover:\n",
    "- What is a vector, a table, and a tidy dataset?\n",
    "- Differences between wide and long formats\n",
    "- How these relate to tools like Excel and pandas\n",
    "\n",
    "In Excel, each row typically represents a single observation.\n",
    "In pandas, data structures are more flexible and powerful."
   ]
  },
  {
   "cell_type": "code",
   "execution_count": null,
   "id": "3dc69aff",
   "metadata": {},
   "outputs": [],
   "source": [
    "import pandas as pd\n",
    "import numpy as np"
   ]
  },
  {
   "cell_type": "markdown",
   "id": "e1437ee1",
   "metadata": {},
   "source": [
    "## 🧪 Exercise: Wide to Long Format\n",
    "Convert this nutrition dataset from wide to long format."
   ]
  },
  {
   "cell_type": "code",
   "execution_count": null,
   "id": "e72ba8d6",
   "metadata": {},
   "outputs": [],
   "source": [
    "df = pd.DataFrame({\n",
    "    'Participant': ['P1', 'P2', 'P3'],\n",
    "    'Iron_2020': [8.2, 9.1, 7.5],\n",
    "    'Iron_2021': [8.5, 9.3, 7.8]\n",
    "})\n",
    "df_melted = df.melt(id_vars='Participant', var_name='Year', value_name='Iron')\n",
    "df_melted['Year'] = df_melted['Year'].str.extract(r'(\\d+)')\n",
    "df_melted"
   ]
  }
 ],
 "metadata": {},
 "nbformat": 4,
 "nbformat_minor": 5
}
