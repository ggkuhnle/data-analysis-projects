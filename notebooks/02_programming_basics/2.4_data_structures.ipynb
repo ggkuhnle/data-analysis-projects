{
  "cells": [
    {
      "cell_type": "markdown",
      "id": "intro",
      "metadata": {},
      "source": [
        "# \ud83d\udcca 2.4 Data Structures\n",
        "\n",
        "This notebook introduces Python data structures (lists, dictionaries, DataFrames) for organizing nutrition data, essential for MSc students.\n",
        "\n",
        "**Objectives**:\n",
        "- Use lists and dictionaries to store nutrient data.\n",
        "- Introduce pandas DataFrames for tabular data.\n",
        "- Manipulate data structures for analysis.\n",
        "\n",
        "**Context**: Data structures are the backbone of nutrition datasets, like NDNS or hippo diet logs.\n",
        "\n",
        "<details><summary>Fun Fact</summary>\n",
        "A DataFrame is like a hippo\u2019s pantry\u2014everything neatly organised for quick access! \ud83e\udd9b\n",
        "</details>"
      ]
    },
    {
      "cell_type": "code",
      "execution_count": null,
      "id": "colab_setup",
      "metadata": {},
      "outputs": [],
      "source": [
        "# Setup for Google Colab: Ensure environment is ready\n",
        "# Note: This module (Programming Basics) does not require datasets\n",
        "print('No dataset required for this notebook \ud83e\udd9b')\n",
        "\n",
        "# Install required packages for this notebook\n",
        "%pip install pandas\n",
        "print('Python environment ready.')"
      ]
    },
    {
      "cell_type": "code",
      "execution_count": 1,
      "id": "setup",
      "metadata": {},
      "outputs": [
        {
          "name": "stdout",
          "output_type": "stream",
          "text": [
            "Data structure environment ready.\n"
          ]
        }
      ],
      "source": [
        "# Install required package\n",
        "%pip install pandas  # Ensures compatibility in Colab\n",
        "import pandas as pd  # For DataFrames\n",
        "print('Data structure environment ready.')"
      ]
    },
    {
      "cell_type": "markdown",
      "id": "lists",
      "metadata": {},
      "source": [
        "## Lists\n",
        "\n",
        "Create a list of nutrient intakes for multiple hippos."
      ]
    },
    {
      "cell_type": "code",
      "execution_count": 2,
      "id": "list_example",
      "metadata": {},
      "outputs": [
        {
          "name": "stdout",
          "output_type": "stream",
          "text": [
            "Iron intakes: [8.2, 8.0, 8.4]\n",
            "Average iron: 8.2 mg\n"
          ]
        }
      ],
      "source": [
        "# List of iron intakes\n",
        "iron_intakes = [8.2, 8.0, 8.4]  # Iron in mg for hippos H1, H2, H3\n",
        "\n",
        "# Calculate average\n",
        "average_iron = sum(iron_intakes) / len(iron_intakes)  # Compute mean\n",
        "print(f'Iron intakes: {iron_intakes}')  # Display list\n",
        "print(f'Average iron: {round(average_iron, 1)} mg')  # Display average"
      ]
    },
    {
      "cell_type": "markdown",
      "id": "dicts",
      "metadata": {},
      "source": [
        "## Dictionaries\n",
        "\n",
        "Store nutrient data for a single hippo in a dictionary."
      ]
    },
    {
      "cell_type": "code",
      "execution_count": 3,
      "id": "dict_example",
      "metadata": {},
      "outputs": [
        {
          "name": "stdout",
          "output_type": "stream",
          "text": [
            "Hippo H1 nutrients: {'Iron': 8.2, 'Calcium': 1200, 'Protein': 80.5}\n",
            "Calcium intake: 1200 mg\n"
          ]
        }
      ],
      "source": [
        "# Dictionary for a hippo\u2019s nutrients\n",
        "hippo_nutrients = {\n",
        "    'Iron': 8.2,  # mg\n",
        "    'Calcium': 1200,  # mg\n",
        "    'Protein': 80.5  # g\n",
        "}\n",
        "\n",
        "# Access a value\n",
        "calcium = hippo_nutrients['Calcium']  # Retrieve calcium value\n",
        "print(f'Hippo H1 nutrients: {hippo_nutrients}')  # Display dictionary\n",
        "print(f'Calcium intake: {calcium} mg')  # Display calcium"
      ]
    },
    {
      "cell_type": "markdown",
      "id": "dataframes",
      "metadata": {},
      "source": [
        "## Pandas DataFrames\n",
        "\n",
        "Create a DataFrame for multiple hippos\u2019 nutrient data."
      ]
    },
    {
      "cell_type": "code",
      "execution_count": 4,
      "id": "df_example",
      "metadata": {},
      "outputs": [
        {
          "name": "stdout",
          "output_type": "stream",
          "text": [
            "   ID  Iron  Calcium  Protein\n",
            "0  H1   8.2     1200     80.5\n",
            "1  H2   8.0     1150     75.0\n",
            "2  H3   8.4     1250     82.3\n"
          ]
        }
      ],
      "source": [
        "# Create a DataFrame\n",
        "data = {\n",
        "    'ID': ['H1', 'H2', 'H3'],\n",
        "    'Iron': [8.2, 8.0, 8.4],\n",
        "    'Calcium': [1200, 1150, 1250],\n",
        "    'Protein': [80.5, 75.0, 82.3]\n",
        "}\n",
        "df = pd.DataFrame(data)  # Convert dictionary to DataFrame\n",
        "\n",
        "# Display DataFrame\n",
        "print(df)  # Show all rows"
      ]
    },
    {
      "cell_type": "markdown",
      "id": "exercise",
      "metadata": {},
      "source": [
        "## Exercise 1: Build a DataFrame\n",
        "\n",
        "Create a DataFrame for two hippos with calorie and protein data (e.g., H4: 2400 kcal, 78 g; H5: 2550 kcal, 81 g). Print it with a comment.\n",
        "\n",
        "**Guidance**: Use `pd.DataFrame()` with a dictionary."
      ]
    },
    {
      "cell_type": "markdown",
      "id": "your_answer",
      "metadata": {},
      "source": [
        "**Answer**:\n",
        "\n",
        "My DataFrame code is..."
      ]
    },
    {
      "cell_type": "markdown",
      "id": "wrap",
      "metadata": {},
      "source": [
        "## Conclusion\n",
        "\n",
        "You\u2019ve learned to use lists, dictionaries, and DataFrames to organise nutrition data.\n",
        "\n",
        "**Next Steps**: Explore object-oriented programming in 2.5.\n",
        "\n",
        "**Resources**:\n",
        "- [Pandas Documentation](https://pandas.pydata.org/)\n",
        "- [Python Data Structures](https://docs.python.org/3/tutorial/datastructures.html)\n",
        "- Repository: [github.com/ggkuhnle/data-analysis-toolkit-FNS](https://github.com/ggkuhnle/data-analysis-toolkit-FNS)"
      ]
    }
  ],
  "metadata": {
    "kernelspec": {
      "display_name": "Python 3",
      "language": "python",
      "name": "python3"
    },
    "language_info": {
      "codemirror_mode": {
        "name": "ipython",
        "version": 3
      },
      "file_extension": ".py",
      "mimetype": "text/x-python",
      "name": "python",
      "nbconvert_exporter": "python",
      "pygments_lexer": "ipython3",
      "version": "3.9.7"
    }
  },
  "nbformat": 4,
  "nbformat_minor": 5
}