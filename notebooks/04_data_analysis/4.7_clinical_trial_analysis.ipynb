{
 "cells": [
  {
   "cell_type": "markdown",
   "id": "ed039874",
   "metadata": {},
   "source": [
    "# 🩺 4.7 Analysing a Simulated Clinical Trial\n",
    "\n",
    "This notebook walks you through analysing a **simulated clinical trial** — a common task in nutrition and health research. You'll:\n",
    "- Simulate trial data\n",
    "- Summarise baseline characteristics (Table 1)\n",
    "- Visualise distributions\n",
    "- Compare groups using both **frequentist** and **Bayesian** statistics\n",
    "\n",
    "---\n",
    "\n",
    "### 🧠 What is a Clinical Trial?\n",
    "\n",
    "A clinical trial compares outcomes between groups (e.g. treatment vs control) to determine if an intervention works. In this case, we’ll simulate a trial comparing a **biomarker outcome** between two groups: Control and Intervention.\n"
   ]
  },
  {
   "cell_type": "markdown",
   "id": "0207ca12",
   "metadata": {},
   "source": [
    "## 🧪 Step 1: Simulate the Data\n",
    "\n",
    "We’ll simulate data for 100 participants split into two groups:\n",
    "- `group = 0`: Control (no intervention)\n",
    "- `group = 1`: Intervention (treatment group)\n",
    "\n",
    "We generate:\n",
    "- `age`: Normally distributed around 40 years\n",
    "- `bmi`: Normally distributed around 27 kg/m²\n",
    "- `outcome`: Biomarker change (Control: ~N(0,2), Intervention: ~N(1,2))"
   ]
  },
  {
   "cell_type": "code",
   "execution_count": null,
   "id": "b7c3a830",
   "metadata": {},
   "outputs": [],
   "source": [
    "import pandas as pd\n",
    "import numpy as np\n",
    "\n",
    "# Set random seed for reproducibility\n",
    "np.random.seed(42)\n",
    "\n",
    "# Simulate data\n",
    "n = 100\n",
    "df = pd.DataFrame({\n",
    "    'participant_id': range(1, n+1),\n",
    "    'age': np.random.normal(40, 10, n),\n",
    "    'bmi': np.random.normal(27, 4, n),\n",
    "    'group': np.random.choice([0, 1], size=n)\n",
    "})\n",
    "\n",
    "# Outcome depends on group\n",
    "df['outcome'] = np.where(df['group'] == 0,\n",
    "                         np.random.normal(0, 2, n),\n",
    "                         np.random.normal(1, 2, n))\n",
    "\n",
    "df.head()"
   ]
  },
  {
   "cell_type": "markdown",
   "id": "d8bbef33",
   "metadata": {},
   "source": [
    "## 📋 Step 2: Baseline Table (Table 1)\n",
    "\n",
    "\"Table 1\" summarises baseline characteristics (like age and BMI) by group before any analysis. This helps check that the groups are comparable at the start of the trial."
   ]
  },
  {
   "cell_type": "code",
   "execution_count": null,
   "id": "6d4bfcb2",
   "metadata": {},
   "outputs": [],
   "source": [
    "table1 = df.groupby('group')[['age', 'bmi']].agg(['mean', 'std']).round(1)\n",
    "table1.columns = ['Age (Mean)', 'Age (SD)', 'BMI (Mean)', 'BMI (SD)']\n",
    "table1.index = ['Control', 'Intervention']\n",
    "table1['Age'] = table1.apply(lambda row: f\"{row['Age (Mean)']} ± {row['Age (SD)']}\", axis=1)\n",
    "table1['BMI'] = table1.apply(lambda row: f\"{row['BMI (Mean)']} ± {row['BMI (SD)']}\", axis=1)\n",
    "table1[['Age', 'BMI']]"
   ]
  },
  {
   "cell_type": "markdown",
   "id": "cc8d0314",
   "metadata": {},
   "source": [
    "## 📈 Step 3: Visualise Distributions\n",
    "\n",
    "We now inspect the distributions of age, BMI, and the outcome to check:\n",
    "- Are the groups similarly distributed?\n",
    "- Are there outliers?\n",
    "- What’s the shape of the data?"
   ]
  },
  {
   "cell_type": "code",
   "execution_count": null,
   "id": "d5ffeb75",
   "metadata": {},
   "outputs": [],
   "source": [
    "import seaborn as sns\n",
    "import matplotlib.pyplot as plt\n",
    "\n",
    "sns.set(style='whitegrid')\n",
    "fig, axes = plt.subplots(1, 3, figsize=(18, 5))\n",
    "\n",
    "for i, var in enumerate(['age', 'bmi', 'outcome']):\n",
    "    sns.boxplot(data=df, x='group', y=var, ax=axes[i])\n",
    "    axes[i].set_title(f'{var.capitalize()} by Group')\n",
    "    axes[i].set_xticklabels(['Control', 'Intervention'])\n",
    "\n",
    "plt.tight_layout()\n",
    "plt.show()"
   ]
  },
  {
   "cell_type": "markdown",
   "id": "bc8ee860",
   "metadata": {},
   "source": [
    "## 📏 Step 4: Frequentist Effect Size (Cohen’s d)\n",
    "\n",
    "We’ll use **Cohen’s d** to estimate the effect size of the intervention:\n",
    "- \\( d = \\frac{\\text{difference in means}}{\\text{pooled SD}} \\)\n",
    "\n",
    "We also perform a t-test to check for statistical significance."
   ]
  },
  {
   "cell_type": "code",
   "execution_count": null,
   "id": "83f0b75b",
   "metadata": {},
   "outputs": [],
   "source": [
    "from scipy.stats import ttest_ind\n",
    "\n",
    "group0 = df[df['group'] == 0]['outcome']\n",
    "group1 = df[df['group'] == 1]['outcome']\n",
    "\n",
    "mean_diff = group1.mean() - group0.mean()\n",
    "pooled_sd = np.sqrt((group0.var() + group1.var()) / 2)\n",
    "cohens_d = mean_diff / pooled_sd\n",
    "\n",
    "t_stat, p_val = ttest_ind(group1, group0)\n",
    "\n",
    "print(f\"Cohen's d: {cohens_d:.2f}\")\n",
    "print(f\"T-test: t = {t_stat:.2f}, p = {p_val:.3f}\")"
   ]
  },
  {
   "cell_type": "markdown",
   "id": "e1177288",
   "metadata": {},
   "source": [
    "## 🧠 Step 5: Bayesian Effect Size\n",
    "\n",
    "Bayesian analysis estimates a **distribution of possible effects** rather than a single value. This gives us:\n",
    "- A posterior distribution\n",
    "- A 95% Highest Density Interval (HDI) showing the most credible values\n",
    "\n",
    "We use `PyMC` to model outcomes in both groups with normal priors."
   ]
  },
  {
   "cell_type": "code",
   "execution_count": null,
   "id": "d5b25802",
   "metadata": {},
   "outputs": [],
   "source": [
    "import pymc as pm\n",
    "import arviz as az\n",
    "\n",
    "with pm.Model() as model:\n",
    "    mu = pm.Normal(\"mu\", mu=0, sigma=10, shape=2)\n",
    "    sigma = pm.HalfNormal(\"sigma\", sigma=2)\n",
    "    y_obs = pm.Normal(\"y_obs\", mu=mu[df['group']], sigma=sigma, observed=df['outcome'])\n",
    "    diff = pm.Deterministic(\"diff\", mu[1] - mu[0])\n",
    "    trace = pm.sample(1000, tune=1000, return_inferencedata=True, progressbar=True)\n",
    "\n",
    "az.plot_posterior(trace, var_names=[\"diff\"], ref_val=0)\n",
    "plt.title(\"Posterior Difference in Means\")\n",
    "plt.show()\n",
    "\n",
    "hdi = az.hdi(trace.posterior['diff'], hdi_prob=0.95)\n",
    "print(f\"Posterior mean difference: {trace.posterior['diff'].mean().values.item():.2f}\")\n",
    "print(f\"95% HDI: [{hdi.sel(hdi='lower').values.item():.2f}, {hdi.sel(hdi='higher').values.item():.2f}]\")"
   ]
  },
  {
   "cell_type": "markdown",
   "id": "f00224f3",
   "metadata": {},
   "source": [
    "## ✅ Summary\n",
    "\n",
    "We have:\n",
    "- Simulated a clinical trial\n",
    "- Summarised and visualised the data\n",
    "- Compared outcomes using frequentist and Bayesian methods\n",
    "\n",
    "**Key Insight**:  \n",
    "Frequentist methods give you a *yes/no* answer; Bayesian methods show you the *range of plausible effects*.\n",
    "\n",
    "---\n",
    "\n",
    "### 🔁 Optional Exercises\n",
    "1. Modify the outcome mean in the Intervention group to 2 instead of 1. How does Cohen’s d and the posterior shift?\n",
    "2. Add `age` as a covariate in the Bayesian model.\n",
    "3. Create a scatterplot of `outcome` vs. `bmi`, coloured by group."
   ]
  }
 ],
 "metadata": {},
 "nbformat": 4,
 "nbformat_minor": 5
}
