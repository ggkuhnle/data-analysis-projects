{
 "cells": [
  {
   "cell_type": "markdown",
   "id": "23dd7b29",
   "metadata": {},
   "source": [
    "# 🔁 Loops and Iteration\n",
    "\n",
    "Sometimes, we want to **repeat the same action** for a set of values.  \n",
    "That’s where **loops** come in — they allow us to automate repetition.\n",
    "\n",
    "In Excel, you might drag a formula down a column.  \n",
    "In Python, we write a loop.\n"
   ]
  },
  {
   "cell_type": "markdown",
   "id": "ed9416f1",
   "metadata": {},
   "source": [
    "## 🔄 For Loops\n",
    "\n",
    "A `for` loop repeats something for each item in a list.\n",
    "\n",
    "```python\n",
    "for item in list:\n",
    "    do_something(item)\n",
    "```\n",
    "\n",
    "Let’s try:\n"
   ]
  },
  {
   "cell_type": "code",
   "execution_count": null,
   "id": "c1f70b89",
   "metadata": {},
   "outputs": [],
   "source": [
    "foods = [\"banana\", \"avocado\", \"carrot\"]\n",
    "\n",
    "for food in foods:\n",
    "    print(\"I like\", food)"
   ]
  },
  {
   "cell_type": "markdown",
   "id": "8685bd87",
   "metadata": {},
   "source": [
    "### Looping through numbers\n",
    "\n",
    "You can use `range()` to create a list of numbers:\n",
    "\n",
    "```python\n",
    "for i in range(5):\n",
    "    print(i)\n",
    "```\n"
   ]
  },
  {
   "cell_type": "code",
   "execution_count": null,
   "id": "5aabe956",
   "metadata": {},
   "outputs": [],
   "source": [
    "for i in range(5):\n",
    "    print(\"Number:\", i)"
   ]
  },
  {
   "cell_type": "markdown",
   "id": "ba74e42e",
   "metadata": {},
   "source": [
    "## 🧭 While Loops\n",
    "\n",
    "`while` loops keep going **as long as a condition is true**.\n",
    "\n",
    "```python\n",
    "i = 0\n",
    "while i < 5:\n",
    "    print(i)\n",
    "    i += 1\n",
    "```\n",
    "\n",
    "⚠️ Be careful — `while` loops can run forever if your condition never becomes false.\n"
   ]
  },
  {
   "cell_type": "code",
   "execution_count": null,
   "id": "df92e8e8",
   "metadata": {},
   "outputs": [],
   "source": [
    "i = 0\n",
    "while i < 3:\n",
    "    print(\"Step\", i)\n",
    "    i += 1"
   ]
  },
  {
   "cell_type": "markdown",
   "id": "84c88aeb",
   "metadata": {},
   "source": [
    "## 👀 Why Loops Matter\n",
    "\n",
    "- You can apply operations to **every item** in a dataset\n",
    "- Filter or transform **rows** of data\n",
    "- Generate **plots**, **calculations**, or **statistics** across categories\n",
    "\n",
    "Looping is essential when working with lists, dictionaries, or dataframes.\n"
   ]
  },
  {
   "cell_type": "markdown",
   "id": "857680b4",
   "metadata": {},
   "source": [
    "## 🧪 Exercises\n",
    "\n",
    "1. Create a list of 5 animals. Use a loop to print \"I saw a ___ today.\"\n",
    "2. Use `range()` to print the numbers from 10 to 20.\n",
    "3. Optional: Write a `while` loop that counts down from 5 to 1 and then prints \"Blast off!\"\n"
   ]
  },
  {
   "cell_type": "markdown",
   "id": "33f380c6",
   "metadata": {},
   "source": [
    "## 🔍 Advanced View\n",
    "\n",
    "<details><summary>Click to expand</summary>\n",
    "\n",
    "### Nested loops\n",
    "\n",
    "You can have loops inside loops:\n",
    "\n",
    "```python\n",
    "for i in range(3):\n",
    "    for j in range(2):\n",
    "        print(i, j)\n",
    "```\n",
    "\n",
    "Useful for comparing **pairs of items** or iterating over **tables**.\n",
    "\n",
    "### Looping with `enumerate()` and `zip()`\n",
    "\n",
    "- `enumerate()` gives you the index and value\n",
    "- `zip()` lets you loop over two lists in parallel\n",
    "\n",
    "```python\n",
    "for i, val in enumerate([\"a\", \"b\", \"c\"]):\n",
    "    print(i, val)\n",
    "```\n",
    "\n",
    "</details>\n"
   ]
  }
 ],
 "metadata": {},
 "nbformat": 4,
 "nbformat_minor": 5
}
