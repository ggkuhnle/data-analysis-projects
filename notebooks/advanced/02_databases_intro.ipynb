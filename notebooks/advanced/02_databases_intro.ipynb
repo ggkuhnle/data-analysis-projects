{
 "cells": [
  {
   "cell_type": "markdown",
   "id": "6a50b206",
   "metadata": {},
   "source": [
    "# 🗄️ Working with Databases\n",
    "\n",
    "Intro to SQLite and relational data."
   ]
  }
 ],
 "metadata": {},
 "nbformat": 4,
 "nbformat_minor": 5
}
