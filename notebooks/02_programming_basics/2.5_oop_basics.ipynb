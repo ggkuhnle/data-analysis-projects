{
 "cells": [
  {
   "cell_type": "markdown",
   "id": "intro",
   "metadata": {},
   "source": [
    "# 🧑‍💻 2.5 Object-Oriented Programming Basics\n",
    "\n",
    "This notebook introduces the fundamentals of Object-Oriented Programming (OOP) in Python, tailored for food and nutrition science students. OOP is a powerful way to organise code, making it more modular, reusable, and easier to maintain—perfect for managing complex nutrition data projects!\n",
    "\n",
    "**Objectives**:\n",
    "- Understand key OOP concepts: classes, objects, methods, and inheritance.\n",
    "- Apply OOP to model nutrition-related concepts (e.g., foods, diets).\n",
    "- Practise creating and using classes to solve simple problems.\n",
    "\n",
    "**Context**: In nutrition research, you often deal with related data (e.g., foods, nutrients, diets). OOP lets you model these as objects with properties (e.g., calories) and behaviours (e.g., calculate energy), making your code more intuitive and scalable.\n",
    "\n",
    "<details><summary>Fun Fact</summary>\n",
    "Think of OOP like a hippo’s diet plan—each food item is an object, and the diet is a class that organises them! 🦛\n",
    "</details>"
   ]
  },
  {
   "cell_type": "code",
   "execution_count": null,
   "id": "colab_setup",
   "metadata": {},
   "outputs": [],
   "source": [
    "# Setup for Google Colab: Ensure environment is ready\n",
    "# Note: This module (Programming Basics) does not require datasets\n",
    "print('No dataset required for this notebook 🦛')\n",
    "\n",
    "# Install required packages for this notebook\n",
    "# We only need basic Python for OOP, but install pandas for consistency\n",
    "%pip install pandas\n",
    "print('Python environment ready.')"
   ]
  },
  {
   "cell_type": "markdown",
   "id": "classes_objects",
   "metadata": {},
   "source": [
    "## 📚 Classes and Objects\n",
    "\n",
    "In OOP, a **class** is a blueprint for creating **objects**. An object is an instance of a class, with its own data (attributes) and behaviours (methods). Let’s create a `Food` class to model food items in a nutrition study.\n",
    "\n",
    "**Example**: A `Food` class with attributes for name and calories, and a method to describe the food."
   ]
  },
  {
   "cell_type": "code",
   "execution_count": null,
   "id": "food_class",
   "metadata": {},
   "outputs": [],
   "source": [
    "# Define the Food class\n",
    "class Food:\n",
    "    # Constructor method to initialise attributes\n",
    "    # self refers to the object being created\n",
    "    def __init__(self, name, calories):\n",
    "        self.name = name        # Attribute: name of the food\n",
    "        self.calories = calories  # Attribute: calories per serving\n",
    "    \n",
    "    # Method to describe the food\n",
    "    def describe(self):\n",
    "        return f'{self.name} has {self.calories} calories per serving.'\n",
    "\n",
    "# Create objects (instances) of the Food class\n",
    "apple = Food('Apple', 95)   # Create an Apple object\n",
    "banana = Food('Banana', 120)  # Create a Banana object\n",
    "\n",
    "# Use the describe method to print information\n",
    "print(apple.describe())   # Output: Apple has 95 calories per serving.\n",
    "print(banana.describe())  # Output: Banana has 120 calories per serving."
   ]
  },
  {
   "cell_type": "markdown",
   "id": "methods_attributes",
   "metadata": {},
   "source": [
    "## 🔧 Adding Methods and Attributes\n",
    "\n",
    "Let’s enhance the `Food` class by adding a method to adjust calories (e.g., for a larger serving) and an attribute for food category (e.g., fruit, vegetable).\n",
    "\n",
    "**Example**: Extend the `Food` class with a category attribute and a method to scale calories."
   ]
  },
  {
   "cell_type": "code",
   "execution_count": null,
   "id": "food_extended",
   "metadata": {},
   "outputs": [],
   "source": [
    "# Extended Food class\n",
    "class Food:\n",
    "    def __init__(self, name, calories, category):\n",
    "        self.name = name\n",
    "        self.calories = calories\n",
    "        self.category = category  # New attribute: food category\n",
    "    \n",
    "    def describe(self):\n",
    "        return f'{self.name} ({self.category}) has {self.calories} calories per serving.'\n",
    "    \n",
    "    # New method to scale calories for a different serving size\n",
    "    def scale_calories(self, factor):\n",
    "        self.calories = int(self.calories * factor)\n",
    "        return f'Updated {self.name} to {self.calories} calories.'\n",
    "\n",
    "# Create objects with category\n",
    "carrot = Food('Carrot', 41, 'Vegetable')\n",
    "mango = Food('Mango', 60, 'Fruit')\n",
    "\n",
    "# Describe the foods\n",
    "print(carrot.describe())  # Output: Carrot (Vegetable) has 41 calories per serving.\n",
    "print(mango.describe())   # Output: Mango (Fruit) has 60 calories per serving.\n",
    "\n",
    "# Scale calories for a larger serving (e.g., 2x serving size)\n",
    "print(carrot.scale_calories(2))  # Output: Updated Carrot to 82 calories.\n",
    "print(carrot.describe())         # Output: Carrot (Vegetable) has 82 calories per serving."
   ]
  },
  {
   "cell_type": "markdown",
   "id": "inheritance",
   "metadata": {},
   "source": [
    "## 🌱 Inheritance\n",
    "\n",
    "Inheritance allows a class to inherit attributes and methods from another class, promoting code reuse. Let’s create a `Diet` class that inherits from `Food` to represent a special diet food with an additional attribute for diet type (e.g., low-carb).\n",
    "\n",
    "**Example**: A `Diet` class that inherits from `Food` and adds a diet type."
   ]
  },
  {
   "cell_type": "code",
   "execution_count": null,
   "id": "diet_class",
   "metadata": {},
   "outputs": [],
   "source": [
    "# Base class (parent)\n",
    "class Food:\n",
    "    def __init__(self, name, calories, category):\n",
    "        self.name = name\n",
    "        self.calories = calories\n",
    "        self.category = category\n",
    "    \n",
    "    def describe(self):\n",
    "        return f'{self.name} ({self.category}) has {self.calories} calories per serving.'\n",
    "\n",
    "# Derived class (child) that inherits from Food\n",
    "class Diet(Food):\n",
    "    def __init__(self, name, calories, category, diet_type):\n",
    "        # Call the parent class's __init__ method to set name, calories, category\n",
    "        super().__init__(name, calories, category)\n",
    "        self.diet_type = diet_type  # New attribute: diet type\n",
    "    \n",
    "    # Override the describe method to include diet type\n",
    "    def describe(self):\n",
    "        return f'{self.name} ({self.category}, {self.diet_type}) has {self.calories} calories per serving.'\n",
    "\n",
    "# Create a diet food object\n",
    "keto_avocado = Diet('Avocado', 160, 'Fruit', 'Keto')\n",
    "\n",
    "# Describe the diet food\n",
    "print(keto_avocado.describe())  # Output: Avocado (Fruit, Keto) has 160 calories per serving."
   ]
  },
  {
   "cell_type": "markdown",
   "id": "exercise",
   "metadata": {},
   "source": [
    "## 🧪 Exercises\n",
    "\n",
    "1. **Create a New Class**: Create a `Nutrient` class with attributes for `name` (e.g., 'Protein') and `amount` (e.g., 10 grams). Add a method `increase_amount` that increases the amount by a given factor. Test it by creating a `Nutrient` object for 'Vitamin C' with 90 mg and increasing it by 1.5.\n",
    "\n",
    "2. **Extend the Diet Class**: Add a method to the `Diet` class called `is_low_calorie` that returns `True` if the food has fewer than 100 calories, `False` otherwise. Test it with `keto_avocado` and a new low-calorie diet food (e.g., 'Spinach', 23 calories, 'Vegetable', 'Low-Carb').\n",
    "\n",
    "3. **Inheritance Challenge**: Create a `Meal` class that inherits from `Diet` and has an additional attribute `meal_type` (e.g., 'Breakfast'). Override the `describe` method to include the meal type. Create a `Meal` object and test it.\n",
    "\n",
    "**Guidance**: Use the examples above as a starting point. Experiment with different foods and diets relevant to nutrition science!"
   ]
  },
  {
   "cell_type": "markdown",
   "id": "your_answer",
   "metadata": {},
   "source": [
    "**Your Answers**:\n",
    "\n",
    "**Exercise 1: Nutrient Class**  \n",
    "[Write your code and test output here]\n",
    "\n",
    "**Exercise 2: Extend Diet Class**  \n",
    "[Write your code and test output here]\n",
    "\n",
    "**Exercise 3: Inheritance Challenge**  \n",
    "[Write your code and test output here]"
   ]
  },
  {
   "cell_type": "markdown",
   "id": "wrap",
   "metadata": {},
   "source": [
    "## Conclusion\n",
    "\n",
    "You’ve learned the basics of Object-Oriented Programming in Python, including classes, objects, methods, and inheritance. These concepts are powerful for organising nutrition data projects—imagine creating classes for meals, diets, or even hippo food preferences! 🦛\n",
    "\n",
    "**Next Steps**: You’ve completed the Programming Basics module! Move on to the Data Handling module starting with `3.1_what_is_data.ipynb` to apply your skills to real nutrition datasets.\n",
    "\n",
    "**Resources**:\n",
    "- [Python OOP Tutorial](https://docs.python.org/3/tutorial/classes.html)\n",
    "- [Real Python: OOP in Python](https://realpython.com/python3-object-oriented-programming/)\n",
    "- Repository: [github.com/ggkuhnle/data-analysis-toolkit-FNS](https://github.com/ggkuhnle/data-analysis-toolkit-FNS)"
   ]
  }
 ],
 "metadata": {
  "kernelspec": {
   "display_name": "Python 3",
   "language": "python",
   "name": "python3"
  },
  "language_info": {
   "codemirror_mode": {
    "name": "ipython",
    "version": 3
   },
   "file_extension": ".py",
   "mimetype": "text/x-python",
   "name": "python",
   "nbconvert_exporter": "python",
   "pygments_lexer": "ipython3",
   "version": "3.9.7"
  }
 },
 "nbformat": 4,
 "nbformat_minor": 5
}