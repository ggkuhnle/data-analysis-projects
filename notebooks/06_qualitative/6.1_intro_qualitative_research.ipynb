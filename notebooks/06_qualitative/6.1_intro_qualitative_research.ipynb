{
 "cells": [
  {
   "cell_type": "markdown",
   "id": "intro",
   "metadata": {},
   "source": [
    "# 🧾 6.1 Introduction to Qualitative Research\n",
    "\n",
    "This notebook explores qualitative methods for nutrition studies, such as analysing food preference surveys.\n",
    "\n",
    "**Objectives**:\n",
    "- Compare quantitative and qualitative approaches.\n",
    "- Analyse textual survey data.\n",
    "- Apply basic text processing techniques.\n",
    "\n",
    "**Context**: Qualitative data, like hippo food preferences, provides rich insights into dietary behaviours. 🦛\n",
    "\n",
    "<details><summary>Fun Fact</summary>\n",
    "Qualitative data is like a hippo’s diary—full of stories and nuances! 🦛\n",
    "</details>"
   ]
  },
  {
   "cell_type": "code",
   "execution_count": 1,
   "id": "setup",
   "metadata": {},
   "outputs": [],
   "source": [
    "# Install required packages\n",
    "%pip install pandas  # For Colab users\n",
    "import pandas as pd\n",
    "print('Qualitative analysis environment ready.')"
   ]
  },
  {
   "cell_type": "markdown",
   "id": "load_data",
   "metadata": {},
   "source": [
    "## Data Preparation\n",
    "\n",
    "Load `food_preferences.txt`, a survey of hippo food preferences."
   ]
  },
  {
   "cell_type": "code",
   "execution_count": 2,
   "id": "load",
   "metadata": {},
   "outputs": [
    {
     "name": "stdout",
     "output_type": "stream",
     "text": [
      "['Hippo H1: I enjoy crunchy carrots for their sweetness.\\n', 'Hippo H2: Grass is acceptable, but fruit is preferred.\\n']\n"
     ]
    }
   ],
   "source": [
    "with open('data/food_preferences.txt', 'r') as f:\n",
    "    responses = f.readlines()\n",
    "print(responses[:2])"
   ]
  },
  {
   "cell_type": "markdown",
   "id": "process",
   "metadata": {},
   "source": [
    "## Basic Text Analysis\n",
    "\n",
    "Count the frequency of words like ‘carrots’ or ‘fruit’ in the responses."
   ]
  },
  {
   "cell_type": "code",
   "execution_count": 3,
   "id": "count",
   "metadata": {},
   "outputs": [
    {
     "name": "stdout",
     "output_type": "stream",
     "text": [
      "Word counts: {'carrots': 10, 'fruit': 15}\n"
     ]
    }
   ],
   "source": [
    "word_counts = {'carrots': 0, 'fruit': 0}\n",
    "for response in responses:\n",
    "    for word in word_counts:\n",
    "        word_counts[word] += response.lower().count(word)\n",
    "print(f'Word counts: {word_counts}')"
   ]
  },
  {
   "cell_type": "markdown",
   "id": "exercise",
   "metadata": {},
   "source": [
    "## Exercise 1: Expand Analysis\n",
    "\n",
    "Add another word (e.g., ‘vegetables’) to the count and describe its prevalence in a Markdown cell."
   ]
  },
  {
   "cell_type": "markdown",
   "id": "your_answer",
   "metadata": {},
   "source": [
    "**Answer**:\n",
    "\n",
    "The word ‘vegetables’ appears..."
   ]
  },
  {
   "cell_type": "markdown",
   "id": "wrap",
   "metadata": {},
   "source": [
    "## Conclusion\n",
    "\n",
    "You’ve explored qualitative data analysis with text processing. Next, dive deeper into text analysis in 6.2.\n",
    "\n",
    "**Resources**:\n",
    "- [Python Text Processing](https://docs.python.org/3/library/string.html)\n",
    "- [Qualitative Research Guide](https://www.qualitative-research.net/)\n",
    "- Repository: [github.com/ggkuhnle/data-analysis-toolkit-FNS](https://github.com/ggkuhnle/data-analysis-toolkit-FNS)"
   ]
  }
 ],
 "metadata": {
  "kernelspec": {
   "display_name": "Python 3",
   "language": "python",
   "name": "python3"
  },
  "language_info": {
   "codemirror_mode": {
    "name": "ipython",
    "version": 3
   },
   "file_extension": ".py",
   "mimetype": "text/x-python",
   "name": "python",
   "nbconvert_exporter": "python",
   "pygments_lexer": "ipython3",
   "version": "3.9.7"
  }
 },
 "nbformat": 4,
 "nbformat_minor": 5
}
