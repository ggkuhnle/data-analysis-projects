{
 "cell_type": "markdown",
 "source": [
  "# 🧮 3.1 What Are Data? Types and Structures\n",
  "\n",
  "Data’s a hippo’s lunch tray—organized and ready to munch! 🦛 This notebook explores vectors, tables, and tidy data for nutrition analysis.\n",
  "\n",
  "**What we’ll cover**:\n",
  "- **Vectors**: Lists of nutrient values.\n",
  "- **Tables**: Grids like NDNS.\n",
  "- **Tidy Data**: One variable per column.\n",
  "\n",
  "**Exercise**: Convert hippo nutrients to long format!"
 ]
},
{
 "cell_type": "code",
 "source": [
  "import pandas as pd\n",
  "df = pd.read_csv('data/hippo_nutrients.csv')\n",
  "df_melted = df.melt(id_vars=['ID', 'Age', 'Sex'], \n",
  "                    value_vars=['Iron', 'Calcium', 'Vitamin_D'],\n",
  "                    var_name='Nutrient', \n",
  "                    value_name='Value')\n",
  "print(df_melted.head())"
 ]
}
