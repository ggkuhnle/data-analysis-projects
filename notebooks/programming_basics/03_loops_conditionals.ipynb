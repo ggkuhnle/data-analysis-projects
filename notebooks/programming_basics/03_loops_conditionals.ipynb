{
 "cells": [
  {
   "cell_type": "markdown",
   "id": "f092817b",
   "metadata": {},
   "source": [
    "# 🔁 2.3 Control Structures: Loops and Conditionals"
   ]
  },
  {
   "cell_type": "markdown",
   "id": "d1003486",
   "metadata": {},
   "source": [
    "## 🔀 Conditionals: `if`, `elif`, `else`\n",
    "These control the flow of your programme based on logic.\n",
    "\n",
    "**Example:**\n",
    "```python\n",
    "sugar_grams = 25\n",
    "if sugar_grams > 30:\n",
    "    print(\"Too much sugar!\")\n",
    "elif sugar_grams > 20:\n",
    "    print(\"Moderate sugar\")\n",
    "else:\n",
    "    print(\"Sugar level fine\")\n",
    "```"
   ]
  },
  {
   "cell_type": "markdown",
   "id": "ac7bc7ed",
   "metadata": {},
   "source": [
    "## 🔁 Loops: `for` and `while`\n",
    "**`for` loop** is used to iterate over sequences.\n",
    "**`while` loop** repeats as long as a condition is true.\n",
    "\n",
    "**Example:**\n",
    "```python\n",
    "foods = ['apple', 'cola', 'broccoli']\n",
    "for item in foods:\n",
    "    print(item)\n",
    "```"
   ]
  },
  {
   "cell_type": "code",
   "execution_count": null,
   "id": "033bbd2e",
   "metadata": {},
   "outputs": [],
   "source": [
    "foods = [\n",
    "    {'name': 'apple', 'sugar': 10},\n",
    "    {'name': 'cola', 'sugar': 35},\n",
    "    {'name': 'banana', 'sugar': 18},\n",
    "]\n",
    "\n",
    "for food in foods:\n",
    "    if food['sugar'] > 30:\n",
    "        print(f\"⚠️ {food['name']} is high in sugar!\")"
   ]
  },
  {
   "cell_type": "markdown",
   "id": "445ab47a",
   "metadata": {},
   "source": [
    "## 🧪 Exercise\n",
    "- Create a list of 5 foods with sugar contents\n",
    "- Write a `for` loop to flag any food with more than 25g of sugar"
   ]
  },
  {
   "cell_type": "markdown",
   "id": "b7cef664",
   "metadata": {},
   "source": [
    "## 🧠 Advanced (foldable)\n",
    "<details><summary>Boolean Logic in Conditions</summary>\n",
    "\n",
    "You can combine conditions with `and`, `or`, and `not`:\n",
    "```python\n",
    "if sugar > 20 and fat < 10:\n",
    "    print(\"Healthy-ish\")\n",
    "```\n",
    "Python evaluates conditions left to right.\n",
    "</details>"
   ]
  }
 ],
 "metadata": {},
 "nbformat": 4,
 "nbformat_minor": 5
}
