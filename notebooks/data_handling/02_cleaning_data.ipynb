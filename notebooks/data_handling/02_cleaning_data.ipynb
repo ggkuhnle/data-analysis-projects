{
 "cells": [
  {
   "cell_type": "markdown",
   "id": "80bd57e3",
   "metadata": {},
   "source": [
    "# 🧼 Cleaning Data\n",
    "\n",
    "Dealing with missing values, renaming, etc.\n",
    "```python\n",
    "df.dropna(inplace=True)\n",
    "df.columns = df.columns.str.lower()\n",
    "```"
   ]
  }
 ],
 "metadata": {},
 "nbformat": 4,
 "nbformat_minor": 5
}
