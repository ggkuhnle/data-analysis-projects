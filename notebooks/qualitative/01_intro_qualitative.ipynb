{
 "cells": [
  {
   "cell_type": "markdown",
   "id": "bd2d675f",
   "metadata": {},
   "source": [
    "# 📘 6.1 Introduction to Qualitative Research"
   ]
  },
  {
   "cell_type": "markdown",
   "id": "4e5f66c5",
   "metadata": {},
   "source": [
    "### Why use qualitative methods?"
   ]
  },
  {
   "cell_type": "markdown",
   "id": "43a0a503",
   "metadata": {},
   "source": [
    "- Explore human experience, attitudes, and beliefs"
   ]
  },
  {
   "cell_type": "markdown",
   "id": "44fd7f88",
   "metadata": {},
   "source": [
    "- Useful when little is known or no numerical data exist"
   ]
  },
  {
   "cell_type": "markdown",
   "id": "278cbaf7",
   "metadata": {},
   "source": [
    "- Emphasises depth over breadth\n"
   ]
  },
  {
   "cell_type": "markdown",
   "id": "726afa7b",
   "metadata": {},
   "source": [
    "### Qual vs Quant\n"
   ]
  },
  {
   "cell_type": "markdown",
   "id": "d72bcbeb",
   "metadata": {},
   "source": [
    "| Feature             | Qualitative                        | Quantitative                       |\n",
    "|--------------------|-------------------------------------|------------------------------------|\n",
    "| Data               | Text, images, audio                 | Numbers, measurements              |\n",
    "| Analysis           | Thematic, narrative                 | Statistical                        |\n",
    "| Goal               | Understanding, meaning              | Testing, prediction                |\n"
   ]
  },
  {
   "cell_type": "markdown",
   "id": "b21b908f",
   "metadata": {},
   "source": [
    "### Mixed Methods\n",
    "- Combines strengths of both\n",
    "- Can answer both 'how many' and 'why'\n",
    "\n",
    "**Example:**\n",
    "- Quant: % of consumers who prefer low-sugar drinks\n",
    "- Qual: Why some dislike the taste of stevia"
   ]
  }
 ],
 "metadata": {},
 "nbformat": 4,
 "nbformat_minor": 5
}
