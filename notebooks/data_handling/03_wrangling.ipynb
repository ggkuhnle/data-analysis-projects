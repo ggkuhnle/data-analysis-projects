{
 "cells": [
  {
   "cell_type": "markdown",
   "id": "7324f3db",
   "metadata": {},
   "source": [
    "# 🔀 Data Wrangling\n",
    "\n",
    "Sorting, grouping, filtering.\n",
    "```python\n",
    "df.groupby('gender').mean()\n",
    "```"
   ]
  }
 ],
 "metadata": {},
 "nbformat": 4,
 "nbformat_minor": 5
}
