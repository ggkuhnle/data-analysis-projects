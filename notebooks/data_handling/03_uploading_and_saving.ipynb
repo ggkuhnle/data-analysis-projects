{
 "cells": [
  {
   "cell_type": "markdown",
   "id": "7dd8af19",
   "metadata": {},
   "source": [
    "# 📤 3.3 Uploading to Colab and Saving Outputs"
   ]
  },
  {
   "cell_type": "markdown",
   "id": "1a0c4e19",
   "metadata": {},
   "source": [
    "When using Google Colab, you can upload files temporarily and also save outputs (e.g., cleaned datasets).\n",
    "\n",
    "**Upload options:**\n",
    "- Manual file upload via sidebar\n",
    "- Programmatic upload using `files.upload()`\n",
    "\n",
    "**Saving options:**\n",
    "- `df.to_csv()`\n",
    "- `df.to_json()`"
   ]
  },
  {
   "cell_type": "code",
   "execution_count": null,
   "id": "622afdea",
   "metadata": {},
   "outputs": [],
   "source": [
    "from google.colab import files\n",
    "uploaded = files.upload()\n",
    "\n",
    "import pandas as pd\n",
    "df = pd.read_csv(list(uploaded.keys())[0])\n",
    "df.to_csv('cleaned_output.csv')\n",
    "files.download('cleaned_output.csv')"
   ]
  },
  {
   "cell_type": "markdown",
   "id": "1fa3edbd",
   "metadata": {},
   "source": [
    "## 🧪 Exercise\n",
    "Upload a CSV file, inspect it, clean one column, and save the result as `cleaned.csv`."
   ]
  },
  {
   "cell_type": "markdown",
   "id": "55e5e93c",
   "metadata": {},
   "source": [
    "### <details><summary>Advanced: Automating Data Handling in Scripts</summary>\n",
    "- You can wrap upload/download operations in functions for reproducibility.\n",
    "- Consider using cloud storage integration (e.g., Google Drive).\n",
    "</details>"
   ]
  }
 ],
 "metadata": {},
 "nbformat": 4,
 "nbformat_minor": 5
}
