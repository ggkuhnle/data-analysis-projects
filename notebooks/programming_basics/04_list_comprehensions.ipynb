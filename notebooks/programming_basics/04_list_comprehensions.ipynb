{
 "cells": [
  {
   "cell_type": "markdown",
   "id": "95d30655",
   "metadata": {},
   "source": [
    "# 📋 2.4 List Comprehensions"
   ]
  },
  {
   "cell_type": "markdown",
   "id": "3fde52db",
   "metadata": {},
   "source": [
    "List comprehensions let you write concise code to generate or transform lists.\n",
    "\n",
    "**Basic form:**\n",
    "```python\n",
    "[expression for item in iterable if condition]\n",
    "```"
   ]
  },
  {
   "cell_type": "code",
   "execution_count": null,
   "id": "6e2adfe2",
   "metadata": {},
   "outputs": [],
   "source": [
    "# Convert mg to g for list of nutrient intakes\n",
    "intakes_mg = [1200, 800, 450]\n",
    "intakes_g = [x / 1000 for x in intakes_mg]\n",
    "intakes_g"
   ]
  },
  {
   "cell_type": "markdown",
   "id": "4271f563",
   "metadata": {},
   "source": [
    "## 🧪 Exercise\n",
    "- Given a list of iron intakes `[8.7, 10.2, 6.3]`, convert them to mg/kg using a body weight of 60kg\n",
    "- Use a list comprehension\n",
    "- Filter out intakes below 8.0"
   ]
  },
  {
   "cell_type": "markdown",
   "id": "df8042bc",
   "metadata": {},
   "source": [
    "## 🧠 Advanced (foldable)\n",
    "<details><summary>Nested Comprehensions</summary>\n",
    "\n",
    "**Matrix flattening:**\n",
    "```python\n",
    "matrix = [[1, 2], [3, 4]]\n",
    "flat = [num for row in matrix for num in row]\n",
    "```\n",
    "**Set and Dict comprehensions:**\n",
    "```python\n",
    "squares = {x: x**2 for x in range(5)}\n",
    "```\n",
    "</details>"
   ]
  }
 ],
 "metadata": {},
 "nbformat": 4,
 "nbformat_minor": 5
}
