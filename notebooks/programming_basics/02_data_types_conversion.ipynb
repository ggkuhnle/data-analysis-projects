{
 "cells": [
  {
   "cell_type": "markdown",
   "id": "25eb627f",
   "metadata": {},
   "source": [
    "# 🔄 2.2 Data Types and Conversion"
   ]
  },
  {
   "cell_type": "markdown",
   "id": "c9524ed3",
   "metadata": {},
   "source": [
    "## 🔍 Core Data Types in Python\n",
    "- **String (`str`)** – text like `'banana'`\n",
    "- **Integer (`int`)** – whole numbers like `42`\n",
    "- **Float (`float`)** – decimals like `3.14`\n",
    "- **Boolean (`bool`)** – `True` or `False`\n",
    "- **List** – ordered collection `[1, 2, 3]`\n",
    "- **Dictionary (`dict`)** – key/value pairs `{'iron': 8.6}`\n",
    "- **Datetime** – timestamps"
   ]
  },
  {
   "cell_type": "code",
   "execution_count": null,
   "id": "3a319e95",
   "metadata": {},
   "outputs": [],
   "source": [
    "# Examples\n",
    "age = 25\n",
    "name = 'Charlotte'\n",
    "intakes = {'protein': '35.2', 'fat': '48.1'}\n",
    "print(type(name), type(age), type(intakes))"
   ]
  },
  {
   "cell_type": "markdown",
   "id": "15584069",
   "metadata": {},
   "source": [
    "## 🔁 Type Checking and Conversion\n",
    "- Use `type()` to check\n",
    "- Use `str()`, `int()`, `float()` to convert\n",
    "\n",
    "**Example:**\n",
    "```python\n",
    "str(42)      # '42'\n",
    "float('3.1') # 3.1\n",
    "```"
   ]
  },
  {
   "cell_type": "code",
   "execution_count": null,
   "id": "523f5b7b",
   "metadata": {},
   "outputs": [],
   "source": [
    "nutrients = {'iron': '8.2', 'zinc': '7.5', 'calcium': '700'}\n",
    "nutrients_float = {k: float(v) for k, v in nutrients.items()}\n",
    "print(nutrients_float)"
   ]
  },
  {
   "cell_type": "markdown",
   "id": "b871bd0b",
   "metadata": {},
   "source": [
    "## 🧪 Exercise\n",
    "- Make a dict of 3 nutrients with string values\n",
    "- Convert all values to float\n",
    "- Print out total intake"
   ]
  },
  {
   "cell_type": "markdown",
   "id": "37c8d31a",
   "metadata": {},
   "source": [
    "## 🧠 Advanced (foldable)\n",
    "<details><summary>Mutable vs Immutable</summary>\n",
    "\n",
    "**Immutable:** cannot change in-place (e.g. `int`, `str`, `tuple`)\n",
    "**Mutable:** can be changed (e.g. `list`, `dict`)\n",
    "\n",
    "```python\n",
    "a = [1, 2, 3]\n",
    "a.append(4)  # works\n",
    "b = (1, 2, 3)\n",
    "b.append(4)  # error\n",
    "```\n",
    "</details>"
   ]
  }
 ],
 "metadata": {},
 "nbformat": 4,
 "nbformat_minor": 5
}
