# ⚡ 4.8 Power Calculations

This notebook demonstrates how to calculate statistical power using `statsmodels`.