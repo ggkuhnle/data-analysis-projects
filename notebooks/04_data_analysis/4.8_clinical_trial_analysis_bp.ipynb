{
 "cells": [
  {
   "cell_type": "markdown",
   "id": "eb56fcc7",
   "metadata": {},
   "source": [
    "# 🩺 4.8 Advanced Clinical Trial Analysis: Pre/Post Blood Pressure Study\n",
    "\n",
    "In this notebook, we simulate and analyse a **within-subject clinical trial**.  \n",
    "This is common in nutrition, where we measure outcomes **before and after** an intervention.\n",
    "\n",
    "---\n",
    "\n",
    "### 🧪 Hypothetical Study\n",
    "\n",
    "We simulate a study testing the effect of a **dietary intervention** on **systolic blood pressure (SBP)**.\n",
    "\n",
    "- Participants are randomly assigned to **Control** or **Intervention**.\n",
    "- **SBP is measured before and after** the 12-week trial.\n",
    "\n",
    "---\n",
    "\n",
    "### 📘 You Will Learn to:\n",
    "- Simulate repeated measures (pre/post)\n",
    "- Visualise individual change\n",
    "- Use **paired t-tests** and **Bayesian paired comparisons**\n",
    "- Estimate effect sizes using repeated-measures logic\n"
   ]
  },
  {
   "cell_type": "markdown",
   "id": "f1ed8907",
   "metadata": {},
   "source": [
    "## 📊 Step 1: Simulate Data\n",
    "\n",
    "We simulate 100 participants:\n",
    "- `group`: 0 (Control) or 1 (Intervention)\n",
    "- `sbp_pre`: Baseline systolic BP (mean 140 ± 10)\n",
    "- `sbp_post`: Post-intervention values with:\n",
    "  - No change in Control group\n",
    "  - Reduction (mean -5 mmHg) in Intervention group\n"
   ]
  },
  {
   "cell_type": "code",
   "execution_count": null,
   "id": "4511224c",
   "metadata": {},
   "outputs": [],
   "source": [
    "import pandas as pd\n",
    "import numpy as np\n",
    "\n",
    "np.random.seed(123)\n",
    "n = 100\n",
    "group = np.random.choice([0, 1], size=n)  # 0 = Control, 1 = Intervention\n",
    "sbp_pre = np.random.normal(140, 10, n)\n",
    "\n",
    "# Post values depend on group\n",
    "sbp_post = sbp_pre + np.where(group == 0,\n",
    "                              np.random.normal(0, 5, n),     # Control\n",
    "                              np.random.normal(-5, 5, n))    # Intervention\n",
    "\n",
    "df = pd.DataFrame({\n",
    "    'participant_id': range(1, n+1),\n",
    "    'group': group,\n",
    "    'sbp_pre': sbp_pre,\n",
    "    'sbp_post': sbp_post\n",
    "})\n",
    "\n",
    "df.head()"
   ]
  },
  {
   "cell_type": "markdown",
   "id": "5916ec59",
   "metadata": {},
   "source": [
    "## 📈 Step 2: Visualise Change\n",
    "\n",
    "We plot SBP before and after for each group to explore:\n",
    "- Individual trajectories\n",
    "- Average change in each group"
   ]
  },
  {
   "cell_type": "code",
   "execution_count": null,
   "id": "814cc7db",
   "metadata": {},
   "outputs": [],
   "source": [
    "import matplotlib.pyplot as plt\n",
    "import seaborn as sns\n",
    "\n",
    "sns.set(style='whitegrid')\n",
    "fig, axes = plt.subplots(1, 2, figsize=(14, 5))\n",
    "\n",
    "# Plot individual lines\n",
    "for g, ax in zip([0, 1], axes):\n",
    "    sub = df[df['group'] == g]\n",
    "    for i in range(len(sub)):\n",
    "        ax.plot(['Pre', 'Post'], [sub.iloc[i]['sbp_pre'], sub.iloc[i]['sbp_post']], color='grey', alpha=0.3)\n",
    "    sns.pointplot(data=sub.melt(id_vars='participant_id', value_vars=['sbp_pre', 'sbp_post']),\n",
    "                  x='variable', y='value', ci='sd', color='red', ax=ax)\n",
    "    ax.set_title('Control Group' if g == 0 else 'Intervention Group')\n",
    "    ax.set_ylabel('Systolic BP (mmHg)')\n",
    "\n",
    "plt.tight_layout()\n",
    "plt.show()"
   ]
  },
  {
   "cell_type": "markdown",
   "id": "47a9e14b",
   "metadata": {},
   "source": [
    "## 📏 Step 3: Paired t-tests\n",
    "\n",
    "We compare the **within-subject change** in each group separately,\n",
    "and then compare the **change between groups**."
   ]
  },
  {
   "cell_type": "code",
   "execution_count": null,
   "id": "13cde800",
   "metadata": {},
   "outputs": [],
   "source": [
    "from scipy.stats import ttest_rel, ttest_ind\n",
    "\n",
    "df['change'] = df['sbp_post'] - df['sbp_pre']\n",
    "control_change = df[df['group'] == 0]['change']\n",
    "intervention_change = df[df['group'] == 1]['change']\n",
    "\n",
    "# Paired t-tests within each group\n",
    "t_ctrl, p_ctrl = ttest_rel(df[df['group'] == 0]['sbp_post'], df[df['group'] == 0]['sbp_pre'])\n",
    "t_int, p_int = ttest_rel(df[df['group'] == 1]['sbp_post'], df[df['group'] == 1]['sbp_pre'])\n",
    "\n",
    "# Independent t-test of changes\n",
    "t_diff, p_diff = ttest_ind(intervention_change, control_change)\n",
    "\n",
    "print(\"Within-group change:\")\n",
    "print(f\"  Control: t = {t_ctrl:.2f}, p = {p_ctrl:.3f}\")\n",
    "print(f\"  Intervention: t = {t_int:.2f}, p = {p_int:.3f}\")\n",
    "print(\"\\nBetween-group difference in change:\")\n",
    "print(f\"  t = {t_diff:.2f}, p = {p_diff:.3f}\")"
   ]
  },
  {
   "cell_type": "markdown",
   "id": "2d403690",
   "metadata": {},
   "source": [
    "## 🧠 Step 4: Bayesian Analysis of Change\n",
    "\n",
    "We now use a Bayesian approach to compare **change in SBP** between groups, using the same logic as before.\n",
    "\n",
    "This time we model the difference in **change** scores."
   ]
  },
  {
   "cell_type": "code",
   "execution_count": null,
   "id": "82aace63",
   "metadata": {},
   "outputs": [],
   "source": [
    "import pymc as pm\n",
    "import arviz as az\n",
    "\n",
    "with pm.Model() as model:\n",
    "    mu = pm.Normal('mu', mu=0, sigma=10, shape=2)  # One mean for each group\n",
    "    sigma = pm.HalfNormal('sigma', sigma=5)\n",
    "    y_obs = pm.Normal('y_obs', mu=mu[df['group']], sigma=sigma, observed=df['change'])\n",
    "    diff = pm.Deterministic('diff', mu[1] - mu[0])\n",
    "    trace = pm.sample(1000, tune=1000, return_inferencedata=True)\n",
    "\n",
    "az.plot_posterior(trace, var_names=['diff'], ref_val=0)\n",
    "plt.title(\"Posterior Difference in SBP Change\")\n",
    "plt.show()\n",
    "\n",
    "posterior_diff = trace.posterior['diff'].values.flatten()\n",
    "posterior_mean = posterior_diff.mean()\n",
    "hdi = az.hdi(posterior_diff, hdi_prob=0.95)\n",
    "\n",
    "print(f\"Posterior mean difference: {posterior_mean:.2f} mmHg\")\n",
    "print(f\"95% HDI: [{hdi[0]:.2f}, {hdi[1]:.2f}]\")"
   ]
  },
  {
   "cell_type": "markdown",
   "id": "0c77c5e0",
   "metadata": {},
   "source": [
    "### 🔁 Step 4b: Visualise Sampling Chains"
   ]
  },
  {
   "cell_type": "code",
   "execution_count": null,
   "id": "73e21cd1",
   "metadata": {},
   "outputs": [],
   "source": [
    "az.plot_trace(trace, var_names=['diff'])\n",
    "plt.suptitle(\"Trace Plot for Posterior Difference\", y=1.02)\n",
    "plt.show()"
   ]
  },
  {
   "cell_type": "markdown",
   "id": "526fc4fe",
   "metadata": {},
   "source": [
    "## ✅ Summary\n",
    "\n",
    "You have:\n",
    "- Simulated a pre/post BP trial dataset\n",
    "- Visualised change by group\n",
    "- Compared outcomes using paired frequentist and Bayesian methods\n",
    "\n",
    "**Takeaway**:  \n",
    "Paired designs reduce noise and can increase power.  \n",
    "Bayesian methods help understand the magnitude and certainty of change.\n",
    "\n",
    "---\n",
    "\n",
    "### 🔁 Optional Exercises\n",
    "1. Increase the sample size to 200. What happens to the results?\n",
    "2. Change the intervention effect to -10 mmHg. What do you observe?\n",
    "3. Model SBP with a hierarchical structure (e.g. clinic-level effects).\n"
   ]
  }
 ],
 "metadata": {},
 "nbformat": 4,
 "nbformat_minor": 5
}
