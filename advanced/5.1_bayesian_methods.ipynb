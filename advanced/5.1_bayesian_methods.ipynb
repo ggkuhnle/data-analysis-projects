{
 "cell_type": "markdown",
 "source": [
  "# 🚀 5.1 Bayesian Methods\n",
  "\n",
  "Go Bayesian like a hippo sage! 🦛 Estimate true nutrient intakes with priors and posteriors.\n",
  "\n",
  "**What we’ll cover**:\n",
  "- **Bayesian Basics**: Priors + data = posterior.\n",
  "- **PyMC**: Model nutrient intake.\n",
  "\n",
  "**Exercise**: Estimate hippo iron intake!"
 ]
},
{
 "cell_type": "code",
 "source": [
  "import pymc as pm\n",
  "df = pd.read_csv('../data_handling/data/hippo_nutrients.csv')\n",
  "with pm.Model():\n",
  "    mu = pm.Normal('mu', mu=8, sigma=2)\n",
  "    obs = pm.Normal('obs', mu=mu, sigma=1, observed=df[df['Nutrient'] == 'Iron']['Value'])\n",
  "    trace = pm.sample(1000)"
 ]
}
