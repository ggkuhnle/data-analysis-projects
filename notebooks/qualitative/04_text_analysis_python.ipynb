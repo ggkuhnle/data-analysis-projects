{
 "cells": [
  {
   "cell_type": "markdown",
   "id": "5f81d8aa",
   "metadata": {},
   "source": [
    "# 💬 6.4 Simple Text Analysis in Python"
   ]
  },
  {
   "cell_type": "markdown",
   "id": "fbf95dd4",
   "metadata": {},
   "source": [
    "### Intro to Basic NLP\n",
    "```python\n",
    "import pandas as pd\n",
    "from sklearn.feature_extraction.text import CountVectorizer\n",
    "\n",
    "responses = pd.Series([\n",
    "    \"I love the fruity flavour\",\n",
    "    \"Too sour for my taste\",\n",
    "    \"Great texture, but needs more sweetness\"\n",
    "])\n",
    "\n",
    "vectorizer = CountVectorizer()\n",
    "X = vectorizer.fit_transform(responses)\n",
    "\n",
    "# Display word frequencies\n",
    "pd.DataFrame(X.toarray(), columns=vectorizer.get_feature_names_out())\n",
    "```\n",
    "\n",
    "### Sentiment Analysis\n",
    "```python\n",
    "from textblob import TextBlob\n",
    "responses.apply(lambda r: TextBlob(r).sentiment.polarity)\n",
    "```\n",
    "\n",
    "**Exercise:** Analyse sample responses to a question about taste preferences"
   ]
  }
 ],
 "metadata": {},
 "nbformat": 4,
 "nbformat_minor": 5
}
