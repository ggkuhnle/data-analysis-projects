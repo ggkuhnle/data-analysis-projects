{
 "cells": [
  {
   "cell_type": "markdown",
   "id": "2f473fa0",
   "metadata": {},
   "source": [
    "# 📥 3.2 Importing Data"
   ]
  },
  {
   "cell_type": "markdown",
   "id": "ea541ba0",
   "metadata": {},
   "source": [
    "Most datasets we work with are stored in text or spreadsheet files. The most common formats are `.csv`, `.xlsx`, `.json`, and `.tsv`.\n",
    "\n",
    "**Common tools:**\n",
    "- `pandas.read_csv()`\n",
    "- `pd.read_excel()` (requires `openpyxl`)\n",
    "- `pd.read_json()` for structured data\n",
    "- `requests.get()` for downloading data from online sources"
   ]
  },
  {
   "cell_type": "code",
   "execution_count": null,
   "id": "64628675",
   "metadata": {},
   "outputs": [],
   "source": [
    "url = 'https://raw.githubusercontent.com/ggkuhnle/data-analysis/main/data/hippos_cleaned.csv'\n",
    "df = pd.read_csv(url)\n",
    "df.head()"
   ]
  },
  {
   "cell_type": "markdown",
   "id": "267bce0c",
   "metadata": {},
   "source": [
    "## 🧪 Exercise\n",
    "Download a dataset (e.g. NDNS subset) and check its `.shape`, `.columns`, and `.dtypes`."
   ]
  },
  {
   "cell_type": "markdown",
   "id": "692aae35",
   "metadata": {},
   "source": [
    "### <details><summary>Advanced: API Access</summary>\n",
    "```python\n",
    "import requests\n",
    "response = requests.get('https://api.example.com/data')\n",
    "data = response.json()\n",
    "```\n",
    "This requires understanding the API format and authentication (if needed).\n",
    "</details>"
   ]
  }
 ],
 "metadata": {},
 "nbformat": 4,
 "nbformat_minor": 5
}
