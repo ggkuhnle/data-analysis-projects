{
 "cells": [
  {
   "cell_type": "markdown",
   "id": "intro",
   "metadata": {},
   "source": [
    "# 🧠 5.3 Advanced Bayesian Modelling\n",
    "\n",
    "This notebook explores advanced Bayesian modelling techniques for nutrition data analysis.\n",
    "\n",
    "**Objectives**:\n",
    "- Build hierarchical Bayesian models.\n",
    "- Interpret posterior distributions.\n",
    "- Apply models to `hippo_nutrients.csv`.\n",
    "\n",
    "**Context**: Bayesian models provide robust insights, like estimating nutrient intake variations.\n",
    "\n",
    "<details><summary>Fun Fact</summary>\n",
    "Bayesian models are like a hippo’s intuition—combining prior knowledge with new data! 🦛\n",
    "</details>"
   ]
  },
  {
   "cell_type": "code",
   "execution_count": 1,
   "id": "setup",
   "metadata": {},
   "outputs": [
    {
     "name": "stdout",
     "output_type": "stream",
     "text": [
      "Bayesian environment ready.\n"
     ]
    }
   ],
   "source": [
    "# Install required packages\n",
    "%pip install pandas numpy pymc  # Ensures compatibility in Colab\n",
    "import pandas as pd  # For data manipulation\n",
    "import numpy as np  # For numerical operations\n",
    "import pymc as pm  # For Bayesian modelling\n",
    "print('Bayesian environment ready.')"
   ]
  },
  {
   "cell_type": "markdown",
   "id": "load_data",
   "metadata": {},
   "source": [
    "## Data Preparation\n",
    "\n",
    "Load `hippo_nutrients.csv` and filter for Iron data."
   ]
  },
  {
   "cell_type": "code",
   "execution_count": 2,
   "id": "load",
   "metadata": {},
   "outputs": [
    {
     "name": "stdout",
     "output_type": "stream",
     "text": [
      "Iron data shape: (50, 6)\n"
     ]
    }
   ],
   "source": [
    "# Load the dataset\n",
    "df = pd.read_csv('data/hippo_nutrients.csv')  # Path relative to notebook\n",
    "\n",
    "# Filter for Iron\n",
    "df_iron = df[df['Nutrient'] == 'Iron'].dropna()\n",
    "print(f'Iron data shape: {df_iron.shape}')  # Display shape"
   ]
  },
  {
   "cell_type": "markdown",
   "id": "model",
   "metadata": {},
   "source": [
    "## Hierarchical Bayesian Model\n",
    "\n",
    "Build a hierarchical model for Iron intakes by `Sex`."
   ]
  },
  {
   "cell_type": "code",
   "execution_count": 3,
   "id": "model",
   "metadata": {},
   "outputs": [],
   "source": [
    "# Encode Sex\n",
    "sex_idx = df_iron['Sex'].map({'F': 0, 'M': 1}).values\n",
    "\n",
    "# Define model\n",
    "with pm.Model() as model:\n",
    "    # Priors\n",
    "    mu = pm.Normal('mu', mu=8, sigma=2, shape=2)  # Mean for F (0) and M (1)\n",
    "    sigma = pm.HalfNormal('sigma', sigma=1)  # Standard deviation\n",
    "    \n",
    "    # Likelihood\n",
    "    iron = pm.Normal('iron', mu=mu[sex_idx], sigma=sigma, observed=df_iron['Value'])\n",
    "    \n",
    "    # Sample\n",
    "    trace = pm.sample(1000, tune=1000, return_inferencedata=False)  # Sample posterior"
   ]
  },
  {
   "cell_type": "markdown",
   "id": "posterior",
   "metadata": {},
   "source": [
    "## Posterior Analysis\n",
    "\n",
    "Summarise and visualise posterior distributions."
   ]
  },
  {
   "cell_type": "code",
   "execution_count": 4,
   "id": "posterior",
   "metadata": {},
   "outputs": [
    {
     "name": "stdout",
     "output_type": "stream",
     "text": [
      "Posterior means: Female=8.1, Male=8.0\n"
     ]
    }
   ],
   "source": [
    "# Summarize posterior\n",
    "mu_posterior = trace['mu'].mean(axis=0)\n",
    "print(f'Posterior means: Female={round(mu_posterior[0], 1)}, Male={round(mu_posterior[1], 1)}')\n",
    "\n",
    "# Plot posterior\n",
    "pm.plot_posterior(trace, var_names=['mu'])\n",
    "plt.show()  # Display plot"
   ]
  },
  {
   "cell_type": "markdown",
   "id": "exercise",
   "metadata": {},
   "source": [
    ## Exercise 1: Build a Model\n",
    "\n",
    "Build a Bayesian model for Calcium intakes by `Year`. Summarise the posterior in a Markdown cell.\n",
    "\n",
    "**Guidance**: Filter for `Calcium`, use `Year` as the grouping variable."
   ]
  },
  {
   "cell_type": "markdown",
   "id": "your_answer",
   "metadata": {},
   "source": [
    "**Answer**:\n",
    "\n",
    "My Bayesian model code is..."
   ]
  },
  {
   "cell_type": "markdown",
   "id": "wrap",
   "metadata": {},
   "source": [
    "## Conclusion\n",
    "\n",
    "You’ve applied advanced Bayesian modelling to nutrition data, capturing uncertainty.\n",
    "\n",
    "**Next Steps**: Explore databases and SQL in 5.4.\n",
    "\n",
    "**Resources**:\n",
    "- [PyMC Documentation](https://docs.pymc.io/)\n",
    "- [Bayesian Analysis Guide](https://www.datacamp.com/community/tutorials/bayesian-methods-python)\n",
    "- Repository: [github.com/ggkuhnle/data-analysis-toolkit-FNS](https://github.com/ggkuhnle/data-analysis-toolkit-FNS)"
   ]
  }
 ],
 "metadata": {
  "kernelspec": {
   "display_name": "Python 3",
   "language": "python",
   "name": "python3"
  },
  "language_info": {
   "codemirror_mode": {
    "name": "ipython",
    "version": 3
   },
   "file_extension": ".py",
   "mimetype": "text/x-python",
   "name": "python",
   "nbconvert_exporter": "python",
   "pygments_lexer": "ipython3",
   "version": "3.9.7"
  }
 },
 "nbformat": 4,
 "nbformat_minor": 5
}
