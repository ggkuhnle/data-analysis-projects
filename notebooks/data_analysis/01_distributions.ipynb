{
 "cells": [
  {
   "cell_type": "markdown",
   "id": "8042b6bd",
   "metadata": {},
   "source": [
    "# 📊 Visualising Distributions\n",
    "\n",
    "Histograms, KDE plots.\n",
    "```python\n",
    "import seaborn as sns\n",
    "sns.histplot(df['height'])\n",
    "```"
   ]
  }
 ],
 "metadata": {},
 "nbformat": 4,
 "nbformat_minor": 5
}
