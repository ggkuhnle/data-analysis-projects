{
 "cells": [
  {
   "cell_type": "markdown",
   "id": "b647e52d",
   "metadata": {},
   "source": [
    "# 🧱 2.1 Syntax, Variables, and Comments"
   ]
  },
  {
   "cell_type": "markdown",
   "id": "6ab7fd9e",
   "metadata": {},
   "source": [
    "## 🔤 Python Code Structure\n",
    "Python uses **indentation** instead of braces to define blocks. Indentation must be consistent — usually 4 spaces.\n",
    "\n",
    "```python\n",
    "if True:\n",
    "    print(\"Indented\")\n",
    "```\n",
    "\n",
    "- Every block (for loops, conditionals, functions) needs to be indented\n",
    "- No `;` needed at the end of lines"
   ]
  },
  {
   "cell_type": "markdown",
   "id": "32758471",
   "metadata": {},
   "source": [
    "## 📛 Variables and Naming\n",
    "- Variable names should be clear and descriptive\n",
    "- Use `snake_case` for variables (e.g. `iron_intake`)\n",
    "\n",
    "**Examples:**\n",
    "```python\n",
    "name = \"Alice\"\n",
    "daily_energy_kcal = 2100\n",
    "```\n",
    "\n",
    "**Avoid:** `x1`, `tmp`, `var3`"
   ]
  },
  {
   "cell_type": "markdown",
   "id": "d13a300c",
   "metadata": {},
   "source": [
    "## 💬 Comments: Why, When, How\n",
    "- Start a comment with `#`\n",
    "- Use inline comments sparingly\n",
    "- Block comments should explain the rationale, not just what the code does\n",
    "\n",
    "**Example:**\n",
    "```python\n",
    "# Calculate BMI for user\n",
    "bmi = weight_kg / (height_m ** 2)  # kg/m²\n",
    "```"
   ]
  },
  {
   "cell_type": "code",
   "execution_count": null,
   "id": "73fb4fae",
   "metadata": {},
   "outputs": [],
   "source": [
    "from datetime import date\n",
    "user_name = input(\"What is your name? \")\n",
    "today = date.today()\n",
    "print(f\"Hello {user_name}, today's date is {today}\")"
   ]
  },
  {
   "cell_type": "markdown",
   "id": "294c871c",
   "metadata": {},
   "source": [
    "## 🧪 Exercise\n",
    "1. Write your own programme to:\n",
    "   - Ask for the user’s favourite food\n",
    "   - Print a greeting with the current year\n",
    "   - Comment each line"
   ]
  },
  {
   "cell_type": "markdown",
   "id": "6d85436b",
   "metadata": {},
   "source": [
    "## 🧠 Advanced (foldable)\n",
    "<details><summary>Why Python chose indentation?</summary>\n",
    "\n",
    "- Python emphasises **readability** and **minimal syntax**.\n",
    "- Forcing indentation reduces ambiguity and improves collaboration.\n",
    "- Studies suggest visual structure improves error detection.\n",
    "\n",
    "Compare with C-style syntax:\n",
    "```c\n",
    "if (x > 3) {\n",
    "    do_something();\n",
    "}\n",
    "```\n",
    "</details>"
   ]
  }
 ],
 "metadata": {},
 "nbformat": 4,
 "nbformat_minor": 5
}
