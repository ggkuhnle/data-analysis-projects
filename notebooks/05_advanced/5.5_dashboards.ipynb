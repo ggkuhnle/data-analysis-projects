{
  "cells": [
    {
      "cell_type": "markdown",
      "id": "intro",
      "metadata": {},
      "source": [
        "# 📊 5.5 Creating Dashboards\n",
        "\n",
        "This notebook introduces Quarto dashboards for visualizing nutrition data, ideal for presenting research findings.\n",
        "\n",
        "**Objectives**:\n",
        "\n",
        "- Build interactive dashboards with Quarto.\n",
        "- Visualize nutrient trends from `large_food_log.csv`.\n",
        "- Export dashboards for sharing.\n",
        "\n",
        "**Context**: Dashboards consolidate complex data, like hippo nutrient logs, into clear insights. 🦛\n",
        "\n",
        "<details><summary>Fun Fact</summary>\n",
        "A dashboard is like a hippo’s control panel—clear and insightful! 🦛\n",
        "</details>"
      ]
    },
    {
      "cell_type": "code",
      "execution_count": null,
      "id": "colab_setup",
      "metadata": {},
      "outputs": [],
      "source": [
        "# Setup for Google Colab: Fetch datasets automatically or manually\n",
        "%run ../../bootstrap.py    # installs requirements + editable package\n",
        "\n",
        "import fns_toolkit as fns\n",
        "\n",
        "import pandas as pd\n",
        "import seaborn as sns\n",
        "import sqlite3  # For SQLite database\n",
        "\n",
        "print('Python environment ready.')"
      ]
    },
    {
      "cell_type": "markdown",
      "id": "load_data",
      "metadata": {},
      "source": [
        "## Data Preparation\n",
        "\n",
        "Load `large_food_log.csv`, a detailed dataset of hippo meals and nutrients."
      ]
    },
    {
      "cell_type": "code",
      "execution_count": null,
      "id": "load",
      "metadata": {},
      "outputs": [
        {
          "name": "stdout",
          "output_type": "stream",
          "text": [
            "   ID      Meal Nutrient  Amount        Date\n",
            "0  H1  Breakfast     Iron     2.5  2024-01-01\n"
          ]
        }
      ],
      "source": [
        "df = fns.get_dataset('large_food_log')\n",
        "print(df.head(1))"
      ]
    },
    {
      "cell_type": "markdown",
      "id": "dashboard",
      "metadata": {},
      "source": [
        "## Building a Dashboard\n",
        "\n",
        "Create a line plot to visualize nutrient trends over time. This can be embedded in a Quarto dashboard."
      ]
    },
    {
      "cell_type": "code",
      "execution_count": 3,
      "id": "lineplot",
      "metadata": {},
      "outputs": [],
      "source": [
        "plt.figure(figsize=(12, 6))\n",
        "sns.lineplot(x='Date', y='Amount', hue='Nutrient', data=df)\n",
        "plt.title('Nutrient Trends Over Time')\n",
        "plt.xlabel('Date')\n",
        "plt.ylabel('Amount (mg or g)')\n",
        "plt.xticks(rotation=45)\n",
        "plt.show()"
      ]
    },
    {
      "cell_type": "markdown",
      "id": "exercise",
      "metadata": {},
      "source": [
        "## Exercise 1: Customize the Dashboard\n",
        "\n",
        "Add a second plot (e.g., bar plot of nutrients by meal type) and describe its insights in a Markdown cell.\n",
        "\n",
        "**Guidance**: Use `sns.catplot()` with `kind='bar'`."
      ]
    },
    {
      "cell_type": "markdown",
      "id": "your_answer",
      "metadata": {},
      "source": [
        "**Answer**:\n",
        "\n",
        "The bar plot shows..."
      ]
    },
    {
      "cell_type": "markdown",
      "id": "wrap",
      "metadata": {},
      "source": [
        "## Conclusion\n",
        "\n",
        "You’ve built a Quarto dashboard to visualize nutrient trends. Share it via GitHub Pages or PDF.\n",
        "\n",
        "**Resources**:\n",
        "\n",
        "- [Quarto Dashboards](https://quarto.org/docs/interactive/)\n",
        "- [Seaborn Documentation](https://seaborn.pydata.org/)\n",
        "- Repository: [github.com/ggkuhnle/data-analysis-toolkit-FNS](https://github.com/ggkuhnle/data-analysis-toolkit-FNS)"
      ]
    }
  ],
  "metadata": {
    "kernelspec": {
      "display_name": "Python 3",
      "language": "python",
      "name": "python3"
    },
    "language_info": {
      "codemirror_mode": {
        "name": "ipython",
        "version": 3
      },
      "file_extension": ".py",
      "mimetype": "text/x-python",
      "name": "python",
      "nbconvert_exporter": "python",
      "pygments_lexer": "ipython3",
      "version": "3.9.7"
    }
  },
  "nbformat": 4,
  "nbformat_minor": 5
}
