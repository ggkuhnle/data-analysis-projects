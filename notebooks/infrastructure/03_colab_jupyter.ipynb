{
 "cells": [
  {
   "cell_type": "markdown",
   "id": "86f4983a",
   "metadata": {},
   "source": [
    "# ☁️ Using Google Colab and Jupyter\n",
    "\n",
    "Explore how to work in both Colab and local Jupyter notebooks.\n",
    "\n",
    "## 💡 Basic View\n",
    "\n",
    "- How to open and run a Colab notebook\n",
    "- Difference between code and Markdown cells\n",
    "- How to save and download\n",
    "\n",
    "## 🔍 Advanced View\n",
    "\n",
    "<details><summary>Click to expand</summary>\n",
    "\n",
    "- Install Jupyter locally\n",
    "- Sync Colab to Google Drive\n",
    "- VS Code Jupyter plugin\n",
    "\n",
    "</details>\n",
    "\n",
    "## 🧪 Exercises\n",
    "\n",
    "1. Open one of the course notebooks in Colab and run a cell.\n",
    "2. Create a new Colab notebook and write a “Hello world” message.\n",
    "3. Optional: install Jupyter locally and open a notebook from your files.\n"
   ]
  }
 ],
 "metadata": {},
 "nbformat": 4,
 "nbformat_minor": 5
}
