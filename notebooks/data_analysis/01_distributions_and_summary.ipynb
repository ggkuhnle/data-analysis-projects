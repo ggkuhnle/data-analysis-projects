{
 "cells": [
  {
   "cell_type": "markdown",
   "id": "85a1bb8c",
   "metadata": {},
   "source": [
    "# 📊 Summary Statistics and Distributions"
   ]
  },
  {
   "cell_type": "code",
   "execution_count": null,
   "id": "20f50a8a",
   "metadata": {},
   "outputs": [],
   "source": [
    "import seaborn as sns\n",
    "import matplotlib.pyplot as plt\n",
    "sns.histplot(df['Height'], kde=True)\n",
    "plt.show()"
   ]
  }
 ],
 "metadata": {},
 "nbformat": 4,
 "nbformat_minor": 5
}
