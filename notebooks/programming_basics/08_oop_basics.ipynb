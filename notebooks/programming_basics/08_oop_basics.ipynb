{
 "cells": [
  {
   "cell_type": "markdown",
   "id": "3a9d3eff",
   "metadata": {},
   "source": [
    "# 👤 2.6 Object-Oriented Programming (OOP) Basics\n",
    "\n",
    "Object-Oriented Programming is a way of structuring your code so that **data and functions** are bundled together into **objects**.\n",
    "\n",
    "Think of a class as a **blueprint**, and an object as a **thing** made using that blueprint.\n",
    "\n",
    "This approach helps manage complexity in larger programmes by organising code into logical chunks.\n",
    "\n",
    "### Why Use OOP?\n",
    "- Reusability: Write once, use many times\n",
    "- Modularity: Divide code into manageable units\n",
    "- Abstraction: Hide complexity behind simple interfaces\n",
    "- Extensibility: Easy to add new behaviour\n",
    "\n",
    "In Python, *everything* is an object — even strings, lists, and integers!"
   ]
  },
  {
   "cell_type": "markdown",
   "id": "99a71801",
   "metadata": {},
   "source": [
    "## 🔍 Defining a Class and Creating Objects\n",
    "Let’s define a class for a person:\n",
    "\n",
    "```python\n",
    "class Person:\n",
    "    def __init__(self, name, height, weight):\n",
    "        self.name = name  # Attribute\n",
    "        self.height = height\n",
    "        self.weight = weight\n",
    "\n",
    "    def bmi(self):  # Method\n",
    "        return self.weight / (self.height ** 2)\n",
    "```\n",
    "- `__init__` is a *special method* that runs when you create an object.\n",
    "- `self` refers to the current instance of the object.\n",
    "- Attributes like `name` and `height` store data.\n",
    "- The `bmi()` method uses that data to calculate something."
   ]
  },
  {
   "cell_type": "code",
   "execution_count": null,
   "id": "61ccf0ce",
   "metadata": {},
   "outputs": [],
   "source": [
    "p = Person(\"Gunter\", 1.80, 75)\n",
    "print(f\"Name: {p.name}\")\n",
    "print(f\"BMI: {p.bmi():.2f}\")"
   ]
  },
  {
   "cell_type": "markdown",
   "id": "be3f0b99",
   "metadata": {},
   "source": [
    "## 🛠️ Objects and Methods\n",
    "Once you create an object, you can access its methods and attributes using dot notation.\n",
    "```python\n",
    "p.name         # Access attribute\n",
    "p.bmi()        # Call method\n",
    "```\n",
    "This is the same syntax you've seen in pandas (`df.head()`, `df.describe()`) — pandas uses OOP!"
   ]
  },
  {
   "cell_type": "markdown",
   "id": "3dfa0c53",
   "metadata": {},
   "source": [
    "## 🧪 Exercise\n",
    "- Define a class `FoodItem`\n",
    "- It should have two attributes: `name` and `kcal_per_100g`\n",
    "- Add a method `kcal_for_portion` that takes a portion in grams and returns the kcal\n",
    "\n",
    "**Hint:**\n",
    "```python\n",
    "def kcal_for_portion(self, grams):\n",
    "    return self.kcal_per_100g * (grams / 100)\n",
    "```"
   ]
  },
  {
   "cell_type": "markdown",
   "id": "fe3707b0",
   "metadata": {},
   "source": [
    "## 🧠 Advanced: OOP Extras\n",
    "<details><summary>Click to expand: Inheritance, Magic Methods, and More</summary>\n",
    "\n",
    "**Inheritance** lets you make a new class from an existing one:\n",
    "```python\n",
    "class Athlete(Person):\n",
    "    def __init__(self, name, height, weight, sport):\n",
    "        super().__init__(name, height, weight)\n",
    "        self.sport = sport\n",
    "```\n",
    "\n",
    "**Magic Methods** let you control behaviour of objects, e.g. how they're printed:\n",
    "```python\n",
    "def __str__(self):\n",
    "    return f\"{self.name} ({self.height}m, {self.weight}kg)\"\n",
    "```\n",
    "\n",
    "**Other useful methods:**\n",
    "- `__repr__`: developer-readable string\n",
    "- `__eq__`: for comparing objects\n",
    "- `__len__`, `__getitem__`, etc. — for list-like behaviour\n",
    "\n",
    "OOP is powerful when your programme grows or when modelling complex relationships.\n",
    "</details>"
   ]
  }
 ],
 "metadata": {},
 "nbformat": 4,
 "nbformat_minor": 5
}
