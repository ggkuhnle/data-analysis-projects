{
 "cells": [
  {
   "cell_type": "markdown",
   "id": "6ff4395a",
   "metadata": {},
   "source": [
    "# ↔️ Wide vs Long Data\n",
    "\n",
    "Transforming formats using melt/pivot.\n",
    "```python\n",
    "pd.melt(df, id_vars='id')\n",
    "```"
   ]
  }
 ],
 "metadata": {},
 "nbformat": 4,
 "nbformat_minor": 5
}
