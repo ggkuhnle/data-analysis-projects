{
 "cells": [
  {
   "cell_type": "markdown",
   "id": "intro",
   "metadata": {},
   "source": [
    "# 📚 1.3 Introduction to Git\n",
    "\n",
    "This notebook introduces Git, a version control system essential for managing code and data in nutrition research projects.\n",
    "\n",
    "**Objectives**:\n",
    "- Understand Git’s purpose and basic commands.\n",
    "- Practise committing changes to a repository.\n",
    "- Explore GitHub for collaboration.\n",
    "\n",
    "**Context**: Git ensures reproducibility and collaboration, vital for MSc projects like NDNS analysis.\n",
    "\n",
    "<details><summary>Fun Fact</summary>\n",
    "Git is like a hippo’s journal—tracking every snack and meal with precision! 🦛\n",
    "</details>"
   ]
  },
  {
   "cell_type": "markdown",
   "id": "setup",
   "metadata": {},
   "source": [
    "## Setting Up Git\n",
    "\n",
    "Install Git locally or use a cloud platform like GitHub. Run the following in a terminal (not Python):\n",
    "\n",
    "```bash\n",
    "git --version  # Check Git installation\n",
    "git config --global user.name \"Your Name\"\n",
    "git config --global user.email \"your.email@example.com\"\n",
    "```"
   ]
  },
  {
   "cell_type": "markdown",
   "id": "exercise",
   "metadata": {},
   "source": [
    "## Exercise 1: Create a Repository\n",
    "\n",
    "Create a local Git repository and commit a sample file. Follow these steps in a terminal:\n",
    "\n",
    "1. Create a directory: `mkdir my-nutrition-repo`\n",
    "2. Navigate: `cd my-nutrition-repo`\n",
    "3. Initialise: `git init`\n",
    "4. Create a file: `echo \"# Nutrition Notes\" > README.md`\n",
    "5. Stage: `git add README.md`\n",
    "6. Commit: `git commit -m \"Initial commit\"`\n",
    "\n",
    "Document your experience in a Markdown cell.\n",
    "\n",
    "**Guidance**: Note any errors or successes."
   ]
  },
  {
   "cell_type": "markdown",
   "id": "your_answer",
   "metadata": {},
   "source": [
    "**Answer**:\n",
    "\n",
    "I created the repository by..."
   ]
  },
  {
   "cell_type": "markdown",
   "id": "wrap",
   "metadata": {},
   "source": [
    "## Conclusion\n",
    "\n",
    "You’ve learned the basics of Git for version control. Practise these skills to manage your nutrition data projects.\n",
    "\n",
    "**Next Steps**: Explore Quarto for reproducible documents in 1.4.\n",
    "\n",
    "**Resources**:\n",
    "- [Git Documentation](https://git-scm.com/doc)\n",
    "- [GitHub Guides](https://guides.github.com/)\n",
    "- Repository: [github.com/ggkuhnle/data-analysis-toolkit-FNS](https://github.com/ggkuhnle/data-analysis-toolkit-FNS)"
   ]
  }
 ],
 "metadata": {
  "kernelspec": {
   "display_name": "Python 3",
   "language": "python",
   "name": "python3"
  },
  "language_info": {
   "codemirror_mode": {
    "name": "ipython",
    "version": 3
   },
   "file_extension": ".py",
   "mimetype": "text/x-python",
   "name": "python",
   "nbconvert_exporter": "python",
   "pygments_lexer": "ipython3",
   "version": "3.9.7"
  }
 },
 "nbformat": 4,
 "nbformat_minor": 5
}
