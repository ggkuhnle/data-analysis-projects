# 🧮 4.3 Categorical Data

This notebook explores how to handle and encode categorical data for statistical analysis.