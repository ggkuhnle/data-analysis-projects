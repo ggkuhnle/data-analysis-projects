{
 "cells": [
  {
   "cell_type": "markdown",
   "id": "704fb347",
   "metadata": {},
   "source": [
    "# 🐍 Introduction to Python Syntax"
   ]
  },
  {
   "cell_type": "code",
   "execution_count": null,
   "id": "58cd994b",
   "metadata": {},
   "outputs": [],
   "source": [
    "x = 5\n",
    "y = 10\n",
    "x + y"
   ]
  }
 ],
 "metadata": {},
 "nbformat": 4,
 "nbformat_minor": 5
}
