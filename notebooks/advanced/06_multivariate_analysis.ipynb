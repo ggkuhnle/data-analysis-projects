# 📈 Multivariate Analysis

_PCA, PLS, clustering — especially in food and nutrition science._

🧪 **Exercise**: Apply PCA to a metabolomics dataset.