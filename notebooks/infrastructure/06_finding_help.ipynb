{
 "cells": [
  {
   "cell_type": "markdown",
   "id": "1aa2cc58",
   "metadata": {},
   "source": [
    "# ❓ Finding Help and Documentation\n",
    "\n",
    "Useful resources:\n",
    "- [pandas documentation](https://pandas.pydata.org/)\n",
    "- [Stack Overflow](https://stackoverflow.com/)\n",
    "- `?` in Jupyter:\n",
    "```python\n",
    "pd.read_csv?\n",
    "```\n",
    "- `help()` function:\n",
    "```python\n",
    "help(len)\n",
    "```"
   ]
  }
 ],
 "metadata": {},
 "nbformat": 4,
 "nbformat_minor": 5
}
