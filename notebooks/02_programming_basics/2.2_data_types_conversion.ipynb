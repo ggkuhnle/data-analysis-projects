{
 "cells": [
  {
   "cell_type": "markdown",
   "id": "3c57d3bc",
   "metadata": {},
   "source": [
    "# 🧮 2.2 Data Types and Conversion\n",
    "\n",
    "This notebook explores Python data types and type conversion, critical for handling nutrition data accurately.\n",
    "\n",
    "**Objectives**:\n",
    "- Understand basic data types: integers, floats, strings, dates.\n",
    "- Perform type conversion for data consistency.\n",
    "- Handle missing values effectively.\n",
    "- Apply data types to nutrition-related variables.\n",
    "\n",
    "**Context**: Correct data types ensure reliable calculations, such as averaging nutrient intakes.\n",
    "\n",
    "<details><summary>Fun Fact</summary>\n",
    "Data types are like a hippo’s food labels—knowing what’s what prevents a mix-up! 🦛\n",
    "</details>"
   ]
  },
  {
   "cell_type": "code",
   "execution_count": null,
   "id": "d56c57bb",
   "metadata": {},
   "outputs": [],
   "source": [
    "# Setup: This module (Programming Basics) does not require external datasets\n",
    "print('No dataset required for this notebook 🦛')"
   ]
  },
  {
   "cell_type": "markdown",
   "id": "c9c95bb2",
   "metadata": {},
   "source": [
    "## Exploring Data Types\n",
    "\n",
    "Create variables with different data types for a hippo’s diet and check their types."
   ]
  },
  {
   "cell_type": "code",
   "execution_count": null,
   "id": "f6887db6",
   "metadata": {},
   "outputs": [],
   "source": [
    "hippo_id = 'H1'           # String for hippo identifier\n",
    "calories = 2500           # Integer for daily calorie intake\n",
    "protein = 80.5            # Float for protein intake in grams\n",
    "\n",
    "print(f'hippo_id: {type(hippo_id)}')\n",
    "print(f'calories: {type(calories)}')\n",
    "print(f'protein: {type(protein)}')"
   ]
  },
  {
   "cell_type": "markdown",
   "id": "4b573240",
   "metadata": {},
   "source": [
    "## Type Conversion\n",
    "\n",
    "Convert a string nutrient value to a float for calculations."
   ]
  },
  {
   "cell_type": "code",
   "execution_count": null,
   "id": "46878f92",
   "metadata": {},
   "outputs": [],
   "source": [
    "iron_str = '8.2'  # Iron intake as a string\n",
    "iron_float = float(iron_str)\n",
    "print(f'Iron as float: {iron_float}')\n",
    "print(f'Type after conversion: {type(iron_float)}')"
   ]
  },
  {
   "cell_type": "markdown",
   "id": "953ffe6c",
   "metadata": {},
   "source": [
    "## 🧾 Loading Excel and Mixed-Type Data\n",
    "\n",
    "In real-world datasets, you might find text, numbers, and percentages mixed in a single column.\n",
    "\n",
    "<details><summary>Common Problems</summary>\n",
    "\n",
    "- Percent signs like `'45%'` can't be converted directly to float.\n",
    "- Missing entries might appear as `''`, `'NA'`, or `'-'`.\n",
    "- Excel autoformats e.g., `'01/02'` as a date, even if it's not.\n",
    "\n",
    "Use `pd.read_excel(..., dtype=str)` to preserve raw data.\n",
    "\n",
    "You can strip `%` and convert manually:\n",
    "\n",
    "```python\n",
    "df['Iron (%)'] = df['Iron (%)'].str.replace('%', '').astype(float)\n",
    "```\n",
    "</details>"
   ]
  },
  {
   "cell_type": "markdown",
   "id": "b87d6d8c",
   "metadata": {},
   "source": [
    "## 📅 Working with Dates\n",
    "\n",
    "Python’s `datetime` helps convert and work with date strings."
   ]
  },
  {
   "cell_type": "code",
   "execution_count": null,
   "id": "ca84aef7",
   "metadata": {},
   "outputs": [],
   "source": [
    "import pandas as pd\n",
    "from datetime import datetime\n",
    "\n",
    "# Convert string to datetime\n",
    "date_str = '2024-01-01'\n",
    "date_obj = pd.to_datetime(date_str)\n",
    "print(f'Date: {date_obj} — Type: {type(date_obj)}')"
   ]
  },
  {
   "cell_type": "markdown",
   "id": "c38c1e39",
   "metadata": {},
   "source": [
    "## 🕳 Handling Missing Data"
   ]
  },
  {
   "cell_type": "code",
   "execution_count": null,
   "id": "e8c21c8f",
   "metadata": {},
   "outputs": [],
   "source": [
    "protein_values = ['80.5', '75.2', '', '82.0', 'NaN', 'missing']\n",
    "converted = []\n",
    "for val in protein_values:\n",
    "    try:\n",
    "        converted.append(float(val))\n",
    "    except ValueError:\n",
    "        converted.append(None)\n",
    "print(converted)"
   ]
  },
  {
   "cell_type": "code",
   "execution_count": null,
   "id": "46176293",
   "metadata": {},
   "outputs": [],
   "source": [
    "# Using Pandas to coerce errors\n",
    "df = pd.DataFrame({'Protein (g)': ['80.5', 'NaN', '75.0', '', None, 'missing']})\n",
    "df['Protein (g)'] = pd.to_numeric(df['Protein (g)'], errors='coerce')\n",
    "print(df)\n",
    "\n",
    "# Optional cleaning\n",
    "print('Filled:')\n",
    "print(df.fillna(0))"
   ]
  },
  {
   "cell_type": "markdown",
   "id": "d25c4022",
   "metadata": {},
   "source": [
    "## Conclusion\n",
    "\n",
    "You’ve learned Python data types, conversion, date handling, and how to manage missing values.\n",
    "\n",
    "**Next Steps**: Explore functions and loops in 2.3.\n",
    "\n",
    "**Resources**:\n",
    "- [Python Data Types](https://docs.python.org/3/library/stdtypes.html)\n",
    "- [W3Schools Python](https://www.w3schools.com/python/)\n",
    "- Repository: [github.com/ggkuhnle/data-analysis-toolkit-FNS](https://github.com/ggkuhnle/data-analysis-toolkit-FNS)"
   ]
  }
 ],
 "metadata": {},
 "nbformat": 4,
 "nbformat_minor": 5
}
