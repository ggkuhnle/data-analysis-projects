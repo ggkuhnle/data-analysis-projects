{
 "cells": [
  {
   "cell_type": "markdown",
   "id": "intro",
   "metadata": {},
   "source": [
    "# 📊 1.1 Introduction to Data Science Environments\n",
    "\n",
    "This notebook introduces computational environments for data analysis in nutrition sciences, including Jupyter and Google Colab.\n",
    "\n",
    "**Objectives**:\n",
    "- Compare local and cloud-based environments.\n",
    "- Install and test essential tools.\n",
    "- Ensure reproducibility in data analysis.\n",
    "\n",
    "**Context**: A robust environment is essential for analysing datasets like NDNS or hippo-themed nutrient logs. 🦛\n",
    "\n",
    "<details><summary>Fun Fact</summary>\n",
    "A good environment is like a hippo’s kitchen—organized and ready for action! 🦛\n",
    "</details>"
   ]
  },
  {
   "cell_type": "code",
   "execution_count": 1,
   "id": "setup",
   "metadata": {},
   "outputs": [
    {
     "name": "stdout",
     "output_type": "stream",
     "text": [
      "Environment ready.\n"
     ]
    }
   ],
   "source": [
    "# Install core packages\n",
    "%pip install pandas numpy matplotlib  # For Colab users\n",
    "import pandas as pd\n",
    "import numpy as np\n",
    "import matplotlib.pyplot as plt\n",
    "print('Environment ready.')"
   ]
  },
  {
   "cell_type": "markdown",
   "id": "test",
   "metadata": {},
   "source": [
    "## Testing with Hippo Data\n",
    "\n",
    "Load `hippo_diets.csv` to verify your setup and create a simple visualization."
   ]
  },
  {
   "cell_type": "code",
   "execution_count": 2,
   "id": "test_load",
   "metadata": {},
   "outputs": [],
   "source": [
    "df = pd.read_csv('data/hippo_diets.csv')\n",
    "plt.scatter(df['Calories'], df['Protein'])\n",
    "plt.xlabel('Calories')\n",
    "plt.ylabel('Protein (g)')\n",
    "plt.title('Hippo Diet: Calories vs. Protein')\n",
    "plt.show()"
   ]
  },
  {
   "cell_type": "markdown",
   "id": "exercise",
   "metadata": {},
   "source": [
    "## Exercise 1: Explore Your Environment\n",
    "\n",
    "Modify the plot above to change the marker color to red. Document your changes in a Markdown cell.\n",
    "\n",
    "**Guidance**: Use the `c` parameter in `plt.scatter()`."
   ]
  },
  {
   "cell_type": "markdown",
   "id": "your_answer",
   "metadata": {},
   "source": [
    "**Answer**:\n",
    "\n",
    "I changed the marker color by..."
   ]
  },
  {
   "cell_type": "markdown",
   "id": "wrap",
   "metadata": {},
   "source": [
    "## Conclusion\n",
    "\n",
    "You’ve set up a data science environment ready for nutrition analysis. Next, explore Python vs. R in 1.2.\n",
    "\n",
    "**Resources**:\n",
    "- [Jupyter Documentation](https://jupyter.org/)\n",
    "- [Colab Documentation](https://colab.research.google.com/)\n",
    "- Repository: [github.com/ggkuhnle/data-analysis-toolkit-FNS](https://github.com/ggkuhnle/data-analysis-toolkit-FNS)"
   ]
  }
 ],
 "metadata": {
  "kernelspec": {
   "display_name": "Python 3",
   "language": "python",
   "name": "python3"
  },
  "language_info": {
   "codemirror_mode": {
    "name": "ipython",
    "version": 3
   },
   "file_extension": ".py",
   "mimetype": "text/x-python",
   "name": "python",
   "nbconvert_exporter": "python",
   "pygments_lexer": "ipython3",
   "version": "3.9.7"
  }
 },
 "nbformat": 4,
 "nbformat_minor": 5
}
