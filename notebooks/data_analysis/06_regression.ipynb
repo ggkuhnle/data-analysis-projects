# 📉 4.6 Regression

This notebook introduces linear and logistic regression for prediction and association.