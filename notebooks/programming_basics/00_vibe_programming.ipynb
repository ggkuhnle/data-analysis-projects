{
 "cells": [
  {
   "cell_type": "markdown",
   "id": "b8bc893f",
   "metadata": {},
   "source": [
    "# ✨ Just Try It: The Vibe of Programming\n",
    "\n",
    "Welcome to coding! This notebook is not about getting things perfect — it's about **trying things**, seeing what happens, and getting comfortable with Python.\n",
    "\n",
    "If you're feeling unsure or scared of \"breaking something\" — good news: Python is *very hard to break*. You can always restart and try again.\n",
    "\n",
    "Let’s experiment 👇\n"
   ]
  },
  {
   "cell_type": "code",
   "execution_count": null,
   "id": "a796fd6d",
   "metadata": {},
   "outputs": [],
   "source": [
    "# 🧠 Can you add a string and a number?\n",
    "\"hippo\" + 3"
   ]
  },
  {
   "cell_type": "code",
   "execution_count": null,
   "id": "33938cf9",
   "metadata": {},
   "outputs": [],
   "source": [
    "# 🐾 What happens if I forget a bracket?\n",
    "print(\"Hello Hippo!\" "
   ]
  },
  {
   "cell_type": "code",
   "execution_count": null,
   "id": "c9a80219",
   "metadata": {},
   "outputs": [],
   "source": [
    "# 🦛 Can I print a hippo emoji?\n",
    "print(\"Here's a hippo: 🦛\")"
   ]
  },
  {
   "cell_type": "code",
   "execution_count": null,
   "id": "7c663aa4",
   "metadata": {},
   "outputs": [],
   "source": [
    "# 🔁 What happens if I divide by zero?\n",
    "1 / 0"
   ]
  },
  {
   "cell_type": "code",
   "execution_count": null,
   "id": "9c544644",
   "metadata": {},
   "outputs": [],
   "source": [
    "# 🔀 Can I change a number into a string?\n",
    "str(123) + \" hippos\" "
   ]
  },
  {
   "cell_type": "markdown",
   "id": "4aa5af60",
   "metadata": {},
   "source": [
    "## 🎵 Vibe Tips\n",
    "\n",
    "- You don’t need to understand everything at once.\n",
    "- If something breaks, it’s a learning opportunity.\n",
    "- Programming is just thinking + curiosity + patience.\n",
    "- If it works and helps you understand — that’s the vibe ✨\n",
    "\n",
    "Ready to try more? Head to the **Introduction to Python Syntax** notebook next!\n"
   ]
  }
 ],
 "metadata": {},
 "nbformat": 4,
 "nbformat_minor": 5
}
