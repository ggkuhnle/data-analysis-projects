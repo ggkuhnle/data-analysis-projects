{
 "cells": [
  {
   "cell_type": "markdown",
   "id": "267721fa",
   "metadata": {},
   "source": [
    "# 📝 Documenting Your Work with Scripts and Logs\n",
    "\n",
    "One of the most common issues in research is poor documentation. Scripts, notebooks, and logs help ensure your work is **transparent, repeatable, and understandable**.\n"
   ]
  },
  {
   "cell_type": "markdown",
   "id": "09fa8312",
   "metadata": {},
   "source": [
    "## 💡 Basic View\n",
    "\n",
    "### Why does documentation matter?\n",
    "\n",
    "- So you don’t forget what you did\n",
    "- So someone else can understand your work\n",
    "- So you can *re-run* your analysis reliably\n",
    "- So you can trust your own results in 6 months!\n",
    "\n",
    "### Example: Undocumented vs Documented Code\n",
    "\n",
    "❌ Undocumented:\n",
    "\n",
    "```python\n",
    "df = df[df.x > 0]\n",
    "```\n",
    "\n",
    "✅ Documented:\n",
    "\n",
    "```python\n",
    "# Remove negative values from the variable 'x'\n",
    "df = df[df[\"x\"] > 0]\n",
    "```\n",
    "\n",
    "Just one line of comment makes the purpose clear.\n"
   ]
  },
  {
   "cell_type": "code",
   "execution_count": null,
   "id": "81a034f7",
   "metadata": {},
   "outputs": [],
   "source": [
    "# Example: A basic logging approach\n",
    "import pandas as pd\n",
    "\n",
    "print(\"Loading data...\")\n",
    "df = pd.read_csv(\"data.csv\")\n",
    "\n",
    "print(\"Filtering by BMI > 18.5\")\n",
    "df = df[df[\"BMI\"] > 18.5]\n",
    "\n",
    "print(\"Saving cleaned file.\")\n",
    "df.to_csv(\"cleaned.csv\", index=False)"
   ]
  },
  {
   "cell_type": "markdown",
   "id": "acc58da4",
   "metadata": {},
   "source": [
    "This is a **very basic form of logging** — telling yourself or others what happens at each step.\n"
   ]
  },
  {
   "cell_type": "markdown",
   "id": "1b6be33c",
   "metadata": {},
   "source": [
    "## 🔍 Advanced View\n",
    "\n",
    "<details><summary>Click to expand</summary>\n",
    "\n",
    "### Real Logging with the `logging` Module\n",
    "\n",
    "Python has a built-in `logging` module for more advanced workflows:\n",
    "\n",
    "```python\n",
    "import logging\n",
    "logging.basicConfig(level=logging.INFO)\n",
    "\n",
    "logging.info(\"Loading data\")\n",
    "```\n",
    "\n",
    "This is useful in production scripts and tools.\n",
    "\n",
    "### Good Practices\n",
    "\n",
    "- Use descriptive comments, not obvious ones\n",
    "- Keep a changelog or version history\n",
    "- Use Git to track changes\n",
    "- Write protocol files in Markdown or Quarto to describe:\n",
    "  - What you did\n",
    "  - What decisions were made\n",
    "  - Where the data came from\n",
    "\n",
    "</details>\n"
   ]
  },
  {
   "cell_type": "markdown",
   "id": "62a669bf",
   "metadata": {},
   "source": [
    "## 🧪 Exercises\n",
    "\n",
    "1. Create a short data-cleaning script and add print statements to explain each step.\n",
    "2. Try rewriting your print statements using `logging`.\n",
    "3. Optional: Create a markdown file documenting the steps you took and link to your dataset.\n"
   ]
  }
 ],
 "metadata": {},
 "nbformat": 4,
 "nbformat_minor": 5
}
