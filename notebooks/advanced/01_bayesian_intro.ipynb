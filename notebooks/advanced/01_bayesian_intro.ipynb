{
 "cells": [
  {
   "cell_type": "markdown",
   "id": "bebd6292",
   "metadata": {},
   "source": [
    "# 📈 Bayesian Thinking"
   ]
  },
  {
   "cell_type": "code",
   "execution_count": null,
   "id": "7384b36d",
   "metadata": {},
   "outputs": [],
   "source": [
    "print('Bayesian methods coming soon!')"
   ]
  }
 ],
 "metadata": {},
 "nbformat": 4,
 "nbformat_minor": 5
}
