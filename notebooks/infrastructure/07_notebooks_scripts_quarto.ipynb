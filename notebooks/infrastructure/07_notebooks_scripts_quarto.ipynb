{
 "cells": [
  {
   "cell_type": "markdown",
   "id": "6f83f515",
   "metadata": {},
   "source": [
    "# 🧾 Notebooks, Scripts, Markdown, or Quarto?\n",
    "\n",
    "Different tools serve different purposes — and knowing when to use each helps you write better, clearer, and more reproducible code.\n"
   ]
  },
  {
   "cell_type": "markdown",
   "id": "f3319257",
   "metadata": {},
   "source": [
    "## 💡 Basic View\n",
    "\n",
    "### Notebooks\n",
    "\n",
    "- **Best for**: Teaching, exploration, walkthroughs\n",
    "- Mix code + narrative + results in one file\n",
    "- You’re reading a notebook right now!\n",
    "\n",
    "### Scripts (`.py`)\n",
    "\n",
    "- **Best for**: Repeating an analysis or cleaning step\n",
    "- Plain Python code, no output inside\n",
    "- Works well for automation and functions\n",
    "\n",
    "### Markdown (`.md`)\n",
    "\n",
    "- **Best for**: Notes, documentation, readmes\n",
    "- Simple formatting: headings, bold, links\n",
    "\n",
    "### Quarto (`.qmd`)\n",
    "\n",
    "- **Best for**: Reports, websites, academic writing\n",
    "- Combines Markdown + code + rendering engine\n",
    "- Publish to HTML, PDF, Word, slides, dashboards\n"
   ]
  },
  {
   "cell_type": "code",
   "execution_count": null,
   "id": "4019cf84",
   "metadata": {},
   "outputs": [],
   "source": [
    "# Example script (could be saved as clean.py)\n",
    "import pandas as pd\n",
    "df = pd.read_csv(\"mydata.csv\")\n",
    "df = df[df[\"BMI\"] > 18.5]\n",
    "df.to_csv(\"cleaned.csv\", index=False)"
   ]
  },
  {
   "cell_type": "markdown",
   "id": "4b5ecb56",
   "metadata": {},
   "source": [
    "You could run this script every time you get new data — it's repeatable and traceable.\n"
   ]
  },
  {
   "cell_type": "markdown",
   "id": "ce19565e",
   "metadata": {},
   "source": [
    "## 🔍 Advanced View\n",
    "\n",
    "<details><summary>Click to expand</summary>\n",
    "\n",
    "### Quarto in More Detail\n",
    "\n",
    "- Like R Markdown but supports Python, R, Julia, Bash\n",
    "- Can generate reproducible PDFs (LaTeX), websites, or Word docs\n",
    "- You can write teaching materials with it (like this course)\n",
    "\n",
    "See [quarto.org](https://quarto.org/docs/) for examples\n",
    "\n",
    "### Scripts vs Notebooks\n",
    "\n",
    "| Feature         | Notebooks | Scripts |\n",
    "|----------------|-----------|---------|\n",
    "| Great for demo | ✅        | ❌      |\n",
    "| Works in terminal | ❌     | ✅      |\n",
    "| Easy to document | ✅      | ⚠️ (needs comments) |\n",
    "| Good for publishing | ✅ (via Quarto) | ✅ (via Quarto) |\n",
    "\n",
    "</details>\n"
   ]
  },
  {
   "cell_type": "markdown",
   "id": "02f79ecc",
   "metadata": {},
   "source": [
    "## 🧪 Exercises\n",
    "\n",
    "1. Create a simple script called `hello.py` and print `\"Hello from a script!\"`\n",
    "2. Write a short Markdown document with a heading and bullet list\n",
    "3. Optional: Install Quarto and render a `.qmd` file to HTML\n"
   ]
  }
 ],
 "metadata": {},
 "nbformat": 4,
 "nbformat_minor": 5
}
