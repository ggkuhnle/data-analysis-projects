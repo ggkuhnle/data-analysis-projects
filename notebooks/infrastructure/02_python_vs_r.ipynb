{
 "cells": [
  {
   "cell_type": "markdown",
   "id": "f9b93e83",
   "metadata": {},
   "source": [
    "# 🚗 Python vs R vs Other Tools\n",
    "\n",
    "Data analysis can be done with many tools. This notebook helps you understand where Python fits — and why it is widely used in food and nutrition science.\n"
   ]
  },
  {
   "cell_type": "markdown",
   "id": "97d11d57",
   "metadata": {},
   "source": [
    "## 💡 Basic View\n",
    "\n",
    "| Tool      | Strengths                          | Limitations                     |\n",
    "|-----------|------------------------------------|----------------------------------|\n",
    "| **Python** | General-purpose, readable, automation, machine learning | Slightly more setup |\n",
    "| **R**      | Great for statistics, visualisation | Less general-purpose            |\n",
    "| **Excel**  | Familiar, quick for small tables   | No version control, error-prone |\n",
    "| **SPSS**   | Menu-driven stats                 | Less flexible, limited scripts  |\n",
    "| **Prism**  | Beautiful graphs, quick comparisons | Not programmable                |\n",
    "| **XLStat** | Built into Excel, good for sensory | Expensive, closed environment   |\n",
    "\n",
    "Python is our tool of choice because:\n",
    "- It's open-source and free\n",
    "- It works for small scripts or massive data pipelines\n",
    "- You can write readable code and share it\n"
   ]
  },
  {
   "cell_type": "code",
   "execution_count": null,
   "id": "69c21966",
   "metadata": {},
   "outputs": [],
   "source": [
    "# Python is readable\n",
    "data = [2.3, 4.5, 1.2, 5.7]\n",
    "mean = sum(data) / len(data)\n",
    "print(f\"The average is {mean:.2f}\")"
   ]
  },
  {
   "cell_type": "markdown",
   "id": "b5b0e400",
   "metadata": {},
   "source": [
    "Compare with R:\n",
    "\n",
    "```r\n",
    "data <- c(2.3, 4.5, 1.2, 5.7)\n",
    "mean(data)\n",
    "```\n",
    "\n",
    "And Excel:\n",
    "\n",
    "| A       |\n",
    "|---------|\n",
    "| 2.3     |\n",
    "| 4.5     |\n",
    "| 1.2     |\n",
    "| 5.7     |\n",
    "\n",
    "Use formula: `=AVERAGE(A1:A4)` — but there’s no clear log of this step.\n"
   ]
  },
  {
   "cell_type": "markdown",
   "id": "47b4344d",
   "metadata": {},
   "source": [
    "## 🔍 Advanced View\n",
    "\n",
    "<details><summary>Click to expand deeper comparisons</summary>\n",
    "\n",
    "- Python is often used in **pipelines**, web apps, dashboards, and modelling\n",
    "- R has **ggplot2**, **dplyr**, and built-in stats\n",
    "- Excel is best for one-off reports or small tables — not reproducible workflows\n",
    "\n",
    "</details>\n"
   ]
  },
  {
   "cell_type": "markdown",
   "id": "f6e3e1ba",
   "metadata": {},
   "source": [
    "## 🧪 Exercises\n",
    "\n",
    "1. Write a short Python script to calculate the median of `[1, 2, 3, 4, 100]`.\n",
    "2. Try making the same plot in Prism and in Python (using seaborn or matplotlib).\n",
    "3. Optional: Google “Python vs R for epidemiology” and summarise what you find.\n"
   ]
  }
 ],
 "metadata": {},
 "nbformat": 4,
 "nbformat_minor": 5
}
