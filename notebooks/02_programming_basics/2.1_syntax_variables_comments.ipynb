{
  "cells": [
    {
      "cell_type": "markdown",
      "id": "intro",
      "metadata": {},
      "source": [
        "# \ud83e\uddf1 2.1 Python Syntax, Variables, and Comments\n",
        "\n",
        "This notebook introduces Python programming fundamentals for nutrition data analysis.\n",
        "\n",
        "**Objectives**:\n",
        "- Master Python syntax and variable assignment.\n",
        "- Document code with comments for clarity.\n",
        "- Apply variables to store nutrient data.\n",
        "\n",
        "**Context**: Understanding syntax is key to processing datasets like `hippo_diets.csv`. \ud83e\udd9b\n",
        "\n",
        "<details><summary>Fun Fact</summary>\n",
        "Code is like a hippo\u2019s recipe\u2014clear instructions yield tasty results! \ud83e\udd9b\n",
        "</details>"
      ]
    },
    {
      "cell_type": "code",
      "execution_count": null,
      "id": "colab_setup",
      "metadata": {},
      "outputs": [],
      "source": [
        "# Setup for Google Colab: Ensure environment is ready\n",
        "# Note: This module (Programming Basics) does not require datasets\n",
        "print('No dataset required for this notebook \ud83e\udd9b')\n",
        "\n",
        "# Install required packages for this notebook\n",
        "%pip install pandas\n",
        "print('Python environment ready.')"
      ]
    },
    {
      "cell_type": "code",
      "execution_count": 1,
      "id": "setup",
      "metadata": {},
      "outputs": [],
      "source": [
        "# Install required packages\n",
        "%pip install pandas  # For Colab users\n",
        "import pandas as pd\n",
        "print('Python environment ready.')"
      ]
    },
    {
      "cell_type": "markdown",
      "id": "variables",
      "metadata": {},
      "source": [
        "## Variables and Syntax\n",
        "\n",
        "Store nutrient data in variables and print results with comments."
      ]
    },
    {
      "cell_type": "code",
      "execution_count": 2,
      "id": "vars",
      "metadata": {},
      "outputs": [
        {
          "name": "stdout",
          "output_type": "stream",
          "text": [
            "Hippo H1: Iron intake = 8.2 mg\n"
          ]
        }
      ],
      "source": [
        "# Assign variables for a hippo\u2019s nutrient intake\n",
        "hippo_id = 'H1'  # Unique identifier\n",
        "iron_intake = 8.2  # Iron in mg/day\n",
        "print(f'Hippo {hippo_id}: Iron intake = {iron_intake} mg')"
      ]
    },
    {
      "cell_type": "markdown",
      "id": "exercise",
      "metadata": {},
      "source": [
        "## Exercise 1: Create Variables\n",
        "\n",
        "Create variables for another hippo\u2019s calcium intake and print a formatted message. Add a comment explaining your code.\n",
        "\n",
        "**Guidance**: Use a new `hippo_id` and `calcium_intake`."
      ]
    },
    {
      "cell_type": "markdown",
      "id": "your_answer",
      "metadata": {},
      "source": [
        "**Answer**:\n",
        "\n",
        "My code for calcium intake is..."
      ]
    },
    {
      "cell_type": "markdown",
      "id": "wrap",
      "metadata": {},
      "source": [
        "## Conclusion\n",
        "\n",
        "You\u2019ve mastered Python syntax and variables. Next, explore data types in 2.2.\n",
        "\n",
        "**Resources**:\n",
        "- [Python Documentation](https://docs.python.org/3/)\n",
        "- [W3Schools Python](https://www.w3schools.com/python/)\n",
        "- Repository: [github.com/ggkuhnle/data-analysis-toolkit-FNS](https://github.com/ggkuhnle/data-analysis-toolkit-FNS)"
      ]
    }
  ],
  "metadata": {
    "kernelspec": {
      "display_name": "Python 3",
      "language": "python",
      "name": "python3"
    },
    "language_info": {
      "codemirror_mode": {
        "name": "ipython",
        "version": 3
      },
      "file_extension": ".py",
      "mimetype": "text/x-python",
      "name": "python",
      "nbconvert_exporter": "python",
      "pygments_lexer": "ipython3",
      "version": "3.9.7"
    }
  },
  "nbformat": 4,
  "nbformat_minor": 5
}