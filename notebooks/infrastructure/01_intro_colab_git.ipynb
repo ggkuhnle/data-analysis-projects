{
 "cells": [
  {
   "cell_type": "markdown",
   "id": "d0c9ff54",
   "metadata": {},
   "source": [
    "# 🔧 Getting Started with Colab, Git, and Python\n",
    "\n",
    "This notebook helps you set up your environment for data analysis using:\n",
    "- Google Colab\n",
    "- GitHub (as version control and notebook storage)\n",
    "- Python as the programming language\n",
    "\n",
    "We'll walk through basic setup and show how to launch notebooks."
   ]
  },
  {
   "cell_type": "code",
   "execution_count": null,
   "id": "bd06d5eb",
   "metadata": {},
   "outputs": [],
   "source": [
    "# Try running this cell\n",
    "print(\"Hello, world! 👋\")"
   ]
  }
 ],
 "metadata": {},
 "nbformat": 4,
 "nbformat_minor": 5
}
