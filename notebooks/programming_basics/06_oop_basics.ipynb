{
 "cells": [
  {
   "cell_type": "markdown",
   "id": "c43fae77",
   "metadata": {},
   "source": [
    "# 👤 2.6 Object-Oriented Programming Basics"
   ]
  },
  {
   "cell_type": "markdown",
   "id": "cf1a0691",
   "metadata": {},
   "source": [
    "Python uses object-oriented programming (OOP) to represent things as objects.\n",
    "\n",
    "**Each object:**\n",
    "- has **attributes** (like variables)\n",
    "- has **methods** (like functions)\n",
    "\n",
    "**Example:**\n",
    "```python\n",
    "class Person:\n",
    "    def __init__(self, name, height, weight):\n",
    "        self.name = name\n",
    "        self.height = height\n",
    "        self.weight = weight\n",
    "\n",
    "    def bmi(self):\n",
    "        return self.weight / (self.height ** 2)\n",
    "```"
   ]
  },
  {
   "cell_type": "code",
   "execution_count": null,
   "id": "94669bdf",
   "metadata": {},
   "outputs": [],
   "source": [
    "p = Person(\"Gunter\", 1.80, 75)\n",
    "print(p.name)\n",
    "print(p.bmi())"
   ]
  },
  {
   "cell_type": "markdown",
   "id": "0dd633e4",
   "metadata": {},
   "source": [
    "## 🧪 Exercise\n",
    "- Create a class `FoodItem` with attributes name and kcal_per_100g\n",
    "- Add a method that calculates kcal for a given portion size"
   ]
  },
  {
   "cell_type": "markdown",
   "id": "89612e42",
   "metadata": {},
   "source": [
    "## 🧠 Advanced (foldable)\n",
    "<details><summary>Inheritance and Special Methods</summary>\n",
    "\n",
    "**Inheritance:**\n",
    "```python\n",
    "class Athlete(Person):\n",
    "    def __init__(self, name, height, weight, sport):\n",
    "        super().__init__(name, height, weight)\n",
    "        self.sport = sport\n",
    "```\n",
    "\n",
    "**Magic Methods:**\n",
    "```python\n",
    "def __str__(self):\n",
    "    return f\"{self.name} ({self.height}m, {self.weight}kg)\"\n",
    "```\n",
    "</details>"
   ]
  }
 ],
 "metadata": {},
 "nbformat": 4,
 "nbformat_minor": 5
}
