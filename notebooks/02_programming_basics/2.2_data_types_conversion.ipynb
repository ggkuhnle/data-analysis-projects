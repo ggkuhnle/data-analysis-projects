{
  "cells": [
    {
      "cell_type": "markdown",
      "id": "intro",
      "metadata": {},
      "source": [
        "# 🧮 2.2 Data Types and Conversion (Revised)\n",
        "\n",
        "*This notebook explores Python data types and type conversion, critical for handling nutrition data accurately—and now includes Boolean examples, enhanced error handling, and dtype introspection.*\n",
        "\n",
        "**Objectives**:\n",
        "- Understand basic data types: integers, floats, strings, booleans, dates.\n",
        "- Perform type conversion for data consistency.\n",
        "- Use `else` and `finally` in `try`/`except`.\n",
        "- Inspect pandas dtypes after conversion.\n",
        "- Handle missing values effectively.\n",
        "\n",
        "**Context**: Correct data types ensure reliable calculations, such as averaging nutrient intakes.\n",
        "\n",
        "<details><summary>🦛 Fun Fact</summary>\n",
        "Data types are like a hippo’s food labels—knowing what’s what prevents a mix-up!\n",
        "</details>\n"
      ]
    },
    {
      "cell_type": "code",
      "execution_count": null,
      "id": "setup",
      "metadata": {},
      "outputs": [],
      "source": [
        "# Setup imports\n",
        "import pandas as pd\n",
        "import numpy as np\n",
        "from datetime import datetime\n",
        "\n",
        "print('Environment ready 🦛')"
      ]
    },
    {
      "cell_type": "markdown",
      "id": "explore_types",
      "metadata": {},
      "source": [
        "## 🔍 Exploring Data Types\n",
        "\n",
        "Create variables with different data types for a hippo’s diet and check their types."
      ]
    },
    {
      "cell_type": "code",
      "execution_count": null,
      "id": "type_examples",
      "metadata": {},
      "outputs": [],
      "source": [
        "hippo_id = 'H1'             # string\n",
        "calories = 2500             # integer\n",
        "protein = 80.5              # float\n",
        "is_hungry = True            # boolean\n",
        "\n",
        "print(f\"hippo_id: {hippo_id}  → {type(hippo_id)}\")\n",
        "print(f\"calories: {calories}      → {type(calories)}\")\n",
        "print(f\"protein: {protein}     → {type(protein)}\")\n",
        "print(f\"is_hungry: {is_hungry}    → {type(is_hungry)}\")"
      ]
    },
    {
      "cell_type": "markdown",
      "id": "type_conversion",
      "metadata": {},
      "source": [
        "## 🔄 Type Conversion\n",
        "\n",
        "Convert string nutrient values to numeric types for calculations."
      ]
    },
    {
      "cell_type": "code",
      "execution_count": null,
      "id": "conversion_examples",
      "metadata": {},
      "outputs": [],
      "source": [
        "iron_str = '8.2'             # nutrient as string\n",
        "iron_float = float(iron_str)\n",
        "\n",
        "hungry_str = 'True'          # boolean as string\n",
        "hungry_bool = hungry_str.lower() == 'true'  # robust conversion\n",
        "\n",
        "print(f\"Iron: {iron_str} → {iron_float} ({type(iron_float)})\")\n",
        "print(f\"Hungry: {hungry_str} → {hungry_bool} ({type(hungry_bool)})\")"
      ]
    },
    {
      "cell_type": "markdown",
      "id": "try_except",
      "metadata": {},
      "source": [
        "## 🚨 Enhanced `try`/`except` with `else` and `finally`\n",
        "\n",
        "Demonstrate how to handle errors gracefully and run cleanup code."
      ]
    },
    {
      "cell_type": "code",
      "execution_count": null,
      "id": "try_except_example",
      "metadata": {},
      "outputs": [],
      "source": [
        "sample = 'not_a_number'\n",
        "\n",
        "try:\n",
        "    val = float(sample)\n",
        "except ValueError:\n",
        "    val = np.nan\n",
        "    print(\"⚠️ Conversion failed, set to NaN\")\n",
        "else:\n",
        "    print(\"✅ Conversion succeeded, value =\", val)\n",
        "finally:\n",
        "    print(\"🔚 Finished attempt to convert sample\")"
      ]
    },
    {
      "cell_type": "markdown",
      "id": "mixed_data",
      "metadata": {},
      "source": [
        "## 📊 Loading & Cleaning Mixed-Type Data\n",
        "\n",
        "In real-world datasets, you might see `%`, units, or currency mixed in. Use pandas string methods to clean before conversion."
      ]
    },
    {
      "cell_type": "code",
      "execution_count": null,
      "id": "mixed_demo",
      "metadata": {},
      "outputs": [],
      "source": [
        "df = pd.DataFrame({\n",
        "    'Iron (%)': ['45%', '50%', None, 'NA'],\n",
        "    'Dose (mg)': ['10mg', '12mg', '15 mg', '']\n",
        "})\n",
        "\n",
        "# Strip '%' and convert\n",
        "df['Iron (%)'] = (\n",
        "    df['Iron (%)']\n",
        "      .str.rstrip('%')\n",
        "      .replace({'NA': None})\n",
        "      .astype(float)\n",
        ")\n",
        "\n",
        "# Strip 'mg' and whitespace, then convert\n",
        "df['Dose (mg)'] = (\n",
        "    df['Dose (mg)']\n",
        "      .str.replace(r'\\s*mg', '', regex=True)\n",
        "      .replace({'': None})\n",
        "      .astype(float)\n",
        ")\n",
        "\n",
        "print(df)\n",
        "print(\"\\nDataFrame dtypes:\")\n",
        "print(df.dtypes)"
      ]
    },
    {
      "cell_type": "markdown",
      "id": "dates",
      "metadata": {},
      "source": [
        "## 📅 Working with Dates\n",
        "\n",
        "Convert strings to pandas `datetime` and inspect."
      ]
    },
    {
      "cell_type": "code",
      "execution_count": null,
      "id": "date_conversion",
      "metadata": {},
      "outputs": [],
      "source": [
        "date_strs = ['2024-01-01', '01/02/2024', 'March 3, 2024']\n",
        "dates = pd.to_datetime(date_strs)\n",
        "print(dates)\n",
        "print(\"dtype of dates object:\", dates.dtype)"
      ]
    },
    {
      "cell_type": "markdown",
      "id": "missing_data",
      "metadata": {},
      "source": [
        "## 🕳 Handling Missing Data & dtype Introspection\n",
        "\n",
        "Use pandas coercion and inspect final dtypes."
      ]
    },
    {
      "cell_type": "code",
      "execution_count": null,
      "id": "missing_handling",
      "metadata": {},
      "outputs": [],
      "source": [
        "raw = ['80.5', 'NaN', '75.0', '', None, 'missing']\n",
        "df2 = pd.DataFrame({'Protein (g)': raw})\n",
        "df2['Protein (g)'] = pd.to_numeric(df2['Protein (g)'], errors='coerce')\n",
        "\n",
        "print(df2)\n",
        "print(\"\\nAfter coercion, dtypes:\")\n",
        "print(df2.dtypes)\n",
        "\n",
        "# Optional: fill or drop\n",
        "filled = df2.fillna(0)\n",
        "print(\"\\nFilled missing with 0:\")\n",
        "print(filled)"
      ]
    },
    {
      "cell_type": "markdown",
      "id": "conclusion",
      "metadata": {},
      "source": [
        "## ✅ Conclusion\n",
        "\n",
        "You’ve learned:\n",
        "- Core Python types (including `bool`).\n",
        "- Enhanced `try`/`except` with `else` & `finally`.\n",
        "- Cleaning mixed-type columns (%, mg, NA).\n",
        "- Date parsing with `pd.to_datetime`.\n",
        "- Missing data coercion & dtype inspection with pandas.\n",
        "\n",
        "**Next Steps**: Explore functions and loops in 2.3.\n",
        "\n",
        "**Resources**:\n",
        "- [Python stdtypes](https://docs.python.org/3/library/stdtypes.html)\n",
        "- [pandas.to_numeric](https://pandas.pydata.org/docs/reference/api/pandas.to_numeric.html)\n",
        "- Course repo: https://github.com/ggkuhnle/data-analysis-toolkit-FNS\n"
      ]
    }
  ],
  "metadata": {
    "kernelspec": {
      "display_name": "Python 3",
      "name": "python3"
    },
    "language_info": {
      "name": "python",
      "version": "3.9"
    }
  },
  "nbformat": 4,
  "nbformat_minor": 5
}
