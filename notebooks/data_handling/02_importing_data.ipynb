# 📥 3.2 Importing Data

This notebook shows how to import CSV, Excel, JSON and API data into pandas.

- Use `pd.read_csv()`, `read_excel()`
- Access open data from the web (e.g. NDNS)
- Use `requests` for APIs

🧪 **Exercise**: Load NDNS-style data from CSV and explore shape and contents.