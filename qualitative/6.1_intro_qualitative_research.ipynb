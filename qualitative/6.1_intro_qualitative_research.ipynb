{
 "cell_type": "markdown",
 "source": [
  "# 🧾 6.1 Intro to Qualitative Research\n",
  "\n",
  "Listen to hippo food tales! 🦛 Qualitative research captures preferences and stories.\n",
  "\n",
  "**What we’ll cover**:\n",
  "- **Qual vs. Quant**: Numbers vs. narratives.\n",
  "- **Methods**: Surveys, interviews.\n",
  "\n",
  "**Exercise**: Code hippo food preferences!"
 ]
},
{
 "cell_type": "code",
 "source": [
  "with open('data/food_preferences.txt', 'r') as f:\n",
  "    responses = f.readlines()\n",
  "print(responses[:5])  # First 5 hippo comments"
 ]
}
