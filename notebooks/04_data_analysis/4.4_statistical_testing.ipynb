{
  "cells": [
    {
      "cell_type": "markdown",
      "id": "intro",
      "metadata": {},
      "source": [
        "# 🧪 4.4 Statistical Testing\n",
        "\n",
        "This notebook introduces statistical hypothesis testing to compare nutrition data groups.\n",
        "\n",
        "**Objectives**:\n",
        "- Perform t-tests and ANOVA.\n",
        "- Interpret p-values and effect sizes.\n",
        "- Apply tests to `vitamin_trial.csv`.\n",
        "\n",
        "**Context**: Statistical tests validate differences, like vitamin D levels between trial groups.\n",
        "\n",
        "<details><summary>Fun Fact</summary>\n",
        "Statistical tests are like a hippo weighing its snacks—measuring differences matters! 🦛\n",
        "</details>"
      ]
    },
    {
      "cell_type": "code",
      "execution_count": null,
      "id": "colab_setup",
      "metadata": {},
      "outputs": [],
      "source": [
        "# Setup for Google Colab: Fetch datasets automatically or manually\n",
        "%run ../../bootstrap.py    # installs requirements + editable package\n",
        "\n",
        "import fns_toolkit as fns\n",
        "\n",
        "import pandas as pd\n",
        "import numpy as np\n",
        "import matplotlib.pyplot as plt\n",
        "import seaborn as sns\n",
        "from scipy.stats import pearsonr, spearmanr  # For correlation calculations\n",
        "\n",
        "print('Environment ready.')"
      ]
    },
    {
      "cell_type": "markdown",
      "id": "load_data",
      "metadata": {},
      "source": [
        "## Data Preparation\n",
        "\n",
        "Load `vitamin_trial.csv` and split by `Group`."
      ]
    },
    {
      "cell_type": "code",
      "execution_count": null,
      "id": "load",
      "metadata": {},
      "outputs": [
        {
          "name": "stdout",
          "output_type": "stream",
          "text": [
            "Control mean: 10.2, Treatment mean: 15.3\n"
          ]
        }
      ],
      "source": [
        "# Load the dataset\n",
        "df = fns.get_dataset('vitamin_trial')  # Path relative to notebook\n",
        "\n",
        "# Split by group\n",
        "control = df[df['Group'] == 'Control']['Vitamin_D']\n",
        "treatment = df[df['Group'] == 'Treatment']['Vitamin_D']\n",
        "print(f'Control mean: {round(control.mean(), 1)}, Treatment mean: {round(treatment.mean(), 1)}')"
      ]
    },
    {
      "cell_type": "markdown",
      "id": "ttest",
      "metadata": {},
      "source": [
        "## T-Test\n",
        "\n",
        "Perform a t-test to compare Vitamin D levels between groups."
      ]
    },
    {
      "cell_type": "code",
      "execution_count": 3,
      "id": "ttest",
      "metadata": {},
      "outputs": [
        {
          "name": "stdout",
          "output_type": "stream",
          "text": [
            "T-test: t=12.5, p-value=1.3e-20\n"
          ]
        }
      ],
      "source": [
        "# Perform t-test\n",
        "t_stat, p_value = ttest_ind(control, treatment, equal_var=True)\n",
        "print(f'T-test: t={round(t_stat, 1)}, p-value={p_value:.1e}')  # Display results"
      ]
    },
    {
      "cell_type": "markdown",
      "id": "exercise",
      "metadata": {},
      "source": [
        "## Exercise 1: ANOVA Test\n",
        "\n",
        "Perform an ANOVA test to compare `Vitamin_D` across `Outcome` groups (Normal, Improved). Interpret the results in a Markdown cell.\n",
        "\n",
        "**Guidance**: Use `f_oneway()` with groups split by `df['Outcome']`."
      ]
    },
    {
      "cell_type": "markdown",
      "id": "your_answer",
      "metadata": {},
      "source": [
        "**Answer**:\n",
        "\n",
        "My ANOVA code and interpretation is..."
      ]
    },
    {
      "cell_type": "markdown",
      "id": "wrap",
      "metadata": {},
      "source": [
        "## Conclusion\n",
        "\n",
        "You’ve learned to apply statistical tests to compare nutrition data groups.\n",
        "\n",
        "**Next Steps**: Explore regression modelling in 4.5.\n",
        "\n",
        "**Resources**:\n",
        "- [SciPy Stats](https://docs.scipy.org/doc/scipy/reference/stats.html)\n",
        "- [Statistical Testing Guide](https://www.datacamp.com/community/tutorials/statistics-python-tutorial)\n",
        "- Repository: [github.com/ggkuhnle/data-analysis-toolkit-FNS](https://github.com/ggkuhnle/data-analysis-toolkit-FNS)"
      ]
    }
  ],
  "metadata": {
    "kernelspec": {
      "display_name": "Python 3",
      "language": "python",
      "name": "python3"
    },
    "language_info": {
      "codemirror_mode": {
        "name": "ipython",
        "version": 3
      },
      "file_extension": ".py",
      "mimetype": "text/x-python",
      "name": "python",
      "nbconvert_exporter": "python",
      "pygments_lexer": "ipython3",
      "version": "3.9.7"
    }
  },
  "nbformat": 4,
  "nbformat_minor": 5
}
