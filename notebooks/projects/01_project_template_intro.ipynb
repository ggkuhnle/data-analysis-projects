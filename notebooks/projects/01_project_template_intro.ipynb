{
 "cells": [
  {
   "cell_type": "markdown",
   "metadata": {},
   "source": [
    "# 🧪 Project Template: NDNS Nutrient Dashboard\n",
    "\n",
    "This notebook provides a template for a student project using NDNS data.\n",
    "\n",
    "## 🎯 Objective\n",
    "Create a dashboard to explore nutrient intakes by demographic group.\n",
    "\n",
    "## 📊 Suggested Features\n",
    "- Upload NDNS dataset\n",
    "- Filter by sex, age, SES\n",
    "- Visualise selected nutrients\n",
    "- Export figures or summary"
   ]
  },
  {
   "cell_type": "code",
   "metadata": {},
   "source": [
    "# Example: Load NDNS and filter by age\n",
    "import pandas as pd\n",
    "df = pd.read_csv('https://raw.githubusercontent.com/ggkuhnle/data-analysis/main/data/ndns_simulated.csv')\n",
    "df[df['age'] > 65].groupby('sex')['iron'].mean()"
   ],
   "execution_count": null,
   "outputs": []
  }
 ],
 "metadata": {
  "kernelspec": {
   "display_name": "Python 3",
   "language": "python",
   "name": "python3"
  },
  "language_info": {
   "name": "python",
   "version": "3.9"
  }
 },
 "nbformat": 4,
 "nbformat_minor": 2
}