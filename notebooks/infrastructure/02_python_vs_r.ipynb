{
 "cells": [
  {
   "cell_type": "markdown",
   "id": "2599a7c0",
   "metadata": {},
   "source": [
    "# 🚗 Python vs R vs Other Tools\n",
    "\n",
    "Compare different tools for analysis — and why Python is our focus here.\n",
    "\n",
    "## 💡 Basic View\n",
    "\n",
    "- Key differences between Python and R\n",
    "- Where each shines\n",
    "- Mention Excel, SPSS, Prism, XLStat\n",
    "\n",
    "**Fun:** Statistics as cars (image)\n",
    "\n",
    "## 🔍 Advanced View\n",
    "\n",
    "<details><summary>Click to expand deeper comparisons</summary>\n",
    "\n",
    "- Syntax structure\n",
    "- Community and ecosystem\n",
    "- Integration into pipelines / APIs\n",
    "\n",
    "</details>\n",
    "\n",
    "## 🧪 Exercises\n",
    "\n",
    "1. Find out what software is used in a published paper in your field.\n",
    "2. Try running the same simple calculation in Python and Excel.\n",
    "3. Search for “Python vs R for data analysis” and summarise key points.\n"
   ]
  }
 ],
 "metadata": {},
 "nbformat": 4,
 "nbformat_minor": 5
}
