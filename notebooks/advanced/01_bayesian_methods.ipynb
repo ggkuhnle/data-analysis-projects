# 🧠 Bayesian Methods

_This notebook will introduce PyMC, priors/posteriors, and MCMC simulation._

🧪 **Exercise**: Estimate the true intake of an under-reported nutrient.