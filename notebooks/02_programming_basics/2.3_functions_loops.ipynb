{
  "cells": [
    {
      "cell_type": "markdown",
      "id": "intro",
      "metadata": {},
      "source": [
        "# \ud83d\ude80 2.3 Functions and Loops\n",
        "\n",
        "This notebook introduces Python functions and loops, enabling automation of repetitive tasks in nutrition data analysis.\n",
        "\n",
        "**Objectives**:\n",
        "- Define and call functions to process nutrient data.\n",
        "- Use loops to iterate over data.\n",
        "- Combine functions and loops for efficient coding.\n",
        "\n",
        "**Context**: Functions and loops streamline calculations, such as aggregating nutrient intakes across multiple hippos.\n",
        "\n",
        "<details><summary>Fun Fact</summary>\n",
        "Functions are like a hippo\u2019s meal prep\u2014do the work once, enjoy it often! \ud83e\udd9b\n",
        "</details>"
      ]
    },
    {
      "cell_type": "code",
      "execution_count": null,
      "id": "colab_setup",
      "metadata": {},
      "outputs": [],
      "source": [
        "# Setup for Google Colab: Ensure environment is ready\n",
        "# Note: This module (Programming Basics) does not require datasets\n",
        "print('No dataset required for this notebook \ud83e\udd9b')\n",
        "\n",
        "# Install required packages for this notebook\n",
        "%pip install pandas\n",
        "print('Python environment ready.')"
      ]
    },
    {
      "cell_type": "code",
      "execution_count": 1,
      "id": "setup",
      "metadata": {},
      "outputs": [
        {
          "name": "stdout",
          "output_type": "stream",
          "text": [
            "Python environment ready.\n"
          ]
        }
      ],
      "source": [
        "# No external packages needed for this notebook\n",
        "print('Python environment ready.')"
      ]
    },
    {
      "cell_type": "markdown",
      "id": "functions",
      "metadata": {},
      "source": [
        "## Defining Functions\n",
        "\n",
        "Create a function to calculate the percentage of a nutrient relative to a reference intake."
      ]
    },
    {
      "cell_type": "code",
      "execution_count": 2,
      "id": "function_example",
      "metadata": {},
      "outputs": [
        {
          "name": "stdout",
          "output_type": "stream",
          "text": [
            "Iron percentage: 54.7%\n"
          ]
        }
      ],
      "source": [
        "# Define a function to calculate nutrient percentage\n",
        "def nutrient_percentage(intake, reference):\n",
        "    \"\"\"Calculate percentage of nutrient intake relative to reference.\n",
        "    Args:\n",
        "        intake (float): Nutrient amount in mg or g\n",
        "        reference (float): Reference intake in same unit\n",
        "    Returns:\n",
        "        float: Percentage of reference intake\n",
        "    \"\"\"\n",
        "    percentage = (intake / reference) * 100  # Calculate percentage\n",
        "    return round(percentage, 1)  # Round to 1 decimal place\n",
        "\n",
        "# Test the function\n",
        "iron_intake = 8.2  # Iron in mg\n",
        "iron_reference = 15  # Reference intake in mg\n",
        "result = nutrient_percentage(iron_intake, iron_reference)\n",
        "print(f'Iron percentage: {result}%')  # Display result"
      ]
    },
    {
      "cell_type": "markdown",
      "id": "loops",
      "metadata": {},
      "source": [
        "## Using Loops\n",
        "\n",
        "Loop over a list of nutrient intakes to calculate percentages."
      ]
    },
    {
      "cell_type": "code",
      "execution_count": 3,
      "id": "loop_example",
      "metadata": {},
      "outputs": [
        {
          "name": "stdout",
          "output_type": "stream",
          "text": [
            "Hippo H1: 54.7%\n",
            "Hippo H2: 53.3%\n",
            "Hippo H3: 56.0%\n"
          ]
        }
      ],
      "source": [
        "# List of iron intakes for multiple hippos\n",
        "iron_intakes = [8.2, 8.0, 8.4]  # Intakes in mg\n",
        "hippo_ids = ['H1', 'H2', 'H3']  # Corresponding hippo IDs\n",
        "reference = 15  # Reference intake in mg\n",
        "\n",
        "# Loop over intakes\n",
        "for hid, intake in zip(hippo_ids, iron_intakes):\n",
        "    percent = nutrient_percentage(intake, reference)  # Calculate percentage\n",
        "    print(f'Hippo {hid}: {percent}%')  # Display result for each hippo"
      ]
    },
    {
      "cell_type": "markdown",
      "id": "exercise",
      "metadata": {},
      "source": [
        "## Exercise 1: Create a Function and Loop\n",
        "\n",
        "Write a function to convert calories to kilojoules (1 kcal = 4.184 kJ) and loop over a list of calorie values (e.g., [2500, 2300, 2600]) to print conversions. Add comments.\n",
        "\n",
        "**Guidance**: Define the function with `calories * 4.184` and use a `for` loop."
      ]
    },
    {
      "cell_type": "markdown",
      "id": "your_answer",
      "metadata": {},
      "source": [
        "**Answer**:\n",
        "\n",
        "My function and loop code is..."
      ]
    },
    {
      "cell_type": "markdown",
      "id": "wrap",
      "metadata": {},
      "source": [
        "## Conclusion\n",
        "\n",
        "You\u2019ve learned to automate tasks with functions and loops, boosting efficiency in nutrition data analysis.\n",
        "\n",
        "**Next Steps**: Explore data structures in 2.4.\n",
        "\n",
        "**Resources**:\n",
        "- [Python Functions](https://docs.python.org/3/tutorial/controlflow.html#defining-functions)\n",
        "- [W3Schools Python Loops](https://www.w3schools.com/python/python_for_loops.asp)\n",
        "- Repository: [github.com/ggkuhnle/data-analysis-toolkit-FNS](https://github.com/ggkuhnle/data-analysis-toolkit-FNS)"
      ]
    }
  ],
  "metadata": {
    "kernelspec": {
      "display_name": "Python 3",
      "language": "python",
      "name": "python3"
    },
    "language_info": {
      "codemirror_mode": {
        "name": "ipython",
        "version": 3
      },
      "file_extension": ".py",
      "mimetype": "text/x-python",
      "name": "python",
      "nbconvert_exporter": "python",
      "pygments_lexer": "ipython3",
      "version": "3.9.7"
    }
  },
  "nbformat": 4,
  "nbformat_minor": 5
}