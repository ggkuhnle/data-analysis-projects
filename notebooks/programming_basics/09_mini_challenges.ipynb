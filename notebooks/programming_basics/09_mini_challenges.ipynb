{
 "cells": [
  {
   "cell_type": "markdown",
   "id": "68b6595f",
   "metadata": {},
   "source": [
    "# 🧪 Practice and Mini Challenges\n",
    "\n",
    "Well done! You’ve made it through the foundations of Python programming.  \n",
    "Now let’s put your skills into practice with a few small challenges.\n",
    "\n",
    "Try these out in order — or jump to the ones you find most interesting.\n"
   ]
  },
  {
   "cell_type": "markdown",
   "id": "c7b1b95d",
   "metadata": {},
   "source": [
    "## 🎯 Challenge 1: Hippo Classifier\n",
    "\n",
    "Create a function `hippo_size(weight)` that:\n",
    "- Takes a weight (in kg)\n",
    "- Returns \"Small\", \"Medium\", or \"Large\"\n",
    "\n",
    "Use `if`, `elif`, and `else`.\n",
    "\n",
    "Hint:\n",
    "```python\n",
    "if weight < 1000:\n",
    "    return \"Small\"\n",
    "```\n"
   ]
  },
  {
   "cell_type": "code",
   "execution_count": null,
   "id": "52311433",
   "metadata": {},
   "outputs": [],
   "source": [
    "# Your code here:"
   ]
  },
  {
   "cell_type": "markdown",
   "id": "6e1cbcaf",
   "metadata": {},
   "source": [
    "## 🥝 Challenge 2: Food Printer\n",
    "\n",
    "Make a list of at least 5 foods.  \n",
    "Use a loop to print them as a numbered menu.\n",
    "\n",
    "Expected output:\n",
    "```\n",
    "1. Apple\n",
    "2. Banana\n",
    "3. Carrot\n",
    "4. ...\n",
    "```"
   ]
  },
  {
   "cell_type": "code",
   "execution_count": null,
   "id": "94aa6264",
   "metadata": {},
   "outputs": [],
   "source": [
    "# Your code here:"
   ]
  },
  {
   "cell_type": "markdown",
   "id": "c32017ba",
   "metadata": {},
   "source": [
    "## 🧮 Challenge 3: Calorie Calculator\n",
    "\n",
    "Create a dictionary of foods with their calorie content:\n",
    "\n",
    "```python\n",
    "foods = {\"banana\": 105, \"yogurt\": 59, \"chocolate\": 240}\n",
    "```\n",
    "\n",
    "- Ask the user for a food (use `input()` if running locally)\n",
    "- Print the calories, or an error message if not found\n",
    "\n",
    "Advanced: use `.get()` with a default value.\n"
   ]
  },
  {
   "cell_type": "code",
   "execution_count": null,
   "id": "c30f4ffa",
   "metadata": {},
   "outputs": [],
   "source": [
    "# Example start:\n",
    "foods = {\"banana\": 105, \"yogurt\": 59, \"chocolate\": 240}\n",
    "\n",
    "# Your code here:"
   ]
  },
  {
   "cell_type": "markdown",
   "id": "d8271ffe",
   "metadata": {},
   "source": [
    "## 🐾 Challenge 4: Simple BMI Function\n",
    "\n",
    "Write a function `bmi(weight, height)` that:\n",
    "- Takes weight in kg and height in m\n",
    "- Returns the BMI **rounded to 1 decimal**\n",
    "\n",
    "Use the formula:\n",
    "\n",
    "```python\n",
    "bmi = weight / height**2\n",
    "```\n",
    "\n",
    "Add a docstring to your function!\n"
   ]
  },
  {
   "cell_type": "code",
   "execution_count": null,
   "id": "7387f93c",
   "metadata": {},
   "outputs": [],
   "source": [
    "# Your code here:"
   ]
  },
  {
   "cell_type": "markdown",
   "id": "10f2ceab",
   "metadata": {},
   "source": [
    "## 🧹 Optional Stretch: Clean Up a Messy List\n",
    "\n",
    "Start with this list of foods:\n",
    "\n",
    "```python\n",
    "items = [\" Banana \", \"chocolate\", \"CHOCOLATE\", \"chocolate \", \"YOGURT\"]\n",
    "```\n",
    "\n",
    "Clean it by:\n",
    "- Stripping whitespace\n",
    "- Converting to lowercase\n",
    "- Removing duplicates\n",
    "\n",
    "Use `set()` to help with duplicates.\n"
   ]
  },
  {
   "cell_type": "code",
   "execution_count": null,
   "id": "7ac6db54",
   "metadata": {},
   "outputs": [],
   "source": [
    "items = [\" Banana \", \"chocolate\", \"CHOCOLATE\", \"chocolate \", \"YOGURT\"]\n",
    "\n",
    "# Your code here:"
   ]
  },
  {
   "cell_type": "markdown",
   "id": "666114cf",
   "metadata": {},
   "source": [
    "---\n",
    "\n",
    "## ✅ Summary\n",
    "\n",
    "These challenges combined:\n",
    "- Functions\n",
    "- Lists and dictionaries\n",
    "- Loops and conditionals\n",
    "- Formatting and cleaning\n",
    "\n",
    "You’re now ready for **data handling**! 💪🦛\n",
    "\n"
   ]
  }
 ],
 "metadata": {},
 "nbformat": 4,
 "nbformat_minor": 5
}
