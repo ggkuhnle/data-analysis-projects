{
  "cells": [
    {
      "cell_type": "markdown",
      "id": "intro",
      "metadata": {},
      "source": [
        "# 📊 4.1 Data Distributions and Visualisation\n",
        "\n",
        "This notebook introduces visualisation techniques for nutrient data distributions, essential for nutrition research.\n",
        "\n",
        "**Objectives**:\n",
        "- Create histograms, boxplots, and violin plots.\n",
        "- Interpret distribution characteristics (e.g., skewness, outliers).\n",
        "- Apply visualizations to real-world nutrition data.\n",
        "\n",
        "**Context**: Visualizing distributions helps identify patterns in datasets like `vitamin_trial.csv`.\n",
        "\n",
        "<details><summary>Fun Fact</summary>\n",
        "A good plot is like a hippo’s portrait—revealing and full of character! 🦛\n",
        "</details>"
      ]
    },
    {
      "cell_type": "code",
      "execution_count": null,
      "id": "colab_setup",
      "metadata": {},
      "outputs": [],
      "source": [
        "# Setup for Google Colab: Fetch datasets automatically or manually\n",
        "%run ../../bootstrap.py    # installs requirements + editable package\n",
        "\n",
        "import fns_toolkit as fns\n",
        "\n",
        "import pandas as pd\n",
        "import numpy as np\n",
        "import matplotlib.pyplot as plt\n",
        "import seaborn as sns\n",
        "\n",
        "print('Environment ready.')"
      ]
    },
    {
      "cell_type": "markdown",
      "id": "load_data",
      "metadata": {},
      "source": [
        "## Data Preparation\n",
        "\n",
        "Load `vitamin_trial.csv`, a simulated dataset of vitamin D levels from a clinical trial."
      ]
    },
    {
      "cell_type": "code",
      "execution_count": null,
      "id": "load",
      "metadata": {},
      "outputs": [
        {
          "name": "stdout",
          "output_type": "stream",
          "text": [
            "   ID     Group  Vitamin_D  Time  Outcome\n",
            "0  P1  Control     10.5     0  Normal\n"
          ]
        }
      ],
      "source": [
        "df = fns.get_dataset('vitamin_trial')\n",
        "print(df.head(1))"
      ]
    },
    {
      "cell_type": "markdown",
      "id": "visualize",
      "metadata": {},
      "source": [
        "## Visualizing Distributions\n",
        "\n",
        "Create a violin plot to compare vitamin D levels across trial groups."
      ]
    },
    {
      "cell_type": "code",
      "execution_count": 3,
      "id": "violin",
      "metadata": {},
      "outputs": [],
      "source": [
        "plt.figure(figsize=(10, 5))\n",
        "sns.violinplot(x='Group', y='Vitamin_D', data=df)\n",
        "plt.title('Vitamin D Distribution by Treatment Group')\n",
        "plt.xlabel('Trial Group')\n",
        "plt.ylabel('Vitamin D (µg)')\n",
        "plt.show()"
      ]
    },
    {
      "cell_type": "markdown",
      "id": "exercise",
      "metadata": {},
      "source": [
        "## Exercise 1: Create a Boxplot\n",
        "\n",
        "Generate a boxplot for the same data and describe any outliers in a Markdown cell.\n",
        "\n",
        "**Guidance**: Use `sns.boxplot()` and check for extreme values."
      ]
    },
    {
      "cell_type": "markdown",
      "id": "your_answer",
      "metadata": {},
      "source": [
        "**Answer**:\n",
        "\n",
        "The boxplot shows..."
      ]
    },
    {
      "cell_type": "markdown",
      "id": "wrap",
      "metadata": {},
      "source": [
        "## Conclusion\n",
        "\n",
        "You’ve learned to visualize nutrient distributions using violin and boxplots. Next, explore EDA in 4.2.\n",
        "\n",
        "**Resources**:\n",
        "- [Seaborn Documentation](https://seaborn.pydata.org/)\n",
        "- [Matplotlib Documentation](https://matplotlib.org/)\n",
        "- Repository: [github.com/ggkuhnle/data-analysis-toolkit-FNS](https://github.com/ggkuhnle/data-analysis-toolkit-FNS)"
      ]
    }
  ],
  "metadata": {
    "kernelspec": {
      "display_name": "Python 3",
      "language": "python",
      "name": "python3"
    },
    "language_info": {
      "codemirror_mode": {
        "name": "ipython",
        "version": 3
      },
      "file_extension": ".py",
      "mimetype": "text/x-python",
      "name": "python",
      "nbconvert_exporter": "python",
      "pygments_lexer": "ipython3",
      "version": "3.9.7"
    }
  },
  "nbformat": 4,
  "nbformat_minor": 5
}
