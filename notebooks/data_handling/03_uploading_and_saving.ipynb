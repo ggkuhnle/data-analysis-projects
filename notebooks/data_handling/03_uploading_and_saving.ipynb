# ☁️ 3.3 Uploading to Colab and Saving Outputs

Learn how to:
- Upload files via Colab widgets
- Save your cleaned data

🧪 **Exercise**: Clean a file and save to CSV and JSON.