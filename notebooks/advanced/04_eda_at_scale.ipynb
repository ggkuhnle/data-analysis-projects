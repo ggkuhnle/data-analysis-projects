# 📊 Exploratory Data Analysis at Scale

_Use `dask` or `vaex` for large datasets._

🧪 **Exercise**: Profile a large EFSA dataset by food group.