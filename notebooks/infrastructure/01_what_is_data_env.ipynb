{
 "cells": [
  {
   "cell_type": "markdown",
   "id": "86c4fd2b",
   "metadata": {},
   "source": [
    "# 🌍 What is a Data Science Environment?\n",
    "\n",
    "Learn how tools, files, formats and environments work together to support data analysis.\n",
    "\n",
    "## 💡 Basic View\n",
    "\n",
    "- What is a data environment?\n",
    "- Why this matters (Excel vs scripting)\n",
    "- Examples of good practice\n",
    "\n",
    "## 🔍 Advanced View\n",
    "\n",
    "<details><summary>Click to expand advanced concepts</summary>\n",
    "\n",
    "- IDEs, environments (virtualenv, conda)\n",
    "- Reproducibility & workflow tools\n",
    "- Automation pipelines\n",
    "\n",
    "</details>\n",
    "\n",
    "## 🧪 Exercises\n",
    "\n",
    "1. Describe your current \"data environment\"\n",
    "2. Use Colab to open a notebook and edit one line\n",
    "3. Sketch out how Colab and GitHub could fit together\n"
   ]
  }
 ],
 "metadata": {},
 "nbformat": 4,
 "nbformat_minor": 5
}
