{
 "cells": [
  {
   "cell_type": "markdown",
   "id": "b3d02dd7",
   "metadata": {},
   "source": [
    "# 🧹 3.4 Cleaning Data"
   ]
  },
  {
   "cell_type": "markdown",
   "id": "e3c3ab44",
   "metadata": {},
   "source": [
    "Cleaning data is essential before any analysis. This includes handling missing values, correcting types, and renaming or recoding columns.\n",
    "\n",
    "**Common operations:**\n",
    "- Detect missing values: `df.isnull().sum()`\n",
    "- Fill or drop missing values: `fillna()`, `dropna()`\n",
    "- Convert data types: `astype()`\n",
    "- Rename columns: `df.rename()`"
   ]
  },
  {
   "cell_type": "code",
   "execution_count": null,
   "id": "0c1f86cc",
   "metadata": {},
   "outputs": [],
   "source": [
    "df = pd.read_csv('https://raw.githubusercontent.com/ggkuhnle/data-analysis/main/data/hippos_cleaned.csv')\n",
    "df['Weight_kg'] = pd.to_numeric(df['Weight_kg'], errors='coerce')\n",
    "df['Species'] = df['Species'].str.strip().str.title()\n",
    "df = df.dropna(subset=['Weight_kg'])"
   ]
  },
  {
   "cell_type": "markdown",
   "id": "af70256b",
   "metadata": {},
   "source": [
    "## 🧪 Exercise\n",
    "Replace all zero nutrient values with `NaN` and rename columns for clarity."
   ]
  },
  {
   "cell_type": "markdown",
   "id": "c8aeb20b",
   "metadata": {},
   "source": [
    "### <details><summary>Advanced: Using `apply()` for Complex Cleaning</summary>\n",
    "You can apply custom functions row-wise for advanced recoding.\n",
    "```python\n",
    "def clean_group(row):\n",
    "    return row['Group'].strip().lower().replace('foods', 'Food')\n",
    "df['Group'] = df.apply(clean_group, axis=1)\n",
    "```\n",
    "</details>"
   ]
  }
 ],
 "metadata": {},
 "nbformat": 4,
 "nbformat_minor": 5
}
