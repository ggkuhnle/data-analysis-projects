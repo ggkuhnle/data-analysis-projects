{
  "cells": [
    {
      "cell_type": "markdown",
      "id": "intro",
      "metadata": {},
      "source": [
        "# 📉 4.5 Regression Modelling\n",
        "\n",
        "This notebook introduces regression modelling to predict nutrition outcomes.\n",
        "\n",
        "**Objectives**:\n",
        "- Build linear regression models.\n",
        "- Evaluate model performance.\n",
        "- Apply regression to `vitamin_trial.csv`.\n",
        "\n",
        "**Context**: Regression models predict outcomes, like vitamin D levels based on trial data.\n",
        "\n",
        "<details><summary>Fun Fact</summary>\n",
        "Regression is like a hippo predicting its next meal’s size—patterns guide the guess! 🦛\n",
        "</details>"
      ]
    },
    {
      "cell_type": "code",
      "execution_count": null,
      "id": "colab_setup",
      "metadata": {},
      "outputs": [],
      "source": [
        "# Setup for Google Colab: Fetch datasets automatically or manually\n",
        "%run ../../bootstrap.py    # installs requirements + editable package\n",
        "\n",
        "import fns_toolkit as fns\n",
        "\n",
        "import pandas as pd\n",
        "import numpy as np\n",
        "import matplotlib.pyplot as plt\n",
        "import seaborn as sns\n",
        "from sklearn.linear_model import LinearRegression  # For regression\n",
        "from sklearn.metrics import r2_score  # For model evaluation\n",
        "\n",
        "print('Environment ready.')"
      ]
    },
    {
      "cell_type": "markdown",
      "id": "load_data",
      "metadata": {},
      "source": [
        "## Data Preparation\n",
        "\n",
        "Load `vitamin_trial.csv` and prepare features for regression."
      ]
    },
    {
      "cell_type": "code",
      "execution_count": null,
      "id": "load",
      "metadata": {},
      "outputs": [
        {
          "name": "stdout",
          "output_type": "stream",
          "text": [
            "Features shape: (200, 1), Target shape: (200,)\n"
          ]
        }
      ],
      "source": [
        "# Load the dataset\n",
        "df = fns.get_dataset('vitamin_trial')  # Path relative to notebook\n",
        "\n",
        "# Prepare features and target\n",
        "X = df[['Time']]  # Feature: Time\n",
        "y = df['Vitamin_D']  # Target: Vitamin D levels\n",
        "print(f'Features shape: {X.shape}, Target shape: {y.shape}')  # Display shapes"
      ]
    },
    {
      "cell_type": "markdown",
      "id": "model",
      "metadata": {},
      "source": [
        "## Linear Regression\n",
        "\n",
        "Build and evaluate a linear regression model."
      ]
    },
    {
      "cell_type": "code",
      "execution_count": 3,
      "id": "model",
      "metadata": {},
      "outputs": [
        {
          "name": "stdout",
          "output_type": "stream",
          "text": [
            "R² score: 0.72\n"
          ]
        }
      ],
      "source": [
        "# Initialize and fit model\n",
        "model = LinearRegression()  # Create regression model\n",
        "model.fit(X, y)  # Fit model to data\n",
        "\n",
        "# Predict and evaluate\n",
        "y_pred = model.predict(X)  # Predict Vitamin D levels\n",
        "r2 = r2_score(y, y_pred)  # Calculate R² score\n",
        "print(f'R² score: {round(r2, 2)}')  # Display R²"
      ]
    },
    {
      "cell_type": "markdown",
      "id": "exercise",
      "metadata": {},
      "source": [
        "## Exercise 1: Build a Model\n",
        "\n",
        "Build a regression model using `Time` and a dummy variable for `Group` (Control=0, Treatment=1). Report the R² score. Document your code.\n",
        "\n",
        "**Guidance**: Use `pd.get_dummies()` to encode `Group`."
      ]
    },
    {
      "cell_type": "markdown",
      "id": "your_answer",
      "metadata": {},
      "source": [
        "**Answer**:\n",
        "\n",
        "My regression code is..."
      ]
    },
    {
      "cell_type": "markdown",
      "id": "wrap",
      "metadata": {},
      "source": [
        "## Conclusion\n",
        "\n",
        "You’ve learned to build and evaluate regression models for nutrition data.\n",
        "\n",
        "**Next Steps**: Explore Bayesian methods in 5.1.\n",
        "\n",
        "**Resources**:\n",
        "- [Scikit-Learn Regression](https://scikit-learn.org/stable/modules/linear_model.html)\n",
        "- [Regression Guide](https://www.datacamp.com/community/tutorials/linear-regression-python)\n",
        "- Repository: [github.com/ggkuhnle/data-analysis-toolkit-FNS](https://github.com/ggkuhnle/data-analysis-toolkit-FNS)"
      ]
    }
  ],
  "metadata": {
    "kernelspec": {
      "display_name": "Python 3",
      "language": "python",
      "name": "python3"
    },
    "language_info": {
      "codemirror_mode": {
        "name": "ipython",
        "version": 3
      },
      "file_extension": ".py",
      "mimetype": "text/x-python",
      "name": "python",
      "nbconvert_exporter": "python",
      "pygments_lexer": "ipython3",
      "version": "3.9.7"
    }
  },
  "nbformat": 4,
  "nbformat_minor": 5
}
