{
 "cells": [
  {
   "cell_type": "markdown",
   "id": "19460969",
   "metadata": {},
   "source": [
    "# 🗂️ Git and Version Control Basics\n",
    "\n",
    "Version control helps you track changes in your work and collaborate with others. Git is the most popular tool for this — and it’s easier than you might think.\n"
   ]
  },
  {
   "cell_type": "markdown",
   "id": "b60ee846",
   "metadata": {},
   "source": [
    "## 💡 Basic View\n",
    "\n",
    "### What is version control?\n",
    "\n",
    "Think of it like **track changes** in Word — but for your code, notebooks, and data.\n",
    "\n",
    "Why it matters:\n",
    "- Revert mistakes easily\n",
    "- See what changed, when, and why\n",
    "- Collaborate without overwriting others’ work\n",
    "- Protect your analysis history\n",
    "\n"
   ]
  },
  {
   "cell_type": "markdown",
   "id": "a66253bc",
   "metadata": {},
   "source": [
    "### What is Git?\n",
    "\n",
    "Git is a tool that tracks versions of files in a project.\n",
    "\n",
    "With Git, you can:\n",
    "- **Save a snapshot** of your project (`commit`)\n",
    "- **Back it up online** (`push` to GitHub)\n",
    "- **Download updates** (`pull`)\n",
    "- **Work with others** without overwriting\n",
    "\n"
   ]
  },
  {
   "cell_type": "markdown",
   "id": "cd82efc8",
   "metadata": {},
   "source": [
    "### GitHub: your Git workspace in the cloud\n",
    "\n",
    "- Free (private/public repositories)\n",
    "- Lets you store and browse code, notebooks, and data\n",
    "- You can edit Colab notebooks directly from GitHub!\n"
   ]
  },
  {
   "cell_type": "code",
   "execution_count": null,
   "id": "e877d87d",
   "metadata": {},
   "outputs": [],
   "source": [
    "# You can link to GitHub files in Colab like this:\n",
    "github_url = \"https://raw.githubusercontent.com/yourusername/yourrepo/main/notebook.ipynb\"\n",
    "print(f\"You can open this in Colab: {github_url}\")"
   ]
  },
  {
   "cell_type": "markdown",
   "id": "fc6eed92",
   "metadata": {},
   "source": [
    "## 🔍 Advanced View\n",
    "\n",
    "<details><summary>Click to expand</summary>\n",
    "\n",
    "### Key Git Commands\n",
    "\n",
    "```bash\n",
    "git init                # Start versioning a folder\n",
    "git add .               # Stage all changes\n",
    "git commit -m \"Message\" # Save a snapshot\n",
    "git push                # Upload to GitHub\n",
    "git pull                # Download latest from GitHub\n",
    "```\n",
    "\n",
    "### Version Control Best Practices\n",
    "\n",
    "- Commit small, meaningful changes\n",
    "- Use informative commit messages\n",
    "- Never commit large datasets or passwords!\n",
    "\n",
    "### GUI Options\n",
    "\n",
    "- **GitHub Desktop**: easy to use, drag-and-drop interface\n",
    "- **VS Code Git Integration**: powerful + built-in\n",
    "- **Command line Git**: for full control and scripting\n",
    "\n",
    "</details>\n"
   ]
  },
  {
   "cell_type": "markdown",
   "id": "af1d5f69",
   "metadata": {},
   "source": [
    "## 🧪 Exercises\n",
    "\n",
    "1. Go to [github.com](https://github.com) and create a free account (if you don’t have one).\n",
    "2. Create a new repository for your data coursework.\n",
    "3. Clone it using GitHub Desktop or VS Code and add a notebook.\n",
    "4. Optional: edit the notebook in Colab via GitHub and commit changes.\n"
   ]
  }
 ],
 "metadata": {},
 "nbformat": 4,
 "nbformat_minor": 5
}
