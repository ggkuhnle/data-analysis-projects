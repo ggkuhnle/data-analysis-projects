{
 "cells": [
  {
   "cell_type": "markdown",
   "id": "b16a62f0",
   "metadata": {},
   "source": [
    "# 🔤 Variables and Data Types\n",
    "\n",
    "In this notebook, we explore how Python stores and labels information using **variables**, and how it understands **data types** like numbers, text, and logic.\n"
   ]
  },
  {
   "cell_type": "markdown",
   "id": "406f0aa8",
   "metadata": {},
   "source": [
    "## 💡 What is a variable?\n",
    "\n",
    "A variable is a **name for a value**. Think of it like a labelled container.\n",
    "\n",
    "```python\n",
    "weight = 1200\n",
    "```\n",
    "\n",
    "Now we can use the word `weight` instead of typing `1200` again and again.\n"
   ]
  },
  {
   "cell_type": "code",
   "execution_count": null,
   "id": "cd9f71f9",
   "metadata": {},
   "outputs": [],
   "source": [
    "# Example: storing a value\n",
    "hippo_weight = 1200\n",
    "print(\"Weight of the hippo is\", hippo_weight, \"kg\")"
   ]
  },
  {
   "cell_type": "markdown",
   "id": "e6073485",
   "metadata": {},
   "source": [
    "Variables can change:\n"
   ]
  },
  {
   "cell_type": "code",
   "execution_count": null,
   "id": "bfc49d71",
   "metadata": {},
   "outputs": [],
   "source": [
    "hippo_weight = 1300\n",
    "print(\"Updated weight:\", hippo_weight)"
   ]
  },
  {
   "cell_type": "markdown",
   "id": "e1b8d023",
   "metadata": {},
   "source": [
    "## 📦 Common Data Types in Python\n",
    "\n",
    "| Type        | Example            | In Excel/SPSS               |\n",
    "|-------------|--------------------|-----------------------------|\n",
    "| `int`       | `42`               | Whole numbers               |\n",
    "| `float`     | `3.14`             | Decimal numbers             |\n",
    "| `str`       | `\"Hello\"`          | Text (like \"Food Group\")    |\n",
    "| `bool`      | `True`, `False`    | Logical (TRUE/FALSE)        |\n",
    "\n"
   ]
  },
  {
   "cell_type": "code",
   "execution_count": null,
   "id": "272fa376",
   "metadata": {},
   "outputs": [],
   "source": [
    "age = 25          # int\n",
    "height = 1.78     # float\n",
    "name = \"Gunter\"   # str\n",
    "hungry = True     # bool\n",
    "\n",
    "print(type(age))\n",
    "print(type(height))\n",
    "print(type(name))\n",
    "print(type(hungry))"
   ]
  },
  {
   "cell_type": "markdown",
   "id": "643d0c82",
   "metadata": {},
   "source": [
    "## 🔁 Converting Types\n",
    "\n",
    "Sometimes you need to **convert** between types:\n",
    "\n",
    "- Excel: `=VALUE(\"123\")`\n",
    "- Python:\n"
   ]
  },
  {
   "cell_type": "code",
   "execution_count": null,
   "id": "8d225212",
   "metadata": {},
   "outputs": [],
   "source": [
    "weight_str = \"1500\"\n",
    "weight_num = int(weight_str)\n",
    "print(weight_num + 100)"
   ]
  },
  {
   "cell_type": "markdown",
   "id": "88a6a722",
   "metadata": {},
   "source": [
    "## 🧪 Exercises\n",
    "\n",
    "1. Create a variable called `species` and assign it your favourite animal as text.\n",
    "2. Make a variable `legs` and assign the number of legs it has.\n",
    "3. Try printing both together in a sentence using `print()`.\n",
    "4. Optional: convert `\"2023\"` (a string) into an integer.\n"
   ]
  },
  {
   "cell_type": "markdown",
   "id": "7882f63a",
   "metadata": {},
   "source": [
    "## 🔍 Advanced View\n",
    "\n",
    "<details><summary>Click to expand</summary>\n",
    "\n",
    "### Why do types matter?\n",
    "\n",
    "- You can’t do maths with text\n",
    "- You can’t compare logic with numbers\n",
    "- You might accidentally create `“42”` instead of `42`\n",
    "\n",
    "### Type casting (manual conversion)\n",
    "\n",
    "- `str(42)` → `\"42\"`\n",
    "- `int(\"123\")` → `123`\n",
    "- `float(\"3.14\")` → `3.14`\n",
    "\n",
    "Python is stricter than Excel — but that’s a good thing! It helps avoid silent errors.\n",
    "\n",
    "</details>\n"
   ]
  }
 ],
 "metadata": {},
 "nbformat": 4,
 "nbformat_minor": 5
}
