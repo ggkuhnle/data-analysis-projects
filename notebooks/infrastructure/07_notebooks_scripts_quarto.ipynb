{
 "cells": [
  {
   "cell_type": "markdown",
   "id": "0def574f",
   "metadata": {},
   "source": [
    "# 📓 Notebooks vs Scripts vs Markdown vs Quarto\n",
    "\n",
    "| Format | Best for | Tools |\n",
    "|--------|----------|-------|\n",
    "| Notebook | Teaching, exploration | Jupyter, Colab |\n",
    "| Script | Reproducible pipelines | .py, R scripts |\n",
    "| Markdown | Documentation | GitHub, websites |\n",
    "| Quarto | Publications & sites | .qmd, quarto render |"
   ]
  }
 ],
 "metadata": {},
 "nbformat": 4,
 "nbformat_minor": 5
}
