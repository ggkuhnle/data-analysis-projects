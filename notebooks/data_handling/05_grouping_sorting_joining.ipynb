# 🔀 3.5 Sorting, Filtering, Grouping, Joining

Core pandas operations for handling data:
- `sort_values`, `query`, `groupby`, `merge`

🧪 **Exercise**: Group by age and sex, calculate average iron intake.