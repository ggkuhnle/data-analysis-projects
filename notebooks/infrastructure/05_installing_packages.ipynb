{
 "cells": [
  {
   "cell_type": "markdown",
   "id": "717969b2",
   "metadata": {},
   "source": [
    "# 📦 Installing and Managing Packages\n",
    "\n",
    "Python uses `pip` or `conda` to install libraries:\n",
    "\n",
    "```bash\n",
    "pip install pandas matplotlib seaborn\n",
    "```\n",
    "\n",
    "You can also use:\n",
    "```python\n",
    "!pip install pandas\n",
    "```\n",
    "inside Colab."
   ]
  }
 ],
 "metadata": {},
 "nbformat": 4,
 "nbformat_minor": 5
}
