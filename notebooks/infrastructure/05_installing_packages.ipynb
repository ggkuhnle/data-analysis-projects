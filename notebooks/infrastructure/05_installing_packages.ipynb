{
 "cells": [
  {
   "cell_type": "markdown",
   "id": "be788934",
   "metadata": {},
   "source": [
    "# 📦 Installing and Managing Python Packages\n",
    "\n",
    "Python is powerful because of its **packages** — small add-ons that handle everything from statistics to visualisation to web scraping.\n",
    "\n",
    "This notebook teaches you how to install and manage them.\n"
   ]
  },
  {
   "cell_type": "markdown",
   "id": "5703b963",
   "metadata": {},
   "source": [
    "## 💡 Basic View\n",
    "\n",
    "### What is a package?\n",
    "\n",
    "A package is a reusable collection of Python code — like a plugin.\n",
    "\n",
    "Examples:\n",
    "- `pandas` — for dataframes and analysis\n",
    "- `matplotlib` — for plotting\n",
    "- `scipy` — for statistics\n",
    "\n",
    "### Installing in Google Colab\n",
    "\n",
    "Colab already includes many packages. To install others:\n",
    "\n",
    "```python\n",
    "!pip install seaborn\n",
    "```\n",
    "\n",
    "Try it:\n"
   ]
  },
  {
   "cell_type": "code",
   "execution_count": null,
   "id": "833769ce",
   "metadata": {},
   "outputs": [],
   "source": [
    "# This will install seaborn in Colab\n",
    "!pip install seaborn"
   ]
  },
  {
   "cell_type": "markdown",
   "id": "90b8989f",
   "metadata": {},
   "source": [
    "Once installed, you can import it and use it:\n",
    "\n",
    "```python\n",
    "import seaborn as sns\n",
    "```\n"
   ]
  },
  {
   "cell_type": "markdown",
   "id": "ddf49fd6",
   "metadata": {},
   "source": [
    "### Installing Locally\n",
    "\n",
    "In your terminal or Anaconda Prompt:\n",
    "\n",
    "```bash\n",
    "pip install seaborn\n",
    "```\n",
    "\n",
    "Or, if you use Anaconda:\n",
    "\n",
    "```bash\n",
    "conda install seaborn\n",
    "```\n"
   ]
  },
  {
   "cell_type": "markdown",
   "id": "f263b500",
   "metadata": {},
   "source": [
    "## 🔍 Advanced View\n",
    "\n",
    "<details><summary>Click to expand</summary>\n",
    "\n",
    "### requirements.txt\n",
    "\n",
    "You can list the packages your project needs:\n",
    "\n",
    "```\n",
    "pandas==2.0.3\n",
    "matplotlib>=3.7\n",
    "```\n",
    "\n",
    "Install all with:\n",
    "```bash\n",
    "pip install -r requirements.txt\n",
    "```\n",
    "\n",
    "Generate it using:\n",
    "```bash\n",
    "pip freeze > requirements.txt\n",
    "```\n",
    "\n",
    "### Virtual environments\n",
    "\n",
    "To avoid conflicts between projects, create a virtual environment:\n",
    "\n",
    "```bash\n",
    "python -m venv venv\n",
    "source venv/bin/activate  # On Mac/Linux\n",
    "venv\\Scripts\\activate   # On Windows\n",
    "```\n",
    "\n",
    "Then install your packages inside.\n",
    "\n",
    "</details>\n"
   ]
  },
  {
   "cell_type": "markdown",
   "id": "497dbeb1",
   "metadata": {},
   "source": [
    "## 🧪 Exercises\n",
    "\n",
    "1. Install `seaborn` and use it to make a simple plot.\n",
    "2. Generate a `requirements.txt` from a Colab notebook.\n",
    "3. Optional: Try creating a virtual environment locally.\n"
   ]
  }
 ],
 "metadata": {
  "kernelspec": {
   "display_name": "Python 3 (ipykernel)",
   "language": "python",
   "name": "python3"
  },
  "language_info": {
   "codemirror_mode": {
    "name": "ipython",
    "version": 3
   },
   "file_extension": ".py",
   "mimetype": "text/x-python",
   "name": "python",
   "nbconvert_exporter": "python",
   "pygments_lexer": "ipython3",
   "version": "3.9.6"
  }
 },
 "nbformat": 4,
 "nbformat_minor": 5
}
