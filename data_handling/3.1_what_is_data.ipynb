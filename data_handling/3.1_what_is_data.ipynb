{
 "cells": [
  {
   "cell_type": "markdown",
   "id": "intro",
   "metadata": {},
   "source": [
    "# 🧮 3.1 Data Types and Structures\n",
    "\n",
    "This notebook explores data structures for nutrition research, focusing on tidy data principles.\n",
    "\n",
    "**Objectives**:\n",
    "- Understand vectors, tables, and tidy data.\n",
    "- Transform data using pandas.\n",
    "- Apply tidy principles to `hippo_nutrients.csv`.\n",
    "\n",
    "**Context**: Tidy data is critical for efficient analysis of nutrition datasets. 🦛\n",
    "\n",
    "<details><summary>Fun Fact</summary>\n",
    "Tidy data is like a hippo’s lunch tray—neat and ready to munch! 🦛\n",
    "</details>"
   ]
  },
  {
   "cell_type": "code",
   "execution_count": 1,
   "id": "setup",
   "metadata": {},
   "outputs": [],
   "source": [
    "# Install required packages\n",
    "%pip install pandas  # For Colab users\n",
    "import pandas as pd\n",
    "print('Data handling environment ready.')"
   ]
  },
  {
   "cell_type": "markdown",
   "id": "load_data",
   "metadata": {},
   "source": [
    "## Data Preparation\n",
    "\n",
    "Load `hippo_nutrients.csv` and inspect its structure."
   ]
  },
  {
   "cell_type": "code",
   "execution_count": 2,
   "id": "load",
   "metadata": {},
   "outputs": [
    {
     "name": "stdout",
     "output_type": "stream",
     "text": [
      "   ID Nutrient  Year  Value  Age Sex\n",
      "0  H1     Iron  2024    8.2   25   F\n",
      "1  H1     Iron  2025    8.5   26   F\n"
     ]
    }
   ],
   "source": [
    "df = pd.read_csv('data/hippo_nutrients.csv')\n",
    "print(df.head(2))"
   ]
  },
  {
   "cell_type": "markdown",
   "id": "tidy",
   "metadata": {},
   "source": [
    "## Tidy Data Transformation\n",
    "\n",
    "Reshape the data into a tidy format using `pandas.melt()`."
   ]
  },
  {
   "cell_type": "code",
   "execution_count": 3,
   "id": "melt",
   "metadata": {},
   "outputs": [
    {
     "name": "stdout",
     "output_type": "stream",
     "text": [
      "   ID  Age Sex Nutrient  value\n",
      "0  H1   25   F     Year   2024\n",
      "1  H1   26   F     Year   2025\n"
     ]
    }
   ],
   "source": [
    "df_melted = df.melt(id_vars=['ID', 'Age', 'Sex'], var_name='Nutrient', value_name='value')\n",
    "print(df_melted.head(2))"
   ]
  },
  {
   "cell_type": "markdown",
   "id": "exercise",
   "metadata": {},
   "source": [
    "## Exercise 1: Filter Tidy Data\n",
    "\n",
    "Filter the tidy data to show only iron intakes and describe the result in a Markdown cell.\n",
    "\n",
    "**Guidance**: Use `df_melted[df_melted['Nutrient'] == 'Iron']`."
   ]
  },
  {
   "cell_type": "markdown",
   "id": "your_answer",
   "metadata": {},
   "source": [
    "**Answer**:\n",
    "\n",
    "The filtered iron data shows..."
   ]
  },
  {
   "cell_type": "markdown",
   "id": "wrap",
   "metadata": {},
   "source": [
    "## Conclusion\n",
    "\n",
    "You’ve learned to transform data into a tidy format. Next, explore importing data in 3.2.\n",
    "\n",
    "**Resources**:\n",
    "- [Tidy Data Paper](https://vita.had.co.nz/papers/tidy-data.pdf)\n",
    "- [Pandas Documentation](https://pandas.pydata.org/)\n",
    "- Repository: [github.com/ggkuhnle/data-analysis-toolkit-FNS](https://github.com/ggkuhnle/data-analysis-toolkit-FNS)"
   ]
  }
 ],
 "metadata": {
  "kernelspec": {
   "display_name": "Python 3",
   "language": "python",
   "name": "python3"
  },
  "language_info": {
   "codemirror_mode": {
    "name": "ipython",
    "version": 3
   },
   "file_extension": ".py",
   "mimetype": "text/x-python",
   "name": "python",
   "nbconvert_exporter": "python",
   "pygments_lexer": "ipython3",
   "version": "3.9.7"
  }
 },
 "nbformat": 4,
 "nbformat_minor": 5
}
