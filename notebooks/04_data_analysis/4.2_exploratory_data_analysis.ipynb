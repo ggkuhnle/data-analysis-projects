{
 "cells": [
  {
   "cell_type": "markdown",
   "id": "intro",
   "metadata": {
    "tags": []
   },
   "source": [
    "# 📊 4.2 Exploratory Data Analysis (EDA)\n",
    "\n",
    "Exploratory Data Analysis (EDA) is where we *look* before we *leap*. We’ll use `vitamin_trial.csv` to summarise, visualise, and question our data so later modelling steps are grounded in reality.\n",
    "\n",
    "---\n",
    "## 🎯 Objectives\n",
    "- Profile the dataset and assess missingness.\n",
    "- Recap distributions (with a link to **4.1** for deeper details).\n",
    "- Produce **group summaries** (means/medians, CIs) with tidy tables.\n",
    "- Explore relationships: **scatter/regression**, **pair plots**, **correlation heatmaps** (Pearson & Spearman).\n",
    "- Identify potential **outliers** and note next actions.\n",
    "\n",
    "<details><summary>Why EDA matters</summary>\n",
    "EDA reveals data quality issues (missingness, outliers, coding quirks), structure (groups, clusters), and plausible transformations. It informs the rest of your analysis pipeline.\n",
    "</details>"
   ]
  },
  {
   "cell_type": "code",
   "execution_count": null,
   "id": "colab_setup",
   "metadata": {
    "tags": []
   },
   "outputs": [],
   "source": [
    "# Setup for Google Colab: Fetch datasets automatically or manually\n",
    "import os\n",
    "from google.colab import files\n",
    "\n",
    "MODULE = '04_data_analysis'\n",
    "DATASET = 'vitamin_trial.csv'\n",
    "BASE_PATH = '/content/data-analysis-projects'\n",
    "MODULE_PATH = os.path.join(BASE_PATH, 'notebooks', MODULE)\n",
    "DATASET_PATH = os.path.join('data', DATASET)\n",
    "\n",
    "try:\n",
    "    print('Attempting to clone repository...')\n",
    "    if not os.path.exists(BASE_PATH):\n",
    "        !git clone https://github.com/ggkuhnle/data-analysis-projects.git\n",
    "    print('Setting working directory...')\n",
    "    os.chdir(MODULE_PATH)\n",
    "    if os.path.exists(DATASET_PATH):\n",
    "        print(f'Dataset found: {DATASET_PATH} ✅')\n",
    "    else:\n",
    "        raise FileNotFoundError('Dataset missing after clone.')\n",
    "except Exception as e:\n",
    "    print(f'Cloning failed: {e}')\n",
    "    print('Falling back to manual upload...')\n",
    "    os.makedirs('data', exist_ok=True)\n",
    "    uploaded = files.upload()\n",
    "    if DATASET in uploaded:\n",
    "        with open(DATASET_PATH, 'wb') as f:\n",
    "            f.write(uploaded[DATASET])\n",
    "        print(f'Successfully uploaded {DATASET} ✅')\n",
    "    else:\n",
    "        raise FileNotFoundError(f'Upload failed. Please upload {DATASET}.')"
   ]
  },
  {
   "cell_type": "code",
   "execution_count": null,
   "id": "libs",
   "metadata": {
    "tags": []
   },
   "outputs": [],
   "source": [
    "%pip install -q pandas numpy matplotlib seaborn statsmodels scipy\n",
    "import pandas as pd\n",
    "import numpy as np\n",
    "import matplotlib.pyplot as plt\n",
    "import seaborn as sns\n",
    "import statsmodels.api as sm\n",
    "from scipy.stats import pearsonr, spearmanr\n",
    "\n",
    "pd.set_option('display.max_columns', 50)\n",
    "sns.set_theme()\n",
    "print('EDA environment ready.')"
   ]
  },
  {
   "cell_type": "markdown",
   "id": "load_inspect",
   "metadata": {
    "tags": []
   },
   "source": [
    "## 1) Load & Quick Inspect\n",
    "We start with a **structural** and **statistical** glance at the dataset."
   ]
  },
  {
   "cell_type": "code",
   "execution_count": null,
   "id": "load_df",
   "metadata": {
    "tags": []
   },
   "outputs": [],
   "source": [
    "df = pd.read_csv('data/vitamin_trial.csv')\n",
    "print('Shape:', df.shape)\n",
    "print('\\nColumn dtypes:')\n",
    "print(df.dtypes)\n",
    "\n",
    "print('\\nPeek at the first rows:')\n",
    "display(df.head())\n",
    "\n",
    "print('\\nSummary (numeric):')\n",
    "display(df.describe())\n",
    "\n",
    "print('\\nSummary (including categorical):')\n",
    "display(df.describe(include='all'))"
   ]
  },
  {
   "cell_type": "markdown",
   "id": "missingness",
   "metadata": {
    "tags": []
   },
   "source": [
    "## 2) Missingness & Basic Data Quality\n",
    "Before plotting, ensure we know where the gaps are. If missingness clusters by group/time, it may bias results."
   ]
  },
  {
   "cell_type": "code",
   "execution_count": null,
   "id": "missing_check",
   "metadata": {
    "tags": []
   },
   "outputs": [],
   "source": [
    "print('Missing values per column:')\n",
    "print(df.isna().sum().sort_values(ascending=False))\n",
    "\n",
    "# Missingness by group (if columns exist)\n",
    "if {'Group','Vitamin_D'}.issubset(df.columns):\n",
    "    miss_rate = df.groupby('Group', observed=True)['Vitamin_D'].apply(lambda s: s.isna().mean())\n",
    "    print('\\nProportion missing in Vitamin_D by Group:')\n",
    "    display(miss_rate)"
   ]
  },
  {
   "cell_type": "markdown",
   "id": "distros_recap",
   "metadata": {
    "tags": []
   },
   "source": [
    "## 3) Distributions (recap)\n",
    "A brief recap using **hist/KDE** for Vitamin_D; detailed normality/Q–Q/log guidance is in **Notebook 4.1**."
   ]
  },
  {
   "cell_type": "code",
   "execution_count": null,
   "id": "hist_kde_recap",
   "metadata": {
    "tags": []
   },
   "outputs": [],
   "source": [
    "x = df['Vitamin_D'].dropna()\n",
    "fig, ax = plt.subplots(1, 1, figsize=(6, 4))\n",
    "sns.histplot(x, bins=20, kde=True, ax=ax)\n",
    "ax.set_title('Vitamin_D (hist + KDE)')\n",
    "ax.set_xlabel('Vitamin_D (µg)')\n",
    "plt.tight_layout(); plt.show()\n",
    "print('For Q–Q plots, Shapiro–Wilk tests, and log-transform demos, see Notebook 4.1.')"
   ]
  },
  {
   "cell_type": "markdown",
   "id": "group_summaries",
   "metadata": {
    "tags": []
   },
   "source": [
    "## 4) Grouped Descriptives (means/medians/CI)\n",
    "Summarise by key factors (e.g., `Group`, `Outcome`, `Time`). This clarifies patterns before modelling.\n",
    "\n",
    "<details><summary>Common recipes</summary>\n",
    "- Mean/median/count per group.\n",
    "- Within-group standard deviation (variability).\n",
    "- Confidence intervals for group means (basic normal approximation).\n",
    "</details>"
   ]
  },
  {
   "cell_type": "code",
   "execution_count": null,
   "id": "grouped_agg",
   "metadata": {
    "tags": []
   },
   "outputs": [],
   "source": [
    "def mean_se_ci(s):\n",
    "    s = pd.Series(s).dropna()\n",
    "    n = s.size\n",
    "    if n == 0:\n",
    "        return pd.Series({'mean': np.nan, 'se': np.nan, 'low': np.nan, 'high': np.nan, 'n': 0})\n",
    "    m = s.mean()\n",
    "    sd = s.std(ddof=1) if n > 1 else 0.0\n",
    "    se = sd / np.sqrt(n) if n > 0 else np.nan\n",
    "    low = m - 1.96 * se\n",
    "    high = m + 1.96 * se\n",
    "    return pd.Series({'mean': m, 'se': se, 'low': low, 'high': high, 'n': n})\n",
    "\n",
    "if {'Group','Vitamin_D'}.issubset(df.columns):\n",
    "    grp = (\n",
    "        df.groupby('Group', observed=True)['Vitamin_D']\n",
    "          .apply(mean_se_ci)\n",
    "          .reset_index()\n",
    "    )\n",
    "    display(grp.head(10))\n",
    "\n",
    "    # Compact summary table of means by group\n",
    "    grp_means = df.groupby('Group', observed=True)['Vitamin_D'].mean().reset_index(name='mean_VitD')\n",
    "    display(grp_means)"
   ]
  },
  {
   "cell_type": "markdown",
   "id": "relationships",
   "metadata": {
    "tags": []
   },
   "source": [
    "## 5) Relationships (scatter/regression → pair plots → heatmaps)\n",
    "Start with scatter plots and trend lines, then move to pair plots and correlation heatmaps for multi-variable overviews.\n",
    "\n",
    "<details><summary>Tip</summary>\n",
    "Use **Spearman** for monotonic (rank-based) relationships and **Pearson** for linear relationships. Consider log transforms if right-skewed.\n",
    "</details>"
   ]
  },
  {
   "cell_type": "code",
   "execution_count": null,
   "id": "scatter_with_reg",
   "metadata": {
    "tags": []
   },
   "outputs": [],
   "source": [
    "if 'Time' in df.columns and np.issubdtype(df['Time'].dtype, np.number):\n",
    "    fig, axes = plt.subplots(1, 2, figsize=(12, 4))\n",
    "    sns.regplot(data=df, x='Time', y='Vitamin_D', ax=axes[0])\n",
    "    axes[0].set_title('Time vs Vitamin_D (raw)')\n",
    "    axes[0].set_ylabel('Vitamin_D (µg)')\n",
    "\n",
    "    # log(Vitamin_D) for linearising right-skew\n",
    "    df_tmp = df.assign(Vitamin_D_log=np.log(df['Vitamin_D'] + 1e-6))\n",
    "    sns.regplot(data=df_tmp, x='Time', y='Vitamin_D_log', ax=axes[1])\n",
    "    axes[1].set_title('Time vs log(Vitamin_D)')\n",
    "    axes[1].set_ylabel('log Vitamin_D')\n",
    "\n",
    "    plt.tight_layout(); plt.show()\n",
    "else:\n",
    "    print('No numeric Time column found for scatter examples.')"
   ]
  },
  {
   "cell_type": "code",
   "execution_count": null,
   "id": "pairplot_heatmap",
   "metadata": {
    "tags": []
   },
   "outputs": [],
   "source": [
    "num = df.select_dtypes(include=[np.number]).copy()\n",
    "if 'Vitamin_D' in num.columns:\n",
    "    num['Vitamin_D_log'] = np.log(num['Vitamin_D'] + 1e-6)\n",
    "\n",
    "if num.shape[1] >= 2:\n",
    "    # Pair plot (sample if large)\n",
    "    sns.pairplot(num.sample(min(300, len(num)), random_state=1))\n",
    "    plt.suptitle('Pair Plot (sampled)', y=1.02)\n",
    "    plt.show()\n",
    "\n",
    "    # Correlation heatmaps\n",
    "    corr_pear = num.corr(numeric_only=True, method='pearson')\n",
    "    corr_spea = num.corr(numeric_only=True, method='spearman')\n",
    "\n",
    "    fig, axes = plt.subplots(1, 2, figsize=(12, 4))\n",
    "    sns.heatmap(corr_pear, annot=True, fmt='.2f', ax=axes[0])\n",
    "    axes[0].set_title('Pearson correlation')\n",
    "    sns.heatmap(corr_spea, annot=True, fmt='.2f', ax=axes[1])\n",
    "    axes[1].set_title('Spearman correlation')\n",
    "    plt.tight_layout(); plt.show()\n",
    "else:\n",
    "    print('Not enough numeric variables for pair plot / heatmap.')"
   ]
  },
  {
   "cell_type": "markdown",
   "id": "outliers",
   "metadata": {
    "tags": []
   },
   "source": [
    "## 6) Outliers: Identify & Reflect\n",
    "Boxplots flag outliers as points outside 1.5×IQR. Outliers can be data errors, rare but valid observations, or signals of subgroups. **Investigate** before removing.\n",
    "\n",
    "<details><summary>Quick IQR rule</summary>\n",
    "Q1 = 25th percentile, Q3 = 75th. IQR = Q3−Q1. Outliers ≈ values < Q1−1.5×IQR or > Q3+1.5×IQR.\n",
    "</details>"
   ]
  },
  {
   "cell_type": "code",
   "execution_count": null,
   "id": "iqr_outliers",
   "metadata": {
    "tags": []
   },
   "outputs": [],
   "source": [
    "q1, q3 = np.percentile(df['Vitamin_D'].dropna(), [25, 75])\n",
    "iqr = q3 - q1\n",
    "low, high = q1 - 1.5*iqr, q3 + 1.5*iqr\n",
    "mask_out = (df['Vitamin_D'] < low) | (df['Vitamin_D'] > high)\n",
    "print(f'Potential outliers (IQR rule): {int(mask_out.sum())}')\n",
    "display(df.loc[mask_out, ['ID','Group','Vitamin_D']].head(10))"
   ]
  },
  {
   "cell_type": "markdown",
   "id": "exercises",
   "metadata": {
    "tags": []
   },
   "source": [
    "## 🧪 Exercises\n",
    "1) **Grouped summaries**  \n",
    "   - Create a table of mean, median, n of `Vitamin_D` by `Group × Outcome`.  \n",
    "   - Which subgroup has the highest average?\n",
    "\n",
    "2) **Relationships**  \n",
    "   - If `Time` exists, compute Pearson & Spearman correlations with `Vitamin_D` (raw and log).  \n",
    "   - Interpret: linear vs monotonic patterns; do logs help?\n",
    "\n",
    "3) **Pair plot & heatmap**  \n",
    "   - Build a numeric subset, add `Vitamin_D_log`, create a pair plot (sample if needed), and correlation heatmaps.  \n",
    "   - Write two observations (surprising positive/negative associations?).\n",
    "\n",
    "4) **Outliers**  \n",
    "   - Identify outliers by IQR rule within each `Group`.  \n",
    "   - Suggest a plan (verify source, winsorise, robust stats) and justify briefly.\n",
    "\n",
    "🔗 For visualising distributions in depth (Q–Q, Shapiro, log-transform demos), see **Notebook 4.1**."
   ]
  },
  {
   "cell_type": "markdown",
   "id": "wrap",
   "metadata": {
    "tags": []
   },
   "source": [
    "## ✅ Conclusion\n",
    "You’ve conducted a principled EDA: profiling, missingness, distributions recap, group comparisons, relationship exploration (scatter → pair plots → heatmaps), and outlier scanning. These findings should inform your next steps (transformations, model choices, and validation rules).\n",
    "\n",
    "👉 Next: **4.3 Correlation & Association**—formalise the relationships you saw here with appropriate methods and caveats.\n",
    "\n",
    "<details><summary>Further reading</summary>\n",
    "- Seaborn: <https://seaborn.pydata.org/>\n",
    "- Matplotlib: <https://matplotlib.org/>\n",
    "- Statsmodels graphics (Q–Q): <https://www.statsmodels.org/stable/graphics.html>\n",
    "- Scipy stats: <https://docs.scipy.org/doc/scipy/reference/stats.html>\n",
    "</details>"
   ]
  }
 ],
 "metadata": {
  "kernelspec": {
   "display_name": "Python 3",
   "language": "python",
   "name": "python3"
  },
  "language_info": {
   "name": "python"
  }
 },
 "nbformat": 4,
 "nbformat_minor": 5
}