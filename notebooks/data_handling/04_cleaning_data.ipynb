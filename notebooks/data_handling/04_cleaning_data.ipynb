# 🧼 3.4 Cleaning Data

Covers:
- Missing values, type conversions
- Outliers and replacements
- Renaming columns and values

🧪 **Exercise**: Replace invalid values, recode food groups.