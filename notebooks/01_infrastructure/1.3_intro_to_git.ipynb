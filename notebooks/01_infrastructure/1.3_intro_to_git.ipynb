{
  "cells": [
    {
      "cell_type": "markdown",
      "id": "intro",
      "metadata": {},
      "source": [
        "# \ud83d\udcda 1.3 Introduction to Git\n",
        "\n",
        "This notebook introduces Git, a version control system essential for managing code and data in nutrition research projects.\n",
        "\n",
        "**Objectives**:\n",
        "- Understand Git\u2019s purpose and basic commands.\n",
        "- Practise committing changes to a repository.\n",
        "- Explore GitHub for collaboration.\n",
        "\n",
        "**Context**: Git ensures reproducibility and collaboration, vital for MSc projects like NDNS analysis.\n",
        "\n",
        "<details><summary>Fun Fact</summary>\n",
        "Git is like a hippo\u2019s journal\u2014tracking every snack and meal with precision! \ud83e\udd9b\n",
        "</details>"
      ]
    },
    {
      "cell_type": "code",
      "execution_count": null,
      "id": "colab_setup",
      "metadata": {},
      "outputs": [],
      "source": [
        "# Setup for Google Colab: Fetch datasets automatically or manually\n",
        "import os\n",
        "from google.colab import files\n",
        "\n",
        "# Define the module and dataset for this notebook\n",
        "MODULE = '01_infrastructure'\n",
        "DATASET = 'hippo_diets.csv'\n",
        "DATASET_PATH = os.path.join('data', DATASET)\n",
        "\n",
        "# Step 1: Attempt to clone the repository (automatic method)\n",
        "try:\n",
        "    print('Attempting to clone repository...')\n",
        "    !git clone https://github.com/ggkuhnle/data-analysis-toolkit-FNS.git\n",
        "    os.chdir(f'/content/data-analysis-toolkit-FNS/notebooks/{MODULE}')\n",
        "    if os.path.exists(DATASET_PATH):\n",
        "        print(f'Dataset found: {DATASET_PATH} \ud83e\udd9b')\n",
        "    else:\n",
        "        print(f'Error: Dataset {DATASET} not found after cloning.')\n",
        "        raise FileNotFoundError\n",
        "except Exception as e:\n",
        "    print(f'Cloning failed: {e}')\n",
        "    print('Falling back to manual upload option...')\n",
        "\n",
        "    # Step 2: Manual upload option\n",
        "    print(f'Please upload {DATASET} manually.')\n",
        "    print(f'1. Click the \"Choose Files\" button below.')\n",
        "    print(f'2. Select {DATASET} from your local machine.')\n",
        "    print(f'3. Ensure the file is placed in notebooks/{MODULE}/data/')\n",
        "    \n",
        "    # Create the data directory if it doesn't exist\n",
        "    os.makedirs('data', exist_ok=True)\n",
        "    \n",
        "    # Prompt user to upload the dataset\n",
        "    uploaded = files.upload()\n",
        "    \n",
        "    # Check if the dataset was uploaded\n",
        "    if DATASET in uploaded:\n",
        "        with open(DATASET_PATH, 'wb') as f:\n",
        "            f.write(uploaded[DATASET])\n",
        "        print(f'Successfully uploaded {DATASET} to {DATASET_PATH} \ud83e\udd9b')\n",
        "    else:\n",
        "        raise FileNotFoundError(f'Upload failed. Please ensure you uploaded {DATASET}.')\n",
        "\n",
        "# Install required packages for this notebook\n",
        "%pip install pandas numpy\n",
        "print('Python environment ready.')"
      ]
    },
    {
      "cell_type": "markdown",
      "id": "setup",
      "metadata": {},
      "source": [
        "## Setting Up Git\n",
        "\n",
        "Install Git locally or use a cloud platform like GitHub. Run the following in a terminal (not Python):\n",
        "\n",
        "```bash\n",
        "git --version  # Check Git installation\n",
        "git config --global user.name \"Your Name\"\n",
        "git config --global user.email \"your.email@example.com\"\n",
        "```"
      ]
    },
    {
      "cell_type": "markdown",
      "id": "exercise",
      "metadata": {},
      "source": [
        "## Exercise 1: Create a Repository\n",
        "\n",
        "Create a local Git repository and commit a sample file. Follow these steps in a terminal:\n",
        "\n",
        "1. Create a directory: `mkdir my-nutrition-repo`\n",
        "2. Navigate: `cd my-nutrition-repo`\n",
        "3. Initialise: `git init`\n",
        "4. Create a file: `echo \"# Nutrition Notes\" > README.md`\n",
        "5. Stage: `git add README.md`\n",
        "6. Commit: `git commit -m \"Initial commit\"`\n",
        "\n",
        "Document your experience in a Markdown cell.\n",
        "\n",
        "**Guidance**: Note any errors or successes."
      ]
    },
    {
      "cell_type": "markdown",
      "id": "your_answer",
      "metadata": {},
      "source": [
        "**Answer**:\n",
        "\n",
        "I created the repository by..."
      ]
    },
    {
      "cell_type": "markdown",
      "id": "wrap",
      "metadata": {},
      "source": [
        "## Conclusion\n",
        "\n",
        "You\u2019ve learned the basics of Git for version control. Practise these skills to manage your nutrition data projects.\n",
        "\n",
        "**Next Steps**: Explore Quarto for reproducible documents in 1.4.\n",
        "\n",
        "**Resources**:\n",
        "- [Git Documentation](https://git-scm.com/doc)\n",
        "- [GitHub Guides](https://guides.github.com/)\n",
        "- Repository: [github.com/ggkuhnle/data-analysis-toolkit-FNS](https://github.com/ggkuhnle/data-analysis-toolkit-FNS)"
      ]
    }
  ],
  "metadata": {
    "kernelspec": {
      "display_name": "Python 3",
      "language": "python",
      "name": "python3"
    },
    "language_info": {
      "codemirror_mode": {
        "name": "ipython",
        "version": 3
      },
      "file_extension": ".py",
      "mimetype": "text/x-python",
      "name": "python",
      "nbconvert_exporter": "python",
      "pygments_lexer": "ipython3",
      "version": "3.9.7"
    }
  },
  "nbformat": 4,
  "nbformat_minor": 5
}