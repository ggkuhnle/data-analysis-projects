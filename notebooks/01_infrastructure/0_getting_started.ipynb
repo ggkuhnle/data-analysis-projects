{
 "cells": [
  {
   "cell_type": "markdown",
   "id": "intro",
   "metadata": {
    "tags": []
   },
   "source": [
    "# 👩‍💻 Notebook 0 – Getting Started\n",
    "\n",
    "Welcome to the **Data Analysis Toolkit for Food and Nutrition Sciences**!  \n",
    "Before we dive into exciting topics like nutrient analysis and clinical trials, it’s essential to set up a working environment you can rely on.\n",
    "\n",
    "---\n",
    "\n",
    "## 🎯 Objectives\n",
    "\n",
    "By the end of this notebook, you will:\n",
    "\n",
    "- Understand the different ways you can run Python (locally or online)\n",
    "- Set up and verify your Python environment\n",
    "- Install the required libraries\n",
    "- Test everything with a simple example"
   ]
  },
  {
   "cell_type": "markdown",
   "id": "55473459",
   "metadata": {
    "tags": []
   },
   "source": [
    "# 🐍 What is Python?\n",
    "\n",
    "Python is a **programming language** — a way of giving instructions to a computer.  \n",
    "It's widely used in data science, web development, automation, and more.\n",
    "\n",
    "In this course, we use Python to:\n",
    "- Read and clean nutrition datasets\n",
    "- Calculate statistics and visualise trends\n",
    "- Build simple models and make predictions\n",
    "\n",
    "Python is known for being:\n",
    "- **Readable** 📝 – Code looks a lot like English\n",
    "- **Flexible** 🔧 – You can use it for almost anything\n",
    "- **Popular** 🌍 – There’s a huge community and lots of free resources\n",
    "\n",
    "---\n",
    "\n",
    "<details>\n",
    "<summary>📘 Click to expand: More about Python (for curious minds)</summary>\n",
    "\n",
    "### 🧠 Why is it called Python?\n",
    "\n",
    "Python is named after the comedy group *Monty Python*, not the snake.  \n",
    "You’ll often see silly or creative examples in the Python community – it’s part of the charm!\n",
    "\n",
    "### 🧰 What can Python do?\n",
    "\n",
    "Beyond data analysis, Python can also:\n",
    "- Power websites (e.g. Instagram, Reddit)\n",
    "- Control robots and IoT devices\n",
    "- Train machine learning models\n",
    "- Automate repetitive tasks (e.g. renaming files)\n",
    "\n",
    "### 🔄 What does Python code look like?\n",
    "\n",
    "```python\n",
    "# This is Python code!\n",
    "name = \"hippo\"\n",
    "print(f\"Hello, {name}!\")\n",
    "```\n",
    "\n",
    "### 📎 Want to explore more?\n",
    "\n",
    "- [Python for Beginners (python.org)](https://www.python.org/about/gettingstarted/)\n",
    "- [What is Python? (realpython.com)](https://realpython.com/what-is-python/)\n",
    "- [Python Crash Course (Google Colab)](https://colab.research.google.com/github/jakevdp/PythonDataScienceHandbook/blob/master/notebooks/00.00-Preface.ipynb)\n",
    "\n",
    "</details>\n"
   ]
  },
  {
   "cell_type": "markdown",
   "id": "803e40a1",
   "metadata": {
    "tags": []
   },
   "source": [
    "## 🌍 Running Python: Your Options\n",
    "\n",
    "There are two common ways to run Python for data analysis:\n",
    "\n",
    "### 🖥️ 1. **Local installation**\n",
    "You install Python, Jupyter, and other libraries directly on your computer. This gives you full control and works well for advanced users.\n",
    "\n",
    "### ☁️ 2. **Google Colab (Recommended for beginners)**\n",
    "This free, web-based platform runs Python in the cloud — no installation required.\n",
    "\n",
    "- It's ideal for beginners or anyone working on shared machines (e.g. university PCs).\n",
    "- All you need is a Google account.\n",
    "\n",
    "We'll design this toolkit to work **seamlessly in Google Colab**, but you can also download and run it locally if you prefer.\n"
   ]
  },
  {
   "cell_type": "markdown",
   "id": "7e06147d",
   "metadata": {
    "tags": []
   },
   "source": [
    "## 🔍 What is a Python \"environment\"?\n",
    "\n",
    "A Python environment is a collection of installed tools and packages. Think of it as your lab bench:\n",
    "\n",
    "- Python is the bench itself.\n",
    "- Packages like `pandas`, `numpy`, and `matplotlib` are your tools.\n",
    "- You can create custom environments to keep tools separate for different projects.\n",
    "\n",
    "Colab already provides a pre-configured environment — we'll just add a few extra tools.\n",
    "\n",
    "\n",
    "<details>\n",
    "<summary>🦛</summary>\n",
    "\n",
    "Just like a hippo needs the right waterhole to cool off, you need the right environment to analyse your data comfortably. Let’s get you set up!\n",
    "</details>\n"
   ]
  },
  {
   "cell_type": "markdown",
   "id": "20cc3274",
   "metadata": {
    "tags": []
   },
   "source": [
    "## 📂 Loading Data: Different Ways to Do It\n",
    "\n",
    "Before we begin analysing data, we need to **load it into our Python environment**.\n",
    "\n",
    "There are a few common ways to do this in Colab or Jupyter:\n",
    "\n",
    "### 🧳 Option 1: Load from the Internet (Recommended)\n",
    "If your data is stored in a GitHub repository (like this project), you can automatically download and use it in Google Colab.  \n",
    "This is great because:\n",
    "\n",
    "- You don’t need to upload files manually\n",
    "- Everyone in your group sees the same structure\n",
    "\n",
    "We’ll start by trying to **clone the whole GitHub repository**, just like downloading a suitcase full of datasets and notebooks.\n",
    "\n",
    "### 📁 Option 2: Upload Manually\n",
    "If cloning fails or you're using your own file, you can upload it manually from your computer.  \n",
    "This is helpful if:\n",
    "\n",
    "- You're working with private data\n",
    "- You're just testing out a quick idea\n",
    "\n",
    "<details>\n",
    "<summary>🦛</summary>\n",
    "\n",
    "Think of it like this:\n",
    "\n",
    "- The GitHub repository is your **shared hippo pantry**\n",
    "- Uploading a file manually is like **bringing your own snacks**\n",
    "</details>\n",
    "\n",
    "We'll now run a code cell that first **tries the automatic method**, and falls back to manual upload if needed.  \n",
    "Don’t worry — it explains everything along the way!\n"
   ]
  },
  {
   "cell_type": "code",
   "execution_count": null,
   "id": "colab_setup",
   "metadata": {
    "tags": []
   },
   "outputs": [],
   "source": [
    "# Setup for Google Colab: Fetch datasets automatically or manually\n",
    "import os\n",
    "from google.colab import files\n",
    "\n",
    "# Define the module and dataset for this notebook\n",
    "MODULE = '01_infrastructure'  # e.g., '01_infrastructure'\n",
    "DATASET = 'hippo_diets.csv'  # e.g., 'hippo_diets.csv'\n",
    "BASE_PATH = '/content/data-analysis-projects'\n",
    "MODULE_PATH = os.path.join(BASE_PATH, 'notebooks', MODULE)\n",
    "DATASET_PATH = os.path.join('data', DATASET)\n",
    "\n",
    "# Step 1: Attempt to clone the repository (automatic method)\n",
    "# Note: If you encounter a cloning error (e.g., 'fatal: destination path already exists'),\n",
    "#       reset the runtime (Runtime > Restart runtime) and run this cell again.\n",
    "try:\n",
    "    print('Attempting to clone repository...')\n",
    "    if os.path.exists(BASE_PATH):\n",
    "        print('Repository already exists, skipping clone.')\n",
    "    else:\n",
    "        !git clone https://github.com/ggkuhnle/data-analysis-projects.git\n",
    "    \n",
    "    # Debug: Print directory structure\n",
    "    print('Listing repository contents:')\n",
    "    !ls {BASE_PATH}\n",
    "    print(f'Listing notebooks directory contents:')\n",
    "    !ls {BASE_PATH}/notebooks\n",
    "    \n",
    "    # Check if the module directory exists\n",
    "    if not os.path.exists(MODULE_PATH):\n",
    "        raise FileNotFoundError(f'Module directory {MODULE_PATH} not found. Check the repository structure.')\n",
    "    \n",
    "    # Set working directory to the notebook's folder\n",
    "    os.chdir(MODULE_PATH)\n",
    "    \n",
    "    # Verify dataset is accessible\n",
    "    if os.path.exists(DATASET_PATH):\n",
    "        print(f'Dataset found: {DATASET_PATH} 🦛')\n",
    "    else:\n",
    "        print(f'Error: Dataset {DATASET} not found after cloning.')\n",
    "        raise FileNotFoundError\n",
    "except Exception as e:\n",
    "    print(f'Cloning failed: {e}')\n",
    "    print('Falling back to manual upload option...')\n",
    "\n",
    "    # Step 2: Manual upload option\n",
    "    print(f'Please upload {DATASET} manually.')\n",
    "    print(f'1. Click the \"Choose Files\" button below.')\n",
    "    print(f'2. Select {DATASET} from your local machine.')\n",
    "    print(f'3. Ensure the file is placed in notebooks/{MODULE}/data/')\n",
    "    \n",
    "    # Create the data directory if it doesn't exist\n",
    "    os.makedirs('data', exist_ok=True)\n",
    "    \n",
    "    # Prompt user to upload the dataset\n",
    "    uploaded = files.upload()\n",
    "    \n",
    "    # Check if the dataset was uploaded\n",
    "    if DATASET in uploaded:\n",
    "        with open(DATASET_PATH, 'wb') as f:\n",
    "            f.write(uploaded[DATASET])\n",
    "        print(f'Successfully uploaded {DATASET} to {DATASET_PATH} 🦛')\n",
    "    else:\n",
    "        raise FileNotFoundError(f'Upload failed. Please ensure you uploaded {DATASET}.')\n",
    "\n",
    "# Install required packages for this notebook\n",
    "%pip install pandas numpy\n",
    "print('Python environment ready.')"
   ]
  },
  {
   "cell_type": "markdown",
   "id": "54023870",
   "metadata": {
    "tags": []
   },
   "source": [
    "## 📦 Installing and Using Python Packages\n",
    "\n",
    "Python is powerful, but it doesn’t come with everything built-in.  \n",
    "That’s where **packages** come in — they’re like apps you install to give Python superpowers!\n",
    "\n",
    "---\n",
    "\n",
    "### 🛠️ What is a package?\n",
    "\n",
    "A package is a collection of code written by others that you can reuse in your own projects.\n",
    "\n",
    "Think of them as:\n",
    "\n",
    "- 🧰 Specialised tools you add to your data analysis workbench\n",
    "- 📚 Cheat codes that help you do complex things with just a few lines\n",
    "\n",
    "---\n",
    "\n",
    "### 📦 In this notebook, we’ll install and use:\n",
    "\n",
    "- **`pandas`** – Makes working with data tables easy, like using a spreadsheet in Python\n",
    "- **`numpy`** – Adds powerful maths and statistics tools (great for calculations!)\n",
    "- **`matplotlib`** – Lets you create simple graphs and plots\n",
    "\n",
    "We’ll use `%pip install` to make sure these are available in your current environment.  \n",
    "(In Google Colab, `%pip` works just like the normal terminal command `pip` but runs inside the notebook.)\n",
    "\n",
    "---\n",
    "\n",
    "<details>\n",
    "<summary>🦛</summary> \n",
    "*Even hippos appreciate the right tools for the job — let’s load ours!*</details>\n"
   ]
  },
  {
   "cell_type": "code",
   "execution_count": null,
   "id": "setup",
   "metadata": {
    "tags": []
   },
   "outputs": [
    {
     "name": "stdout",
     "output_type": "stream",
     "text": [
      "Your data analysis environment is ready!\n"
     ]
    }
   ],
   "source": [
    "# Install core packages\n",
    "%pip install pandas numpy matplotlib  # For Colab users\n",
    "import pandas as pd\n",
    "import numpy as np\n",
    "import matplotlib.pyplot as plt\n",
    "print('Your data analysis environment is ready!')"
   ]
  },
  {
   "cell_type": "markdown",
   "id": "test",
   "metadata": {
    "tags": []
   },
   "source": [
    "## ✅ Test Your Setup\n",
    "\n",
    "Let’s check that:\n",
    "\n",
    "- Your Python environment works\n",
    "- Required packages are installed\n",
    "- You can read a file and make a plot\n",
    "\n",
    "We'll use a small dataset called `hippo_diets.csv`, which contains sample records from a fictional hippo nutrition study. 🦛\n",
    "\n",
    "---\n",
    "\n",
    "### 📚 What will this code do?\n",
    "\n",
    "1. **Read a CSV file**  \n",
    "   We use `pd.read_csv()` to load the dataset into a `DataFrame` — a special table-like structure in Python that’s great for analysis.\n",
    "\n",
    "2. **Print the first row**  \n",
    "   This lets us quickly check that the data loaded correctly.\n",
    "\n",
    "3. **Make a scatter plot**  \n",
    "   We’ll plot `Calories` vs `Protein` to get a feel for the data.\n",
    "\n"
   ]
  },
  {
   "cell_type": "code",
   "execution_count": null,
   "id": "test_load",
   "metadata": {
    "tags": []
   },
   "outputs": [
    {
     "name": "stdout",
     "output_type": "stream",
     "text": [
      "   ID  Calories  Protein        Date\n",
      "0  H1      2500     80.5  2024-01-01\n"
     ]
    }
   ],
   "source": [
    "df = pd.read_csv('data/hippo_diets.csv')\n",
    "print(df.head(1))\n",
    "plt.scatter(df['Calories'], df['Protein'])\n",
    "plt.xlabel('Calories')\n",
    "plt.ylabel('Protein (g)')\n",
    "plt.title('Sample Hippo Diet Data')\n",
    "plt.show()"
   ]
  },
  {
   "cell_type": "markdown",
   "id": "wrap",
   "metadata": {
    "tags": []
   },
   "source": [
    "## ✅ Conclusion\n",
    "\n",
    "🎉 **Success!** You’ve verified that your Python environment is working properly:\n",
    "\n",
    "- ✅ You’ve installed key packages  \n",
    "- ✅ Loaded your first dataset  \n",
    "- ✅ Created a simple visualisation\n",
    "\n",
    "You're now fully set up and ready to begin exploring data in the exciting world of food and nutrition science. 🦛\n",
    "\n",
    "---\n",
    "\n",
    "### 🚀 What’s Next?\n",
    "\n",
    "Head to **Notebook 1.1** to begin your journey into data science environments — you’ll learn how to think like a data scientist and explore how we actually work with data.\n",
    "\n",
    "---\n",
    "\n",
    "### 📚 Helpful Resources\n",
    "\n",
    "- 🔧 [Install Anaconda (for local setup)](https://www.anaconda.com/products/distribution)  \n",
    "- ☁️ [Google Colab Documentation](https://colab.research.google.com/)  \n",
    "- 📦 [Course Repository on GitHub](https://github.com/ggkuhnle/data-analysis-projects)\n"
   ]
  }
 ],
 "metadata": {
  "kernelspec": {
   "display_name": "Python 3",
   "language": "python",
   "name": "python3"
  },
  "language_info": {
   "name": "python"
  }
 },
 "nbformat": 4,
 "nbformat_minor": 5
}