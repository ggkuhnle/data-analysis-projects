{
 "cell_type": "markdown",
 "source": [
  "# 🧱 2.1 Syntax, Variables, and Comments\n",
  "\n",
  "Howdy, data wrangler! 🦛 Let’s learn Python basics to track hippo diets. Syntax is your recipe card, variables store ingredients, and comments keep notes.\n",
  "\n",
  "**What we’ll cover**:\n",
  "- **Syntax**: Python’s grammar rules.\n",
  "- **Variables**: Store nutrient data.\n",
  "- **Comments**: Notes for your future self.\n",
  "\n",
  "**Exercise**: Print a hippo’s diet summary!"
 ]
},
{
 "cell_type": "code",
 "source": [
  "hippo_id = 'H1'\n",
  "hippo_protein = 80.5  # Grams per day\n",
  "print(f'Howdy, Hippo {hippo_id}! Your protein is {hippo_protein} g.')"
 ]
}
