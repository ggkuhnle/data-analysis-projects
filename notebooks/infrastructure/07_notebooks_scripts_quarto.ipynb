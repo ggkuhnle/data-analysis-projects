{
 "cells": [
  {
   "cell_type": "markdown",
   "id": "2376363f",
   "metadata": {},
   "source": [
    "# 🧾 Notebooks, Scripts, Markdown, or Quarto?\n",
    "\n",
    "Pick the right tool for your task: teaching, analysis, documentation, publishing.\n",
    "\n",
    "## 💡 Basic View\n",
    "\n",
    "- Notebook: step-by-step analysis\n",
    "- Script: automated, repeatable\n",
    "- Markdown: notes and text\n",
    "- Quarto: combine all + publish\n",
    "\n",
    "## 🔍 Advanced View\n",
    "\n",
    "<details><summary>Click to expand</summary>\n",
    "\n",
    "- Quarto for reproducible workflows\n",
    "- Code–text separation and best practices\n",
    "- Markdown extensions for documentation\n",
    "\n",
    "</details>\n",
    "\n",
    "## 🧪 Exercises\n",
    "\n",
    "1. Create a Markdown cell and write a heading, bullet list, and italic text.\n",
    "2. Export a notebook to HTML using Colab or Jupyter.\n",
    "3. Optional: install Quarto and try converting a `.qmd` to HTML or PDF.\n"
   ]
  }
 ],
 "metadata": {},
 "nbformat": 4,
 "nbformat_minor": 5
}
