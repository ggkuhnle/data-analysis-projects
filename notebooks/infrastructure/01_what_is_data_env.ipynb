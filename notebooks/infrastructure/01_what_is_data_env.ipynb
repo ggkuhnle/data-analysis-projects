{
 "cells": [
  {
   "cell_type": "markdown",
   "id": "7aaa4e7f",
   "metadata": {},
   "source": [
    "# 🌍 What is a Data Science Environment?\n",
    "\n",
    "Welcome! In this notebook, we explore what a **data science environment** is — and why setting up the right tools can make your work easier, cleaner, and more reproducible.\n"
   ]
  },
  {
   "cell_type": "markdown",
   "id": "8f58da82",
   "metadata": {},
   "source": [
    "## 💡 Basic View\n",
    "\n",
    "A **data environment** is a combination of:\n",
    "\n",
    "- Software: Python, Jupyter, Excel, R\n",
    "- Tools: Notebooks, scripts, version control\n",
    "- Data: CSVs, spreadsheets, databases\n",
    "- Workflows: Reproducible steps, documented processes\n",
    "\n",
    "Think of it like your lab bench in a research lab. You need the right tools, a clean space, and a way to document what you've done.\n"
   ]
  },
  {
   "cell_type": "markdown",
   "id": "a8088c29",
   "metadata": {},
   "source": [
    "### Why this matters\n",
    "\n",
    "If you use Excel and manually delete a row or overwrite a number, the change is *gone*. There is no record of it unless you create backup files (e.g. `final_final_02.xlsx` 🙃).\n",
    "\n",
    "With Python, your steps are scripted. Anyone (including future-you) can run the same script and get the same output.\n"
   ]
  },
  {
   "cell_type": "code",
   "execution_count": null,
   "id": "8c73fcd5",
   "metadata": {},
   "outputs": [],
   "source": [
    "# Example: A small data cleaning script\n",
    "import pandas as pd\n",
    "\n",
    "df = pd.DataFrame({\n",
    "    \"Name\": [\"Hippo\", \"Giraffe\", \"Elephant\"],\n",
    "    \"Weight_kg\": [1500, 900, 3000]\n",
    "})\n",
    "\n",
    "# Keep only animals heavier than 1000 kg\n",
    "df = df[df[\"Weight_kg\"] > 1000]\n",
    "df"
   ]
  },
  {
   "cell_type": "markdown",
   "id": "c3b3d679",
   "metadata": {},
   "source": [
    "This script tells you **what** was done — filtering animals above 1000 kg — and you can re-run it whenever needed.\n",
    "\n",
    "It also produces the same result each time, unlike an unlogged Excel edit.\n"
   ]
  },
  {
   "cell_type": "markdown",
   "id": "e0c527df",
   "metadata": {},
   "source": [
    "## 🔍 Advanced View\n",
    "\n",
    "<details><summary>Click to expand advanced concepts</summary>\n",
    "\n",
    "### IDEs and Notebooks\n",
    "\n",
    "- **IDE** = Integrated Development Environment (e.g. VS Code, PyCharm)\n",
    "- **Notebook** = An interactive document with code + output + explanation (like this one)\n",
    "\n",
    "### Environments\n",
    "\n",
    "- Use `venv` or `conda` to create clean environments\n",
    "- Avoid package conflicts and make your analysis portable\n",
    "\n",
    "### Versioning and Reproducibility\n",
    "\n",
    "- Use Git to track changes to code and notebooks\n",
    "- Document your workflow with Quarto or Markdown\n",
    "\n",
    "</details>\n"
   ]
  },
  {
   "cell_type": "markdown",
   "id": "bd46bcac",
   "metadata": {},
   "source": [
    "## 🧪 Exercises\n",
    "\n",
    "1. In your own words, describe what a data environment is.\n",
    "2. Try modifying the Python script above to use 2000 kg as the filter.\n",
    "3. Optional: Open a CSV in Excel, change a number, and ask: “Can I undo this tomorrow?”\n"
   ]
  }
 ],
 "metadata": {},
 "nbformat": 4,
 "nbformat_minor": 5
}
