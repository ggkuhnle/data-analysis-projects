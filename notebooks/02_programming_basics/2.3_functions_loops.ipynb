{
  "cells": [
    {
      "cell_type": "markdown",
      "id": "intro",
      "metadata": {},
      "source": [
        "# 🚀 2.3 Functions, Loops, and Control Flow in Python\n",
        "\n",
        "This notebook introduces three fundamental programming concepts in Python that will help you write **efficient**, **readable**, and **reusable** code for data analysis in nutrition and food science:\n",
        "\n",
        "- **Functions**: Reusable blocks of code that perform a specific task\n",
        "- **Loops**: Structures that repeat actions, especially over data\n",
        "- **Conditionals**: Logic structures that help your code make decisions (e.g. if a nutrient value is too high or low)\n",
        "\n",
        "---\n",
        "\n",
        "## 🧠 Why These Concepts Matter\n",
        "\n",
        "Without these tools, you’d have to write the same code over and over. Instead, you can:\n",
        "- Use **functions** to wrap a task and reuse it whenever needed.\n",
        "- Use **loops** to apply actions across a dataset.\n",
        "- Use **if/else** to act differently depending on the situation.\n",
        "\n",
        "For example, you might want to:\n",
        "- Convert calories to kilojoules for all hippos in a dataset.\n",
        "- Calculate the percentage of nutrient reference intake.\n",
        "- Flag hippos with low calcium intake.\n",
        "\n",
        "---"
      ]
    },
    {
      "cell_type": "markdown",
      "id": "functions",
      "metadata": {},
      "source": [
        "## 🧪 What Is a Function in Python?\n",
        "\n",
        "A **function** in Python is a named block of reusable code that performs a specific task. Think of it like a *mini-program* within your programme. Functions help you **organise**, **reuse**, and **simplify** your code—especially useful when analysing large nutrition datasets or performing repetitive tasks (like unit conversions or calculations for every participant).\n",
        "\n",
        "### 🧭 Why Use Functions?\n",
        "\n",
        "- ✅ **Avoid repetition**: Write code once, use it many times.\n",
        "- ✅ **Make code clearer**: Logical blocks are easier to understand.\n",
        "- ✅ **Support teamwork**: Functions allow modularity—team members can focus on specific tasks.\n",
        "- ✅ **Enable testing and debugging**: You can test individual functions to ensure they behave as expected.\n",
        "\n",
        "---\n",
        "\n",
        "### 🧰 Defining a Function"
      ]
    },
    {
      "cell_type": "code",
      "execution_count": null,
      "id": "78c6d3d0",
      "metadata": {},
      "outputs": [],
      "source": [
        "def greet():\n",
        "    \"\"\"This function prints a greeting.\"\"\"\n",
        "    print(\"Hello, hippo!\")"
      ]
    },
    {
      "cell_type": "markdown",
      "id": "4a9deae6",
      "metadata": {},
      "source": [
        "To use it, you call the function by name with `()`:"
      ]
    },
    {
      "cell_type": "code",
      "execution_count": null,
      "id": "bbdecb1c",
      "metadata": {},
      "outputs": [],
      "source": [
        "greet()"
      ]
    },
    {
      "cell_type": "markdown",
      "id": "3e1270e4",
      "metadata": {},
      "source": [
        "---\n",
        "\n",
        "### 📦 Functions with Inputs (Arguments)\n",
        "\n",
        "You can pass **inputs** into functions—these are called **arguments**. For example, to create a function that greets a specific hippo by ID:"
      ]
    },
    {
      "cell_type": "code",
      "execution_count": null,
      "id": "b867738b",
      "metadata": {},
      "outputs": [],
      "source": [
        "def greet_hippo(hippo_id):\n",
        "    \"\"\"Greets a hippo by ID.\"\"\"\n",
        "    print(f\"Hello, Hippo {hippo_id}!\")"
      ]
    },
    {
      "cell_type": "markdown",
      "id": "8958b45a",
      "metadata": {},
      "source": [
        "Then call it like this:"
      ]
    },
    {
      "cell_type": "code",
      "execution_count": null,
      "id": "1359986f",
      "metadata": {},
      "outputs": [],
      "source": [
        "greet_hippo(\"H3\")"
      ]
    },
    {
      "cell_type": "markdown",
      "id": "2489c9c9",
      "metadata": {},
      "source": [
        "---\n",
        "\n",
        "### 🎯 Functions That Return Values\n",
        "\n",
        "Some functions do a calculation and **return a result** using the `return` keyword:"
      ]
    },
    {
      "cell_type": "code",
      "execution_count": null,
      "id": "f185a8e1",
      "metadata": {},
      "outputs": [],
      "source": [
        "def nutrient_percentage(intake, reference):\n",
        "    \"\"\"Returns intake as a percentage of reference.\"\"\"\n",
        "    return round((intake / reference) * 100, 1)"
      ]
    },
    {
      "cell_type": "markdown",
      "id": "a0ea399e",
      "metadata": {},
      "source": [
        "Calling this function:"
      ]
    },
    {
      "cell_type": "code",
      "execution_count": null,
      "id": "f4312fad",
      "metadata": {},
      "outputs": [],
      "source": [
        "result = nutrient_percentage(8.2, 15)\n",
        "print(result)  # 54.7"
      ]
    },
    {
      "cell_type": "markdown",
      "id": "2fb02fe1",
      "metadata": {},
      "source": [
        "---\n",
        "\n",
        "### 📘 What Is a Docstring?\n",
        "\n",
        "A **docstring** is a special comment enclosed in triple quotes `\"\"\"` that explains what the function does, its inputs, and output. These appear when using `help()` and are best practice in well-written code:"
      ]
    },
    {
      "cell_type": "code",
      "execution_count": null,
      "id": "65b0afad",
      "metadata": {},
      "outputs": [],
      "source": [
        "def calculate_bmi(weight, height):\n",
        "    \"\"\"\n",
        "    Calculates Body Mass Index (BMI).\n",
        "    \n",
        "    Args:\n",
        "        weight (float): Weight in kilograms.\n",
        "        height (float): Height in meters.\n",
        "        \n",
        "    Returns:\n",
        "        float: BMI value\n",
        "    \"\"\"\n",
        "    return weight / (height ** 2)"
      ]
    },
    {
      "cell_type": "markdown",
      "id": "774a8a90",
      "metadata": {},
      "source": [
        "---\n",
        "\n",
        "### 🔒 Scope: Where Variables Exist\n",
        "\n",
        "Variables defined *inside* a function only exist while that function runs. This is called **local scope**."
      ]
    },
    {
      "cell_type": "code",
      "execution_count": null,
      "id": "6ba824fa",
      "metadata": {},
      "outputs": [],
      "source": [
        "def local_example():\n",
        "    x = 42  # This exists only inside the function\n",
        "    print(x)\n",
        "\n",
        "local_example()\n",
        "# print(x)  # ❌ This would give an error"
      ]
    },
    {
      "cell_type": "markdown",
      "id": "loops",
      "metadata": {},
      "source": [
        "\n",
        "# 🔁 Introduction to Loops in Python\n",
        "\n",
        "Loops are fundamental programming structures that allow you to **repeat actions** without writing the same code multiple times. In Python, loops are especially useful when dealing with **lists, datasets, or repeated calculations**, such as iterating over nutrient intake records.\n",
        "\n",
        "---\n",
        "\n",
        "## 🔄 What Is a Loop?\n",
        "\n",
        "A **loop** is a block of code that runs repeatedly based on a condition. Python primarily supports two types of loops:\n",
        "\n",
        "- `for` loops: Used to iterate over a sequence (like a list or string)\n",
        "- `while` loops: Repeats as long as a condition is `True`\n",
        "\n",
        "---\n",
        "\n",
        "## 🧪 Example: `for` Loop"
      ]
    },
    {
      "cell_type": "code",
      "execution_count": null,
      "id": "ce0bc00b",
      "metadata": {},
      "outputs": [],
      "source": [
        "hippos = ['H1', 'H2', 'H3']\n",
        "for hippo in hippos:\n",
        "    print(f\"Analysing data for hippo {hippo}\")"
      ]
    },
    {
      "cell_type": "markdown",
      "id": "95bb4eb9",
      "metadata": {},
      "source": [
        "### Explanation:\n",
        "- `hippos` is a list of values\n",
        "- The `for` loop processes each item one by one\n",
        "- The variable `hippo` takes on each value in the list, and the code inside the loop runs for each\n",
        "\n",
        "---\n",
        "\n",
        "## ⏳ Example: `while` Loop"
      ]
    },
    {
      "cell_type": "code",
      "execution_count": null,
      "id": "594010f6",
      "metadata": {},
      "outputs": [],
      "source": [
        "energy = 100\n",
        "while energy > 0:\n",
        "    print(f\"Energy remaining: {energy}\")\n",
        "    energy -= 20  # decrease energy"
      ]
    },
    {
      "cell_type": "markdown",
      "id": "953c9a07",
      "metadata": {},
      "source": [
        "### Explanation:\n",
        "- The loop runs **as long as** `energy > 0` is `True`\n",
        "- Each time it runs, it prints the energy level and reduces it by 20\n",
        "- Once `energy` reaches 0, the loop stops\n",
        "\n",
        "---\n",
        "\n",
        "## 🛠️ Loop Tools: `range()`, `enumerate()`, `zip()`\n",
        "\n",
        "### `range(start, stop, step)`  \n",
        "Generates a sequence of numbers."
      ]
    },
    {
      "cell_type": "code",
      "execution_count": null,
      "id": "e24f8b3a",
      "metadata": {},
      "outputs": [],
      "source": [
        "for i in range(1, 6):\n",
        "    print(f\"Day {i}\")"
      ]
    },
    {
      "cell_type": "markdown",
      "id": "03b2ce88",
      "metadata": {},
      "source": [
        "### `enumerate()`  \n",
        "Gives you both index and value during iteration."
      ]
    },
    {
      "cell_type": "code",
      "execution_count": null,
      "id": "cf31d41c",
      "metadata": {},
      "outputs": [],
      "source": [
        "foods = ['carrots', 'apples', 'hay']\n",
        "for index, item in enumerate(foods):\n",
        "    print(f\"{index}: {item}\")"
      ]
    },
    {
      "cell_type": "markdown",
      "id": "2e225002",
      "metadata": {},
      "source": [
        "### `zip()`  \n",
        "Combines two or more sequences into tuples."
      ]
    },
    {
      "cell_type": "code",
      "execution_count": null,
      "id": "03f158e1",
      "metadata": {},
      "outputs": [],
      "source": [
        "hippos = ['H1', 'H2']\n",
        "weights = [1500, 1600]\n",
        "for hippo, weight in zip(hippos, weights):\n",
        "    print(f\"Hippo {hippo} weighs {weight} kg\")"
      ]
    },
    {
      "cell_type": "markdown",
      "id": "conditionals",
      "metadata": {},
      "source": [
        "\n",
        "# 🔀 Introduction to Conditionals in Python\n",
        "\n",
        "In Python, **conditionals** are used to control the flow of your programme. They allow your code to make decisions—just like a hippo might decide whether to eat the carrot or the watermelon depending on the weather!\n",
        "\n",
        "## 🧠 What Are Conditionals?\n",
        "\n",
        "Conditionals check whether something is `True` or `False`. Based on the result, Python will execute a specific block of code. This allows your programme to behave differently under different circumstances.\n",
        "\n",
        "---\n",
        "\n",
        "## ✅ Basic Structure\n",
        "\n",
        "The most common keywords in conditional logic are:\n",
        "\n",
        "- `if`: checks a condition\n",
        "- `elif`: checks another condition if the previous one was `False`\n",
        "- `else`: runs if all previous conditions were `False`\n",
        "\n",
        "### 📦 Example"
      ]
    },
    {
      "cell_type": "code",
      "execution_count": null,
      "id": "37023618",
      "metadata": {},
      "outputs": [],
      "source": [
        "iron_intake = 6.5  # in mg\n",
        "\n",
        "if iron_intake < 8:\n",
        "    print(\"Iron intake is below recommended.\")\n",
        "elif iron_intake == 8:\n",
        "    print(\"Iron intake is exactly on target.\")\n",
        "else:\n",
        "    print(\"Iron intake exceeds recommendation.\")"
      ]
    },
    {
      "cell_type": "markdown",
      "id": "28bb5083",
      "metadata": {},
      "source": [
        "---\n",
        "\n",
        "## ⚠️ Indentation Matters\n",
        "\n",
        "Just like loops and functions, conditionals rely on **indentation** to define blocks of code. Each clause (if/elif/else) ends in a colon `:` and the block underneath must be indented."
      ]
    },
    {
      "cell_type": "code",
      "execution_count": null,
      "id": "647058c9",
      "metadata": {},
      "outputs": [],
      "source": [
        "calories = 2200\n",
        "\n",
        "if calories > 2500:\n",
        "    print(\"High energy intake\")\n",
        "else:\n",
        "    print(\"Within normal range\")"
      ]
    },
    {
      "cell_type": "markdown",
      "id": "eee22533",
      "metadata": {},
      "source": [
        "---\n",
        "\n",
        "## 🧪 Nested Conditionals\n",
        "\n",
        "You can also put one conditional inside another, though it's good practice to keep things readable."
      ]
    },
    {
      "cell_type": "code",
      "execution_count": null,
      "id": "606669c8",
      "metadata": {},
      "outputs": [],
      "source": [
        "protein = 60  # in grams\n",
        "\n",
        "if protein > 50:\n",
        "    if protein < 75:\n",
        "        print(\"Moderate protein intake\")\n",
        "    else:\n",
        "        print(\"High protein intake\")"
      ]
    },
    {
      "cell_type": "markdown",
      "id": "dcd17f37",
      "metadata": {},
      "source": [
        "---\n",
        "\n",
        "## 🐍 Pythonic Alternatives\n",
        "\n",
        "Sometimes, short decisions can be made with a **ternary expression**:"
      ]
    },
    {
      "cell_type": "code",
      "execution_count": null,
      "id": "47e926e1",
      "metadata": {},
      "outputs": [],
      "source": [
        "iron_intake = 6.5\n",
        "status = \"Low\" if iron_intake < 8 else \"OK\"\n",
        "print(status)"
      ]
    },
    {
      "cell_type": "markdown",
      "id": "bestpractice",
      "metadata": {},
      "source": [
        "\n",
        "## ✅ Conclusion: Tying It All Together\n",
        "\n",
        "Congratulations! You've now met three of Python’s most important programming tools:\n",
        "\n",
        "- **Functions**: reusable blocks of code that make your scripts cleaner and more modular  \n",
        "- **Loops**: ways to repeat actions efficiently without copy-pasting code  \n",
        "- **Conditionals**: decision-making logic that helps your programme respond to different situations  \n",
        "\n",
        "These are the core building blocks of any real-world data analysis. Whether you're calculating daily intakes for a herd of hippos 🦛, validating spreadsheet entries, or flagging unusual results, you'll use these tools again and again.\n",
        "\n",
        "Good programming, like good nutrition, is about balance, structure, and clarity.\n",
        "\n",
        "---\n",
        "\n",
        "<details>\n",
        "<summary>🌟 Advanced Insights (Click to expand)</summary>\n",
        "\n",
        "### 🧠 Lambda Functions (Anonymous Functions)\n",
        "Sometimes you just need a simple one-line function for quick tasks. Enter the `lambda` function:\n"
      ]
    },
    {
      "cell_type": "code",
      "execution_count": null,
      "id": "67a3af22",
      "metadata": {},
      "outputs": [],
      "source": [
        "double = lambda x: x * 2\n",
        "print(double(4))  # ➝ 8"
      ]
    },
    {
      "cell_type": "markdown",
      "id": "86e99aca",
      "metadata": {},
      "source": [
        "Very handy inside functions like `map()` or `filter()`.\n",
        "\n",
        "---\n",
        "\n",
        "### 🌀 List Comprehensions\n",
        "Loops can often be replaced with elegant one-liners:"
      ]
    },
    {
      "cell_type": "code",
      "execution_count": null,
      "id": "8e323a43",
      "metadata": {},
      "outputs": [],
      "source": [
        "calories = [2500, 2600, 2300]\n",
        "kilojoules = [c * 4.184 for c in calories]\n",
        "kilojoules"
      ]
    },
    {
      "cell_type": "markdown",
      "id": "21a6a3b5",
      "metadata": {},
      "source": [
        "\n",
        "---\n",
        "\n",
        "### 🔁 `while` Loops\n",
        "Besides `for`, you also have `while` loops, which run as long as a condition is true:"
      ]
    },
    {
      "cell_type": "code",
      "execution_count": null,
      "id": "9822e691",
      "metadata": {},
      "outputs": [],
      "source": [
        "x = 0\n",
        "while x < 5:\n",
        "    print(x)\n",
        "    x += 1"
      ]
    },
    {
      "cell_type": "markdown",
      "id": "d2902e05",
      "metadata": {},
      "source": [
        "\n",
        "---\n",
        "\n",
        "### ⚠️ Nested Logic and Complexity\n",
        "Watch out for overly complex nesting! If you have functions inside loops inside conditionals inside other functions... it’s probably time to break it up.\n",
        "\n",
        "</details>\n",
        "\n",
        "---\n",
        "\n",
        "👉 Up next: you'll dive into Python's **data structures**—lists, tuples, dictionaries, and sets—essential for organising and managing your nutrition data like a pro.\n"
      ]
    }
  ],
  "metadata": {
    "kernelspec": {
      "display_name": "Python 3",
      "language": "python",
      "name": "python3"
    },
    "language_info": {
      "name": "python"
    }
  },
  "nbformat": 4,
  "nbformat_minor": 5
}
