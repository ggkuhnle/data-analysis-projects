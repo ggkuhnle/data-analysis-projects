{
  "cells": [
    {
      "cell_type": "markdown",
      "id": "intro",
      "metadata": {},
      "source": [
        "# 📊 4.1 Data Distributions and Visualisation\n",
        "\n",
        "In this notebook we’ll explore the **shape** of our data and how to visualise it clearly. You’ll learn to create histograms, density plots, box/violin plots, Q–Q plots, and correlation visuals—and see when a **log transform** helps.\n",
        "\n",
        "We’ll use `vitamin_trial.csv` (a simulated trial dataset with vitamin D measurements).\n",
        "\n",
        "---\n",
        "## 🎯 Objectives\n",
        "- Visualise distributions (histogram, KDE/density, ECDF), and compare groups.\n",
        "- Use box/violin plots to summarise variation and outliers.\n",
        "- Check normality with **Q–Q plots** and **Shapiro–Wilk**.\n",
        "- Compare correlation **with and without log transforms**.\n",
        "- Interpret plots in the context of nutrition data.\n",
        "\n",
        "<details><summary>Useful references</summary>\n",
        "- [Seaborn: Distributions](https://seaborn.pydata.org/tutorial/distributions.html)\n",
        "- [Matplotlib: Hist](https://matplotlib.org/stable/api/_as_gen/matplotlib.pyplot.hist.html)\n",
        "- [statsmodels Q–Q plot](https://www.statsmodels.org/stable/generated/statsmodels.graphics.gofplots.qqplot.html)\n",
        "- [scipy.stats.shapiro](https://docs.scipy.org/doc/scipy/reference/generated/scipy.stats.shapiro.html)\n",
        "</details>"
      ]
    },
    {
      "cell_type": "code",
      "execution_count": null,
      "id": "colab_setup",
      "metadata": {},
      "outputs": [],
      "source": [
        "# Setup for Google Colab: Fetch datasets automatically or manually\n",
        "import os\n",
        "from google.colab import files\n",
        "\n",
        "MODULE = '04_data_analysis'\n",
        "DATASET = 'vitamin_trial.csv'\n",
        "BASE_PATH = '/content/data-analysis-projects'\n",
        "MODULE_PATH = os.path.join(BASE_PATH, 'notebooks', MODULE)\n",
        "DATASET_PATH = os.path.join('data', DATASET)\n",
        "\n",
        "try:\n",
        "    print('Attempting to clone repository...')\n",
        "    if not os.path.exists(BASE_PATH):\n",
        "        !git clone https://github.com/ggkuhnle/data-analysis-projects.git\n",
        "    print('Setting working directory...')\n",
        "    os.chdir(MODULE_PATH)\n",
        "    if os.path.exists(DATASET_PATH):\n",
        "        print(f'Dataset found: {DATASET_PATH} ✅')\n",
        "    else:\n",
        "        raise FileNotFoundError('Dataset missing after clone.')\n",
        "except Exception as e:\n",
        "    print(f'Cloning failed: {e}')\n",
        "    print('Falling back to manual upload...')\n",
        "    os.makedirs('data', exist_ok=True)\n",
        "    uploaded = files.upload()\n",
        "    if DATASET in uploaded:\n",
        "        with open(DATASET_PATH, 'wb') as f:\n",
        "            f.write(uploaded[DATASET])\n",
        "        print(f'Successfully uploaded {DATASET} ✅')\n",
        "    else:\n",
        "        raise FileNotFoundError(f'Upload failed. Please upload {DATASET}.')"
      ]
    },
    {
      "cell_type": "code",
      "execution_count": null,
      "id": "setup_libs",
      "metadata": {},
      "outputs": [],
      "source": [
        "%pip install -q pandas numpy matplotlib seaborn statsmodels scipy\n",
        "import pandas as pd\n",
        "import numpy as np\n",
        "import matplotlib.pyplot as plt\n",
        "import seaborn as sns\n",
        "import statsmodels.api as sm\n",
        "from scipy.stats import shapiro, pearsonr, spearmanr\n",
        "\n",
        "pd.set_option('display.max_columns', 50)\n",
        "sns.set_theme()\n",
        "print('Visualisation environment ready.')"
      ]
    },
    {
      "cell_type": "markdown",
      "id": "load_data",
      "metadata": {},
      "source": [
        "## 🔧 Load the Data and Inspect\n",
        "We’ll load `vitamin_trial.csv` and take a quick look at structure and the first few rows."
      ]
    },
    {
      "cell_type": "code",
      "execution_count": null,
      "id": "load_df",
      "metadata": {},
      "outputs": [],
      "source": [
        "df = pd.read_csv('data/vitamin_trial.csv')\n",
        "print('Shape:', df.shape)\n",
        "display(df.head())\n",
        "display(df.describe(include='all'))"
      ]
    },
    {
      "cell_type": "markdown",
      "id": "distros",
      "metadata": {},
      "source": [
        "## 📦 Distribution Plots\n",
        "We start with a single numeric variable, e.g. **Vitamin_D**.\n",
        "\n",
        "### Why distributions?\n",
        "- They reveal skewness, heavy tails, and outliers.\n",
        "- They inform transformations (e.g., **log** for right-skew).\n",
        "- They guide the choice of statistical model."
      ]
    },
    {
      "cell_type": "code",
      "execution_count": null,
      "id": "hist_kde_ecdf",
      "metadata": {},
      "outputs": [],
      "source": [
        "x = df['Vitamin_D'].dropna()\n",
        "\n",
        "fig, axes = plt.subplots(1, 3, figsize=(15, 4))\n",
        "\n",
        "# 1) Histogram\n",
        "axes[0].hist(x, bins=20, edgecolor='black')\n",
        "axes[0].set_title('Histogram: Vitamin_D')\n",
        "axes[0].set_xlabel('Vitamin_D (µg)')\n",
        "\n",
        "# 2) KDE / density\n",
        "sns.kdeplot(x=x, ax=axes[1])\n",
        "axes[1].set_title('KDE / Density: Vitamin_D')\n",
        "axes[1].set_xlabel('Vitamin_D (µg)')\n",
        "\n",
        "# 3) ECDF (empirical CDF)\n",
        "xs = np.sort(x.values)\n",
        "ys = np.arange(1, len(xs)+1) / len(xs)\n",
        "axes[2].plot(xs, ys, marker='.', linestyle='none')\n",
        "axes[2].set_title('ECDF: Vitamin_D')\n",
        "axes[2].set_xlabel('Vitamin_D (µg)')\n",
        "axes[2].set_ylabel('Proportion ≤ x')\n",
        "\n",
        "plt.tight_layout(); plt.show()"
      ]
    },
    {
      "cell_type": "markdown",
      "id": "groups_box_violin",
      "metadata": {},
      "source": [
        "## 🧪 Compare Groups (Box/Violin)\n",
        "Box and violin plots summarise spread and potential outliers; violin also shows the density shape. Let’s compare by **Group** (e.g. Control vs Treatment)."
      ]
    },
    {
      "cell_type": "code",
      "execution_count": null,
      "id": "box_violin",
      "metadata": {},
      "outputs": [],
      "source": [
        "fig, axes = plt.subplots(1, 2, figsize=(12, 4))\n",
        "sns.boxplot(data=df, x='Group', y='Vitamin_D', ax=axes[0])\n",
        "axes[0].set_title('Boxplot by Group')\n",
        "axes[0].set_ylabel('Vitamin_D (µg)')\n",
        "\n",
        "sns.violinplot(data=df, x='Group', y='Vitamin_D', inner='quartile', ax=axes[1])\n",
        "axes[1].set_title('Violin by Group (with quartiles)')\n",
        "axes[1].set_ylabel('Vitamin_D (µg)')\n",
        "\n",
        "plt.tight_layout(); plt.show()"
      ]
    },
    {
      "cell_type": "markdown",
      "id": "normality_checks",
      "metadata": {},
      "source": [
        "## 🌀 Normality Checks\n",
        "Some methods (e.g., classic t-tests, OLS regression) assume approximate normality of residuals or variables. Always **look at the data first**:\n",
        "- **Q–Q plots**: compare quantiles of your data to a normal distribution.\n",
        "- **Shapiro–Wilk test**: formal test (sensitive with large n).\n",
        "\n",
        "<details><summary>Learn more (click)</summary>\n",
        "- [statsmodels Q–Q plot](https://www.statsmodels.org/stable/generated/statsmodels.graphics.gofplots.qqplot.html)\n",
        "- [scipy.stats.shapiro](https://docs.scipy.org/doc/scipy/reference/generated/scipy.stats.shapiro.html)\n",
        "</details>"
      ]
    },
    {
      "cell_type": "code",
      "execution_count": null,
      "id": "qq_shapiro",
      "metadata": {},
      "outputs": [],
      "source": [
        "y = df['Vitamin_D'].dropna()\n",
        "\n",
        "# Q–Q plot (raw)\n",
        "plt.figure(figsize=(5,5))\n",
        "sm.qqplot(y, line='s')\n",
        "plt.title('Q–Q Plot (raw Vitamin_D)')\n",
        "plt.show()\n",
        "\n",
        "# Shapiro–Wilk\n",
        "stat, p = shapiro(y)\n",
        "print(f'Shapiro–Wilk (raw): statistic={stat:.3f}, p={p:.3g}')\n",
        "print('Interpretation: p<0.05 → reject normality; p≥0.05 → normality plausible.')"
      ]
    },
    {
      "cell_type": "markdown",
      "id": "log_transform_intro",
      "metadata": {},
      "source": [
        "### Log Transform (and Q–Q side-by-side)\n",
        "Right-skewed data often benefits from a log transform. If zeros are possible, add a small constant `ε` or shift the data. Here we’ll add a small `ε` safely."
      ]
    },
    {
      "cell_type": "code",
      "execution_count": null,
      "id": "qq_side_by_side",
      "metadata": {},
      "outputs": [],
      "source": [
        "eps = 1e-6\n",
        "y_log = np.log(y + eps)\n",
        "\n",
        "fig, axes = plt.subplots(1, 2, figsize=(10, 5))\n",
        "sm.qqplot(y, line='s', ax=axes[0])\n",
        "axes[0].set_title('Q–Q: raw Vitamin_D')\n",
        "sm.qqplot(y_log, line='s', ax=axes[1])\n",
        "axes[1].set_title('Q–Q: log(Vitamin_D)')\n",
        "plt.tight_layout(); plt.show()\n",
        "\n",
        "stat_l, p_l = shapiro(y_log)\n",
        "print(f'Shapiro–Wilk (log): statistic={stat_l:.3f}, p={p_l:.3g}')"
      ]
    },
    {
      "cell_type": "markdown",
      "id": "corr_intro",
      "metadata": {},
      "source": [
        "## 🔗 Correlations (with and without log transform)\n",
        "Correlations describe **linear** association (Pearson) or **monotonic** association (Spearman). Log transforms can straighten curved relationships and stabilise variance.\n",
        "\n",
        "We’ll build a small numeric frame and compare raw vs log correlations. (If your dataset has other numeric variables like `Time`, we’ll include them automatically.)"
      ]
    },
    {
      "cell_type": "code",
      "execution_count": null,
      "id": "corr_mats",
      "metadata": {},
      "outputs": [],
      "source": [
        "# Select numeric columns\n",
        "num = df.select_dtypes(include=[np.number]).copy()\n",
        "if 'Vitamin_D' in num.columns:\n",
        "    num['Vitamin_D_log'] = np.log(num['Vitamin_D'] + 1e-6)\n",
        "\n",
        "print('Numeric columns:', num.columns.tolist())\n",
        "\n",
        "# Pearson correlations\n",
        "corr_raw = num.corr(numeric_only=True, method='pearson')\n",
        "corr_spr = num.corr(numeric_only=True, method='spearman')\n",
        "\n",
        "fig, axes = plt.subplots(1, 2, figsize=(12, 4))\n",
        "sns.heatmap(corr_raw, annot=True, fmt='.2f', ax=axes[0])\n",
        "axes[0].set_title('Pearson correlation (raw/log)')\n",
        "sns.heatmap(corr_spr, annot=True, fmt='.2f', ax=axes[1])\n",
        "axes[1].set_title('Spearman correlation (raw/log)')\n",
        "plt.tight_layout(); plt.show()"
      ]
    },
    {
      "cell_type": "markdown",
      "id": "scatter_log_compare",
      "metadata": {},
      "source": [
        "### Scatter: Raw vs Log\n",
        "If you have another numeric variable (e.g., `Time`), compare the raw scatter with the log-transformed vitamin D to see whether a relationship becomes clearer."
      ]
    },
    {
      "cell_type": "code",
      "execution_count": null,
      "id": "scatter_reg",
      "metadata": {},
      "outputs": [],
      "source": [
        "if 'Time' in df.columns and np.issubdtype(df['Time'].dtype, np.number):\n",
        "    fig, axes = plt.subplots(1, 2, figsize=(12, 4))\n",
        "    sns.regplot(data=df, x='Time', y='Vitamin_D', ax=axes[0])\n",
        "    axes[0].set_title('Scatter (raw) with regression')\n",
        "    axes[0].set_ylabel('Vitamin_D (µg)')\n",
        "\n",
        "    sns.regplot(data=df.assign(Vitamin_D_log=np.log(df['Vitamin_D'] + 1e-6)),\n",
        "                x='Time', y='Vitamin_D_log', ax=axes[1])\n",
        "    axes[1].set_title('Scatter (log Vitamin_D) with regression')\n",
        "    axes[1].set_ylabel('log Vitamin_D')\n",
        "    plt.tight_layout(); plt.show()\n",
        "else:\n",
        "    print('No numeric Time variable found for scatter comparison.')"
      ]
    },
    {
      "cell_type": "markdown",
      "id": "interpretation_notes",
      "metadata": {},
      "source": [
        "## 📝 Interpretation Notes\n",
        "- **Hist/KDE/ECDF**: inspect skewness and tails. Heavy right tails often justify log transforms.\n",
        "- **Box/Violin**: compare groups; note outliers and differences in spread.\n",
        "- **Q–Q + Shapiro**: use plots first; tests can be overly sensitive with large samples.\n",
        "- **Correlations**: Pearson (linear) vs Spearman (rank/monotonic). Log transforms can reveal hidden linearity."
      ]
    },
    {
      "cell_type": "markdown",
      "id": "exercises",
      "metadata": {},
      "source": [
        "## 🧪 Exercises\n",
        "1. **Distribution by group**: Plot histograms (or KDEs) of Vitamin_D **by Group** (use `hue='Group'`), and describe differences.\n",
        "2. **Normality**: Produce Q–Q plots for each Group separately. Where is log helpful?\n",
        "3. **Correlation**: If `Time` exists, compute Pearson and Spearman correlations with Vitamin_D (raw vs log). Interpret differences.\n",
        "4. **Outliers**: Identify potential outliers (e.g., values beyond 1.5×IQR in boxplots). How would you handle them (justify, don’t just drop)?"
      ]
    },
    {
      "cell_type": "markdown",
      "id": "wrap",
      "metadata": {},
      "source": [
        "## ✅ Conclusion\n",
        "You’ve learned how to characterise distributions and assess normality using visual and formal tools, and how log transforms can clarify structure. You also compared correlations with and without log scaling.\n",
        "\n",
        "👉 Next: **4.2 Exploratory Data Analysis**—bring these tools together to form and test hypotheses.\n",
        "\n",
        "<details><summary>More reading</summary>\n",
        "- [Seaborn: Statistical estimation & plots](https://seaborn.pydata.org/)\n",
        "- [Matplotlib: Gallery](https://matplotlib.org/stable/gallery/index.html)\n",
        "- [statsmodels: Graphics GOF](https://www.statsmodels.org/stable/graphics.html)\n",
        "- [Scipy: Statistical functions](https://docs.scipy.org/doc/scipy/reference/stats.html)\n",
        "</details>"
      ]
    }
  ],
  "metadata": {
    "kernelspec": {
      "display_name": "Python 3",
      "language": "python",
      "name": "python3"
    },
    "language_info": {
      "name": "python"
    }
  },
  "nbformat": 4,
  "nbformat_minor": 5
}
