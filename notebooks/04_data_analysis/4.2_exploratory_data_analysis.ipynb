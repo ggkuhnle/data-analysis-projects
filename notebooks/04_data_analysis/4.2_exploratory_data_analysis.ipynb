{
  "cells": [
    {
      "cell_type": "markdown",
      "id": "intro",
      "metadata": {},
      "source": [
        "# 📊 4.2 Exploratory Data Analysis (EDA)\n",
        "\n",
        "Exploratory Data Analysis (EDA) is where we *look* before we *leap*. We’ll use `vitamin_trial.csv` to summarise, visualise, and question our data so later modelling steps are grounded in reality.\n",
        "\n",
        "---\n",
        "## 🎯 Objectives\n",
        "- Summarise data with descriptive statistics and tidy tables.\n",
        "- Visualise distributions (histograms, KDE/density, ECDF, box/violin).\n",
        "- Explore relationships (scatter/regression, pair plots, correlations).\n",
        "- Compare **raw vs log** views when data are skewed.\n",
        "- Apply EDA to `vitamin_trial.csv` and write brief, evidence-based observations.\n",
        "\n",
        "<details><summary>Why EDA matters</summary>\n",
        "EDA reveals data quality issues (missingness, outliers, coding quirks), structure (groups, clusters), and plausible transformations. It informs the rest of your analysis pipeline.\n",
        "</details>"
      ]
    },
    {
      "cell_type": "code",
      "execution_count": null,
      "id": "colab_setup",
      "metadata": {},
      "outputs": [],
      "source": [
        "# Setup for Google Colab: Fetch datasets automatically or manually\n",
        "import os\n",
        "from google.colab import files\n",
        "\n",
        "MODULE = '04_data_analysis'\n",
        "DATASET = 'vitamin_trial.csv'\n",
        "BASE_PATH = '/content/data-analysis-projects'\n",
        "MODULE_PATH = os.path.join(BASE_PATH, 'notebooks', MODULE)\n",
        "DATASET_PATH = os.path.join('data', DATASET)\n",
        "\n",
        "try:\n",
        "    print('Attempting to clone repository...')\n",
        "    if not os.path.exists(BASE_PATH):\n",
        "        !git clone https://github.com/ggkuhnle/data-analysis-projects.git\n",
        "    print('Setting working directory...')\n",
        "    os.chdir(MODULE_PATH)\n",
        "    if os.path.exists(DATASET_PATH):\n",
        "        print(f'Dataset found: {DATASET_PATH} ✅')\n",
        "    else:\n",
        "        raise FileNotFoundError('Dataset missing after clone.')\n",
        "except Exception as e:\n",
        "    print(f'Cloning failed: {e}')\n",
        "    print('Falling back to manual upload...')\n",
        "    os.makedirs('data', exist_ok=True)\n",
        "    uploaded = files.upload()\n",
        "    if DATASET in uploaded:\n",
        "        with open(DATASET_PATH, 'wb') as f:\n",
        "            f.write(uploaded[DATASET])\n",
        "        print(f'Successfully uploaded {DATASET} ✅')\n",
        "    else:\n",
        "        raise FileNotFoundError(f'Upload failed. Please upload {DATASET}.')"
      ]
    },
    {
      "cell_type": "code",
      "execution_count": null,
      "id": "libs",
      "metadata": {},
      "outputs": [],
      "source": [
        "%pip install -q pandas numpy matplotlib seaborn statsmodels scipy\n",
        "import pandas as pd\n",
        "import numpy as np\n",
        "import matplotlib.pyplot as plt\n",
        "import seaborn as sns\n",
        "import statsmodels.api as sm\n",
        "from scipy.stats import shapiro, pearsonr, spearmanr\n",
        "\n",
        "pd.set_option('display.max_columns', 60)\n",
        "sns.set_theme()\n",
        "print('EDA environment ready.')"
      ]
    },
    {
      "cell_type": "markdown",
      "id": "load_inspect",
      "metadata": {},
      "source": [
        "## 1) Load & Quick Inspect\n",
        "We start with a **structural** and **statistical** glance at the dataset."
      ]
    },
    {
      "cell_type": "code",
      "execution_count": null,
      "id": "load_df",
      "metadata": {},
      "outputs": [],
      "source": [
        "df = pd.read_csv('data/vitamin_trial.csv')\n",
        "print('Shape:', df.shape)\n",
        "print('\\nColumn dtypes:')\n",
        "print(df.dtypes)\n",
        "\n",
        "print('\\nPeek at the first rows:')\n",
        "display(df.head())\n",
        "\n",
        "print('\\nSummary (numeric):')\n",
        "display(df.describe())\n",
        "\n",
        "print('\\nSummary (including categorical):')\n",
        "display(df.describe(include='all'))"
      ]
    },
    {
      "cell_type": "markdown",
      "id": "missingness",
      "metadata": {},
      "source": [
        "## 2) Missingness & Basic Data Quality\n",
        "Before plotting, ensure we know where the gaps are. If missingness clusters by group/time, it may bias results."
      ]
    },
    {
      "cell_type": "code",
      "execution_count": null,
      "id": "missing_check",
      "metadata": {},
      "outputs": [],
      "source": [
        "print('Missing values per column:')\n",
        "print(df.isna().sum().sort_values(ascending=False))\n",
        "\n",
        "# Missingness by group (if columns exist)\n",
        "if {'Group','Vitamin_D'}.issubset(df.columns):\n",
        "    miss_rate = df.groupby('Group')['Vitamin_D'].apply(lambda s: s.isna().mean())\n",
        "    print('\\nProportion missing in Vitamin_D by Group:')\n",
        "    display(miss_rate)"
      ]
    },
    {
      "cell_type": "markdown",
      "id": "distros",
      "metadata": {},
      "source": [
        "## 3) Distributions\n",
        "We’ll examine **Vitamin_D** as a worked example. Look for skewness and fat tails—these often suggest a **log transform**.\n",
        "\n",
        "<details><summary>Distribution tools</summary>\n",
        "- Histogram: frequency bars.\n",
        "- KDE (density): smooth estimate of the distribution.\n",
        "- ECDF: empirical cumulative distribution ← great for comparing the whole distribution.\n",
        "</details>"
      ]
    },
    {
      "cell_type": "code",
      "execution_count": null,
      "id": "hist_kde_ecdf",
      "metadata": {},
      "outputs": [],
      "source": [
        "x = df['Vitamin_D'].dropna()\n",
        "\n",
        "fig, axes = plt.subplots(1, 3, figsize=(15, 4))\n",
        "# Histogram\n",
        "axes[0].hist(x, bins=20, edgecolor='black')\n",
        "axes[0].set_title('Histogram: Vitamin_D')\n",
        "axes[0].set_xlabel('Vitamin_D (µg)')\n",
        "\n",
        "# KDE\n",
        "sns.kdeplot(x=x, ax=axes[1])\n",
        "axes[1].set_title('KDE / Density: Vitamin_D')\n",
        "axes[1].set_xlabel('Vitamin_D (µg)')\n",
        "\n",
        "# ECDF\n",
        "xs = np.sort(x.values)\n",
        "ys = np.arange(1, len(xs)+1) / len(xs)\n",
        "axes[2].plot(xs, ys, marker='.', linestyle='none')\n",
        "axes[2].set_title('ECDF: Vitamin_D')\n",
        "axes[2].set_xlabel('Vitamin_D (µg)')\n",
        "axes[2].set_ylabel('Proportion ≤ x')\n",
        "\n",
        "plt.tight_layout(); plt.show()"
      ]
    },
    {
      "cell_type": "markdown",
      "id": "groups_compare",
      "metadata": {},
      "source": [
        "### 3.1 Compare across groups\n",
        "Use **box/violin** to compare distributions by `Group` (e.g., Control vs Treatment) and optionally `Outcome`."
      ]
    },
    {
      "cell_type": "code",
      "execution_count": null,
      "id": "box_violin",
      "metadata": {},
      "outputs": [],
      "source": [
        "fig, axes = plt.subplots(1, 2, figsize=(12, 4))\n",
        "sns.boxplot(data=df, x='Group', y='Vitamin_D', ax=axes[0])\n",
        "axes[0].set_title('Boxplot by Group')\n",
        "axes[0].set_ylabel('Vitamin_D (µg)')\n",
        "\n",
        "sns.violinplot(data=df, x='Group', y='Vitamin_D', inner='quartile', ax=axes[1])\n",
        "axes[1].set_title('Violin by Group (quartiles)')\n",
        "axes[1].set_ylabel('Vitamin_D (µg)')\n",
        "plt.tight_layout(); plt.show()\n",
        "\n",
        "# Optional: stratify by Outcome if present\n",
        "if 'Outcome' in df.columns:\n",
        "    plt.figure(figsize=(8,4))\n",
        "    sns.boxplot(data=df, x='Group', y='Vitamin_D', hue='Outcome')\n",
        "    plt.title('Vitamin_D by Group × Outcome')\n",
        "    plt.ylabel('Vitamin_D (µg)')\n",
        "    plt.tight_layout(); plt.show()"
      ]
    },
    {
      "cell_type": "markdown",
      "id": "normality",
      "metadata": {},
      "source": [
        "## 4) Normality Checks (Raw vs Log)\n",
        "Some models assume normal-ish residuals. We **inspect** with Q–Q plots and **test** (Shapiro–Wilk). For right-skew, a log transform can help.\n",
        "\n",
        "<details><summary>Notes</summary>\n",
        "- Q–Q: points on line → close to normal.\n",
        "- Shapiro–Wilk: p < 0.05 → reject normality (sensitive with large n).\n",
        "- If zeros exist, use `log1p` or add a small ε.\n",
        "</details>"
      ]
    },
    {
      "cell_type": "code",
      "execution_count": null,
      "id": "qq_shapiro",
      "metadata": {},
      "outputs": [],
      "source": [
        "y = df['Vitamin_D'].dropna()\n",
        "eps = 1e-6\n",
        "y_log = np.log(y + eps)\n",
        "\n",
        "fig, axes = plt.subplots(1, 2, figsize=(10, 5))\n",
        "sm.qqplot(y, line='s', ax=axes[0])\n",
        "axes[0].set_title('Q–Q: raw Vitamin_D')\n",
        "sm.qqplot(y_log, line='s', ax=axes[1])\n",
        "axes[1].set_title('Q–Q: log Vitamin_D')\n",
        "plt.tight_layout(); plt.show()\n",
        "\n",
        "stat_raw, p_raw = shapiro(y)\n",
        "stat_log, p_log = shapiro(y_log)\n",
        "print(f'Shapiro–Wilk raw: stat={stat_raw:.3f}, p={p_raw:.3g}')\n",
        "print(f'Shapiro–Wilk log:  stat={stat_log:.3f}, p={p_log:.3g}')"
      ]
    },
    {
      "cell_type": "markdown",
      "id": "relationships",
      "metadata": {},
      "source": [
        "## 5) Relationships\n",
        "Start with scatter plots and trend lines, then move to matrices and heatmaps for many variables."
      ]
    },
    {
      "cell_type": "code",
      "execution_count": null,
      "id": "scatter_with_reg",
      "metadata": {},
      "outputs": [],
      "source": [
        "if 'Time' in df.columns and np.issubdtype(df['Time'].dtype, np.number):\n",
        "    fig, axes = plt.subplots(1, 2, figsize=(12, 4))\n",
        "    sns.regplot(data=df, x='Time', y='Vitamin_D', ax=axes[0])\n",
        "    axes[0].set_title('Time vs Vitamin_D (raw)')\n",
        "    axes[0].set_ylabel('Vitamin_D (µg)')\n",
        "\n",
        "    # log(Vitamin_D) for linearising right-skew\n",
        "    df_tmp = df.assign(Vitamin_D_log=np.log(df['Vitamin_D'] + 1e-6))\n",
        "    sns.regplot(data=df_tmp, x='Time', y='Vitamin_D_log', ax=axes[1])\n",
        "    axes[1].set_title('Time vs log(Vitamin_D)')\n",
        "    axes[1].set_ylabel('log Vitamin_D')\n",
        "\n",
        "    plt.tight_layout(); plt.show()\n",
        "else:\n",
        "    print('No numeric Time column found for scatter examples.')"
      ]
    },
    {
      "cell_type": "markdown",
      "id": "pair_corr",
      "metadata": {},
      "source": [
        "### 5.1 Pair Plots & Correlation Heatmaps\n",
        "For multiple numeric columns, pair plots and heatmaps give fast overviews.\n",
        "\n",
        "<details><summary>Tip</summary>\n",
        "Use **Spearman** for monotonic (rank-based) relationships and **Pearson** for linear relationships.\n",
        "</details>"
      ]
    },
    {
      "cell_type": "code",
      "execution_count": null,
      "id": "pairplot_heatmap",
      "metadata": {},
      "outputs": [],
      "source": [
        "num = df.select_dtypes(include=[np.number]).copy()\n",
        "if 'Vitamin_D' in num.columns:\n",
        "    num['Vitamin_D_log'] = np.log(num['Vitamin_D'] + 1e-6)\n",
        "\n",
        "if num.shape[1] >= 2:\n",
        "    # Pair plot (can be slow with many rows; sample if needed)\n",
        "    sns.pairplot(num.sample(min(300, len(num)), random_state=1))\n",
        "    plt.suptitle('Pair Plot (sampled)', y=1.02)\n",
        "    plt.show()\n",
        "\n",
        "    # Correlation heatmaps\n",
        "    corr_pear = num.corr(numeric_only=True, method='pearson')\n",
        "    corr_spea = num.corr(numeric_only=True, method='spearman')\n",
        "\n",
        "    fig, axes = plt.subplots(1, 2, figsize=(12, 4))\n",
        "    sns.heatmap(corr_pear, annot=True, fmt='.2f', ax=axes[0])\n",
        "    axes[0].set_title('Pearson correlation')\n",
        "    sns.heatmap(corr_spea, annot=True, fmt='.2f', ax=axes[1])\n",
        "    axes[1].set_title('Spearman correlation')\n",
        "    plt.tight_layout(); plt.show()\n",
        "else:\n",
        "    print('Not enough numeric variables for pair plot / heatmap.')"
      ]
    },
    {
      "cell_type": "markdown",
      "id": "group_summaries",
      "metadata": {},
      "source": [
        "## 6) Grouped Descriptives\n",
        "Summarise by key factors (e.g., `Group`, `Outcome`, `Time`). This clarifies patterns before modelling.\n",
        "\n",
        "<details><summary>Common recipes</summary>\n",
        "- Mean/median/count per group.\n",
        "- Within-group standard deviation (variability).\n",
        "- Confidence intervals for group means (basic normal approximation).\n",
        "</details>"
      ]
    },
    {
      "cell_type": "code",
      "execution_count": null,
      "id": "grouped_agg",
      "metadata": {},
      "outputs": [],
      "source": [
        "def mean_se_ci(s):\n",
        "    s = pd.Series(s).dropna()\n",
        "    n = s.size\n",
        "    if n == 0:\n",
        "        return pd.Series({'mean': np.nan, 'se': np.nan, 'low': np.nan, 'high': np.nan, 'n': 0})\n",
        "    m = s.mean()\n",
        "    sd = s.std(ddof=1) if n > 1 else 0.0\n",
        "    se = sd / np.sqrt(n) if n > 0 else np.nan\n",
        "    low = m - 1.96 * se\n",
        "    high = m + 1.96 * se\n",
        "    return pd.Series({'mean': m, 'se': se, 'low': low, 'high': high, 'n': n})\n",
        "\n",
        "if {'Group','Vitamin_D'}.issubset(df.columns):\n",
        "    grp = (\n",
        "        df.groupby('Group', observed=True)['Vitamin_D']\n",
        "          .apply(mean_se_ci)\n",
        "          .reset_index()\n",
        "    )\n",
        "    display(grp.head(10))\n",
        "\n",
        "    # Pivot a compact summary of means by group (if helpful)\n",
        "    grp_means = df.groupby('Group', observed=True)['Vitamin_D'].mean().reset_index(name='mean_VitD')\n",
        "    display(grp_means)"
      ]
    },
    {
      "cell_type": "markdown",
      "id": "outliers",
      "metadata": {},
      "source": [
        "## 7) Outliers: Identify & Reflect\n",
        "Boxplots flag outliers as points outside 1.5×IQR. Outliers can be data errors, rare but valid observations, or signals of subgroups. **Investigate** before removing.\n",
        "\n",
        "<details><summary>Quick IQR rule</summary>\n",
        "Q1 = 25th percentile, Q3 = 75th. IQR = Q3−Q1. Outliers ≈ values < Q1−1.5×IQR or > Q3+1.5×IQR.\n",
        "</details>"
      ]
    },
    {
      "cell_type": "code",
      "execution_count": null,
      "id": "iqr_outliers",
      "metadata": {},
      "outputs": [],
      "source": [
        "q1, q3 = np.percentile(df['Vitamin_D'].dropna(), [25, 75])\n",
        "iqr = q3 - q1\n",
        "low, high = q1 - 1.5*iqr, q3 + 1.5*iqr\n",
        "mask_out = (df['Vitamin_D'] < low) | (df['Vitamin_D'] > high)\n",
        "print(f'Potential outliers (IQR rule): {int(mask_out.sum())}')\n",
        "display(df.loc[mask_out, ['ID','Group','Vitamin_D']].head(10))"
      ]
    },
    {
      "cell_type": "markdown",
      "id": "exercises",
      "metadata": {},
      "source": [
        "## 🧪 Exercises\n",
        "1) **Distribution by Group**  \n",
        "   - Make overlaid histograms (`hue='Group'`) for `Vitamin_D`.  \n",
        "   - Comment on differences in spread/centres.\n",
        "\n",
        "2) **Normality**  \n",
        "   - Produce Q–Q plots of `Vitamin_D` by group (facet by `Group`).  \n",
        "   - Where does log transform help most?\n",
        "\n",
        "3) **Correlations**  \n",
        "   - If `Time` exists, compute Pearson & Spearman correlations with `Vitamin_D` (raw and log).  \n",
        "   - Interpret: linear vs monotonic patterns.\n",
        "\n",
        "4) **Grouped Summary**  \n",
        "   - Create a table of mean, median, n of `Vitamin_D` by `Group × Outcome`.  \n",
        "   - Which subgroup has the highest average?\n",
        "\n",
        "5) **Outliers**  \n",
        "   - Identify outliers by IQR rule within each `Group`.  \n",
        "   - Suggest a plan (verify source, winsorise, robust stats) and justify briefly."
      ]
    },
    {
      "cell_type": "markdown",
      "id": "wrap",
      "metadata": {},
      "source": [
        "## ✅ Conclusion\n",
        "You’ve conducted a principled EDA: profiling, distributions, group comparisons, normality checks, relationships, correlations, and outlier scanning. These findings should inform your next steps (transformations, model choices, and validation rules).\n",
        "\n",
        "👉 Next: **4.3 Correlation & Association**—formalise the relationships you saw here.\n",
        "\n",
        "<details><summary>Further reading</summary>\n",
        "- Seaborn: <https://seaborn.pydata.org/>\n",
        "- Matplotlib: <https://matplotlib.org/>\n",
        "- Statsmodels graphics (Q–Q): <https://www.statsmodels.org/stable/graphics.html>\n",
        "- Scipy stats: <https://docs.scipy.org/doc/scipy/reference/stats.html>\n",
        "</details>"
      ]
    }
  ],
  "metadata": {
    "kernelspec": {
      "display_name": "Python 3",
      "language": "python",
      "name": "python3"
    },
    "language_info": {
      "name": "python"
    }
  },
  "nbformat": 4,
  "nbformat_minor": 5
}
