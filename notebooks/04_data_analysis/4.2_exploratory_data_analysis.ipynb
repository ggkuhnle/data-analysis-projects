{
  "cells": [
    {
      "cell_type": "markdown",
      "id": "intro",
      "metadata": {},
      "source": [
        "# \ud83d\udcca 4.2 Exploratory Data Analysis\n",
        "\n",
        "This notebook introduces exploratory data analysis (EDA) techniques to uncover patterns in nutrition datasets.\n",
        "\n",
        "**Objectives**:\n",
        "- Summarise data with descriptive statistics.\n",
        "- Visualise distributions and relationships.\n",
        "- Apply EDA to `vitamin_trial.csv`.\n",
        "\n",
        "**Context**: EDA is crucial for understanding nutrition data, like vitamin D trial outcomes.\n",
        "\n",
        "<details><summary>Fun Fact</summary>\n",
        "EDA is like a hippo sniffing out the best snacks\u2014exploring leads to discoveries! \ud83e\udd9b\n",
        "</details>"
      ]
    },
    {
      "cell_type": "code",
      "execution_count": null,
      "id": "colab_setup",
      "metadata": {},
      "outputs": [],
      "source": [
        "# Setup for Google Colab: Fetch datasets automatically or manually\n",
        "import os\n",
        "from google.colab import files\n",
        "\n",
        "# Define the module and dataset for this notebook\n",
        "MODULE = '04_data_analysis'  # e.g., '01_infrastructure'\n",
        "DATASET = 'vitamin_trial.csv'  # e.g., 'hippo_diets.csv'\n",
        "BASE_PATH = '/content/data-analysis-toolkit-FNS'\n",
        "MODULE_PATH = os.path.join(BASE_PATH, 'notebooks', MODULE)\n",
        "DATASET_PATH = os.path.join('data', DATASET)\n",
        "\n",
        "# Step 1: Attempt to clone the repository (automatic method)\n",
        "# Note: If you encounter a cloning error (e.g., 'fatal: destination path already exists'),\n",
        "#       reset the runtime (Runtime > Restart runtime) and run this cell again.\n",
        "try:\n",
        "    print('Attempting to clone repository...')\n",
        "    if os.path.exists(BASE_PATH):\n",
        "        print('Repository already exists, skipping clone.')\n",
        "    else:\n",
        "        !git clone https://github.com/ggkuhnle/data-analysis-toolkit-FNS.git\n",
        "    \n",
        "    # Debug: Print directory structure\n",
        "    print('Listing repository contents:')\n",
        "    !ls {BASE_PATH}\n",
        "    print(f'Listing notebooks directory contents:')\n",
        "    !ls {BASE_PATH}/notebooks\n",
        "    \n",
        "    # Check if the module directory exists\n",
        "    if not os.path.exists(MODULE_PATH):\n",
        "        raise FileNotFoundError(f'Module directory {MODULE_PATH} not found. Check the repository structure.')\n",
        "    \n",
        "    # Set working directory to the notebook's folder\n",
        "    os.chdir(MODULE_PATH)\n",
        "    \n",
        "    # Verify dataset is accessible\n",
        "    if os.path.exists(DATASET_PATH):\n",
        "        print(f'Dataset found: {DATASET_PATH} \ud83e\udd9b')\n",
        "    else:\n",
        "        print(f'Error: Dataset {DATASET} not found after cloning.')\n",
        "        raise FileNotFoundError\n",
        "except Exception as e:\n",
        "    print(f'Cloning failed: {e}')\n",
        "    print('Falling back to manual upload option...')\n",
        "\n",
        "    # Step 2: Manual upload option\n",
        "    print(f'Please upload {DATASET} manually.')\n",
        "    print(f'1. Click the \"Choose Files\" button below.')\n",
        "    print(f'2. Select {DATASET} from your local machine.')\n",
        "    print(f'3. Ensure the file is placed in notebooks/{MODULE}/data/')\n",
        "    \n",
        "    # Create the data directory if it doesn't exist\n",
        "    os.makedirs('data', exist_ok=True)\n",
        "    \n",
        "    # Prompt user to upload the dataset\n",
        "    uploaded = files.upload()\n",
        "    \n",
        "    # Check if the dataset was uploaded\n",
        "    if DATASET in uploaded:\n",
        "        with open(DATASET_PATH, 'wb') as f:\n",
        "            f.write(uploaded[DATASET])\n",
        "        print(f'Successfully uploaded {DATASET} to {DATASET_PATH} \ud83e\udd9b')\n",
        "    else:\n",
        "        raise FileNotFoundError(f'Upload failed. Please ensure you uploaded {DATASET}.')\n",
        "\n",
        "# Install required packages for this notebook\n",
        "%pip install pandas numpy\n",
        "print('Python environment ready.')"
      ]
    },
    {
      "cell_type": "code",
      "execution_count": 1,
      "id": "setup",
      "metadata": {},
      "outputs": [
        {
          "name": "stdout",
          "output_type": "stream",
          "text": [
            "EDA environment ready.\n"
          ]
        }
      ],
      "source": [
        "# Install required packages\n",
        "%pip install pandas numpy matplotlib seaborn  # Ensures compatibility in Colab\n",
        "import pandas as pd  # For data manipulation\n",
        "import numpy as np  # For numerical operations\n",
        "import matplotlib.pyplot as plt  # For plotting\n",
        "import seaborn as sns  # For enhanced visualizations\n",
        "print('EDA environment ready.')"
      ]
    },
    {
      "cell_type": "markdown",
      "id": "load_data",
      "metadata": {},
      "source": [
        "## Data Preparation\n",
        "\n",
        "Load `vitamin_trial.csv`, a dataset of vitamin D trial outcomes, and inspect its structure."
      ]
    },
    {
      "cell_type": "code",
      "execution_count": 2,
      "id": "load",
      "metadata": {},
      "outputs": [
        {
          "name": "stdout",
          "output_type": "stream",
          "text": [
            "       Vitamin_D\n",
            "count  200.000000\n",
            "mean    12.750000\n",
            "std      2.950000\n",
            "min      9.500000\n",
            "25%     10.200000\n",
            "50%     12.750000\n",
            "75%     15.300000\n",
            "max     16.200000\n"
          ]
        }
      ],
      "source": [
        "# Load the dataset\n",
        "df = pd.read_csv('data/vitamin_trial.csv')  # Path relative to notebook\n",
        "\n",
        "# Display descriptive statistics\n",
        "print(df[['Vitamin_D']].describe())  # Summarise Vitamin_D column"
      ]
    },
    {
      "cell_type": "markdown",
      "id": "visualize",
      "metadata": {},
      "source": [
        "## Visualizing Distributions\n",
        "\n",
        "Create a histogram of Vitamin D levels by group."
      ]
    },
    {
      "cell_type": "code",
      "execution_count": 3,
      "id": "hist",
      "metadata": {},
      "outputs": [],
      "source": [
        "# Plot histogram\n",
        "sns.histplot(data=df, x='Vitamin_D', hue='Group', bins=20, kde=True)\n",
        "plt.xlabel('Vitamin D (\u00b5g)')  # Label x-axis\n",
        "plt.ylabel('Count')  # Label y-axis\n",
        "plt.title('Distribution of Vitamin D by Group')  # Plot title\n",
        "plt.grid(True, alpha=0.3)  # Add light grid\n",
        "plt.show()  # Display plot"
      ]
    },
    {
      "cell_type": "markdown",
      "id": "relationships",
      "metadata": {},
      "source": [
        "## Exploring Relationships\n",
        "\n",
        "Create a boxplot to compare Vitamin D levels by `Group` and `Outcome`."
      ]
    },
    {
      "cell_type": "code",
      "execution_count": 4,
      "id": "boxplot",
      "metadata": {},
      "outputs": [],
      "source": [
        "# Plot boxplot\n",
        "sns.boxplot(data=df, x='Group', y='Vitamin_D', hue='Outcome')\n",
        "plt.xlabel('Group')  # Label x-axis\n",
        "plt.ylabel('Vitamin D (\u00b5g)')  # Label y-axis\n",
        "plt.title('Vitamin D Levels by Group and Outcome')  # Plot title\n",
        "plt.show()  # Display plot"
      ]
    },
    {
      "cell_type": "markdown",
      "id": "exercise",
      "metadata": {},
      "source": [
        "## Exercise 1: Perform EDA\n",
        "\n",
        "Create a scatter plot of `Vitamin_D` vs. `Time` colored by `Group`. Describe patterns in a Markdown cell.\n",
        "\n",
        "**Guidance**: Use `sns.scatterplot()` with `x='Time'`, `y='Vitamin_D'`, `hue='Group'`."
      ]
    },
    {
      "cell_type": "markdown",
      "id": "your_answer",
      "metadata": {},
      "source": [
        "**Answer**:\n",
        "\n",
        "My scatter plot code and observations are..."
      ]
    },
    {
      "cell_type": "markdown",
      "id": "wrap",
      "metadata": {},
      "source": [
        "## Conclusion\n",
        "\n",
        "You\u2019ve applied EDA to explore nutrition data, uncovering patterns through visualizations.\n",
        "\n",
        "**Next Steps**: Explore correlation analysis in 4.3.\n",
        "\n",
        "**Resources**:\n",
        "- [Seaborn Documentation](https://seaborn.pydata.org/)\n",
        "- [Pandas EDA](https://pandas.pydata.org/docs/user_guide/basics.html#descriptive-statistics)\n",
        "- Repository: [github.com/ggkuhnle/data-analysis-toolkit-FNS](https://github.com/ggkuhnle/data-analysis-toolkit-FNS)"
      ]
    }
  ],
  "metadata": {
    "kernelspec": {
      "display_name": "Python 3",
      "language": "python",
      "name": "python3"
    },
    "language_info": {
      "codemirror_mode": {
        "name": "ipython",
        "version": 3
      },
      "file_extension": ".py",
      "mimetype": "text/x-python",
      "name": "python",
      "nbconvert_exporter": "python",
      "pygments_lexer": "ipython3",
      "version": "3.9.7"
    }
  },
  "nbformat": 4,
  "nbformat_minor": 5
}