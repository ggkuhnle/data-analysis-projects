{
  "cells": [
    {
      "cell_type": "markdown",
      "id": "intro",
      "metadata": {},
      "source": [
        "# \ud83d\udcdd 1.4 Quarto Basics\n",
        "\n",
        "This notebook introduces Quarto, a tool for creating reproducible documents combining code, text, and visuals, ideal for nutrition research reports.\n",
        "\n",
        "**Objectives**:\n",
        "- Understand Quarto\u2019s role in reproducible research.\n",
        "- Create a simple Quarto document with Python code.\n",
        "- Render the document to HTML.\n",
        "\n",
        "**Context**: Quarto is used in this toolkit (e.g., `index.qmd`) to share analyses, perfect for MSc projects.\n",
        "\n",
        "<details><summary>Fun Fact</summary>\n",
        "A Quarto document is like a hippo\u2019s lab report\u2014neat, detailed, and ready to share! \ud83e\udd9b\n",
        "</details>"
      ]
    },
    {
      "cell_type": "code",
      "execution_count": null,
      "id": "colab_setup",
      "metadata": {},
      "outputs": [],
      "source": [
        "# Setup for Google Colab: Fetch datasets automatically or manually\n",
        "import os\n",
        "from google.colab import files\n",
        "\n",
        "# Define the module and dataset for this notebook\n",
        "MODULE = '01_infrastructure'\n",
        "DATASET = 'hippo_diets.csv'\n",
        "DATASET_PATH = os.path.join('data', DATASET)\n",
        "\n",
        "# Step 1: Attempt to clone the repository (automatic method)\n",
        "try:\n",
        "    print('Attempting to clone repository...')\n",
        "    !git clone https://github.com/ggkuhnle/data-analysis-toolkit-FNS.git\n",
        "    os.chdir(f'/content/data-analysis-toolkit-FNS/notebooks/{MODULE}')\n",
        "    if os.path.exists(DATASET_PATH):\n",
        "        print(f'Dataset found: {DATASET_PATH} \ud83e\udd9b')\n",
        "    else:\n",
        "        print(f'Error: Dataset {DATASET} not found after cloning.')\n",
        "        raise FileNotFoundError\n",
        "except Exception as e:\n",
        "    print(f'Cloning failed: {e}')\n",
        "    print('Falling back to manual upload option...')\n",
        "\n",
        "    # Step 2: Manual upload option\n",
        "    print(f'Please upload {DATASET} manually.')\n",
        "    print(f'1. Click the \"Choose Files\" button below.')\n",
        "    print(f'2. Select {DATASET} from your local machine.')\n",
        "    print(f'3. Ensure the file is placed in notebooks/{MODULE}/data/')\n",
        "    \n",
        "    # Create the data directory if it doesn't exist\n",
        "    os.makedirs('data', exist_ok=True)\n",
        "    \n",
        "    # Prompt user to upload the dataset\n",
        "    uploaded = files.upload()\n",
        "    \n",
        "    # Check if the dataset was uploaded\n",
        "    if DATASET in uploaded:\n",
        "        with open(DATASET_PATH, 'wb') as f:\n",
        "            f.write(uploaded[DATASET])\n",
        "        print(f'Successfully uploaded {DATASET} to {DATASET_PATH} \ud83e\udd9b')\n",
        "    else:\n",
        "        raise FileNotFoundError(f'Upload failed. Please ensure you uploaded {DATASET}.')\n",
        "\n",
        "# Install required packages for this notebook\n",
        "%pip install pandas numpy\n",
        "print('Python environment ready.')"
      ]
    },
    {
      "cell_type": "code",
      "execution_count": 1,
      "id": "setup",
      "metadata": {},
      "outputs": [
        {
          "name": "stdout",
          "output_type": "stream",
          "text": [
            "Quarto environment ready.\n"
          ]
        }
      ],
      "source": [
        "# Install required packages\n",
        "%pip install pandas matplotlib  # Ensures compatibility in Colab\n",
        "import pandas as pd  # For data manipulation\n",
        "import matplotlib.pyplot as plt  # For plotting\n",
        "print('Quarto environment ready.')"
      ]
    },
    {
      "cell_type": "markdown",
      "id": "quarto",
      "metadata": {},
      "source": [
        "## Creating a Quarto Document\n",
        "\n",
        "Load `hippo_diets.csv` and create a plot to include in a Quarto document."
      ]
    },
    {
      "cell_type": "code",
      "execution_count": 2,
      "id": "plot",
      "metadata": {},
      "outputs": [],
      "source": [
        "# Load the dataset\n",
        "df = pd.read_csv('data/hippo_diets.csv')  # Path relative to notebook\n",
        "\n",
        "# Create a histogram\n",
        "plt.hist(df['Calories'], bins=10, color='teal', edgecolor='black')\n",
        "plt.xlabel('Calories (kcal)')  # Label x-axis\n",
        "plt.ylabel('Frequency')  # Label y-axis\n",
        "plt.title('Distribution of Hippo Calorie Intakes')  # Plot title\n",
        "plt.grid(True, alpha=0.3)  # Add light grid\n",
        "plt.show()  # Display plot"
      ]
    },
    {
      "cell_type": "markdown",
      "id": "exercise",
      "metadata": {},
      "source": [
        "## Exercise 1: Draft a Quarto File\n",
        "\n",
        "Create a file `my_quarto.qmd` with the following:\n",
        "\n",
        "```yaml\n",
        "---\n",
        "title: \"Hippo Diet Analysis\"\n",
        "format: html\n",
        "---\n",
        "\n",
        "## Calorie Distribution\n",
        "\n",
        "```{python}\n",
        "# Paste your histogram code here\n",
        "```\n",
        "```\n",
        "\n",
        "Render it using `quarto render my_quarto.qmd` in a terminal. Document your experience below.\n",
        "\n",
        "**Guidance**: Ensure `hippo_diets.csv` is in the same directory."
      ]
    },
    {
      "cell_type": "markdown",
      "id": "your_answer",
      "metadata": {},
      "source": [
        "**Answer**:\n",
        "\n",
        "I created and rendered the Quarto file by..."
      ]
    },
    {
      "cell_type": "markdown",
      "id": "wrap",
      "metadata": {},
      "source": [
        "## Conclusion\n",
        "\n",
        "You\u2019ve learned to use Quarto for reproducible documents, enhancing your nutrition research outputs.\n",
        "\n",
        "**Next Steps**: Begin programming basics in 2.1.\n",
        "\n",
        "**Resources**:\n",
        "- [Quarto Documentation](https://quarto.org/)\n",
        "- [Quarto GitHub](https://github.com/quarto-dev/quarto-cli)\n",
        "- Repository: [github.com/ggkuhnle/data-analysis-toolkit-FNS](https://github.com/ggkuhnle/data-analysis-toolkit-FNS)"
      ]
    }
  ],
  "metadata": {
    "kernelspec": {
      "display_name": "Python 3",
      "language": "python",
      "name": "python3"
    },
    "language_info": {
      "codemirror_mode": {
        "name": "ipython",
        "version": 3
      },
      "file_extension": ".py",
      "mimetype": "text/x-python",
      "name": "python",
      "nbconvert_exporter": "python",
      "pygments_lexer": "ipython3",
      "version": "3.9.7"
    }
  },
  "nbformat": 4,
  "nbformat_minor": 5
}