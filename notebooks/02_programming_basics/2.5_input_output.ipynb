{
  "nbformat": 4,
  "nbformat_minor": 5,
  "metadata": {
    "kernelspec": {
      "display_name": "Python 3",
      "language": "python",
      "name": "python3"
    },
    "language_info": {
      "name": "python",
      "version": "3.9"
    }
  },
  "cells": [
    {
      "cell_type": "markdown",
      "source": [
        "# 🖥️ 2.6 Input & Output in Python  \n",
        "\n",
        "This notebook covers how to **read from** and **write to** the console and files in Python—essential for any data analysis workflow in nutrition science.  \n",
        "\n",
        "**Objectives**:  \n",
        "- Perform console output with `print()` and formatted strings.  \n",
        "- Read user input via `input()`.  \n",
        "- Read and write plain text files.  \n",
        "- Work with CSV and JSON files for structured data.  \n",
        "\n",
        "**Context**: Logging results, ingesting external data, and exporting findings are fundamental steps when working with NDNS or lab data.  \n",
        "\n",
        "<details><summary>🐘 Fun Fact</summary>  \n",
        "Even a hippo needs to log its daily meals—file I/O helps us keep track! 🦛  \n",
        "</details>"
      ]
    },
    {
      "cell_type": "markdown",
      "source": [
        "## 🖨️ Console Output with `print()`  \n",
        "\n",
        "Use `print()` to display values.  \n",
        "\n",
        "- **Default**: space-separated, newline-terminated.  \n",
        "- **`sep`**: change separator.  \n",
        "- **`end`**: change line ending.  \n",
        "\n",
        "### Examples  \n",
        "```python\n",
        "name = \"Hilda\"  # hippo name  \n",
        "calories = 2000  # daily kcal  \n",
        "\n",
        "# basic print  \n",
        "print(\"Hippo eats\", calories, \"kcal\")  \n",
        "\n",
        "# f-string formatting  \n",
        "print(f\"Hippo {name} consumes {calories} kcal today.\")  \n",
        "\n",
        "# format() with specifiers  \n",
        "print(\"{0} ate {1:.1f} kcal\".format(name, calories))  \n",
        "\n",
        "# custom sep and no newline at end  \n",
        "print(\"Calories:\", calories, sep=\"→\", end=\"  \")  \n",
        "print(\" [logged]\")  \n",
        "```"
      ]
    },
    {
      "cell_type": "markdown",
      "source": [
        "## 🎤 Console Input with `input()`  \n",
        "\n",
        "Use `input(prompt)` to get user input as a **string**.  \n",
        "\n",
        "```python\n",
        "name = input(\"Enter hippo name: \")  # user types, e.g. Hilda  \n",
        "cal_kcal = float(input(\"Enter calories: \"))  # convert to float  \n",
        "print(f\"Recorded {name} → {cal_kcal} kcal\")  \n",
        "```"
      ]
    },
    {
      "cell_type": "markdown",
      "source": [
        "## 📂 File I/O: Plain Text  \n",
        "\n",
        "Open a file with `open()`, then read or write.  \n",
        "\n",
        "```python\n",
        "# Write to text file  \n",
        "with open(\"hippo_log.txt\", \"w\") as f:  \n",
        "    f.write(f\"{name},{calories}\\n\")  \n",
        "\n",
        "# Read from text file  \n",
        "with open(\"hippo_log.txt\", \"r\") as f:  \n",
        "    for line in f:  \n",
        "        print(\"Line:\", line.strip())  \n",
        "```"
      ]
    },
    {
      "cell_type": "markdown",
      "source": [
        "## 📑 Working with CSV Files  \n",
        "\n",
        "Use Python’s built-in `csv` module for lightweight work, or `pandas` for power.  \n",
        "\n",
        "### Using `csv` module  \n",
        "```python\n",
        "import csv  \n",
        "\n",
        "# Write CSV  \n",
        "with open(\"hippos.csv\", \"w\", newline=\"\") as f:  \n",
        "    writer = csv.writer(f)  \n",
        "    writer.writerow([\"Name\", \"Calories\"])  \n",
        "    writer.writerow([name, calories])  \n",
        "\n",
        "# Read CSV  \n",
        "with open(\"hippos.csv\", \"r\") as f:  \n",
        "    reader = csv.reader(f)  \n",
        "    for row in reader:  \n",
        "        print(row)  \n",
        "```"
      ]
    },
    {
      "cell_type": "markdown",
      "source": [
        "### Using `pandas` for CSV  \n",
        "```python\n",
        "import pandas as pd  \n",
        "\n",
        "df = pd.read_csv(\"hippos.csv\")  \n",
        "print(df.head())  \n",
        "```"
      ]
    },
    {
      "cell_type": "markdown",
      "source": [
        "## 🗄️ JSON Files  \n",
        "\n",
        "Use the `json` module to store structured data.  \n",
        "\n",
        "```python\n",
        "import json  \n",
        "\n",
        "data = {\"hippos\": [{\"name\": name, \"calories\": calories}]}  \n",
        "\n",
        "# Write JSON  \n",
        "with open(\"hippos.json\", \"w\") as f:  \n",
        "    json.dump(data, f, indent=2)  \n",
        "\n",
        "# Read JSON  \n",
        "with open(\"hippos.json\", \"r\") as f:  \n",
        "    data_in = json.load(f)  \n",
        "print(data_in)  \n",
        "```"
      ]
    },
    {
      "cell_type": "markdown",
      "source": [
        "## 🧪 Exercises  \n",
        "\n",
        "1. **Console I/O**: Prompt user for two hippo names and calories, then `print()` a summary.  \n",
        "2. **Text File**: Write those records to `hippos.txt`, then read and display them.  \n",
        "3. **CSV**: Save to `hippos.csv` with headers, then load with pandas and show mean calories.  \n",
        "4. **JSON**: Dump the data structure to JSON and read it back.  \n"
      ]
    },
    {
      "cell_type": "markdown",
      "source": [
        "## ✅ Conclusion  \n",
        "\n",
        "You’ve learned how to interact with users and external data sources via **console**, **text files**, **CSV**, and **JSON**.  \n",
        "These skills are crucial when importing raw data or exporting your analysis results in nutrition research.  \n",
        "\n",
        "Next up: dive into **2.7 Error Handling & Logging** for robust, production-ready code!"
      ]
    }
  ]
}

