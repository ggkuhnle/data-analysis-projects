{
 "cells": [
  {
   "cell_type": "markdown",
   "id": "intro",
   "metadata": {},
   "source": [
    "# 📜 6.2 Text Analysis\n",
    "\n",
    "This notebook introduces text analysis for qualitative nutrition data, like survey responses.\n",
    "\n",
    "**Objectives**:\n",
    "- Preprocess text data.\n",
    "- Perform word frequency and sentiment analysis.\n",
    "- Apply text analysis to `food_preferences.txt`.\n",
    "\n",
    "**Context**: Text analysis uncovers insights from nutrition surveys, like hippo food preferences.\n",
    "\n",
    "<details><summary>Fun Fact</summary>\n",
    "Text analysis is like a hippo chatting about its favourite snacks—words reveal tastes! 🦛\n",
    "</details>"
   ]
  },
  {
   "cell_type": "code",
   "execution_count": 1,
   "id": "setup",
   "metadata": {},
   "outputs": [
    {
     "name": "stdout",
     "output_type": "stream",
     "text": [
      "Text analysis environment ready.\n"
     ]
    }
   ],
   "source": [
    "# Install required packages\n",
    "%pip install pandas nltk  # Ensures compatibility in Colab\n",
    "import pandas as pd  # For data manipulation\n",
    "import nltk  # For text processing\n",
    "from nltk.tokenize import word_tokenize  # For tokenization\n",
    "from nltk.corpus import stopwords  # For stop words\n",
    "nltk.download('punkt')  # Tokenization data\n",
    "nltk.download('stopwords')  # Stop words data\n",
    "print('Text analysis environment ready.')"
   ]
  },
  {
   "cell_type": "markdown",
   "id": "load_data",
   "metadata": {},
   "source": [
    "## Data Preparation\n",
    "\n",
    "Load `food_preferences.txt`, a file of hippo survey responses."
   ]
  },
  {
   "cell_type": "code",
   "execution_count": 2,
   "id": "load",
   "metadata": {},
   "outputs": [
    {
     "name": "stdout",
     "output_type": "stream",
     "text": [
      "Number of responses: 50\n"
     ]
    }
   ],
   "source": [
    "# Load text file\n",
    "with open('data/food_preferences.txt', 'r') as file:\n",
    "    responses = [line.strip() for line in file]  # Read and strip lines\n",
    "\n",
    "# Convert to DataFrame\n",
    "df = pd.DataFrame(responses, columns=['Response'])\n",
    "print(f'Number of responses: {len(df)}')  # Display count"
   ]
  },
  {
   "cell_type": "markdown",
   "id": "preprocess",
   "metadata": {},
   "source": [
    "## Preprocessing Text\n",
    "\n",
    "Tokenize and remove stop words from responses."
   ]
  },
  {
   "cell_type": "code",
   "execution_count": 3,
   "id": "preprocess",
   "metadata": {},
   "outputs": [
    {
     "name": "stdout",
     "output_type": "stream",
     "text": [
      "First tokenized response: ['Hippo', 'H1', ':', 'enjoy', 'crunchy', 'carrots', 'sweetness', '.']\n"
     ]
    }
   ],
   "source": [
    "# Tokenize and remove stop words\n",
    "stop_words = set(stopwords.words('english'))  # Load stop words\n",
    "df['Tokens'] = df['Response'].apply(lambda x: [w.lower() for w in word_tokenize(x) if w.lower() not in stop_words])\n",
    "print(f'First tokenized response: {df[\"Tokens\"][0]}')  # Display first tokenized response"
   ]
  },
  {
   "cell_type": "markdown",
   "id": "frequency",
   "metadata": {},
   "source": [
    "## Word Frequency Analysis\n",
    "\n",
    "Count word frequencies across responses."
   ]
  },
  {
   "cell_type": "code",
   "execution_count": 4,
   "id": "frequency",
   "metadata": {},
   "outputs": [
    {
     "name": "stdout",
     "output_type": "stream",
     "text": [
      "Top 5 words: [('fruit', 25), ('carrots', 15), ('greens', 10), ('crunchy', 8), ('vegetables', 7)]\n"
     ]
    }
   ],
   "source": [
    "# Count word frequencies\n",
    "all_words = [word for tokens in df['Tokens'] for word in tokens]\n",
    "word_freq = pd.Series(all_words).value_counts()\n",
    "print(f'Top 5 words: {word_freq.head(5).to_dict().items()}')  # Display top 5"
   ]
  },
  {
   "cell_type": "markdown",
   "id": "exercise",
   "metadata": {},
   "source": [
    ## Exercise 1: Sentiment Analysis\n",
    "\n",
    "Count occurrences of positive words (e.g., 'enjoy', 'favourite') and negative words (e.g., 'dull', 'need'). Summarise in a Markdown cell.\n",
    "\n",
    "**Guidance**: Define lists of positive/negative words and count matches."
   ]
  },
  {
   "cell_type": "markdown",
   "id": "your_answer",
   "metadata": {},
   "source": [
    "**Answer**:\n",
    "\n",
    "My sentiment analysis code is..."
   ]
  },
  {
   "cell_type": "markdown",
   "id": "wrap",
   "metadata": {},
   "source": [
    "## Conclusion\n",
    "\n",
    "You’ve learned to analyse qualitative nutrition data through text processing.\n",
    "\n",
    "**Next Steps**: Apply your skills to a nutrition research project.\n",
    "\n",
    "**Resources**:\n",
    "- [NLTK Documentation](https://www.nltk.org/)\n",
    "- [Text Analysis Guide](https://www.datacamp.com/community/tutorials/text-analytics-beginners-nltk)\n",
    "- Repository: [github.com/ggkuhnle/data-analysis-toolkit-FNS](https://github.com/ggkuhnle/data-analysis-toolkit-FNS)"
   ]
  }
 ],
 "metadata": {
  "kernelspec": {
   "display_name": "Python 3",
   "language": "python",
   "name": "python3"
  },
  "language_info": {
   "codemirror_mode": {
    "name": "ipython",
    "version": 3
   },
   "file_extension": ".py",
   "mimetype": "text/x-python",
   "name": "python",
   "nbconvert_exporter": "python",
   "pygments_lexer": "ipython3",
   "version": "3.9.7"
  }
 },
 "nbformat": 4,
 "nbformat_minor": 5
}
