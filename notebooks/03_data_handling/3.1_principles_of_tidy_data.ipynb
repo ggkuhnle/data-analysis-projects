{
 "cells": [
  {
   "cell_type": "markdown",
   "id": "8f016e3b",
   "metadata": {},
   "source": [
    "# 🦛 3.1 Principles of Tidy Data\n",
    "\n",
    "In this notebook, we’ll explore **Hadley Wickham’s four principles of tidy data**, see why they matter for nutrition research, and apply them to our `hippo_nutrients.csv` dataset."
   ]
  },
  {
   "cell_type": "markdown",
   "id": "d2c6b415",
   "metadata": {},
   "source": [
    "## 📋 The Four Principles of Tidy Data\n",
    "\n",
    "1. **Each variable is a column**  \n",
    "2. **Each observation is a row**  \n",
    "3. **Each type of observational unit forms a table**  \n",
    "4. **Each cell contains a single value**\n",
    "\n",
    "Tidy data makes analysis straightforward—no hippo-chasing through messy tables!"
   ]
  },
  {
   "cell_type": "markdown",
   "id": "54fdf07a",
   "metadata": {},
   "source": [
    "## 🐘 From Messy to Tidy: A Visual Example\n",
    "\n",
    "**Messy data** (wide format, multiple values in a cell):\n",
    "\n",
    "| ID | Iron_2024;2025 | Calcium_2024;2025 |\n",
    "|----|----------------|--------------------|\n",
    "| H1 | 8.2; 8.5       | 1200; 1250         |\n",
    "\n",
    "**Tidy data** (long format, one value per cell):\n",
    "\n",
    "| ID | Year | Nutrient | Value |\n",
    "|----|------|----------|-------|\n",
    "| H1 | 2024 | Iron     | 8.2   |\n",
    "| H1 | 2025 | Iron     | 8.5   |\n",
    "| H1 | 2024 | Calcium  | 1200  |\n",
    "| H1 | 2025 | Calcium  | 1250  |"
   ]
  },
  {
   "cell_type": "code",
   "execution_count": null,
   "id": "cdc3883c",
   "metadata": {},
   "outputs": [],
   "source": [
    "# Setup environment (Colab/local)\n",
    "%run ../../bootstrap.py  # installs requirements + editable package\n",
    "\n",
    "import pandas as pd\n",
    "import numpy as np\n",
    "\n",
    "print(\"Environment ready. pandas:\", pd.__version__, \"numpy:\", np.__version__)"
   ]
  },
  {
   "cell_type": "markdown",
   "id": "89931f4b",
   "metadata": {},
   "source": [
    "## 🔍 Load & Preview `hippo_nutrients.csv`\n",
    "\n",
    "Let’s load the dataset and inspect its initial structure."
   ]
  },
  {
   "cell_type": "code",
   "execution_count": null,
   "id": "c206acff",
   "metadata": {},
   "outputs": [],
   "source": [
    "df = pd.read_csv('hippo_nutrients.csv')\n",
    "df.head()"
   ]
  },
  {
   "cell_type": "markdown",
   "id": "61002400",
   "metadata": {},
   "source": [
    "## 🔄 Reshaping with `melt()`\n",
    "\n",
    "We’ll transform from wide to long format, making each nutrient-year combination its own row."
   ]
  },
  {
   "cell_type": "code",
   "execution_count": null,
   "id": "49e9de38",
   "metadata": {},
   "outputs": [],
   "source": [
    "# Assume columns: ID, Age, Sex, Iron_2024, Iron_2025, Calcium_2024, Calcium_2025\n",
    "df_melted = df.melt(id_vars=['ID', 'Age', 'Sex'],\n",
    "                    var_name='Nutrient_Year',\n",
    "                    value_name='Value')\n",
    "# Separate 'Nutrient' and 'Year'\n",
    "df_tidy = df_melted.assign(\n",
    "    Nutrient = df_melted['Nutrient_Year'].str.split('_').str[0],\n",
    "    Year = df_melted['Nutrient_Year'].str.split('_').str[1].astype(int)\n",
    ").drop(columns='Nutrient_Year')\n",
    "df_tidy.head()"
   ]
  },
  {
   "cell_type": "markdown",
   "id": "d05a659a",
   "metadata": {},
   "source": [
    "## 🔄 Back to Wide with `pivot_table()`\n",
    "\n",
    "To show inverse operation, pivot back to wide format for Iron values."
   ]
  },
  {
   "cell_type": "code",
   "execution_count": null,
   "id": "514720b7",
   "metadata": {},
   "outputs": [],
   "source": [
    "df_pivot = df_tidy[df_tidy['Nutrient']=='Iron'] \\\n",
    "    .pivot_table(index=['ID','Age','Sex'],\n",
    "                 columns='Year',\n",
    "                 values='Value') \\\n",
    "    .reset_index()\n",
    "df_pivot.head()"
   ]
  },
  {
   "cell_type": "markdown",
   "id": "05d1bb1b",
   "metadata": {},
   "source": [
    "## 🐾 Exercises\n",
    "\n",
    "1. **Filter Iron Data**: Use the tidy DataFrame `df_tidy` to filter only Iron entries.  \n",
    "2. **Compute Average Calcium**: Group by `ID` and compute the average Calcium intake across years.\n",
    "\n",
    "*Hint*: Use `df_tidy[df_tidy['Nutrient']=='Iron']` and `groupby`."
   ]
  },
  {
   "cell_type": "markdown",
   "id": "2be8c99e",
   "metadata": {},
   "source": [
    "## ❓ Quick Quiz\n",
    "\n",
    "**True or False**: In tidy data, you can have multiple years combined in one column header.  \n",
    "\n",
    "<details><summary>Answer</summary>  \n",
    "False. Each variable (e.g., Year) must be its own column.  \n",
    "</details>"
   ]
  },
  {
   "cell_type": "markdown",
   "id": "d03c0f15",
   "metadata": {},
   "source": [
    "## 🎬 Conclusion\n",
    "\n",
    "- We covered the **four tidy data principles**.  \n",
    "- Converted messy tables to tidy format using **melt** and **pivot**.  \n",
    "\n",
    "Next: Dive into **3.2 Importing & Connecting** to pull in external data sources!"
   ]
  }
 ],
 "metadata": {},
 "nbformat": 4,
 "nbformat_minor": 5
}
