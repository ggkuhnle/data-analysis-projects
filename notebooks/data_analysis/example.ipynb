{
 "cells": [
  {
   "cell_type": "markdown",
   "id": "ce85a387",
   "metadata": {},
   "source": [
    "# 📊 Example Notebook: Data Analysis\n",
    "\n",
    "This notebook will explore statistical testing, distributions, and plotting using real or simulated data."
   ]
  }
 ],
 "metadata": {},
 "nbformat": 4,
 "nbformat_minor": 5
}
