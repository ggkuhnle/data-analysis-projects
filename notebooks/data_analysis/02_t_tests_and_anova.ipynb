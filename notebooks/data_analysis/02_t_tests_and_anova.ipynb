{
 "cells": [
  {
   "cell_type": "markdown",
   "id": "b0faecd6",
   "metadata": {},
   "source": [
    "# 🔬 T-Tests and ANOVA"
   ]
  },
  {
   "cell_type": "code",
   "execution_count": null,
   "id": "c1233992",
   "metadata": {},
   "outputs": [],
   "source": [
    "from scipy import stats\n",
    "stats.ttest_ind(df['Height'][:50], df['Height'][50:])"
   ]
  }
 ],
 "metadata": {},
 "nbformat": 4,
 "nbformat_minor": 5
}
