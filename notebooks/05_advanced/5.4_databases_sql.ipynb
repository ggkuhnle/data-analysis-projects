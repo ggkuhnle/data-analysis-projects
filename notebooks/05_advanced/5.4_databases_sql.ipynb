{
  "cells": [
    {
      "cell_type": "markdown",
      "id": "intro",
      "metadata": {},
      "source": [
        "# \ud83d\uddc4\ufe0f 5.4 Databases and SQL\n",
        "\n",
        "This notebook introduces SQL for querying nutrition databases.\n",
        "\n",
        "**Objectives**:\n",
        "- Create and populate a SQLite database.\n",
        "- Write SQL queries for data extraction.\n",
        "- Apply SQL to `large_food_log.csv`.\n",
        "\n",
        "**Context**: SQL manages large nutrition datasets, like detailed food logs.\n",
        "\n",
        "<details><summary>Fun Fact</summary>\n",
        "SQL is like a hippo\u2019s pantry index\u2014finding snacks fast! \ud83e\udd9b\n",
        "</details>"
      ]
    },
    {
      "cell_type": "code",
      "execution_count": null,
      "id": "colab_setup",
      "metadata": {},
      "outputs": [],
      "source": [
        "# Setup for Google Colab: Fetch datasets automatically or manually\n",
        "import os\n",
        "from google.colab import files\n",
        "\n",
        "# Define the module and dataset for this notebook\n",
        "MODULE = '05_advanced'\n",
        "DATASET = 'large_food_log.csv'\n",
        "DATASET_PATH = os.path.join('data', DATASET)\n",
        "\n",
        "# Step 1: Attempt to clone the repository (automatic method)\n",
        "try:\n",
        "    print('Attempting to clone repository...')\n",
        "    !git clone https://github.com/ggkuhnle/data-analysis-toolkit-FNS.git\n",
        "    os.chdir(f'/content/data-analysis-toolkit-FNS/notebooks/{MODULE}')\n",
        "    if os.path.exists(DATASET_PATH):\n",
        "        print(f'Dataset found: {DATASET_PATH} \ud83e\udd9b')\n",
        "    else:\n",
        "        print(f'Error: Dataset {DATASET} not found after cloning.')\n",
        "        raise FileNotFoundError\n",
        "except Exception as e:\n",
        "    print(f'Cloning failed: {e}')\n",
        "    print('Falling back to manual upload option...')\n",
        "\n",
        "    # Step 2: Manual upload option\n",
        "    print(f'Please upload {DATASET} manually.')\n",
        "    print(f'1. Click the \"Choose Files\" button below.')\n",
        "    print(f'2. Select {DATASET} from your local machine.')\n",
        "    print(f'3. Ensure the file is placed in notebooks/{MODULE}/data/')\n",
        "    \n",
        "    # Create the data directory if it doesn't exist\n",
        "    os.makedirs('data', exist_ok=True)\n",
        "    \n",
        "    # Prompt user to upload the dataset\n",
        "    uploaded = files.upload()\n",
        "    \n",
        "    # Check if the dataset was uploaded\n",
        "    if DATASET in uploaded:\n",
        "        with open(DATASET_PATH, 'wb') as f:\n",
        "            f.write(uploaded[DATASET])\n",
        "        print(f'Successfully uploaded {DATASET} to {DATASET_PATH} \ud83e\udd9b')\n",
        "    else:\n",
        "        raise FileNotFoundError(f'Upload failed. Please ensure you uploaded {DATASET}.')\n",
        "\n",
        "# Install required packages for this notebook\n",
        "%pip install pandas numpy\n",
        "print('Python environment ready.')"
      ]
    },
    {
      "cell_type": "code",
      "execution_count": 1,
      "id": "setup",
      "metadata": {},
      "outputs": [
        {
          "name": "stdout",
          "output_type": "stream",
          "text": [
            "SQL environment ready.\n"
          ]
        }
      ],
      "source": [
        "# Install required packages\n",
        "%pip install pandas sqlite3  # Ensures compatibility in Colab\n",
        "import pandas as pd  # For data manipulation\n",
        "import sqlite3  # For SQLite database\n",
        "print('SQL environment ready.')"
      ]
    },
    {
      "cell_type": "markdown",
      "id": "load_data",
      "metadata": {},
      "source": [
        "## Data Preparation\n",
        "\n",
        "Load `large_food_log.csv` and create a SQLite database."
      ]
    },
    {
      "cell_type": "code",
      "execution_count": 2,
      "id": "load",
      "metadata": {},
      "outputs": [],
      "source": [
        "# Load the dataset\n",
        "df = pd.read_csv('data/large_food_log.csv')  # Path relative to notebook\n",
        "\n",
        "# Create SQLite database\n",
        "conn = sqlite3.connect('nutrition.db')  # Create database\n",
        "df.to_sql('food_log', conn, if_exists='replace', index=False)  # Write to table"
      ]
    },
    {
      "cell_type": "markdown",
      "id": "query",
      "metadata": {},
      "source": [
        "## SQL Queries\n",
        "\n",
        "Query the database to summarise nutrient amounts by meal."
      ]
    },
    {
      "cell_type": "code",
      "execution_count": 3,
      "id": "query",
      "metadata": {},
      "outputs": [
        {
          "name": "stdout",
          "output_type": "stream",
          "text": [
            "   Meal Nutrient      Avg_Amount\n",
            "0  Breakfast  Calcium  300.0\n",
            "1  Breakfast     Iron    2.5\n"
          ]
        }
      ],
      "source": [
        "# Query: Average nutrient amount by meal\n",
        "query = \"\"\"\n",
        "SELECT Meal, Nutrient, AVG(Amount) as Avg_Amount\n",
        "FROM food_log\n",
        "GROUP BY Meal, Nutrient\n",
        "\"\"\"\n",
        "result = pd.read_sql_query(query, conn)\n",
        "print(result.head(2))  # Display first two rows"
      ]
    },
    {
      "cell_type": "markdown",
      "id": "exercise",
      "metadata": {},
      "source": [
        "## Exercise 1: Write a Query\n",
        "\n",
        "Write a SQL query to find total `Amount` for Protein by `Date`. Document your code.\n",
        "\n",
        "**Guidance**: Use `SUM(Amount)` and `GROUP BY Date`."
      ]
    },
    {
      "cell_type": "markdown",
      "id": "your_answer",
      "metadata": {},
      "source": [
        "**Answer**:\n",
        "\n",
        "My SQL query code is..."
      ]
    },
    {
      "cell_type": "markdown",
      "id": "wrap",
      "metadata": {},
      "source": [
        "## Conclusion\n",
        "\n",
        "You\u2019ve learned to use SQL for querying nutrition databases.\n",
        "\n",
        "**Next Steps**: Explore dashboards in 5.5.\n",
        "\n",
        "**Resources**:\n",
        "- [SQLite Documentation](https://www.sqlite.org/docs.html)\n",
        "- [SQL Guide](https://www.w3schools.com/sql/)\n",
        "- Repository: [github.com/ggkuhnle/data-analysis-toolkit-FNS](https://github.com/ggkuhnle/data-analysis-toolkit-FNS)"
      ]
    }
  ],
  "metadata": {
    "kernelspec": {
      "display_name": "Python 3",
      "language": "python",
      "name": "python3"
    },
    "language_info": {
      "codemirror_mode": {
        "name": "ipython",
        "version": 3
      },
      "file_extension": ".py",
      "mimetype": "text/x-python",
      "name": "python",
      "nbconvert_exporter": "python",
      "pygments_lexer": "ipython3",
      "version": "3.9.7"
    }
  },
  "nbformat": 4,
  "nbformat_minor": 5
}