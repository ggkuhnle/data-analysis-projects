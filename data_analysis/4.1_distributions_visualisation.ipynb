{
 "cell_type": "markdown",
 "source": [
  "# 📊 4.1 Distributions and Visualisation\n",
  "\n",
  "Time to plot like a hippo artist! 🦛 Visualize nutrient distributions to spot patterns in vitamin trials.\n",
  "\n",
  "**What we’ll cover**:\n",
  "- **Histograms**: Show nutrient spread.\n",
  "- **Boxplots**: Spot outliers.\n",
  "\n",
  "**Exercise**: Plot a hippo vitamin boxplot!"
 ]
},
{
 "cell_type": "code",
 "source": [
  "import seaborn as sns\n",
  "df = pd.read_csv('data/vitamin_trial.csv')\n",
  "sns.boxplot(x='Group', y='Vitamin_D', data=df)\n",
  "plt.title('Hippo Vitamin D by Group 🦛')\n",
  "plt.show()"
 ]
}
