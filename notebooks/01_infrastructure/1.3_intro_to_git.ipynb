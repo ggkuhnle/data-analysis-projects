{
 "cells": [
  {
   "cell_type": "markdown",
   "id": "intro",
   "metadata": {},
   "source": [
    "# 📚 1.3 Introduction to Git 🦛\n",
    "\n",
    "> **Context:** Git ensures reproducibility and collaboration, vital for MSc projects like NDNS analysis.\n",
    "\n",
    "**Objectives**:\n",
    "- Understand Git’s purpose and core commands\n",
    "- Practise committing & tracking changes\n",
    "- Explore GitHub collaboration workflows\n",
    "\n",
    "<details><summary>Fun Fact</summary>\n",
    "Git is like a hippo’s journal—tracking every snack and meal with precision! 🦛\n",
    "</details>"
   ]
  },
  {
   "cell_type": "markdown",
   "id": "what_is_git",
   "metadata": {},
   "source": [
    "## 🧰 What is Git?\n",
    "\n",
    "Git is a **version control system** that lets you track changes in your code, collaborate with others, and backtrack if something goes wrong. Think of it as a very detailed \"track changes\" for your entire project.\n",
    "\n",
    "You can:\n",
    "- Save snapshots of your project (commits)\n",
    "- Roll back to earlier versions\n",
    "- Collaborate via platforms like GitHub\n",
    "- See who changed what and when\n",
    "- Create isolated workstreams (branches) for new features\n"
   ]
  },
  {
   "cell_type": "markdown",
   "id": "setup",
   "metadata": {},
   "source": [
    "## ⚙️ Setting Up Git\n",
    "\n",
    "#### Installing & Configuring\n",
    "Run in a terminal (not Python):\n",
    "```bash\n",
    "# Check Git installation\n",
    "git --version  # ensure Git is installed\n",
    "\n",
    "# Configure your identity (👉 use your own name/email!)\n",
    "git config --global user.name \"Your Name\"\n",
    "git config --global user.email \"your.email@example.com\"\n",
    "```\n",
    "\n",
    "#### Day-to-day Commands\n",
    "Use these to interact with your repo:\n",
    "```bash\n",
    "git init              # Initialise a repository\n",
    "git status            # Show changes\n",
    "git add <file>        # Stage a file\n",
    "git commit -m \"msg\"   # Commit staged changes\n",
    "git log               # Show history\n",
    "git diff              # Show differences\n",
    "git clone <URL>       # Clone a remote repo\n",
    "git pull              # Fetch and merge changes\n",
    "git push              # Send changes to remote\n",
    "```"
   ]
  },
  {
   "cell_type": "markdown",
   "id": "common_commands",
   "metadata": {},
   "source": [
    "<details><summary>📘 Common Git Commands (expanded)</summary>\n",
    "\n",
    "```bash\n",
    "git branch                   # List or create branches\n",
    "git checkout -b new-branch   # Create & switch to a branch\n",
    "git merge <branch>           # Merge another branch into current\n",
    "git remote add origin <URL>  # Link local repo to GitHub\n",
    "```\n",
    "</details>"
   ]
  },
  {
   "cell_type": "markdown",
   "id": "undo",
   "metadata": {},
   "source": [
    "## 🔁 Undoing Changes\n",
    "\n",
    "| Situation                     | Command                                 |\n",
    "|------------------------------|-----------------------------------------|\n",
    "| Unstage file                 | `git restore --staged <file>`           |\n",
    "| Discard file changes         | `git restore <file>`                    |\n",
    "| Undo last commit (keep code) | `git reset --soft HEAD~1`               |\n",
    "| Undo last commit (drop code) | `git reset --hard HEAD~1`               |\n",
    "| Undo pushed commit           | Avoid! Use `git revert <hash>` instead  |\n",
    "\n",
    "**💡 Tip:** Avoid `--hard` resets on shared branches—you can always `git revert` to undo publicly shared commits."
   ]
  },
  {
   "cell_type": "markdown",
   "id": "exercise_repo",
   "metadata": {},
   "source": [
    "## 🧪 Exercise: Create a Repository\n",
    "\n",
    "Follow these steps in a terminal:\n",
    "1. 🗂️  `mkdir my-nutrition-repo`\n",
    "2. 🔨  `cd my-nutrition-repo`\n",
    "3. 🔨  `git init`\n",
    "4. 📝  `echo \"# Nutrition Notes\" > README.md`\n",
    "5. ➕  `git add README.md`\n",
    "6. 💾  `git commit -m \"Initial commit\"`\n",
    "\n",
    "🔥 **Stretch (bonus):** Push to GitHub:\n",
    "```bash\n",
    "git remote add origin git@github.com:YOUR-USERNAME/my-nutrition-repo.git\n",
    "git push -u origin main\n",
    "```"
   ]
  },
  {
   "cell_type": "markdown",
   "id": "answer_placeholder",
   "metadata": {},
   "source": [
    "## **Answer**\n",
    "\n",
    "I set up my repo and here’s what I saw when I ran `git log`…"
   ]
  },
  {
   "cell_type": "markdown",
   "id": "conclusion",
   "metadata": {},
   "source": [
    "## ✅ Conclusion\n",
    "\n",
    "**You did it!**\n",
    "- [x] Learned what Git is\n",
    "- [x] Configured your name/email\n",
    "- [x] Made your first commit\n",
    "- [ ] (Bonus) Pushed to GitHub\n",
    "\n",
    "**Next Steps:**\n",
    "- ▶️ **1.4 Quarto**: reproducible documents\n",
    "\n",
    "---\n",
    "\n",
    "### 📖 Docs\n",
    "- [Git Book](https://git-scm.com/book)\n",
    "- [GitHub Guides](https://guides.github.com/)\n",
    "\n",
    "### 🔗 Toolkit Repo\n",
    "- [ggkuhnle/data-analysis-toolkit-FNS](https://github.com/ggkuhnle/data-analysis-toolkit-FNS)"
   ]
  }
 ],
 "metadata": {
  "kernelspec": {
   "display_name": "Python 3",
   "language": "python",
   "name": "python3"
  },
  "language_info": {
   "name": "python",
   "version": "3.x"
  }
 },
 "nbformat": 4,
 "nbformat_minor": 5
}
