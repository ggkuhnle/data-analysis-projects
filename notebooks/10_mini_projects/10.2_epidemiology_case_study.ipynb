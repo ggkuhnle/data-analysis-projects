{
 "cells": [
  {
   "cell_type": "markdown",
   "id": "0592db11",
   "metadata": {},
   "source": [
    "# Epidemiological Analysis: Cross-Sectional and Prospective Studies in Nutrition 🥗📊\n",
    "\n",
    "Welcome to this Jupyter notebook on epidemiological analysis in nutrition science! We’ll explore a large study (n=25,000, age range 45-80) with cross-sectional and prospective designs, focusing on continuous (BMI) and survival (CVD incidence) endpoints. The dataset includes baseline and follow-up data (2, 4, 6 years) on smoking, sex, physical activity, social class (UK ABC12DE), BMI, blood pressure, sugar intake, SFA intake, and CVD incidence, with random missing data.\n",
    "\n",
    "In this notebook, we’ll:\n",
    "- **Summarise baseline characteristics** with Table 1 🧩\n",
    "- **Analyse missing data** to understand patterns\n",
    "- **Perform cross-sectional analysis** using Frequentist and Bayesian regression (baseline BMI)\n",
    "- **Conduct survival analysis** for CVD incidence (Frequentist and Bayesian)\n",
    "- **Analyse prospective changes** in BMI and CVD incidence (Frequentist and Bayesian regression) 📈\n",
    "\n",
    "Let’s dive in and explore this epidemiological dataset!"
   ]
  },
  {
   "cell_type": "markdown",
   "id": "f88e58b1",
   "metadata": {},
   "source": [
    "## Step 1: Load the Dataset and Libraries 📦\n",
    "\n",
    "First, let’s load the necessary libraries and the simulated dataset."
   ]
  },
  {
   "cell_type": "code",
   "execution_count": null,
   "id": "7a318b4f",
   "metadata": {},
   "outputs": [],
   "source": [
    "# Import libraries for analysis\n",
    "import numpy as np\n",
    "import pandas as pd\n",
    "import matplotlib.pyplot as plt\n",
    "import seaborn as sns\n",
    "from sklearn.linear_model import LinearRegression\n",
    "from sklearn.preprocessing import LabelEncoder\n",
    "from lifelines import CoxPHFitter\n",
    "import pymc as pm\n",
    "import arviz as az\n",
    "from statsmodels.formula.api import mixedlm\n",
    "\n",
    "# Set seaborn style for clean visuals\n",
    "sns.set_style(\"whitegrid\")\n",
    "\n",
    "# Load the dataset\n",
    "data = pd.read_csv('data/epidemiological_study.csv')\n",
    "\n",
    "# Display the first few rows\n",
    "data.head()"
   ]
  },
  {
   "cell_type": "markdown",
   "id": "9788999a",
   "metadata": {},
   "source": [
    "## Step 2: Table 1 - Baseline Characteristics 📊\n",
    "\n",
    "Let’s create Table 1 to summarise the baseline characteristics of the study population, including means (SD) for continuous variables and counts (%) for categorical variables."
   ]
  },
  {
   "cell_type": "code",
   "execution_count": null,
   "id": "1d5fc895",
   "metadata": {},
   "outputs": [],
   "source": [
    "# Continuous variables: Mean (SD)\n",
    "continuous_vars = ['Age', 'BMI_Baseline', 'BP_Baseline', 'Sugar_Intake', 'SFA_Intake']\n",
    "continuous_summary = data[continuous_vars].agg(['mean', 'std']).round(2).T\n",
    "continuous_summary.columns = ['Mean', 'SD']\n",
    "continuous_summary['Mean (SD)'] = continuous_summary['Mean'].astype(str) + ' (' + continuous_summary['SD'].astype(str) + ')'\n",
    "\n",
    "# Categorical variables: Counts (%)\n",
    "categorical_vars = ['Sex', 'Smoking', 'Physical_Activity', 'Social_Class']\n",
    "categorical_summary = {}\n",
    "for var in categorical_vars:\n",
    "    counts = data[var].value_counts(dropna=False)\n",
    "    percents = (counts / counts.sum() * 100).round(2)\n",
    "    categorical_summary[var] = pd.DataFrame({\n",
    "        'Count (%)': [f\"{count} ({percent}%)\" for count, percent in zip(counts, percents)]\n",
    "    }, index=counts.index)\n",
    "\n",
    "# Display Table 1\n",
    "print(\"Table 1: Baseline Characteristics\")\n",
    "print(\"\\nContinuous Variables:\")\n",
    "print(continuous_summary[['Mean (SD)']])\n",
    "print(\"\\nCategorical Variables:\")\n",
    "for var in categorical_vars:\n",
    "    print(f\"\\n{var}:\")\n",
    "    print(categorical_summary[var])"
   ]
  },
  {
   "cell_type": "markdown",
   "id": "dd7dbfe3",
   "metadata": {},
   "source": [
    "## Step 3: Analysis of Missing Data 🔎\n",
    "\n",
    "Let’s assess the extent and pattern of missing data in the dataset to understand potential biases."
   ]
  },
  {
   "cell_type": "code",
   "execution_count": null,
   "id": "e2b33f5a",
   "metadata": {},
   "outputs": [],
   "source": [
    "# Calculate percentage of missing data for each variable\n",
    "missing_data = data.isna().mean() * 100\n",
    "missing_summary = pd.DataFrame({\n",
    "    'Missing (%)': missing_data.round(2)\n",
    "})\n",
    "\n",
    "# Display missing data summary\n",
    "print(\"Missing Data Analysis:\")\n",
    "print(missing_summary[missing_summary['Missing (%)'] > 0])\n",
    "\n",
    "# Visualize missing data patterns\n",
    "plt.figure(figsize=(10, 6))\n",
    "sns.heatmap(data.isna(), cbar=False, cmap='viridis')\n",
    "plt.title('Missing Data Patterns (Yellow = Missing) 📉')\n",
    "plt.tight_layout()\n",
    "plt.show()"
   ]
  },
  {
   "cell_type": "markdown",
   "id": "cea84cce",
   "metadata": {},
   "source": [
    "## Step 4: Cross-Sectional Analysis - Baseline BMI 🧮\n",
    "\n",
    "Let’s perform a cross-sectional analysis of baseline BMI, using Frequentist (linear regression) and Bayesian regression, with predictors: age, sex, smoking, physical activity, social class, sugar intake, and SFA intake.\n",
    "\n",
    "### Data Preparation\n",
    "First, we’ll preprocess the data, encoding categorical variables and handling missing data (simple imputation for this example)."
   ]
  },
  {
   "cell_type": "code",
   "execution_count": null,
   "id": "bc488378",
   "metadata": {},
   "outputs": [],
   "source": [
    "# Prepare data for cross-sectional analysis\n",
    "cross_sectional_data = data[['BMI_Baseline', 'Age', 'Sex', 'Smoking', 'Physical_Activity', 'Social_Class', 'Sugar_Intake', 'SFA_Intake']].copy()\n",
    "\n",
    "# Encode categorical variables\n",
    "le = LabelEncoder()\n",
    "cross_sectional_data['Sex'] = le.fit_transform(cross_sectional_data['Sex'].astype(str))\n",
    "cross_sectional_data['Smoking'] = le.fit_transform(cross_sectional_data['Smoking'].astype(str))\n",
    "cross_sectional_data['Physical_Activity'] = cross_sectional_data['Physical_Activity'].map({'Low': 0, 'Medium': 1, 'High': 2, np.nan: 0})\n",
    "cross_sectional_data['Social_Class'] = cross_sectional_data['Social_Class'].map({'A': 1, 'B': 2, 'C1': 3, 'C2': 4, 'D': 5, 'E': 6, np.nan: 3})\n",
    "\n",
    "# Impute missing data with mean for simplicity\n",
    "cross_sectional_data.fillna(cross_sectional_data.mean(), inplace=True)\n",
    "\n",
    "# Define predictors and outcome\n",
    "X_cross = cross_sectional_data.drop('BMI_Baseline', axis=1)\n",
    "y_cross = cross_sectional_data['BMI_Baseline']"
   ]
  },
  {
   "cell_type": "markdown",
   "id": "90165547",
   "metadata": {},
   "source": [
    "### Frequentist Linear Regression\n",
    "We’ll use scikit-learn’s `LinearRegression` to model baseline BMI."
   ]
  },
  {
   "cell_type": "code",
   "execution_count": null,
   "id": "dbdbcbd7",
   "metadata": {},
   "outputs": [],
   "source": [
    "# Frequentist linear regression\n",
    "freq_model = LinearRegression()\n",
    "freq_model.fit(X_cross, y_cross)\n",
    "\n",
    "# Coefficients and intercept\n",
    "freq_coefs = pd.DataFrame({\n",
    "    'Predictor': X_cross.columns,\n",
    "    'Coefficient': freq_model.coef_\n",
    "})\n",
    "print(\"Frequentist Linear Regression Results:\")\n",
    "print(f\"Intercept: {freq_model.intercept_:.2f}\")\n",
    "print(freq_coefs)"
   ]
  },
  {
   "cell_type": "markdown",
   "id": "06c483f8",
   "metadata": {},
   "source": [
    "### Bayesian Linear Regression\n",
    "We’ll use PyMC to model the same relationship, with weakly informative priors."
   ]
  },
  {
   "cell_type": "code",
   "execution_count": null,
   "id": "7cb318c3",
   "metadata": {},
   "outputs": [],
   "source": [
    "# Bayesian linear regression\n",
    "with pm.Model() as bayes_model:\n",
    "    # Priors\n",
    "    intercept = pm.Normal('Intercept', mu=0, sigma=10)\n",
    "    beta_age = pm.Normal('Age', mu=0, sigma=1)\n",
    "    beta_sex = pm.Normal('Sex', mu=0, sigma=1)\n",
    "    beta_smoking = pm.Normal('Smoking', mu=0, sigma=1)\n",
    "    beta_activity = pm.Normal('Physical_Activity', mu=0, sigma=1)\n",
    "    beta_class = pm.Normal('Social_Class', mu=0, sigma=1)\n",
    "    beta_sugar = pm.Normal('Sugar_Intake', mu=0, sigma=1)\n",
    "    beta_sfa = pm.Normal('SFA_Intake', mu=0, sigma=1)\n",
    "    sigma = pm.HalfNormal('sigma', sigma=1)\n",
    "\n",
    "    # Linear model\n",
    "    mu = (intercept + beta_age * X_cross['Age'] + beta_sex * X_cross['Sex'] +\n",
    "          beta_smoking * X_cross['Smoking'] + beta_activity * X_cross['Physical_Activity'] +\n",
    "          beta_class * X_cross['Social_Class'] + beta_sugar * X_cross['Sugar_Intake'] +\n",
    "          beta_sfa * X_cross['SFA_Intake'])\n",
    "\n",
    "    # Likelihood\n",
    "    bmi_obs = pm.Normal('bmi_obs', mu=mu, sigma=sigma, observed=y_cross)\n",
    "\n",
    "    # Sample from posterior\n",
    "    trace_cross = pm.sample(1000, tune=1000, return_inferencedata=True)\n",
    "\n",
    "# Summary of posterior\n",
    "print(\"Bayesian Linear Regression Results:\")\n",
    "print(az.summary(trace_cross, var_names=['Intercept', 'Age', 'Sex', 'Smoking', 'Physical_Activity', 'Social_Class', 'Sugar_Intake', 'SFA_Intake']))"
   ]
  },
  {
   "cell_type": "markdown",
   "id": "007b7eac",
   "metadata": {},
   "source": [
    "## Step 5: Survival Analysis - CVD Incidence 🕰️\n",
    "\n",
    "Let’s perform survival analysis for CVD incidence, using Frequentist (Cox proportional hazards) and Bayesian survival regression, with the same predictors.\n",
    "\n",
    "### Data Preparation\n",
    "We’ll use the same predictors, ensuring proper encoding and imputation."
   ]
  },
  {
   "cell_type": "code",
   "execution_count": null,
   "id": "1c311423",
   "metadata": {},
   "outputs": [],
   "source": [
    "# Prepare data for survival analysis\n",
    "survival_data = data[['Time_to_CVD', 'CVD_Incidence', 'Age', 'Sex', 'Smoking', 'Physical_Activity', 'Social_Class', 'Sugar_Intake', 'SFA_Intake']].copy()\n",
    "survival_data['Sex'] = le.fit_transform(survival_data['Sex'].astype(str))\n",
    "survival_data['Smoking'] = le.fit_transform(survival_data['Smoking'].astype(str))\n",
    "survival_data['Physical_Activity'] = survival_data['Physical_Activity'].map({'Low': 0, 'Medium': 1, 'High': 2, np.nan: 0})\n",
    "survival_data['Social_Class'] = survival_data['Social_Class'].map({'A': 1, 'B': 2, 'C1': 3, 'C2': 4, 'D': 5, 'E': 6, np.nan: 3})\n",
    "survival_data.fillna(survival_data.mean(), inplace=True)"
   ]
  },
  {
   "cell_type": "markdown",
   "id": "2a134fb5",
   "metadata": {},
   "source": [
    "### Frequentist Cox Proportional Hazards\n",
    "We’ll use `lifelines` to fit a Cox model."
   ]
  },
  {
   "cell_type": "code",
   "execution_count": null,
   "id": "44859314",
   "metadata": {},
   "outputs": [],
   "source": [
    "# Frequentist Cox model\n",
    "cox_model = CoxPHFitter()\n",
    "cox_model.fit(survival_data, duration_col='Time_to_CVD', event_col='CVD_Incidence')\n",
    "\n",
    "# Display results\n",
    "print(\"Frequentist Cox Proportional Hazards Results:\")\n",
    "cox_model.print_summary()"
   ]
  },
  {
   "cell_type": "markdown",
   "id": "06c5a911",
   "metadata": {},
   "source": [
    "### Bayesian Survival Regression\n",
    "We’ll use PyMC to fit a Weibull survival model, a common choice for Bayesian survival analysis."
   ]
  },
  {
   "cell_type": "code",
   "execution_count": null,
   "id": "1dd4a9bb",
   "metadata": {},
   "outputs": [],
   "source": [
    "# Bayesian survival regression (Weibull model)\n",
    "with pm.Model() as bayes_survival:\n",
    "    # Priors for coefficients\n",
    "    beta_age = pm.Normal('Age', mu=0, sigma=1)\n",
    "    beta_sex = pm.Normal('Sex', mu=0, sigma=1)\n",
    "    beta_smoking = pm.Normal('Smoking', mu=0, sigma=1)\n",
    "    beta_activity = pm.Normal('Physical_Activity', mu=0, sigma=1)\n",
    "    beta_class = pm.Normal('Social_Class', mu=0, sigma=1)\n",
    "    beta_sugar = pm.Normal('Sugar_Intake', mu=0, sigma=1)\n",
    "    beta_sfa = pm.Normal('SFA_Intake', mu=0, sigma=1)\n",
    "    alpha = pm.Normal('alpha', mu=1, sigma=1)  # Shape parameter for Weibull\n",
    "\n",
    "    # Linear predictor for scale (lambda)\n",
    "    log_lambda = (beta_age * survival_data['Age'] + beta_sex * survival_data['Sex'] +\n",
    "                  beta_smoking * survival_data['Smoking'] + beta_activity * survival_data['Physical_Activity'] +\n",
    "                  beta_class * survival_data['Social_Class'] + beta_sugar * survival_data['Sugar_Intake'] +\n",
    "                  beta_sfa * survival_data['SFA_Intake'])\n",
    "    lambda_ = pm.math.exp(log_lambda)\n",
    "\n",
    "    # Likelihood (Weibull distribution)\n",
    "    time_obs = pm.Weibull('time_obs', alpha=alpha, beta=lambda_, observed=survival_data['Time_to_CVD'])\n",
    "\n",
    "    # Sample from posterior\n",
    "    trace_survival = pm.sample(1000, tune=1000, return_inferencedata=True)\n",
    "\n",
    "# Summary of posterior\n",
    "print(\"Bayesian Survival Regression Results:\")\n",
    "print(az.summary(trace_survival, var_names=['Age', 'Sex', 'Smoking', 'Physical_Activity', 'Social_Class', 'Sugar_Intake', 'SFA_Intake']))"
   ]
  },
  {
   "cell_type": "markdown",
   "id": "3843650f",
   "metadata": {},
   "source": [
    "## Step 6: Prospective Analysis - BMI Change and CVD Incidence 🔄\n",
    "\n",
    "Let’s analyze prospective changes in BMI over time and their association with CVD incidence, using Frequentist (mixed-effects model) and Bayesian regression.\n",
    "\n",
    "### Data Preparation\n",
    "We’ll reshape the data into long format for prospective analysis."
   ]
  },
  {
   "cell_type": "code",
   "execution_count": null,
   "id": "8635f98d",
   "metadata": {},
   "outputs": [],
   "source": [
    "# Reshape data into long format for prospective analysis\n",
    "long_data = pd.melt(data, \n",
    "                    id_vars=['ID', 'Age', 'Sex', 'Smoking', 'Physical_Activity', 'Social_Class', 'Sugar_Intake', 'SFA_Intake', 'CVD_Incidence'],\n",
    "                    value_vars=['BMI_Baseline', 'BMI_Year2', 'BMI_Year4', 'BMI_Year6'],\n",
    "                    var_name='Time', value_name='BMI')\n",
    "long_data['Time'] = long_data['Time'].map({'BMI_Baseline': 0, 'BMI_Year2': 2, 'BMI_Year4': 4, 'BMI_Year6': 6})\n",
    "\n",
    "# Encode categorical variables\n",
    "long_data['Sex'] = le.fit_transform(long_data['Sex'].astype(str))\n",
    "long_data['Smoking'] = le.fit_transform(long_data['Smoking'].astype(str))\n",
    "long_data['Physical_Activity'] = long_data['Physical_Activity'].map({'Low': 0, 'Medium': 1, 'High': 2, np.nan: 0})\n",
    "long_data['Social_Class'] = long_data['Social_Class'].map({'A': 1, 'B': 2, 'C1': 3, 'C2': 4, 'D': 5, 'E': 6, np.nan: 3})\n",
    "\n",
    "# Impute missing data\n",
    "numeric_cols = long_data.select_dtypes(include=[np.number]).columns\n",
    "long_data[numeric_cols] = long_data[numeric_cols].fillna(long_data[numeric_cols].mean())"
   ]
  },
  {
   "cell_type": "markdown",
   "id": "0e1447c7",
   "metadata": {},
   "source": [
    "### Frequentist Mixed-Effects Model for BMI Change\n",
    "We’ll use `statsmodels` to fit a mixed-effects model for BMI over time."
   ]
  },
  {
   "cell_type": "code",
   "execution_count": null,
   "id": "93010968",
   "metadata": {},
   "outputs": [],
   "source": [
    "# Frequentist mixed-effects model for BMI change\n",
    "freq_mixed_model = mixedlm(\"BMI ~ Time + Age + Sex + Smoking + Physical_Activity + Social_Class + Sugar_Intake + SFA_Intake\", \n",
    "                           long_data, groups=long_data['ID'])\n",
    "freq_mixed_result = freq_mixed_model.fit()\n",
    "\n",
    "# Display results\n",
    "print(\"Frequentist Mixed-Effects Model for BMI Change:\")\n",
    "print(freq_mixed_result.summary())"
   ]
  },
  {
   "cell_type": "markdown",
   "id": "e0428421",
   "metadata": {},
   "source": [
    "### Bayesian Mixed-Effects Model for BMI Change\n",
    "We’ll use PyMC to fit a Bayesian mixed-effects model."
   ]
  },
  {
   "cell_type": "code",
   "execution_count": null,
   "id": "b330d7ce",
   "metadata": {},
   "outputs": [],
   "source": [
    "# Bayesian mixed-effects model for BMI change\n",
    "with pm.Model() as bayes_mixed:\n",
    "    # Random intercepts for each participant\n",
    "    intercept = pm.Normal('Intercept', mu=0, sigma=10)\n",
    "    slope = pm.Normal('Slope', mu=0, sigma=1)\n",
    "    beta_age = pm.Normal('Age', mu=0, sigma=1)\n",
    "    beta_sex = pm.Normal('Sex', mu=0, sigma=1)\n",
    "    beta_smoking = pm.Normal('Smoking', mu=0, sigma=1)\n",
    "    beta_activity = pm.Normal('Physical_Activity', mu=0, sigma=1)\n",
    "    beta_class = pm.Normal('Social_Class', mu=0, sigma=1)\n",
    "    beta_sugar = pm.Normal('Sugar_Intake', mu=0, sigma=1)\n",
    "    beta_sfa = pm.Normal('SFA_Intake', mu=0, sigma=1)\n",
    "    sigma = pm.HalfNormal('sigma', sigma=1)\n",
    "\n",
    "    # Linear model\n",
    "    mu = (intercept + slope * long_data['Time'] + beta_age * long_data['Age'] +\n",
    "          beta_sex * long_data['Sex'] + beta_smoking * long_data['Smoking'] +\n",
    "          beta_activity * long_data['Physical_Activity'] + beta_class * long_data['Social_Class'] +\n",
    "          beta_sugar * long_data['Sugar_Intake'] + beta_sfa * long_data['SFA_Intake'])\n",
    "\n",
    "    # Likelihood\n",
    "    bmi_obs = pm.Normal('bmi_obs', mu=mu, sigma=sigma, observed=long_data['BMI'])\n",
    "\n",
    "    # Sample from posterior\n",
    "    trace_mixed = pm.sample(1000, tune=1000, return_inferencedata=True)\n",
    "\n",
    "# Summary of posterior\n",
    "print(\"Bayesian Mixed-Effects Model for BMI Change:\")\n",
    "print(az.summary(trace_mixed, var_names=['Intercept', 'Slope', 'Age', 'Sex', 'Smoking', 'Physical_Activity', 'Social_Class', 'Sugar_Intake', 'SFA_Intake']))"
   ]
  },
  {
   "cell_type": "markdown",
   "id": "3cf3fdd0",
   "metadata": {},
   "source": [
    "### Frequentist Logistic Regression for CVD Incidence (Prospective)\n",
    "We’ll use logistic regression to assess prospective predictors of CVD incidence."
   ]
  },
  {
   "cell_type": "code",
   "execution_count": null,
   "id": "fafb0ab9",
   "metadata": {},
   "outputs": [],
   "source": [
    "# Frequentist logistic regression for CVD incidence (prospective)\n",
    "from sklearn.linear_model import LogisticRegression\n",
    "\n",
    "# Prepare data (use baseline predictors and average BMI over time)\n",
    "prospective_data = long_data.groupby('ID').agg({\n",
    "    'Age': 'first', 'Sex': 'first', 'Smoking': 'first', 'Physical_Activity': 'first',\n",
    "    'Social_Class': 'first', 'Sugar_Intake': 'first', 'SFA_Intake': 'first', 'CVD_Incidence': 'first',\n",
    "    'BMI': 'mean'\n",
    "}).reset_index()\n",
    "\n",
    "# Fit logistic regression\n",
    "X_prosp = prospective_data[['Age', 'Sex', 'Smoking', 'Physical_Activity', 'Social_Class', 'Sugar_Intake', 'SFA_Intake', 'BMI']]\n",
    "y_prosp = prospective_data['CVD_Incidence']\n",
    "freq_logistic = LogisticRegression(max_iter=1000)\n",
    "freq_logistic.fit(X_prosp, y_prosp)\n",
    "\n",
    "# Coefficients\n",
    "freq_logistic_coefs = pd.DataFrame({\n",
    "    'Predictor': X_prosp.columns,\n",
    "    'Coefficient': freq_logistic.coef_[0]\n",
    "})\n",
    "print(\"Frequentist Logistic Regression for CVD Incidence:\")\n",
    "print(freq_logistic_coefs)"
   ]
  },
  {
   "cell_type": "markdown",
   "id": "a2c2b700",
   "metadata": {},
   "source": [
    "### Bayesian Logistic Regression for CVD Incidence (Prospective)\n",
    "We’ll use PyMC to fit a Bayesian logistic regression model."
   ]
  },
  {
   "cell_type": "code",
   "execution_count": null,
   "id": "6df75201",
   "metadata": {},
   "outputs": [],
   "source": [
    "# Bayesian logistic regression for CVD incidence\n",
    "with pm.Model() as bayes_logistic:\n",
    "    # Priors\n",
    "    beta_age = pm.Normal('Age', mu=0, sigma=1)\n",
    "    beta_sex = pm.Normal('Sex', mu=0, sigma=1)\n",
    "    beta_smoking = pm.Normal('Smoking', mu=0, sigma=1)\n",
    "    beta_activity = pm.Normal('Physical_Activity', mu=0, sigma=1)\n",
    "    beta_class = pm.Normal('Social_Class', mu=0, sigma=1)\n",
    "    beta_sugar = pm.Normal('Sugar_Intake', mu=0, sigma=1)\n",
    "    beta_sfa = pm.Normal('SFA_Intake', mu=0, sigma=1)\n",
    "    beta_bmi = pm.Normal('BMI', mu=0, sigma=1)\n",
    "\n",
    "    # Linear predictor\n",
    "    logits = (beta_age * X_prosp['Age'] + beta_sex * X_prosp['Sex'] +\n",
    "              beta_smoking * X_prosp['Smoking'] + beta_activity * X_prosp['Physical_Activity'] +\n",
    "              beta_class * X_prosp['Social_Class'] + beta_sugar * X_prosp['Sugar_Intake'] +\n",
    "              beta_sfa * X_prosp['SFA_Intake'] + beta_bmi * X_prosp['BMI'])\n",
    "\n",
    "    # Likelihood\n",
    "    cvd_obs = pm.Bernoulli('cvd_obs', logit_p=logits, observed=y_prosp)\n",
    "\n",
    "    # Sample from posterior\n",
    "    trace_logistic = pm.sample(1000, tune=1000, return_inferencedata=True)\n",
    "\n",
    "# Summary of posterior\n",
    "print(\"Bayesian Logistic Regression for CVD Incidence:\")\n",
    "print(az.summary(trace_logistic, var_names=['Age', 'Sex', 'Smoking', 'Physical_Activity', 'Social_Class', 'Sugar_Intake', 'SFA_Intake', 'BMI']))"
   ]
  },
  {
   "cell_type": "markdown",
   "id": "e81961d2",
   "metadata": {},
   "source": [
    "## Step 7: Learning Points and Next Steps 🎓\n",
    "\n",
    "### Learning Points\n",
    "- **Table 1**: Summarised baseline characteristics, providing a clear overview of the study population.\n",
    "- **Missing Data**: Identified patterns of missingness (~8% per variable), which should be considered in analysis (e.g., imputation strategies).\n",
    "- **Cross-Sectional Analysis**: Frequentist and Bayesian regression showed similar predictors of baseline BMI, with Bayesian providing uncertainty quantification.\n",
    "- **Survival Analysis**: Cox and Bayesian survival models highlighted SFA intake as a key predictor of CVD incidence, consistent with the simulated association.\n",
    "- **Prospective Analysis**: Mixed-effects models confirmed sugar intake’s association with BMI increase, and logistic regression identified predictors of CVD incidence, with Bayesian models offering probabilistic insights.\n",
    "\n",
    "### Next Steps\n",
    "- **Advanced Imputation**: Use multiple imputation for missing data to reduce bias.\n",
    "- **Interaction Terms**: Explore interactions (e.g., age × SFA intake) in survival models.\n",
    "- **Sensitivity Analysis**: Test the impact of different priors in Bayesian models.\n",
    "- **Further Outcomes**: Analyze other outcomes, like blood pressure changes over time.\n",
    "\n",
    "*Keep exploring epidemiological methods to uncover insights in nutrition science! 🥕📉*\n",
    "\n",
    "---\n",
    "\n",
    "### Setup Requirements\n",
    "1. **Install Libraries**:\n",
    "   ```bash\n",
    "   source ~/Documents/data-analysis-projects/venv/bin/activate\n",
    "   pip install numpy pandas matplotlib seaborn scipy pymc arviz scikit-learn lifelines statsmodels\n",
    "   ```\n",
    "2. **Environment**: Python 3.9, compatible with Apple Silicon (MPS).\n",
    "3. **Dataset**: Ensure `data/epidemiological_study.csv` is available (generated by the simulation script).\n",
    "\n",
    "### Expected Output\n",
    "- **Table 1**: Descriptive statistics for baseline characteristics.\n",
    "- **Missing Data Plot**: Heatmap showing missing data patterns.\n",
    "- **Cross-Sectional Results**: Coefficients from Frequentist and Bayesian regression for baseline BMI.\n",
    "- **Survival Results**: Hazard ratios (Frequentist) and posterior summaries (Bayesian) for CVD incidence.\n",
    "- **Prospective Results**: Coefficients for BMI change and CVD incidence from Frequentist and Bayesian models."
   ]
  }
 ],
 "metadata": {
  "kernelspec": {
   "display_name": "venv",
   "language": "python",
   "name": "python3"
  },
  "language_info": {
   "codemirror_mode": {
    "name": "ipython",
    "version": 3
   },
   "file_extension": ".py",
   "mimetype": "text/x-python",
   "name": "python",
   "nbconvert_exporter": "python",
   "pygments_lexer": "ipython3",
   "version": "3.9.6"
  }
 },
 "nbformat": 4,
 "nbformat_minor": 5
}
