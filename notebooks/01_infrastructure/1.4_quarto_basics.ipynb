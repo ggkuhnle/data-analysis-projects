{
 "cells": [
  {
   "cell_type": "markdown",
   "id": "intro",
   "metadata": {},
   "source": [
    "# 📓 1.4 Quarto Basics\n",
    "\n",
    "This notebook introduces Quarto, a tool for creating reproducible documents combining code, text, and visuals, ideal for nutrition research reports.\n",
    "\n",
    "**Objectives**:\n",
    "- Understand Quarto’s role in reproducible research.\n",
    "- Create a simple Quarto document with Python code.\n",
    "- Render the document to HTML.\n",
    "\n",
    "**Context**: Quarto is used in this toolkit (e.g., `index.qmd`) to share analyses, perfect for MSc projects.\n",
    "\n",
    "<details><summary>Fun Fact</summary>\n",
    "A Quarto document is like a hippo’s lab report—neat, detailed, and ready to share! 🦛\n",
    "</details>"
   ]
  },
  {
   "cell_type": "markdown",
   "id": "0f043831",
   "metadata": {},
   "source": [
    "# 📝 What is Quarto?\n",
    "\n",
    "**Quarto** is an open-source scientific and technical publishing system that allows you to create fully reproducible documents that combine **code, narrative text, and visuals**. It's designed for **researchers, analysts, and data scientists** who need to communicate their findings in a clear, flexible, and transparent way.\n",
    "\n",
    "---\n",
    "\n",
    "<details>\n",
    "<summary><strong>🔍 Why use Quarto?</strong></summary>\n",
    "\n",
    "#### ✅ **Key Features of Quarto**:\n",
    "\n",
    "- **Integrates code and text**: You can mix code chunks (e.g., Python, R) with Markdown-formatted narrative.\n",
    "- **Supports multiple languages**: Python, R, Julia, and Observable JavaScript.\n",
    "- **Reproducible**: When rendered, Quarto re-runs the code and embeds the updated results in the document.\n",
    "- **Flexible output formats**: HTML, PDF, MS Word, slides, and even books or websites.\n",
    "- **Version control-friendly**: Plain text `.qmd` files play well with Git and GitHub.\n",
    "- **Interactive**: Can be extended with Shiny apps, interactive widgets, or even interactive Python plots via Plotly or Bokeh.\n",
    "\n",
    "</details>\n",
    "\n",
    "---\n",
    "\n",
    "## 📊 What Can You Use Quarto For?\n",
    "\n",
    "| Use Case | Description |\n",
    "|----------|-------------|\n",
    "| **Data Reports** | Generate clean, consistent research reports that combine code, figures, and analysis. |\n",
    "| **Lab Notebooks** | Create digital, reproducible records of your work—great for MSc projects or collaborations. |\n",
    "| **Teaching Materials** | Prepare slides, handouts, and web-based tutorials from a single source. |\n",
    "| **Websites** | Build research or teaching websites with integrated data and results. |\n",
    "| **Dashboards** | With extensions, you can even build interactive dashboards. |\n",
    "\n",
    "---\n",
    "\n",
    "<details>\n",
    "<summary><strong>💡 Example: Nutrition Study Report</strong></summary>\n",
    "\n",
    "Imagine you've analysed data on polyphenol intake from the NDNS dataset. Using Quarto, you could:\n",
    "\n",
    "- Load your dataset with Python\n",
    "- Run statistical models\n",
    "- Generate plots and tables\n",
    "- Write up your interpretation\n",
    "- Render a beautiful, standalone report in HTML or PDF format  \n",
    "—all from a single `.qmd` file!\n",
    "\n",
    "</details>\n",
    "\n",
    "---\n",
    "\n",
    "## 💾 How Does It Work?\n",
    "\n",
    "A Quarto file uses the `.qmd` extension and typically includes:\n",
    "\n",
    "```yaml\n",
    "---\n",
    "title: \"Example Analysis\"\n",
    "format: html\n",
    "---\n",
    "\n",
    "## Results\n",
    "\n",
    "\"```{python}\n",
    "import pandas as pd\n",
    "df = pd.read_csv(\"data.csv\")\n",
    "df.describe()\n",
    "```\"\n",
    "\n",
    "```\n",
    "\n",
    "When you run `quarto render myfile.qmd`, it executes the code and creates a final document with the output embedded. This ensures your analysis and documentation are always in sync.\n",
    "\n",
    "---\n",
    "\n",
    "📚 [Quarto Documentation →](https://quarto.org)  \n",
    "🎓 Great for MSc nutrition, food science, and sensory analysis students who need reliable, readable, and shareable outputs.\n"
   ]
  },
  {
   "cell_type": "markdown",
   "id": "b3719fb2",
   "metadata": {},
   "source": [
    "## 🧪 From Concept to Practice\n",
    "\n",
    "Now that you know what Quarto is and why it matters, let’s see it in action! To explore how Quarto supports reproducible research, we’ll start by working with a small dataset — hippo_diets.csv. This dataset, just like your own project data, can be analysed and visualised directly in Quarto documents.\n",
    "\n",
    "In the next steps, we’ll load the data and prepare a simple plot, which we’ll later embed into a Quarto report. Let’s dive in!"
   ]
  },
  {
   "cell_type": "code",
   "execution_count": null,
   "id": "colab_setup",
   "metadata": {},
   "outputs": [],
   "source": [
    "# Setup for Google Colab: Fetch datasets automatically or manually\n",
    "import os\n",
    "from google.colab import files\n",
    "MODULE = '01_infrastructure'\n",
    "DATASET = 'hippo_diets.csv'\n",
    "BASE_PATH = '/content/data-analysis-projects'\n",
    "MODULE_PATH = os.path.join(BASE_PATH, 'notebooks', MODULE)\n",
    "DATASET_PATH = os.path.join('data', DATASET)\n",
    "try:\n",
    "    print('Attempting to clone repository...')\n",
    "    if os.path.exists(BASE_PATH):\n",
    "        print('Repository already exists, skipping clone.')\n",
    "    else:\n",
    "        !git clone https://github.com/ggkuhnle/data-analysis-projects.git\n",
    "    !ls {BASE_PATH}\n",
    "    !ls {BASE_PATH}/notebooks\n",
    "    if not os.path.exists(MODULE_PATH):\n",
    "        raise FileNotFoundError(f'Module directory {MODULE_PATH} not found.')\n",
    "    os.chdir(MODULE_PATH)\n",
    "    if os.path.exists(DATASET_PATH):\n",
    "        print(f'Dataset found: {DATASET_PATH} 🦛')\n",
    "    else:\n",
    "        raise FileNotFoundError\n",
    "except Exception as e:\n",
    "    print(f'Cloning failed: {e}')\n",
    "    print('Falling back to manual upload option...')\n",
    "    os.makedirs('data', exist_ok=True)\n",
    "    uploaded = files.upload()\n",
    "    if DATASET in uploaded:\n",
    "        with open(DATASET_PATH, 'wb') as f:\n",
    "            f.write(uploaded[DATASET])\n",
    "        print(f'Successfully uploaded {DATASET} 🦛')\n",
    "    else:\n",
    "        raise FileNotFoundError"
   ]
  },
  {
   "cell_type": "code",
   "execution_count": 1,
   "id": "setup",
   "metadata": {},
   "outputs": [
    {
     "name": "stdout",
     "output_type": "stream",
     "text": [
      "Quarto environment ready.\n"
     ]
    }
   ],
   "source": [
    "%pip install pandas matplotlib\n",
    "import pandas as pd\n",
    "import matplotlib.pyplot as plt\n",
    "print('Quarto environment ready.')"
   ]
  },
  {
   "cell_type": "markdown",
   "id": "quarto",
   "metadata": {},
   "source": [
    "## Creating a Quarto Document\n",
    "Load `hippo_diets.csv` and create a plot to include in a Quarto document."
   ]
  },
  {
   "cell_type": "code",
   "execution_count": 2,
   "id": "plot",
   "metadata": {},
   "outputs": [],
   "source": [
    "df = pd.read_csv('data/hippo_diets.csv')\n",
    "plt.hist(df['Calories'], bins=10, color='teal', edgecolor='black')\n",
    "plt.xlabel('Calories (kcal)')\n",
    "plt.ylabel('Frequency')\n",
    "plt.title('Distribution of Hippo Calorie Intakes')\n",
    "plt.grid(True, alpha=0.3)\n",
    "plt.show()"
   ]
  },
  {
   "cell_type": "markdown",
   "id": "exercise",
   "metadata": {},
   "source": [
    "## Exercise 1: Draft a Quarto File\n",
    "Create a file `my_quarto.qmd` with the following:\n",
    "```yaml\n",
    "---\n",
    "title: \"Hippo Diet Analysis\"\n",
    "format: html\n",
    "---\n",
    "\n",
    "## Calorie Distribution\n",
    "\n",
    "```{python}\n",
    "# Paste your histogram code here\n",
    "```\n",
    "```\n",
    "Render it using `quarto render my_quarto.qmd` in a terminal. Document your experience below."
   ]
  },
  {
   "cell_type": "markdown",
   "id": "your_answer",
   "metadata": {},
   "source": [
    "**Answer**:\n",
    "I created and rendered the Quarto file by..."
   ]
  },
  {
   "cell_type": "markdown",
   "id": "wrap",
   "metadata": {},
   "source": [
    "## Conclusion\n",
    "\n",
    "You’ve learned to use Quarto for reproducible documents, enhancing your nutrition research outputs.\n",
    "\n",
    "**Next Steps**: Begin programming basics in 2.1.\n",
    "**Resources**:\n",
    "\n",
    "- [Quarto Documentation](https://quarto.org/)\n",
    "- [Quarto GitHub](https://github.com/quarto-dev/quarto-cli)\n",
    "- Repository: [github.com/ggkuhnle/data-analysis-projects](https://github.com/ggkuhnle/data-analysis-projects)"
   ]
  }
 ],
 "metadata": {
  "kernelspec": {
   "display_name": "Python 3",
   "language": "python",
   "name": "python3"
  },
  "language_info": {
   "name": "python"
  }
 },
 "nbformat": 4,
 "nbformat_minor": 5
}
