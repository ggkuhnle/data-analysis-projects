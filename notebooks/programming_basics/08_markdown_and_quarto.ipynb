{
 "cells": [
  {
   "cell_type": "markdown",
   "id": "04b4073d",
   "metadata": {},
   "source": [
    "# 📝 Markdown and Quarto Basics\n",
    "\n",
    "This notebook introduces **Markdown**, a simple way to create **formatted text** in notebooks, reports, and documents — and how **Quarto** builds on it.\n",
    "\n",
    "If you’ve ever written in Word or added comments in Excel, you’ve used rich text. Markdown brings this to **data science tools**.\n"
   ]
  },
  {
   "cell_type": "markdown",
   "id": "863f9c0a",
   "metadata": {},
   "source": [
    "## ✨ What is Markdown?\n",
    "\n",
    "Markdown lets you format text using plain characters.\n",
    "\n",
    "Examples:\n",
    "\n",
    "```markdown\n",
    "# Heading\n",
    "**bold** and *italic*\n",
    "- Bullet list\n",
    "1. Numbered list\n",
    "`code` or ```python blocks``` for code\n",
    "```\n",
    "\n",
    "It's used in:\n",
    "- Jupyter Notebooks\n",
    "- GitHub README files\n",
    "- Quarto reports\n"
   ]
  },
  {
   "cell_type": "markdown",
   "id": "23c0f939",
   "metadata": {},
   "source": [
    "## 🧪 Try It Yourself\n",
    "\n",
    "Try writing some of the following in a new Markdown cell:\n",
    "\n",
    "```markdown\n",
    "# Hippo Report 🦛\n",
    "\n",
    "**Name:** Matilda  \n",
    "**Weight:** 1300 kg  \n",
    "*She is a very large and peaceful hippo.*\n",
    "```"
   ]
  },
  {
   "cell_type": "markdown",
   "id": "1e9a787f",
   "metadata": {},
   "source": [
    "## 🧰 What is Quarto?\n",
    "\n",
    "**Quarto** is a tool for creating high-quality, reproducible documents  \n",
    "from notebooks, Markdown, or code — kind of like a modern version of RMarkdown.\n",
    "\n",
    "You can create:\n",
    "\n",
    "- PDF/HTML reports\n",
    "- Slides\n",
    "- Websites\n",
    "- Dashboards\n",
    "\n",
    "See [https://quarto.org](https://quarto.org)\n"
   ]
  },
  {
   "cell_type": "markdown",
   "id": "5d6082b0",
   "metadata": {},
   "source": [
    "## 💡 Use Cases\n",
    "\n",
    "| Tool      | Best For                          |\n",
    "|-----------|-----------------------------------|\n",
    "| Markdown  | Notes, formatting, READMEs        |\n",
    "| Notebook  | Interactive data/code examples    |\n",
    "| Script    | Reusable code, automation         |\n",
    "| Quarto    | Publishing, reproducible reports  |\n",
    "\n"
   ]
  },
  {
   "cell_type": "markdown",
   "id": "fa42c7a2",
   "metadata": {},
   "source": [
    "## 🧪 Exercises\n",
    "\n",
    "1. Add a Markdown cell and create a food label with bold/italic.\n",
    "2. Make a list of your three favourite fruit.\n",
    "3. Optional: Try opening a `.qmd` file and see how it renders in Quarto.\n"
   ]
  },
  {
   "cell_type": "markdown",
   "id": "e1dd0b20",
   "metadata": {},
   "source": [
    "## 🔍 Advanced View\n",
    "\n",
    "<details><summary>Click to expand</summary>\n",
    "\n",
    "### Why use Markdown?\n",
    "\n",
    "- It’s lightweight — no formatting menus\n",
    "- Works anywhere (GitHub, Jupyter, VS Code)\n",
    "- Encourages readable, structured content\n",
    "\n",
    "### Why use Quarto?\n",
    "\n",
    "- Combines **code**, **text**, **figures**, **citations**\n",
    "- Works with Python, R, Julia, Observable\n",
    "- Publish as websites or PDFs\n",
    "\n",
    "</details>\n"
   ]
  }
 ],
 "metadata": {},
 "nbformat": 4,
 "nbformat_minor": 5
}
