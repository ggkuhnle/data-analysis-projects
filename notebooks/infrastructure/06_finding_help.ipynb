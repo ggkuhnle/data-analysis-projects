{
 "cells": [
  {
   "cell_type": "markdown",
   "id": "9f761ede",
   "metadata": {},
   "source": [
    "# 🧠 Finding Help and Documentation\n",
    "\n",
    "One of the most important skills in data science is knowing **how to find help** when you're stuck.\n",
    "\n",
    "Python (and its ecosystem) has vast documentation and a huge community — if you know how to ask.\n"
   ]
  },
  {
   "cell_type": "markdown",
   "id": "f3fb6e18",
   "metadata": {},
   "source": [
    "## 💡 Basic View\n",
    "\n",
    "### Start with `?` in Jupyter\n",
    "\n",
    "You can get help inside a notebook using a `?`:\n",
    "\n",
    "```python\n",
    "len?\n",
    "```\n",
    "\n",
    "This shows the docstring — the little help box for the function.\n"
   ]
  },
  {
   "cell_type": "code",
   "execution_count": null,
   "id": "cb37cac3",
   "metadata": {},
   "outputs": [],
   "source": [
    "# Try running this\n",
    "len?"
   ]
  },
  {
   "cell_type": "markdown",
   "id": "95a71859",
   "metadata": {},
   "source": [
    "### The `help()` function\n",
    "\n",
    "You can also use Python's built-in help system:\n",
    "\n",
    "```python\n",
    "help(len)\n",
    "```\n",
    "\n",
    "Or ask about a package:\n",
    "\n",
    "```python\n",
    "import pandas as pd\n",
    "help(pd.read_csv)\n",
    "```\n"
   ]
  },
  {
   "cell_type": "markdown",
   "id": "6d88f393",
   "metadata": {},
   "source": [
    "### Google it — the smart way\n",
    "\n",
    "Good search terms:\n",
    "- “pandas drop NA”\n",
    "- “python list comprehension examples”\n",
    "- “matplotlib change axis labels”\n",
    "\n",
    "❌ Avoid:\n",
    "- “Python broken why”\n",
    "- “Help Python code error”\n"
   ]
  },
  {
   "cell_type": "markdown",
   "id": "98de813d",
   "metadata": {},
   "source": [
    "## 🔍 Advanced View\n",
    "\n",
    "<details><summary>Click to expand</summary>\n",
    "\n",
    "### Official Docs (high quality)\n",
    "\n",
    "- [pandas.pydata.org](https://pandas.pydata.org/docs/)\n",
    "- [matplotlib.org](https://matplotlib.org/stable/index.html)\n",
    "- [scikit-learn.org](https://scikit-learn.org/)\n",
    "- [Quarto Docs](https://quarto.org/docs/)\n",
    "\n",
    "### Stack Overflow tips\n",
    "\n",
    "- Search for error messages *in quotes*\n",
    "- Look for posts with ✅ accepted answers\n",
    "- If asking: always include a **minimal reproducible example**\n",
    "\n",
    "</details>\n"
   ]
  },
  {
   "cell_type": "markdown",
   "id": "fa93bf3f",
   "metadata": {},
   "source": [
    "## 🧪 Exercises\n",
    "\n",
    "1. Use `help()` to learn about `sum()` and `sorted()`.\n",
    "2. Google “pandas groupby plot” and try a small example.\n",
    "3. Optional: Try to find the official seaborn documentation and read how to make a violin plot.\n"
   ]
  }
 ],
 "metadata": {},
 "nbformat": 4,
 "nbformat_minor": 5
}
