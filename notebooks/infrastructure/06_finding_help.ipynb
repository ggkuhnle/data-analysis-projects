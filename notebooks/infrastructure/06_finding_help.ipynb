{
  "cells": [
    {
      "cell_type": "markdown",
      "id": "9f761ede",
      "metadata": {},
      "source": [
        "# \ud83e\udde0 Finding Help and Documentation\n",
        "\n",
        "One of the most important skills in data science is knowing **how to find help** when you're stuck.\n",
        "\n",
        "Python (and its ecosystem) has vast documentation and a huge community \u2014 if you know how to ask.\n"
      ]
    },
    {
      "cell_type": "markdown",
      "id": "f3fb6e18",
      "metadata": {},
      "source": [
        "## \ud83d\udca1 Basic View\n",
        "\n",
        "### Start with `?` in Jupyter\n",
        "\n",
        "You can get help inside a notebook using a `?`:\n",
        "\n",
        "```python\n",
        "len?\n",
        "```\n",
        "\n",
        "This shows the docstring \u2014 the little help box for the function.\n"
      ]
    },
    {
      "cell_type": "code",
      "execution_count": null,
      "id": "cb37cac3",
      "metadata": {},
      "outputs": [],
      "source": [
        "# Try running this\n",
        "len?"
      ]
    },
    {
      "cell_type": "markdown",
      "id": "95a71859",
      "metadata": {},
      "source": [
        "### The `help()` function\n",
        "\n",
        "You can also use Python's built-in help system:\n",
        "\n",
        "```python\n",
        "help(len)\n",
        "```\n",
        "\n",
        "Or ask about a package:\n",
        "\n",
        "```python\n",
        "import pandas as pd\n",
        "help(pd.read_csv)\n",
        "```\n"
      ]
    },
    {
      "cell_type": "markdown",
      "id": "6d88f393",
      "metadata": {},
      "source": [
        "### Google it \u2014 the smart way\n",
        "\n",
        "Good search terms:\n",
        "- \u201cpandas drop NA\u201d\n",
        "- \u201cpython list comprehension examples\u201d\n",
        "- \u201cmatplotlib change axis labels\u201d\n",
        "\n",
        "\u274c Avoid:\n",
        "- \u201cPython broken why\u201d\n",
        "- \u201cHelp Python code error\u201d\n"
      ]
    },
    {
      "cell_type": "markdown",
      "id": "added-dot-notation",
      "metadata": {},
      "source": [
        "### Dot notation: exploring capabilities\n",
        "\n",
        "In Python, most things are objects. You can explore what an object can do using **dot notation**.\n",
        "\n",
        "```python\n",
        "mylist = [1, 2, 3]\n",
        "mylist.\n",
        "```\n",
        "\n",
        "If you press `Tab` after the dot in Jupyter, you'll see a list of methods.\n",
        "\n",
        "You can also check what a method does with `?`, e.g.:\n",
        "\n",
        "```python\n",
        "mylist.append?\n",
        "```\n",
        "\n",
        "This is especially useful with pandas and other libraries to discover what options you have."
      ]
    },
    {
      "cell_type": "markdown",
      "id": "98de813d",
      "metadata": {},
      "source": [
        "## \ud83d\udd0d Advanced View\n",
        "\n",
        "<details><summary>Click to expand</summary>\n",
        "\n",
        "### Official Docs (high quality)\n",
        "\n",
        "- [pandas.pydata.org](https://pandas.pydata.org/docs/)\n",
        "- [matplotlib.org](https://matplotlib.org/stable/index.html)\n",
        "- [scikit-learn.org](https://scikit-learn.org/)\n",
        "- [Quarto Docs](https://quarto.org/docs/)\n",
        "\n",
        "### Stack Overflow tips\n",
        "\n",
        "- Search for error messages *in quotes*\n",
        "- Look for posts with \u2705 accepted answers\n",
        "- If asking: always include a **minimal reproducible example**\n",
        "- Be clear and polite \u2014 remember people are helping for free\n",
        "\n",
        "### How to ask a good question online\n",
        "\n",
        "Include:\n",
        "- What you're trying to do\n",
        "- The code you're using\n",
        "- The error you're getting (copy-paste it!)\n",
        "- What you\u2019ve already tried\n",
        "\n",
        "Avoid:\n",
        "- Vague questions like \u201cit doesn\u2019t work\u201d\n",
        "- Screenshots of code (copy-paste text instead)\n",
        "\n",
        "</details>\n"
      ]
    },
    {
      "cell_type": "markdown",
      "id": "fa93bf3f",
      "metadata": {},
      "source": [
        "## \ud83e\uddea Exercises\n",
        "\n",
        "1. Use `help()` to learn about `sum()` and `sorted()`.\n",
        "2. Google \u201cpandas groupby plot\u201d and try a small example.\n",
        "3. Optional: Try to find the official seaborn documentation and read how to make a violin plot.\n",
        "4. Use dot notation with a list or DataFrame to see what methods are available.\n"
      ]
    }
  ],
  "metadata": {},
  "nbformat": 4,
  "nbformat_minor": 5
}