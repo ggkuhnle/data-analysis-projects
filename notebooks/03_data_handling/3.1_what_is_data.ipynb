{
  "cells": [
    {
      "cell_type": "markdown",
      "id": "intro",
      "metadata": {},
      "source": [
        "# \ud83e\uddee 3.1 Data Types and Structures\n",
        "\n",
        "This notebook explores data structures for nutrition research, focusing on tidy data principles.\n",
        "\n",
        "**Objectives**:\n",
        "- Understand vectors, tables, and tidy data.\n",
        "- Transform data using pandas.\n",
        "- Apply tidy principles to `hippo_nutrients.csv`.\n",
        "\n",
        "**Context**: Tidy data is critical for efficient analysis of nutrition datasets. \ud83e\udd9b\n",
        "\n",
        "<details><summary>Fun Fact</summary>\n",
        "Tidy data is like a hippo\u2019s lunch tray\u2014neat and ready to munch! \ud83e\udd9b\n",
        "</details>"
      ]
    },
    {
      "cell_type": "code",
      "execution_count": null,
      "id": "colab_setup",
      "metadata": {},
      "outputs": [],
      "source": [
        "# Setup for Google Colab: Fetch datasets automatically or manually\n",
        "import os\n",
        "from google.colab import files\n",
        "\n",
        "# Define the module and dataset for this notebook\n",
        "MODULE = '03_data_handling'\n",
        "DATASET = 'hippo_nutrients.csv'\n",
        "DATASET_PATH = os.path.join('data', DATASET)\n",
        "\n",
        "# Step 1: Attempt to clone the repository (automatic method)\n",
        "try:\n",
        "    print('Attempting to clone repository...')\n",
        "    !git clone https://github.com/ggkuhnle/data-analysis-toolkit-FNS.git\n",
        "    os.chdir(f'/content/data-analysis-toolkit-FNS/notebooks/{MODULE}')\n",
        "    if os.path.exists(DATASET_PATH):\n",
        "        print(f'Dataset found: {DATASET_PATH} \ud83e\udd9b')\n",
        "    else:\n",
        "        print(f'Error: Dataset {DATASET} not found after cloning.')\n",
        "        raise FileNotFoundError\n",
        "except Exception as e:\n",
        "    print(f'Cloning failed: {e}')\n",
        "    print('Falling back to manual upload option...')\n",
        "\n",
        "    # Step 2: Manual upload option\n",
        "    print(f'Please upload {DATASET} manually.')\n",
        "    print(f'1. Click the \"Choose Files\" button below.')\n",
        "    print(f'2. Select {DATASET} from your local machine.')\n",
        "    print(f'3. Ensure the file is placed in notebooks/{MODULE}/data/')\n",
        "    \n",
        "    # Create the data directory if it doesn't exist\n",
        "    os.makedirs('data', exist_ok=True)\n",
        "    \n",
        "    # Prompt user to upload the dataset\n",
        "    uploaded = files.upload()\n",
        "    \n",
        "    # Check if the dataset was uploaded\n",
        "    if DATASET in uploaded:\n",
        "        with open(DATASET_PATH, 'wb') as f:\n",
        "            f.write(uploaded[DATASET])\n",
        "        print(f'Successfully uploaded {DATASET} to {DATASET_PATH} \ud83e\udd9b')\n",
        "    else:\n",
        "        raise FileNotFoundError(f'Upload failed. Please ensure you uploaded {DATASET}.')\n",
        "\n",
        "# Install required packages for this notebook\n",
        "%pip install pandas numpy\n",
        "print('Python environment ready.')"
      ]
    },
    {
      "cell_type": "code",
      "execution_count": 1,
      "id": "setup",
      "metadata": {},
      "outputs": [],
      "source": [
        "# Install required packages\n",
        "%pip install pandas  # For Colab users\n",
        "import pandas as pd\n",
        "print('Data handling environment ready.')"
      ]
    },
    {
      "cell_type": "markdown",
      "id": "load_data",
      "metadata": {},
      "source": [
        "## Data Preparation\n",
        "\n",
        "Load `hippo_nutrients.csv` and inspect its structure."
      ]
    },
    {
      "cell_type": "code",
      "execution_count": 2,
      "id": "load",
      "metadata": {},
      "outputs": [
        {
          "name": "stdout",
          "output_type": "stream",
          "text": [
            "   ID Nutrient  Year  Value  Age Sex\n",
            "0  H1     Iron  2024    8.2   25   F\n",
            "1  H1     Iron  2025    8.5   26   F\n"
          ]
        }
      ],
      "source": [
        "df = pd.read_csv('data/hippo_nutrients.csv')\n",
        "print(df.head(2))"
      ]
    },
    {
      "cell_type": "markdown",
      "id": "tidy",
      "metadata": {},
      "source": [
        "## Tidy Data Transformation\n",
        "\n",
        "Reshape the data into a tidy format using `pandas.melt()`."
      ]
    },
    {
      "cell_type": "code",
      "execution_count": 3,
      "id": "melt",
      "metadata": {},
      "outputs": [
        {
          "name": "stdout",
          "output_type": "stream",
          "text": [
            "   ID  Age Sex Nutrient  value\n",
            "0  H1   25   F     Year   2024\n",
            "1  H1   26   F     Year   2025\n"
          ]
        }
      ],
      "source": [
        "df_melted = df.melt(id_vars=['ID', 'Age', 'Sex'], var_name='Nutrient', value_name='value')\n",
        "print(df_melted.head(2))"
      ]
    },
    {
      "cell_type": "markdown",
      "id": "exercise",
      "metadata": {},
      "source": [
        "## Exercise 1: Filter Tidy Data\n",
        "\n",
        "Filter the tidy data to show only iron intakes and describe the result in a Markdown cell.\n",
        "\n",
        "**Guidance**: Use `df_melted[df_melted['Nutrient'] == 'Iron']`."
      ]
    },
    {
      "cell_type": "markdown",
      "id": "your_answer",
      "metadata": {},
      "source": [
        "**Answer**:\n",
        "\n",
        "The filtered iron data shows..."
      ]
    },
    {
      "cell_type": "markdown",
      "id": "wrap",
      "metadata": {},
      "source": [
        "## Conclusion\n",
        "\n",
        "You\u2019ve learned to transform data into a tidy format. Next, explore importing data in 3.2.\n",
        "\n",
        "**Resources**:\n",
        "- [Tidy Data Paper](https://vita.had.co.nz/papers/tidy-data.pdf)\n",
        "- [Pandas Documentation](https://pandas.pydata.org/)\n",
        "- Repository: [github.com/ggkuhnle/data-analysis-toolkit-FNS](https://github.com/ggkuhnle/data-analysis-toolkit-FNS)"
      ]
    }
  ],
  "metadata": {
    "kernelspec": {
      "display_name": "Python 3",
      "language": "python",
      "name": "python3"
    },
    "language_info": {
      "codemirror_mode": {
        "name": "ipython",
        "version": 3
      },
      "file_extension": ".py",
      "mimetype": "text/x-python",
      "name": "python",
      "nbconvert_exporter": "python",
      "pygments_lexer": "ipython3",
      "version": "3.9.7"
    }
  },
  "nbformat": 4,
  "nbformat_minor": 5
}