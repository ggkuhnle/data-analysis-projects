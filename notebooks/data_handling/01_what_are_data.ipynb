{
 "cells": [
  {
   "cell_type": "markdown",
   "id": "07f84fb1",
   "metadata": {},
   "source": [
    "# 📊 3.1 What Are Data? Types and Structures"
   ]
  },
  {
   "cell_type": "markdown",
   "id": "264846a5",
   "metadata": {},
   "source": [
    "Data come in many forms — from simple lists to complex nested tables. Understanding their structure is key to analysing them effectively.\n",
    "\n",
    "### Common structures:\n",
    "- **Vectors**: 1D arrays (e.g. a list of weights)\n",
    "- **Tables (DataFrames)**: 2D labeled arrays with rows and columns\n",
    "- **Tidy Data**: Each column is a variable, each row an observation\n",
    "- **Long vs Wide** formats: important when preparing for plotting or analysis"
   ]
  },
  {
   "cell_type": "code",
   "execution_count": null,
   "id": "837d9419",
   "metadata": {},
   "outputs": [],
   "source": [
    "# Wide format example (one row per individual, columns for each timepoint)\n",
    "import pandas as pd\n",
    "wide_df = pd.DataFrame({\n",
    "    'Name': ['Anna', 'Ben'],\n",
    "    'Iron_2020': [10.1, 12.3],\n",
    "    'Iron_2021': [10.5, 11.8]\n",
    "})\n",
    "wide_df"
   ]
  },
  {
   "cell_type": "markdown",
   "id": "bd8967e6",
   "metadata": {},
   "source": [
    "## 🧪 Exercise\n",
    "Convert the above to long format using `pd.melt()` and explain the result."
   ]
  },
  {
   "cell_type": "markdown",
   "id": "d8386964",
   "metadata": {},
   "source": [
    "### <details><summary>Advanced: Relational vs Tidy Structures</summary>\n",
    "Relational databases use 'normalisation': splitting data across related tables.\n",
    "Tidy data is optimised for analysis, not storage. R's `tidyr` package influenced this.\n",
    "</details>"
   ]
  }
 ],
 "metadata": {},
 "nbformat": 4,
 "nbformat_minor": 5
}
