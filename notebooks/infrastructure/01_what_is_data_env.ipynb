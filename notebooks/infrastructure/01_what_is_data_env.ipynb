{
 "cells": [
  {
   "cell_type": "markdown",
   "id": "560de9f6",
   "metadata": {},
   "source": [
    "# 🌐 What Is a Data Science Environment?\n",
    "\n",
    "A data science environment refers to the tools, libraries, platforms, and workflows used to analyse data. This includes:\n",
    "\n",
    "- Programming languages (Python, R)\n",
    "- Interactive notebooks (Jupyter, Colab)\n",
    "- Libraries for analysis and plotting\n",
    "- Version control (e.g. Git)\n",
    "- Platforms for collaboration (GitHub, Overleaf, etc.)"
   ]
  }
 ],
 "metadata": {},
 "nbformat": 4,
 "nbformat_minor": 5
}
