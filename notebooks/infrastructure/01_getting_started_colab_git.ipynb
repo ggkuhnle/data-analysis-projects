{
 "cells": [
  {
   "cell_type": "markdown",
   "id": "47a3b889",
   "metadata": {},
   "source": [
    "# 🔧 Getting Started with Google Colab and GitHub"
   ]
  },
  {
   "cell_type": "code",
   "execution_count": null,
   "id": "993f2e22",
   "metadata": {},
   "outputs": [],
   "source": [
    "print('Welcome to Colab!')"
   ]
  }
 ],
 "metadata": {},
 "nbformat": 4,
 "nbformat_minor": 5
}
