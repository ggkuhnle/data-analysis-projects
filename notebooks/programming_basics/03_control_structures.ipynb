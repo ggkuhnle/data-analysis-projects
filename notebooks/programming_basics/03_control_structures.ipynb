{
 "cells": [
  {
   "cell_type": "markdown",
   "id": "7ab1831b",
   "metadata": {},
   "source": [
    "# 🔁 Control Structures\n",
    "\n",
    "Using if, elif, else, and loops.\n",
    "```python\n",
    "for i in range(3):\n",
    "    print(i)\n",
    "```"
   ]
  }
 ],
 "metadata": {},
 "nbformat": 4,
 "nbformat_minor": 5
}
