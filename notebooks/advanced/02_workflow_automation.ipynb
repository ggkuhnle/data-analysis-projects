# ⚙️ Workflow Automation

_This notebook will explain Quarto pipelines and GitHub Actions._

🧪 **Exercise**: Auto-render a report using a GitHub workflow.