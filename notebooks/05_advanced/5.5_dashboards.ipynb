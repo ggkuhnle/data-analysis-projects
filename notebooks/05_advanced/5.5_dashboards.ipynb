{
  "cells": [
    {
      "cell_type": "markdown",
      "id": "intro",
      "metadata": {},
      "source": [
        "# 📊 5.5 Creating Dashboards\n",
        "\n",
        "In this notebook you’ll build an **interactive dashboard** for nutrition data with Plotly and ipywidgets, and export a **single-file HTML** you can share.\n",
        "\n",
        "**You will:**\n",
        "- Load and tidy `large_food_log.csv` (hippo snacks 🍉🦛).\n",
        "- Create interactive controls (Nutrient / Meal / Date range).\n",
        "- Build key visuals: trend lines, stacked bars, treemap, rolling averages.\n",
        "- Show KPIs (totals, daily average, unique days).\n",
        "- Export a shareable **dashboard.html**.\n",
        "\n",
        "<details><summary>Why dashboards?</summary>\n",
        "Dashboards condense many views into one space so trends pop out fast — perfect for busy nutrition teams.\n",
        "</details>"
      ]
    },
    {
      "cell_type": "code",
      "execution_count": null,
      "id": "colab_setup",
      "metadata": {},
      "outputs": [],
      "source": [
        "# Colab setup: fetch repo so we can read data\n",
        "import os\n",
        "from google.colab import files\n",
        "\n",
        "MODULE = '05_advanced'\n",
        "DATASET = 'large_food_log.csv'\n",
        "BASE_PATH = '/content/data-analysis-projects'\n",
        "MODULE_PATH = os.path.join(BASE_PATH, 'notebooks', MODULE)\n",
        "DATASET_PATH = os.path.join(MODULE_PATH, 'data', DATASET)\n",
        "\n",
        "try:\n",
        "    print('Attempting to clone repository...')\n",
        "    if not os.path.exists(BASE_PATH):\n",
        "        !git clone https://github.com/ggkuhnle/data-analysis-projects.git\n",
        "    os.chdir(MODULE_PATH)\n",
        "    if os.path.exists(DATASET_PATH):\n",
        "        print(f'Dataset found: {DATASET_PATH} ✅')\n",
        "    else:\n",
        "        raise FileNotFoundError('Dataset missing after clone.')\n",
        "except Exception as e:\n",
        "    print(f'Cloning failed: {e}')\n",
        "    print('Falling back to manual upload...')\n",
        "    os.makedirs('data', exist_ok=True)\n",
        "    uploaded = files.upload()\n",
        "    if DATASET in uploaded:\n",
        "        with open(os.path.join('data', DATASET), 'wb') as f:\n",
        "            f.write(uploaded[DATASET])\n",
        "        print(f'Successfully uploaded {DATASET} ✅')\n",
        "    else:\n",
        "        raise FileNotFoundError(f'Upload {DATASET} to continue.')"
      ]
    },
    {
      "cell_type": "code",
      "execution_count": null,
      "id": "imports",
      "metadata": {},
      "outputs": [],
      "source": [
        "%pip install -q pandas plotly ipywidgets\n",
        "import pandas as pd\n",
        "import numpy as np\n",
        "import plotly.express as px\n",
        "import plotly.graph_objects as go\n",
        "from ipywidgets import interact, widgets, Layout, HBox, VBox\n",
        "from pathlib import Path\n",
        "pd.set_option('display.max_columns', 40)\n",
        "print('Dashboard environment ready.')"
      ]
    },
    {
      "cell_type": "markdown",
      "id": "load_data",
      "metadata": {},
      "source": [
        "## 📥 Load & Tidy\n",
        "We’ll parse dates, normalise text columns, and add a few helpful features (year / month, day-of-week)."
      ]
    },
    {
      "cell_type": "code",
      "execution_count": null,
      "id": "read_tidy",
      "metadata": {},
      "outputs": [],
      "source": [
        "csv_path = Path('data') / 'large_food_log.csv'\n",
        "df = pd.read_csv(csv_path)\n",
        "\n",
        "# Basic cleaning\n",
        "for col in ['ID','Meal','Nutrient']:\n",
        "    if col in df.columns:\n",
        "        df[col] = df[col].astype(str).str.strip()\n",
        "df['Amount'] = pd.to_numeric(df['Amount'], errors='coerce')\n",
        "df['Date'] = pd.to_datetime(df['Date'], errors='coerce')\n",
        "\n",
        "# Filter invalid rows\n",
        "df = df.dropna(subset=['Amount','Date'])\n",
        "df = df[df['Amount'] >= 0]\n",
        "\n",
        "# Time features\n",
        "df['Year']  = df['Date'].dt.year\n",
        "df['Month'] = df['Date'].dt.to_period('M').astype(str)\n",
        "df['DOW']   = df['Date'].dt.day_name()\n",
        "\n",
        "display(df.head())\n",
        "print('\\nRows:', len(df), '| Date range:', df['Date'].min().date(), '→', df['Date'].max().date())"
      ]
    },
    {
      "cell_type": "markdown",
      "id": "helpers",
      "metadata": {},
      "source": [
        "## 🧰 Helpers: KPI & Slicer Functions\n",
        "A couple of small utilities we’ll reuse across the dashboard."
      ]
    },
    {
      "cell_type": "code",
      "execution_count": null,
      "id": "utils",
      "metadata": {},
      "outputs": [],
      "source": [
        "def slice_data(df, nutrient=None, meal=None, date_range=None):\n",
        "    d = df.copy()\n",
        "    if nutrient and nutrient != 'All':\n",
        "        d = d[d['Nutrient'] == nutrient]\n",
        "    if meal and meal != 'All':\n",
        "        d = d[d['Meal'] == meal]\n",
        "    if date_range and all(date_range):\n",
        "        d = d[(d['Date'] >= date_range[0]) & (d['Date'] <= date_range[1])]\n",
        "    return d\n",
        "\n",
        "def kpis(d):\n",
        "    total = d['Amount'].sum()\n",
        "    n_days = d['Date'].nunique()\n",
        "    daily_avg = total / n_days if n_days else 0.0\n",
        "    return {\n",
        "        'Total amount': total,\n",
        "        'Unique days': int(n_days),\n",
        "        'Daily average': daily_avg\n",
        "    }"
      ]
    },
    {
      "cell_type": "markdown",
      "id": "controls",
      "metadata": {},
      "source": [
        "## 🎛️ Interactive Controls\n",
        "Pick a **Nutrient**, **Meal**, and a **Date range** to drive the visuals below."
      ]
    },
    {
      "cell_type": "code",
      "execution_count": null,
      "id": "widgets",
      "metadata": {},
      "outputs": [],
      "source": [
        "nutrients = ['All'] + sorted(df['Nutrient'].dropna().unique().tolist())\n",
        "meals     = ['All'] + sorted(df['Meal'].dropna().unique().tolist())\n",
        "start, end = df['Date'].min().date(), df['Date'].max().date()\n",
        "\n",
        "w_nutrient = widgets.Dropdown(options=nutrients, value='All', description='Nutrient:', layout=Layout(width='250px'))\n",
        "w_meal     = widgets.Dropdown(options=meals, value='All', description='Meal:', layout=Layout(width='250px'))\n",
        "w_start    = widgets.DatePicker(description='Start:', value=pd.Timestamp(start).date())\n",
        "w_end      = widgets.DatePicker(description='End:', value=pd.Timestamp(end).date())\n",
        "\n",
        "display(HBox([w_nutrient, w_meal, w_start, w_end]))"
      ]
    },
    {
      "cell_type": "markdown",
      "id": "kpi_section",
      "metadata": {},
      "source": [
        "## 📌 KPIs\n",
        "Quick headline numbers update with your selections."
      ]
    },
    {
      "cell_type": "code",
      "execution_count": null,
      "id": "kpi_render",
      "metadata": {},
      "outputs": [],
      "source": [
        "def render_kpis(nutrient, meal, start_date, end_date):\n",
        "    d = slice_data(df, nutrient, meal, (pd.to_datetime(start_date), pd.to_datetime(end_date)))\n",
        "    stats = kpis(d)\n",
        "    fig = go.Figure()\n",
        "    fig.add_trace(go.Indicator(mode='number', value=stats['Total amount'], title={'text':'Total amount'}))\n",
        "    fig.add_trace(go.Indicator(mode='number', value=stats['Daily average'], title={'text':'Daily average'}, domain={'x':[0.35,0.65], 'y':[0,1]}))\n",
        "    fig.add_trace(go.Indicator(mode='number', value=stats['Unique days'], title={'text':'Unique days'}, domain={'x':[0.7,1], 'y':[0,1]}))\n",
        "    fig.update_layout(grid={'rows':1,'columns':3}, height=200, margin=dict(l=10,r=10,t=10,b=10))\n",
        "    fig.show()\n",
        "\n",
        "render_kpis(w_nutrient.value, w_meal.value, w_start.value, w_end.value)\n",
        "\n",
        "def _on_change(change):\n",
        "    render_kpis(w_nutrient.value, w_meal.value, w_start.value, w_end.value)\n",
        "\n",
        "for w in [w_nutrient, w_meal, w_start, w_end]:\n",
        "    w.observe(_on_change, names='value')"
      ]
    },
    {
      "cell_type": "markdown",
      "id": "trend",
      "metadata": {},
      "source": [
        "## 📈 Trend (Daily + Rolling 7)\n",
        "Daily totals with a **7-day rolling mean**. Facets by **Nutrient** when ‘All’ is selected."
      ]
    },
    {
      "cell_type": "code",
      "execution_count": null,
      "id": "trend_plot",
      "metadata": {},
      "outputs": [],
      "source": [
        "def trend_figure(nutrient, meal, start_date, end_date):\n",
        "    d = slice_data(df, nutrient, meal, (pd.to_datetime(start_date), pd.to_datetime(end_date)))\n",
        "    if d.empty:\n",
        "        return go.Figure().add_annotation(text='No data in selection', showarrow=False)\n",
        "    daily = d.groupby(['Date','Nutrient'], as_index=False)['Amount'].sum().rename(columns={'Amount':'Total'})\n",
        "    daily['Roll7'] = daily.sort_values('Date').groupby('Nutrient')['Total'].transform(lambda s: s.rolling(7, min_periods=1).mean())\n",
        "    if nutrient == 'All':\n",
        "        fig = px.line(daily, x='Date', y='Total', color='Nutrient', title='Daily totals by Nutrient')\n",
        "        for n in daily['Nutrient'].unique():\n",
        "            dn = daily[daily['Nutrient']==n]\n",
        "            fig.add_trace(go.Scatter(x=dn['Date'], y=dn['Roll7'], name=f'{n} (7d MA)', mode='lines', line=dict(dash='dash')))\n",
        "    else:\n",
        "        fig = px.line(daily, x='Date', y='Total', title=f'Daily totals: {nutrient}')\n",
        "        fig.add_trace(go.Scatter(x=daily['Date'], y=daily['Roll7'], name='7d MA', mode='lines', line=dict(dash='dash')))\n",
        "    fig.update_layout(height=420, margin=dict(l=10,r=10,t=40,b=10))\n",
        "    return fig\n",
        "\n",
        "fig_trend = trend_figure(w_nutrient.value, w_meal.value, w_start.value, w_end.value)\n",
        "fig_trend.show()\n",
        "\n",
        "def _on_change_trend(change):\n",
        "    trend_figure(w_nutrient.value, w_meal.value, w_start.value, w_end.value).show()\n",
        "\n",
        "for w in [w_nutrient, w_meal, w_start, w_end]:\n",
        "    w.observe(_on_change_trend, names='value')"
      ]
    },
    {
      "cell_type": "markdown",
      "id": "stacked_bars",
      "metadata": {},
      "source": [
        "## 🍱 Stacked Bars (Meal Composition)\n",
        "Composition by **Meal** within the selected period (sum of Amount)."
      ]
    },
    {
      "cell_type": "code",
      "execution_count": null,
      "id": "bars_plot",
      "metadata": {},
      "outputs": [],
      "source": [
        "def stacked_meal(nutrient, meal, start_date, end_date):\n",
        "    d = slice_data(df, nutrient, meal, (pd.to_datetime(start_date), pd.to_datetime(end_date)))\n",
        "    if d.empty:\n",
        "        return go.Figure().add_annotation(text='No data in selection', showarrow=False)\n",
        "    comp = d.groupby(['Meal','Nutrient'], as_index=False)['Amount'].sum()\n",
        "    fig = px.bar(comp, x='Meal', y='Amount', color='Nutrient', title='Meal composition (sum of Amount)', barmode='stack')\n",
        "    fig.update_layout(height=380, margin=dict(l=10,r=10,t=40,b=10))\n",
        "    return fig\n",
        "\n",
        "fig_bars = stacked_meal(w_nutrient.value, w_meal.value, w_start.value, w_end.value)\n",
        "fig_bars.show()\n",
        "\n",
        "def _on_change_bars(change):\n",
        "    stacked_meal(w_nutrient.value, w_meal.value, w_start.value, w_end.value).show()\n",
        "\n",
        "for w in [w_nutrient, w_meal, w_start, w_end]:\n",
        "    w.observe(_on_change_bars, names='value')"
      ]
    },
    {
      "cell_type": "markdown",
      "id": "treemap",
      "metadata": {},
      "source": [
        "## 🌳 Treemap (Who eats what?)\n",
        "Treemap by **ID → Meal → Nutrient** reveals heavy hitters and diet mix quickly."
      ]
    },
    {
      "cell_type": "code",
      "execution_count": null,
      "id": "treemap_plot",
      "metadata": {},
      "outputs": [],
      "source": [
        "def treemap_fig(nutrient, meal, start_date, end_date):\n",
        "    d = slice_data(df, nutrient, meal, (pd.to_datetime(start_date), pd.to_datetime(end_date)))\n",
        "    if d.empty:\n",
        "        return go.Figure().add_annotation(text='No data in selection', showarrow=False)\n",
        "    agg = d.groupby(['ID','Meal','Nutrient'], as_index=False)['Amount'].sum()\n",
        "    fig = px.treemap(agg, path=['ID','Meal','Nutrient'], values='Amount', title='Treemap: totals by ID → Meal → Nutrient')\n",
        "    fig.update_layout(height=500, margin=dict(l=10,r=10,t=40,b=10))\n",
        "    return fig\n",
        "\n",
        "fig_tree = treemap_fig(w_nutrient.value, w_meal.value, w_start.value, w_end.value)\n",
        "fig_tree.show()\n",
        "\n",
        "def _on_change_tree(change):\n",
        "    treemap_fig(w_nutrient.value, w_meal.value, w_start.value, w_end.value).show()\n",
        "\n",
        "for w in [w_nutrient, w_meal, w_start, w_end]:\n",
        "    w.observe(_on_change_tree, names='value')"
      ]
    },
    {
      "cell_type": "markdown",
      "id": "export",
      "metadata": {},
      "source": [
        "## 💾 Export Single-File HTML Dashboard\n",
        "Write a self-contained **`dashboard.html`** (no server needed) with KPIs + charts for your current selection."
      ]
    },
    {
      "cell_type": "code",
      "execution_count": null,
      "id": "export_html",
      "metadata": {},
      "outputs": [],
      "source": [
        "def build_dashboard_html(nutrient, meal, start_date, end_date, out='dashboard.html'):\n",
        "    # Build figures with current selection\n",
        "    kpi_fig = go.Figure()\n",
        "    d = slice_data(df, nutrient, meal, (pd.to_datetime(start_date), pd.to_datetime(end_date)))\n",
        "    s = kpis(d)\n",
        "    kpi_fig.add_trace(go.Indicator(mode='number', value=s['Total amount'], title={'text':'Total amount'}))\n",
        "    kpi_fig.add_trace(go.Indicator(mode='number', value=s['Daily average'], title={'text':'Daily average'}, domain={'x':[0.35,0.65], 'y':[0,1]}))\n",
        "    kpi_fig.add_trace(go.Indicator(mode='number', value=s['Unique days'], title={'text':'Unique days'}, domain={'x':[0.7,1], 'y':[0,1]}))\n",
        "    kpi_fig.update_layout(grid={'rows':1,'columns':3}, height=200, margin=dict(l=10,r=10,t=10,b=10))\n",
        "\n",
        "    figs = [\n",
        "        ('KPIs', kpi_fig),\n",
        "        ('Trend', trend_figure(nutrient, meal, start_date, end_date)),\n",
        "        ('Meal Composition', stacked_meal(nutrient, meal, start_date, end_date)),\n",
        "        ('Treemap', treemap_fig(nutrient, meal, start_date, end_date))\n",
        "    ]\n",
        "    html_blocks = []\n",
        "    for title, fig in figs:\n",
        "        html_blocks.append(f\"<h2 style='font-family:sans-serif'>{title}</h2>\" + fig.to_html(full_html=False, include_plotlyjs='cdn'))\n",
        "    template = f\"\"\"\n",
        "    <html>\n",
        "    <head>\n",
        "      <meta charset='utf-8'>\n",
        "      <title>Nutrition Dashboard</title>\n",
        "      <style>body{{max-width:1200px;margin:20px auto;font-family:sans-serif;}}</style>\n",
        "    </head>\n",
        "    <body>\n",
        "      <h1 style='font-family:sans-serif'>Nutrition Dashboard</h1>\n",
        "      <p><b>Filters:</b> Nutrient={nutrient} | Meal={meal} | Range={start_date} → {end_date}</p>\n",
        "      {''.join(html_blocks)}\n",
        "    </body>\n",
        "    </html>\n",
        "    \"\"\"\n",
        "    with open(out, 'w', encoding='utf-8') as f:\n",
        "        f.write(template)\n",
        "    print('Wrote:', Path(out).resolve())\n",
        "\n",
        "build_dashboard_html(w_nutrient.value, w_meal.value, w_start.value, w_end.value, out='dashboard.html')"
      ]
    },
    {
      "cell_type": "markdown",
      "id": "quarto",
      "metadata": {},
      "source": [
        "## ➕ Optional: Quarto Template (Static/Parametric)\n",
        "If you use **Quarto**, this writes a minimal `.qmd` you can render outside Colab to a polished dashboard.\n",
        "\n",
        "<details><summary>What you get</summary>\n",
        "A starter Quarto page with Plotly support, filter parameters, and Python code chunks.\n",
        "</details>"
      ]
    },
    {
      "cell_type": "code",
      "execution_count": null,
      "id": "write_qmd",
      "metadata": {},
      "outputs": [],
      "source": [
        "qmd = '''\n",
        "---\n",
        "title: \"Nutrition Dashboard\"\n",
        "format:\n",
        "  html:\n",
        "    theme: cosmo\n",
        "    toc: false\n",
        "filters:\n",
        "  - lightbox\n",
        "execute:\n",
        "  echo: false\n",
        "params:\n",
        "  nutrient: All\n",
        "  meal: All\n",
        "  start: 2024-01-01\n",
        "  end: 2024-12-31\n",
        "---\n",
        "\n",
        "```{python}\n",
        "import pandas as pd, plotly.express as px\n",
        "df = pd.read_csv('data/large_food_log.csv')\n",
        "df['Date'] = pd.to_datetime(df['Date'], errors='coerce')\n",
        "df = df.dropna(subset=['Amount','Date'])\n",
        "nutrient = params['nutrient']\n",
        "meal = params['meal']\n",
        "start = pd.to_datetime(params['start'])\n",
        "end   = pd.to_datetime(params['end'])\n",
        "d = df.copy()\n",
        "if nutrient!='All': d = d[d['Nutrient']==nutrient]\n",
        "if meal!='All': d = d[d['Meal']==meal]\n",
        "d = d[(d['Date']>=start)&(d['Date']<=end)]\n",
        "daily = d.groupby(['Date','Nutrient'], as_index=False)['Amount'].sum()\n",
        "fig = px.line(daily, x='Date', y='Amount', color='Nutrient', title='Daily totals')\n",
        "fig\n",
        "```\n",
        "'''\n",
        "with open('nutrition_dashboard.qmd','w', encoding='utf-8') as f:\n",
        "    f.write(qmd)\n",
        "print('Wrote Quarto file:', Path('nutrition_dashboard.qmd').resolve())"
      ]
    },
    {
      "cell_type": "markdown",
      "id": "exercises",
      "metadata": {},
      "source": [
        "## 🧩 Exercises\n",
        "1) **Facet trends** — Change the trend chart to facet by **Meal** when Nutrient is ‘All’.\n",
        "\n",
        "2) **Percent share** — In the stacked bar, show **percent** composition per Meal (hint: compute totals per Meal, then divide and use `text_auto='0.0%'`).\n",
        "\n",
        "3) **Anomaly hint** — Add a line for **30-day rolling mean** and scatter markers when daily total is **50% above** the rolling mean.\n",
        "\n",
        "4) **Save & ship** — Export different filter combinations as `dashboard_*.html` and share with your team."
      ]
    },
    {
      "cell_type": "markdown",
      "id": "wrap",
      "metadata": {},
      "source": [
        "## ✅ Conclusion\n",
        "You built an interactive dashboard with **Plotly + ipywidgets**, added KPIs and multiple linked views, and exported a **portable HTML**. You’re ready to package insights for nutrition stakeholders.\n",
        "\n",
        "<details><summary>More</summary>\n",
        "- Plotly Express: https://plotly.com/python/\n",
        "- ipywidgets: https://ipywidgets.readthedocs.io/\n",
        "- Quarto dashboards: https://quarto.org/docs/interactive/\n",
        "</details>"
      ]
    }
  ],
  "metadata": {
    "kernelspec": {
      "display_name": "Python 3",
      "language": "python",
      "name": "python3"
    },
    "language_info": {
      "name": "python"
    }
  },
  "nbformat": 4,
  "nbformat_minor": 5
}
