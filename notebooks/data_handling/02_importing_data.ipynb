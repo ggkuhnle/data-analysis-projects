{
 "cells": [
  {
   "cell_type": "markdown",
   "id": "c73d2cc2",
   "metadata": {},
   "source": [
    "# 📁 3.2 Importing Data\n",
    "\n",
    "You'll frequently import data from CSV, Excel, or JSON files.\n",
    "\n",
    "**Covered:**\n",
    "- `pd.read_csv()`\n",
    "- `pd.read_excel()`\n",
    "- `pd.read_json()`\n",
    "- APIs with `requests`"
   ]
  },
  {
   "cell_type": "code",
   "execution_count": null,
   "id": "864606c9",
   "metadata": {},
   "outputs": [],
   "source": [
    "import pandas as pd\n",
    "import requests"
   ]
  },
  {
   "cell_type": "markdown",
   "id": "be5fc02c",
   "metadata": {},
   "source": [
    "### 🧪 Load CSV Example"
   ]
  },
  {
   "cell_type": "code",
   "execution_count": null,
   "id": "e750ba91",
   "metadata": {},
   "outputs": [],
   "source": [
    "# Simulate loading CSV\n",
    "url = 'https://raw.githubusercontent.com/ggkuhnle/data-analysis/main/data/hippos_cleaned.csv'\n",
    "df = pd.read_csv(url)\n",
    "df.head()"
   ]
  }
 ],
 "metadata": {},
 "nbformat": 4,
 "nbformat_minor": 5
}
