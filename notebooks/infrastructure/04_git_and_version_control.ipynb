{
 "cells": [
  {
   "cell_type": "markdown",
   "id": "c43f637e",
   "metadata": {},
   "source": [
    "# 🗂️ Git and Version Control Basics\n",
    "\n",
    "Why versioning matters for data science — and how Git helps.\n",
    "\n",
    "## 💡 Basic View\n",
    "\n",
    "- Why Excel is risky: data changes silently\n",
    "- What Git does\n",
    "- Use GitHub Desktop or Colab integration\n",
    "\n",
    "## 🔍 Advanced View\n",
    "\n",
    "<details><summary>Click to expand</summary>\n",
    "\n",
    "- git init, clone, commit, push\n",
    "- Merging and resolving conflicts\n",
    "- GitHub CLI / SSH setup\n",
    "\n",
    "</details>\n",
    "\n",
    "## 🧪 Exercises\n",
    "\n",
    "1. Create a GitHub repo and upload a notebook.\n",
    "2. Edit it in Colab and save changes.\n",
    "3. Optional: try cloning the repo using GitHub Desktop.\n"
   ]
  }
 ],
 "metadata": {},
 "nbformat": 4,
 "nbformat_minor": 5
}
