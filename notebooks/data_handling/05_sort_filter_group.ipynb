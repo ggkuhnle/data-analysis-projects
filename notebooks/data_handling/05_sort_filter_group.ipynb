{
 "cells": [
  {
   "cell_type": "markdown",
   "id": "2b133173",
   "metadata": {},
   "source": [
    "# 🔍 3.5 Sorting, Filtering, Grouping, Joining\n",
    "\n",
    "Sort and group data with pandas methods."
   ]
  },
  {
   "cell_type": "code",
   "execution_count": null,
   "id": "bb749703",
   "metadata": {},
   "outputs": [],
   "source": [
    "import pandas as pd\n",
    "\n",
    "df = pd.DataFrame({\n",
    "    'sex': ['male', 'female', 'female', 'male'],\n",
    "    'age': [25, 30, 45, 35],\n",
    "    'iron_mg': [12, 14, 11, 13]\n",
    "})\n",
    "df.groupby('sex')['iron_mg'].mean()"
   ]
  }
 ],
 "metadata": {},
 "nbformat": 4,
 "nbformat_minor": 5
}
