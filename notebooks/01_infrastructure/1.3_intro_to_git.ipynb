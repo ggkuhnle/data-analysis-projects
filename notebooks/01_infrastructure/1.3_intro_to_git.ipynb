{
 "cells": [
  {
   "cell_type": "markdown",
   "id": "cf21eca5",
   "metadata": {},
   "source": [
    "# 📚 1.3 Introduction to Git\n",
    "\n",
    "This notebook introduces Git, a version control system essential for managing code and data in nutrition research projects.\n",
    "\n",
    "**Objectives**:\n",
    "- Understand Git’s purpose and basic commands.\n",
    "- Practise committing changes to a repository.\n",
    "- Explore GitHub for collaboration.\n",
    "\n",
    "**Context**: Git ensures reproducibility and collaboration, vital for MSc projects like NDNS analysis.\n",
    "\n",
    "<details><summary>Fun Fact</summary>\n",
    "Git is like a hippo’s journal—tracking every snack and meal with precision! 🦛\n",
    "</details>\n"
   ]
  },
  {
   "cell_type": "markdown",
   "id": "650b7715",
   "metadata": {},
   "source": [
    "## 🧰 What is Git?\n",
    "\n",
    "Git is a **version control system** that lets you track changes in your code, collaborate with others, and backtrack if something goes wrong. Think of it as a very detailed \"track changes\" for your entire project.\n",
    "\n",
    "You can:\n",
    "- Save snapshots of your project (commits)\n",
    "- Roll back to earlier versions\n",
    "- Collaborate via platforms like GitHub\n",
    "- See who changed what and when\n"
   ]
  },
  {
   "cell_type": "markdown",
   "id": "de17018a",
   "metadata": {},
   "source": [
    "## ⚙️ Setting Up Git\n",
    "\n",
    "Install Git locally or use a cloud platform like GitHub. Run the following in a **terminal** (not Python):\n",
    "\n",
    "```bash\n",
    "git --version  # Check Git installation\n",
    "git config --global user.name \"Your Name\"\n",
    "git config --global user.email \"your.email@example.com\"\n",
    "```\n",
    "\n"
   ]
  },
  {
   "cell_type": "markdown",
   "id": "9087479b",
   "metadata": {},
   "source": [
    "<details><summary>📘 Common Git Commands</summary>\n",
    "\n",
    "```bash\n",
    "git init              # Initialise a repository\n",
    "git status            # Show changes\n",
    "git add filename      # Stage a file\n",
    "git commit -m \"msg\"   # Commit staged files with message\n",
    "git log               # Show history\n",
    "git diff              # Show differences\n",
    "git clone URL         # Clone a remote repo\n",
    "git pull              # Get changes from remote\n",
    "git push              # Send changes to remote\n",
    "```\n",
    "</details>\n"
   ]
  },
  {
   "cell_type": "markdown",
   "id": "c8b77e87",
   "metadata": {},
   "source": [
    "## 🔁 Undoing Changes\n",
    "\n",
    "Here’s how to undo different types of changes:\n",
    "\n",
    "| Situation                     | Command                                 |\n",
    "|------------------------------|-----------------------------------------|\n",
    "| Unstage file                 | `git restore --staged filename`         |\n",
    "| Discard file changes         | `git restore filename`                  |\n",
    "| Undo last commit (keep code) | `git reset --soft HEAD~1`               |\n",
    "| Undo last commit (drop code) | `git reset --hard HEAD~1`               |\n",
    "| Undo pushed commit           | Avoid! Use `git revert <hash>` instead  |\n"
   ]
  },
  {
   "cell_type": "markdown",
   "id": "079b25c7",
   "metadata": {},
   "source": [
    "## 🧪 Exercise: Create a Repository\n",
    "\n",
    "Try this in a **terminal**:\n",
    "\n",
    "```bash\n",
    "mkdir my-nutrition-repo\n",
    "cd my-nutrition-repo\n",
    "git init\n",
    "echo \"# Nutrition Notes\" > README.md\n",
    "git add README.md\n",
    "git commit -m \"Initial commit\"\n",
    "```\n",
    "\n",
    "Document your experience below 👇\n"
   ]
  },
  {
   "cell_type": "markdown",
   "id": "f0a9bb96",
   "metadata": {},
   "source": [
    "**Answer**:\n",
    "\n",
    "I created the repository by...\n"
   ]
  },
  {
   "cell_type": "markdown",
   "id": "494c11e2",
   "metadata": {},
   "source": [
    "## ✅ Conclusion\n",
    "\n",
    "You’ve learned the basics of Git for version control. Practise these skills to manage your nutrition data projects.\n",
    "\n",
    "**Next Steps**: Explore Quarto for reproducible documents in 1.4.\n",
    "\n",
    "**Resources**:\n",
    "- [Git Documentation](https://git-scm.com/doc)\n",
    "- [GitHub Guides](https://guides.github.com/)\n",
    "- Repository: [github.com/ggkuhnle/data-analysis-projects](https://github.com/ggkuhnle/data-analysis-projects)\n"
   ]
  }
 ],
 "metadata": {},
 "nbformat": 4,
 "nbformat_minor": 5
}
