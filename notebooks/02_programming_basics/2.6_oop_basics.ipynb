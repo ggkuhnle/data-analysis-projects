{
  "nbformat": 4,
  "nbformat_minor": 5,
  "metadata": {
    "kernelspec": {
      "display_name": "Python 3",
      "language": "python",
      "name": "python3"
    },
    "language_info": {
      "name": "python",
      "version": "3.9"
    },
    "vscode": {}
  },
  "cells": [
    {
      "cell_type": "markdown",
      "metadata": {},
      "source": [
        "# 🧑‍💻 2.5 Object-Oriented Programming (OOP) Basics\n",
        "\n",
        "Welcome to the final notebook in the **Programming Basics** module! Here we explore **Object-Oriented Programming (OOP)**, a paradigm for writing code that is **organized**, **modular**, and **reusable**."
      ]
    },
    {
      "cell_type": "markdown",
      "metadata": {},
      "source": [
        "## 🧠 What Is OOP?\n",
        "\n",
        "- **OOP** stands for **Object-Oriented Programming**.\n",
        "- It models software as interacting **objects**, each bundling **data** and **behavior**.\n",
        "- Think of objects like real-world entities (e.g. `Food`, `Hippo`), with attributes (data) and methods (actions)."
      ]
    },
    {
      "cell_type": "markdown",
      "metadata": {},
      "source": [
        "## 🎯 Why Use OOP?\n",
        "\n",
        "1. **Modularity**: Group related data and functions into classes.\n",
        "2. **Reusability**: Inherit common behavior via **inheritance**.\n",
        "3. **Maintainability**: Encapsulate complexity; change internals without breaking external code.\n",
        "4. **Abstraction**: Hide implementation details behind clear interfaces.\n",
        "5. **Scalability**: Easier to manage large codebases by dividing into classes."
      ]
    },
    {
      "cell_type": "markdown",
      "metadata": {},
      "source": [
        "## 📝 Terminology (Nomenclature)\n",
        "\n",
        "| Term            | Meaning                                                     |\n",
        "|-----------------|-------------------------------------------------------------|\n",
        "| **Class**       | Blueprint or template for objects                           |\n",
        "| **Object**      | Instance of a class holding actual data                     |\n",
        "| **Attribute**   | Data stored in an object (variables on `self`)              |\n",
        "| **Method**      | Function defined inside a class, operates on instances      |\n",
        "| **Inheritance** | Mechanism to create a new class from an existing one        |\n",
        "| **Encapsulation** | Hiding internal state; exposing only public interfaces    |"
      ]
    },
    {
      "cell_type": "markdown",
      "metadata": {},
      "source": [
        "## 🔗 Method & Attribute Chaining\n",
        "\n",
        "- You can chain multiple attribute or method accesses using the `.` operator.\n",
        "- Each `.` drills into the result of the previous expression.\n",
        "\n",
        "### Examples\n",
        "\n",
        "```python\n",
        "# String methods\n",
        "s = \"  hello world  \"\n",
        "print(s.strip().upper().replace(\" \", \"_\"))\n",
        "# -> \"HELLO_WORLD\"\n",
        "\n",
        "# pandas chaining\n",
        "import pandas as pd\n",
        "df = pd.DataFrame({'x': [1, 2, None, 4]})\n",
        "print(\n",
        "    df\n",
        "    .dropna()\n",
        "    .assign(y=lambda d: d.x * 2)\n",
        "    .head()\n",
        ")\n",
        "```",
        "\n",
        "> **Note**: Over-chaining can hurt readability — use intermediate variables if needed."
      ]
    },
    {
      "cell_type": "markdown",
      "metadata": {},
      "source": [
        "## 🧱 Python Classes: A Practical Introduction\n",
        "\n",
        "We’ll now define a basic class to see these concepts in action."
      ]
    },
    {
      "cell_type": "markdown",
      "metadata": {},
      "source": [
        "### Defining a `Food` class\n",
        "\n",
        "```python\n",
        "class Food:\n",
        "    def __init__(self, name, calories):\n",
        "        \"\"\"Initialize with name and calories per serving.\"\"\"\n",
        "        self.name = name          # attribute\n",
        "        self.calories = calories  # attribute\n",
        "\n",
        "    def describe(self):\n",
        "        \"\"\"Return a summary of the food item.\"\"\"\n",
        "        return f\"{self.name}: {self.calories} kcal per serving\"\n",
        "```"
      ]
    },
    {
      "cell_type": "code",
      "metadata": {},
      "source": [
        "apple = Food('Apple', 95)\n",
        "banana = Food('Banana', 120)\n",
        "print(apple.describe())   # Apple: 95 kcal per serving\n",
        "print(banana.describe())  # Banana: 120 kcal per serving"
      ]
    },
    {
      "cell_type": "markdown",
      "metadata": {},
      "source": [
        "## 🧪 Exercise 1: Define Your Own Class\n",
        "\n",
        "Create a class `Drink` with:\n",
        "- Attributes: `name`, `volume_ml`, `sugar_g`\n",
        "- Method: `sugar_concentration()` → grams of sugar per 100 mL\n"
      ]
    },
    {
      "cell_type": "code",
      "metadata": {},
      "source": [
        "# Your implementation here\n",
        "class Drink:\n",
        "    pass"
      ]
    },
    {
      "cell_type": "markdown",
      "metadata": {},
      "source": [
        "<details><summary>💡 Solution</summary>\n",
        "\n",
        "```python\n",
        "class Drink:\n",
        "    def __init__(self, name, volume_ml, sugar_g):\n",
        "        self.name = name\n",
        "        self.volume_ml = volume_ml\n",
        "        self.sugar_g = sugar_g\n",
        "\n",
        "    def sugar_concentration(self):\n",
        "        return (self.sugar_g / self.volume_ml) * 100\n",
        "\n",
        "# Example\n",
        "juice = Drink('Orange Juice', 250, 22)\n",
        "print(f\"{juice.name}: {juice.sugar_concentration():.1f} g sugar/100 mL\")\n",
        "```",
        "</details>"
      ]
    },
    {
      "cell_type": "markdown",
      "metadata": {},
      "source": [
        "## 🥗 Inheritance\n",
        "\n",
        "Extend `Food` to `Diet` by adding a `diet_type`:\n",
        "\n",
        "```python\n",
        "class Diet(Food):\n",
        "    def __init__(self, name, calories, diet_type):\n",
        "        super().__init__(name, calories)\n",
        "        self.diet_type = diet_type\n",
        "\n",
        "    def describe(self):\n",
        "        base = super().describe()\n",
        "        return f\"{base} ({self.diet_type})\"\n",
        "```"
      ]
    },
    {
      "cell_type": "code",
      "metadata": {},
      "source": [
        "keto = Diet('Avocado', 160, 'Keto')\n",
        "print(keto.describe())  # Avocado: 160 kcal per serving (Keto)"
      ]
    },
    {
      "cell_type": "markdown",
      "metadata": {},
      "source": [
        "## ✅ Summary & Next Steps\n",
        "- OOP models code as **objects** with **attributes** and **methods**.\n",
        "- **Inheritance** allows code reuse and extension.\n",
        "- **Method chaining** can make code concise—but use sparingly for clarity.\n",
        "\n",
        "### Exercises:\n",
        "1. **Snack Class**: Inherit from `Food`, add `snack_type` & `is_healthy()`.\n",
        "2. **Meal Composite**: Class taking a list of foods/diets, method `total_calories()`.\n",
        "3. **describe_meal**: Function to print each item’s `describe()` output.\n",
        "\n",
        "Great work! You’re now ready to build complex, modular nutrition analyses with OOP."
      ]
    }
  ]
}

