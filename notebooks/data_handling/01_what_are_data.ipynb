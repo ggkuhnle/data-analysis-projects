{
 "cells": [
  {
   "cell_type": "markdown",
   "id": "915029f9",
   "metadata": {},
   "source": [
    "# 📊 3.1 What Are Data? Types and Structures\n",
    "\n",
    "Welcome to the world of **data**! Think of data as the ingredients in a recipe: they come in different forms, and how you organize them matters for cooking up insights. In this notebook, we'll unpack the basics of data structures and formats, setting you up to handle real-world datasets like a pro. 🧑‍🍳\n",
    "\n",
    "**What we'll cover:**\n",
    "- **Vectors**: The simplest building blocks of data (like a list of numbers).\n",
    "- **Tables**: Organized grids of data (think spreadsheets).\n",
    "- **Tidy data**: A way to structure data so it’s easy to analyze.\n",
    "- **Wide vs. Long formats**: Two ways to arrange your data table.\n",
    "- **Why this matters**: How these concepts connect to tools like Excel and pandas.\n",
    "\n",
    "**Why care?** In nutrition, data might be nutrient intakes, survey responses, or lab results. Understanding their structure helps you clean, analyze, and visualize them effectively.\n",
    "\n",
    "Let’s dive in! 🚀\n",
    "\n",
    "<details>\n",
    "<summary>🤔 Advanced: Beyond Tables</summary>\n",
    "Data isn’t always tabular! In advanced work, you might encounter time-series, geospatial, or graph data. For now, we’ll focus on tables since they’re common in nutrition research, but keep an eye out for these other types later!\n",
    "</details>"
   ]
  },
  {
   "cell_type": "code",
   "execution_count": 1,
   "id": "3dc69aff",
   "metadata": {},
   "outputs": [],
   "source": [
    "# Let’s load our trusty tools\n",
    "import pandas as pd\n",
    "import numpy as np\n",
    "import matplotlib.pyplot as plt  # For a quick visual\n",
    "%matplotlib inline"
   ]
  },
  {
   "cell_type": "markdown",
   "id": "e1437ee1",
   "metadata": {},
   "source": [
    "## 🧬 Vectors: The Simplest Data\n",
    "\n",
    "A **vector** is just a sequence of values of the same type—like a column in a spreadsheet. For example, the iron intake of three participants could be a vector: `[8.2, 9.1, 7.5]`.\n",
    "\n",
    "In Python, vectors are often represented as **lists** or **NumPy arrays**. Let’s create one:"
   ]
  },
  {
   "cell_type": "code",
   "execution_count": 2,
   "id": "new_vector",
   "metadata": {},
   "outputs": [
    {
     "name": "stdout",
     "output_type": "stream",
     "text": [
      "Iron intake vector: [8.2 9.1 7.5]\n",
      "Type: <class 'numpy.ndarray'>\n"
     ]
    }
   ],
   "source": [
    "iron_intake = np.array([8.2, 9.1, 7.5])\n",
    "print(f'Iron intake vector: {iron_intake}')\n",
    "print(f'Type: {type(iron_intake)}')"
   ]
  },
  {
   "cell_type": "markdown",
   "id": "table_intro",
   "metadata": {},
   "source": [
    "## 📋 Tables: Organizing Vectors\n",
    "\n",
    "A **table** combines multiple vectors into a grid, with rows and columns. In nutrition, a table might store participant data, where each row is a person and each column is a measurement (like iron intake or age).\n",
    "\n",
    "In **pandas**, tables are called **DataFrames**. They’re like Excel spreadsheets but supercharged for coding. Let’s create a simple table:"
   ]
  },
  {
   "cell_type": "code",
   "execution_count": 3,
   "id": "create_table",
   "metadata": {},
   "outputs": [
    {
     "data": {
      "text/html": [
       "<div>\n",
       "<style scoped>\n",
       "    .dataframe tbody tr th:only-of-type {\n",
       "        vertical-align: middle;\n",
       "    }\n",
       "\n",
       "    .dataframe tbody tr th {\n",
       "        vertical-align: top;\n",
       "    }\n",
       "\n",
       "    .dataframe thead th {\n",
       "        text-align: right;\n",
       "    }\n",
       "</style>\n",
       "<table border=\"1\" class=\"dataframe\">\n",
       "  <thead>\n",
       "    <tr style=\"text-align: right;\">\n",
       "      <th></th>\n",
       "      <th>Participant</th>\n",
       "      <th>Iron_2020</th>\n",
       "      <th>Iron_2021</th>\n",
       "    </tr>\n",
       "  </thead>\n",
       "  <tbody>\n",
       "    <tr>\n",
       "      <th>0</th>\n",
       "      <td>P1</td>\n",
       "      <td>8.2</td>\n",
       "      <td>8.5</td>\n",
       "    </tr>\n",
       "    <tr>\n",
       "      <th>1</th>\n",
       "      <td>P2</td>\n",
       "      <td>9.1</td>\n",
       "      <td>9.3</td>\n",
       "    </tr>\n",
       "    <tr>\n",
       "      <th>2</th>\n",
       "      <td>P3</td>\n",
       "      <td>7.5</td>\n",
       "      <td>7.8</td>\n",
       "    </tr>\n",
       "  </tbody>\n",
       "</table>\n",
       "</div>"
      ],
      "text/plain": [
       "  Participant  Iron_2020  Iron_2021\n",
       "0          P1        8.2        8.5\n",
       "1          P2        9.1        9.3\n",
       "2          P3        7.5        7.8"
      ]
     },
     "execution_count": 3,
     "metadata": {},
     "output_type": "execute_result"
    }
   ],
   "source": [
    "df = pd.DataFrame({\n",
    "    'Participant': ['P1', 'P2', 'P3'],\n",
    "    'Iron_2020': [8.2, 9.1, 7.5],\n",
    "    'Iron_2021': [8.5, 9.3, 7.8]\n",
    "})\n",
    "df"
   ]
  },
  {
   "cell_type": "markdown",
   "id": "tidy_data",
   "metadata": {},
   "source": [
    "## 🧼 Tidy Data: The Golden Rule\n",
    "\n",
    "**Tidy data** is a way to organize tables so they’re easy to analyze. The rules are simple:\n",
    "1. Each **variable** is a column.\n",
    "2. Each **observation** is a row.\n",
    "3. Each **value** has its own cell.\n",
    "\n",
    "Our table above isn’t tidy! Why? Because `Iron_2020` and `Iron_2021` are values of the same variable (iron intake) split across two columns. Instead, we want one column for `Year` and one for `Iron`.\n",
    "\n",
    "This brings us to **wide vs. long formats**.\n",
    "\n",
    "<details>\n",
    "<summary>🔍 Learn More: Tidy Data</summary>\n",
    "Read Hadley Wickham’s [Tidy Data paper](https://www.jstatsoft.org/article/view/v059i10) for a deeper dive. It’s a classic in data science!\n",
    "</details>"
   ]
  },
  {
   "cell_type": "markdown",
   "id": "wide_vs_long",
   "metadata": {},
   "source": [
    "## 📏 Wide vs. Long Formats\n",
    "\n",
    "- **Wide format**: Each variable’s values spread across multiple columns (like `Iron_2020`, `Iron_2021`).\n",
    "- **Long format**: Each variable gets one column, with another column indicating the category (like `Year`).\n",
    "\n",
    "Wide is great for reading or reporting, but long is better for analysis because it’s tidy. Let’s convert our table to long format.\n",
    "\n",
    "<details>\n",
    "<summary>🛠️ Advanced: When to Use Wide</summary>\n",
    "Wide formats are useful for pivot tables or heatmaps. You’ll see them in dashboard apps or when presenting summary stats.\n",
    "</details>"
   ]
  },
  {
   "cell_type": "markdown",
   "id": "exercise_melt",
   "metadata": {},
   "source": [
    "## 🧪 Exercise: Convert Wide to Long Format\n",
    "\n",
    "Let’s make our data tidy by converting it from wide to long format using pandas’ `melt` function. Follow the code below, then try it yourself!\n",
    "\n",
    "**Task**: Convert the DataFrame to long format, so we have columns: `Participant`, `Year`, and `Iron`."
   ]
  },
  {
   "cell_type": "code",
   "execution_count": 4,
   "id": "melt_example",
   "metadata": {},
   "outputs": [
    {
     "data": {
      "text/html": [
       "<div>\n",
       "<style scoped>\n",
       "    .dataframe tbody tr th:only-of-type {\n",
       "        vertical-align: middle;\n",
       "    }\n",
       "\n",
       "    .dataframe tbody tr th {\n",
       "        vertical-align: top;\n",
       "    }\n",
       "\n",
       "    .dataframe thead th {\n",
       "        text-align: right;\n",
       "    }\n",
       "</style>\n",
       "<table border=\"1\" class=\"dataframe\">\n",
       "  <thead>\n",
       "    <tr style=\"text-align: right;\">\n",
       "      <th></th>\n",
       "      <th>Participant</th>\n",
       "      <th>Year</th>\n",
       "      <th>Iron</th>\n",
       "    </tr>\n",
       "  </thead>\n",
       "  <tbody>\n",
       "    <tr>\n",
       "      <th>0</th>\n",
       "      <td>P1</td>\n",
       "      <td>2020</td>\n",
       "      <td>8.2</td>\n",
       "    </tr>\n",
       "    <tr>\n",
       "      <th>1</th>\n",
       "      <td>P2</td>\n",
       "      <td>2020</td>\n",
       "      <td>9.1</td>\n",
       "    </tr>\n",
       "    <tr>\n",
       "      <th>2</th>\n",
       "      <td>P3</td>\n",
       "      <td>2020</td>\n",
       "      <td>7.5</td>\n",
       "    </tr>\n",
       "    <tr>\n",
       "      <th>3</th>\n",
       "      <td>P1</td>\n",
       "      <td>2021</td>\n",
       "      <td>8.5</td>\n",
       "    </tr>\n",
       "    <tr>\n",
       "      <th>4</th>\n",
       "      <td>P2</td>\n",
       "      <td>2021</td>\n",
       "      <td>9.3</td>\n",
       "    </tr>\n",
       "    <tr>\n",
       "      <th>5</th>\n",
       "      <td>P3</td>\n",
       "      <td>2021</td>\n",
       "      <td>7.8</td>\n",
       "    </tr>\n",
       "  </tbody>\n",
       "</table>\n",
       "</div>"
      ],
      "text/plain": [
       "  Participant  Year  Iron\n",
       "0          P1  2020   8.2\n",
       "1          P2  2020   9.1\n",
       "2          P3  2020   7.5\n",
       "3          P1  2021   8.5\n",
       "4          P2  2021   9.3\n",
       "5          P3  2021   7.8"
      ]
     },
     "execution_count": 4,
     "metadata": {},
     "output_type": "execute_result"
    }
   ],
   "source": [
    "df_melted = df.melt(id_vars='Participant', \n",
    "                    value_vars=['Iron_2020', 'Iron_2021'],\n",
    "                    var_name='Year', \n",
    "                    value_name='Iron')\n",
    "# Clean up the Year column\n",
    "df_melted['Year'] = df_melted['Year'].str.extract(r'(\\d+)')\n",
    "df_melted"
   ]
  },
  {
   "cell_type": "markdown",
   "id": "explain_melt",
   "metadata": {},
   "source": [
    "**What happened?**\n",
    "- `id_vars`: Columns to keep as is (`Participant`).\n",
    "- `value_vars`: Columns to melt into one (`Iron_2020`, `Iron_2021`).\n",
    "- `var_name`: Name of the new column for categories (`Year`).\n",
    "- `value_name`: Name of the new column for values (`Iron`).\n",
    "- We used `str.extract` to grab just the year number.\n",
    "\n",
    "Now our data is **tidy**! Each row is an observation (one participant’s iron intake in a specific year), and each variable (`Participant`, `Year`, `Iron`) has its own column."
   ]
  },
  {
   "cell_type": "markdown",
   "id": "try_it",
   "metadata": {},
   "source": [
    "## 🎯 Your Turn: Try It Yourself!\n",
    "\n",
    "Here’s a new dataset with calcium intakes. Convert it from wide to long format.\n",
    "\n",
    "**Task**: Create a tidy DataFrame with columns `Participant`, `Year`, and `Calcium`."
   ]
  },
  {
   "cell_type": "code",
   "execution_count": 5,
   "id": "student_exercise",
   "metadata": {},
   "outputs": [],
   "source": [
    "df_calcium = pd.DataFrame({\n",
    "    'Participant': ['A1', 'A2', 'A3'],\n",
    "    'Calcium_2019': [1200, 1100, 1300],\n",
    "    'Calcium_2020': [1150, 1050, 1250]\n",
    "})\n",
    "\n",
    "# Your code here:\n",
    "# df_calcium_melted = ..."
   ]
  },
  {
   "cell_type": "markdown",
   "id": "visualize",
   "metadata": {},
   "source": [
    "## 📈 Bonus: Visualize the Difference\n",
    "\n",
    "Let’s plot our tidy iron data to see why long format is great for analysis. We’ll make a line plot of iron intake over time for each participant."
   ]
  },
  {
   "cell_type": "code",
   "execution_count": 6,
   "id": "plot_tidy",
   "metadata": {},
   "outputs": [
    {
     "data": {
      "text/plain": [
       "<Figure size 640x480 with 1 Axes>"
      ]
     },
     "metadata": {
      "needs_background": "light"
     },
     "output_type": "display_data"
    }
   ],
   "source": [
    "plt.figure(figsize=(8, 5))\n",
    "for participant in df_melted['Participant'].unique():\n",
    "    subset = df_melted[df_melted['Participant'] == participant]\n",
    "    plt.plot(subset['Year'], subset['Iron'], marker='o', label=participant)\n",
    "plt.xlabel('Year')\n",
    "plt.ylabel('Iron Intake (mg)')\n",
    "plt.title('Iron Intake Over Time')\n",
    "plt.legend()\n",
    "plt.show()"
   ]
  },
  {
   "cell_type": "markdown",
   "id": "wrap_up",
   "metadata": {},
   "source": [
    "## 🎉 Wrap-Up\n",
    "\n",
    "You’ve learned:\n",
    "- **Vectors** are single columns of data.\n",
    "- **Tables** organize vectors into rows and columns.\n",
    "- **Tidy data** makes analysis easier with one variable per column and one observation per row.\n",
    "- **Wide vs. Long**: Long format is tidy and great for coding, while wide is better for reading.\n",
    "\n",
    "**What’s next?** In the next notebook, we’ll load real datasets and start exploring them!\n",
    "\n",
    "**Resources**:\n",
    "- [Pandas Melt Documentation](https://pandas.pydata.org/docs/reference/api/pandas.melt.html)\n",
    "- [Tidy Data in Python](https://www.dataschool.io/tidy-data-python-pandas/)\n",
    "- Try this notebook on [Google Colab](https://colab.research.google.com/) or fork it from our [GitHub repo](https://github.com/your-repo-link)!\n",
    "\n",
    "<details>\n",
    "<summary>🏆 Challenge: Go Deeper</summary>\n",
    "Try converting the tidy data back to wide format using `pivot` or `pivot_table`. Hint: Check the [pandas pivot docs](https://pandas.pydata.org/docs/reference/api/pandas.DataFrame.pivot.html).\n",
    "</details>"
   ]
  }
 ],
 "metadata": {
  "kernelspec": {
   "display_name": "Python 3",
   "language": "python",
   "name": "python3"
  },
  "language_info": {
   "codemirror_mode": {
    "name": "ipython",
    "version": 3
   },
   "file_extension": ".py",
   "mimetype": "text/x-python",
   "name": "python",
   "nbconvert_exporter": "python",
   "pygments_lexer": "ipython3",
   "version": "3.9.7"
  }
 },
 "nbformat": 4,
 "nbformat_minor": 5
}
