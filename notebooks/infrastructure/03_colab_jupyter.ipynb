{
 "cells": [
  {
   "cell_type": "markdown",
   "id": "7bfbaa16",
   "metadata": {},
   "source": [
    "# 💻 Using Google Colab and Jupyter\n",
    "\n",
    "Colab is a cloud-based version of Jupyter, ideal for students:\n",
    "\n",
    "- **Pros**: No setup, cloud-based, easy sharing\n",
    "- **Cons**: Needs internet, no persistent storage\n",
    "\n",
    "Local Jupyter is great for offline use and full control:\n",
    "\n",
    "```bash\n",
    "pip install notebook\n",
    "jupyter notebook\n",
    "```"
   ]
  }
 ],
 "metadata": {},
 "nbformat": 4,
 "nbformat_minor": 5
}
