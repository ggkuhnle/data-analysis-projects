{
  "nbformat": 4,
  "nbformat_minor": 5,
  "metadata": {
    "kernelspec": {
      "display_name": "Python 3",
      "language": "python",
      "name": "python3"
    },
    "language_info": {
      "name": "python",
      "version": "3.9"
    }
  },
  "cells": [
    {
      "cell_type": "markdown",
      "id": "intro",
      "metadata": {},
      "source": [
        "# 🧠 Programming Fundamentals: The Big Picture\n",
        "\n",
        "Before we dive into writing Python code, it helps to understand **what programming actually is** and **why it matters** for data analysis in nutrition, food, and sensory science.\n"
      ]
    },
    {
      "cell_type": "markdown",
      "id": "what_is_program",
      "metadata": {},
      "source": [
        "## 🧱 What Is a Program?\n",
        "\n",
        "A **computer program** consists of:\n",
        "- **Instructions** (the code you write)\n",
        "- **Data** (the values those instructions work on)\n",
        "\n",
        "Imagine a hippo cookbook: the **recipe** is the instructions, and the **ingredients** are the data.\n",
        "\n",
        "A simple Python program:\n",
        "```python\n",
        "calories = 2500         # integer: daily kcal\n",
        "protein = 80            # integer: grams of protein\n",
        "print(\n",
        "    \"This diet provides\",\n",
        "    calories, \"kcal and\",\n",
        "    protein, \"g of protein.\"\n",
        ")\n",
        "```"
      ]
    },
    {
      "cell_type": "markdown",
      "id": "structure",
      "metadata": {},
      "source": [
        "## 🧩 Structure of a Program\n",
        "\n",
        "Most programs use these core elements:\n",
        "\n",
        "- **Variables**: store data (e.g., `hippo_weight_kg`)\n",
        "- **Functions**: reusable blocks of code (e.g., `def calculate_bmi(...)`)\n",
        "- **Conditionals**: branch logic (`if`/`else`) — covered in 2.3\n",
        "- **Loops**: repeat actions (`for`, `while`) — covered in 2.3\n",
        "- **Comments**: explain *why* (not *what*) your code does\n",
        "- **Error handling**: gracefully deal with unexpected problems (`try`/`except`)\n",
        "\n",
        "Think of these as the **pots**, **pans**, and **measuring spoons** of your programming kitchen. You’ll use them in almost every recipe!\n"
      ]
    },
    {
      "cell_type": "markdown",
      "id": "naming",
      "metadata": {},
      "source": [
        "## 🧑‍🍳 Naming Things: Variables & Functions\n",
        "\n",
        "Clear, consistent names make code easier to read and maintain. In Python:\n",
        "\n",
        "- **Variables** and **functions**: use `snake_case` (lowercase + underscores)\n",
        "  - Good: `hippo_name`, `calculate_energy()`\n",
        "  - Bad: `HippoName`, `calcEnergy`, `x1`\n",
        "\n",
        "- **Constants**: use `UPPER_SNAKE_CASE`\n",
        "  - e.g. `MAX_CALORIES = 3000`\n",
        "\n",
        "> **Tip**: Choose names that describe the **purpose**, not just the type.\n",
        "- `iron_intake_mg` is clearer than `i` or `value`.\n",
        "\n",
        "Examples:\n",
        "```python\n",
        "hippo_name = \"Hilda\"\n",
        "calcium_intake_mg = 1200\n",
        "\n",
        "def calculate_bmi(weight_kg, height_m):\n",
        "    # returns BMI = kg / m^2\n",
        "    return weight_kg / (height_m ** 2)\n",
        "```"
      ]
    },
    {
      "cell_type": "markdown",
      "id": "formatting",
      "metadata": {},
      "source": [
        "## 🪶 Formatting & Indentation\n",
        "\n",
        "Python uses **indentation** (4 spaces) to define code blocks. Never mix tabs and spaces.\n",
        "\n",
        "- **4 spaces** per level (configured in your editor)\n",
        "- No trailing whitespace\n",
        "\n",
        "**Bad** (no indentation):\n",
        ```python
if iron_intake > 8.0:
print("Sufficient intake")
```,

        "**Good**:\n",
        ```python
if iron_intake > 8.0:
    print("Sufficient intake")
```,

        "> **Tip**: Most editors (VS Code, PyCharm, Colab) auto-indent for you. Stick to 4 spaces!"
      ]
    },
    {
      "cell_type": "markdown",
      "id": "comments",
      "metadata": {},
      "source": [
        "## 🗣️ Comment Your Code\n",
        "\n",
        "Comments help **humans** understand *why* you wrote something. They are **ignored** by Python.\n",
        "\n",
        "- Use `#` for single-line comments above or beside code.\n",
        "- Keep comments concise and avoid stating the obvious.\n",
        "- For multi-line explanations, consider a docstring in functions (see 2.3 for more).\n",
        "\n",
        "Examples:\n",
        "```python\n",
        "# calculate the percentage of reference intake\n",
        "def nutrient_percentage(intake, reference):\n",
        "    return (intake / reference) * 100  # returns float\n",
        "\n",
        "iron_intake = 8.2  # in mg\n",
        "```"
      ]
    },
    {
      "cell_type": "markdown",
      "id": "error_handling",
      "metadata": {},
      "source": [
        "## 🚨 Error Handling with `try/except`\n",
        "\n",
        "Use `try/except` to catch and handle errors gracefully. This keeps your program running when something unexpected happens.\n",
        "\n",
        "```python\n",
        "try:\n",
        "    result = 100 / user_input  # might be zero or non-numeric\n",
        "except ZeroDivisionError:\n",
        "    print(\"Cannot divide by zero — setting result to 0.\")\n",
        "    result = 0\n",
        "except (TypeError, ValueError):\n",
        "    print(\"Invalid input, please enter a number.\")\n",
        "    result = None\n",
        "```"
      ]
    },
    {
      "cell_type": "markdown",
      "id": "next_steps",
      "metadata": {},
      "source": [
        "## 🦛 In Summary\n",
        "\n",
        "- A **program** is instructions + data.\n",
        "- Use clear **naming**, consistent **indentation**, and thoughtful **comments**.\n",
        "- **Error handling** prevents crashes and aids debugging.\n",
        "\n",
        "**Next up**: Dive into Python’s **syntax, variables, and comments** in `2.1_syntax_variables_comments.ipynb` — your first hands-on coding session! 🎉"
      ]
    }
  ]
}