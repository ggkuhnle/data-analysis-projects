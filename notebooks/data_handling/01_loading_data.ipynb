{
 "cells": [
  {
   "cell_type": "markdown",
   "id": "b7f8c288",
   "metadata": {},
   "source": [
    "# 📂 Loading and Inspecting Data\n",
    "\n",
    "In this notebook we'll load a CSV file and take a first look."
   ]
  },
  {
   "cell_type": "code",
   "execution_count": null,
   "id": "b5f600ca",
   "metadata": {},
   "outputs": [],
   "source": [
    "import pandas as pd\n",
    "\n",
    "# Load example from GitHub or local file\n",
    "url = 'https://people.sc.fsu.edu/~jburkardt/data/csv/hw_200.csv'\n",
    "df = pd.read_csv(url)\n",
    "df.head()"
   ]
  }
 ],
 "metadata": {},
 "nbformat": 4,
 "nbformat_minor": 5
}
