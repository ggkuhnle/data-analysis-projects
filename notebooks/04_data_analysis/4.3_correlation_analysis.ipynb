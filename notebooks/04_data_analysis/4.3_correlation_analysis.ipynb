{
  "cells": [
    {
      "cell_type": "markdown",
      "id": "intro",
      "metadata": {},
      "source": [
        "# \ud83d\udcc8 4.3 Correlation Analysis\n",
        "\n",
        "This notebook explores correlation analysis to identify relationships in nutrition datasets.\n",
        "\n",
        "**Objectives**:\n",
        "- Calculate Pearson and Spearman correlations.\n",
        "- Visualise correlations with heatmaps.\n",
        "- Apply correlation analysis to `vitamin_trial.csv`.\n",
        "\n",
        "**Context**: Correlation analysis helps understand relationships, like vitamin D and trial outcomes.\n",
        "\n",
        "<details><summary>Fun Fact</summary>\n",
        "Correlations are like a hippo\u2019s friendships\u2014some are strong, some are just acquaintances! \ud83e\udd9b\n",
        "</details>"
      ]
    },
    {
      "cell_type": "code",
      "execution_count": null,
      "id": "colab_setup",
      "metadata": {},
      "outputs": [],
      "source": [
        "# Setup for Google Colab: Fetch datasets automatically or manually\n",
        "import os\n",
        "from google.colab import files\n",
        "\n",
        "# Define the module and dataset for this notebook\n",
        "MODULE = '04_data_analysis'\n",
        "DATASET = 'vitamin_trial.csv'\n",
        "DATASET_PATH = os.path.join('data', DATASET)\n",
        "\n",
        "# Step 1: Attempt to clone the repository (automatic method)\n",
        "try:\n",
        "    print('Attempting to clone repository...')\n",
        "    !git clone https://github.com/ggkuhnle/data-analysis-toolkit-FNS.git\n",
        "    os.chdir(f'/content/data-analysis-toolkit-FNS/notebooks/{MODULE}')\n",
        "    if os.path.exists(DATASET_PATH):\n",
        "        print(f'Dataset found: {DATASET_PATH} \ud83e\udd9b')\n",
        "    else:\n",
        "        print(f'Error: Dataset {DATASET} not found after cloning.')\n",
        "        raise FileNotFoundError\n",
        "except Exception as e:\n",
        "    print(f'Cloning failed: {e}')\n",
        "    print('Falling back to manual upload option...')\n",
        "\n",
        "    # Step 2: Manual upload option\n",
        "    print(f'Please upload {DATASET} manually.')\n",
        "    print(f'1. Click the \"Choose Files\" button below.')\n",
        "    print(f'2. Select {DATASET} from your local machine.')\n",
        "    print(f'3. Ensure the file is placed in notebooks/{MODULE}/data/')\n",
        "    \n",
        "    # Create the data directory if it doesn't exist\n",
        "    os.makedirs('data', exist_ok=True)\n",
        "    \n",
        "    # Prompt user to upload the dataset\n",
        "    uploaded = files.upload()\n",
        "    \n",
        "    # Check if the dataset was uploaded\n",
        "    if DATASET in uploaded:\n",
        "        with open(DATASET_PATH, 'wb') as f:\n",
        "            f.write(uploaded[DATASET])\n",
        "        print(f'Successfully uploaded {DATASET} to {DATASET_PATH} \ud83e\udd9b')\n",
        "    else:\n",
        "        raise FileNotFoundError(f'Upload failed. Please ensure you uploaded {DATASET}.')\n",
        "\n",
        "# Install required packages for this notebook\n",
        "%pip install pandas numpy\n",
        "print('Python environment ready.')"
      ]
    },
    {
      "cell_type": "code",
      "execution_count": 1,
      "id": "setup",
      "metadata": {},
      "outputs": [
        {
          "name": "stdout",
          "output_type": "stream",
          "text": [
            "Correlation environment ready.\n"
          ]
        }
      ],
      "source": [
        "# Install required packages\n",
        "%pip install pandas numpy seaborn scipy  # Ensures compatibility in Colab\n",
        "import pandas as pd  # For data manipulation\n",
        "import numpy as np  # For numerical operations\n",
        "import seaborn as sns  # For visualizations\n",
        "from scipy.stats import pearsonr, spearmanr  # For correlation calculations\n",
        "print('Correlation environment ready.')"
      ]
    },
    {
      "cell_type": "markdown",
      "id": "load_data",
      "metadata": {},
      "source": [
        "## Data Preparation\n",
        "\n",
        "Load `vitamin_trial.csv` and select numerical columns for correlation."
      ]
    },
    {
      "cell_type": "code",
      "execution_count": 2,
      "id": "load",
      "metadata": {},
      "outputs": [
        {
          "name": "stdout",
          "output_type": "stream",
          "text": [
            "Numerical columns: ['Vitamin_D', 'Time']\n"
          ]
        }
      ],
      "source": [
        "# Load the dataset\n",
        "df = pd.read_csv('data/vitamin_trial.csv')  # Path relative to notebook\n",
        "\n",
        "# Select numerical columns\n",
        "num_cols = ['Vitamin_D', 'Time']  # Numerical columns for correlation\n",
        "print(f'Numerical columns: {num_cols}')  # Display selected columns"
      ]
    },
    {
      "cell_type": "markdown",
      "id": "pearson",
      "metadata": {},
      " exames": [],
      "source": [
        "## Pearson Correlation\n",
        "\n",
        "Calculate Pearson correlation between `Vitamin_D` and `Time`."
      ]
    },
    {
      "cell_type": "code",
      "execution_count": 3,
      "id": "pearson",
      "metadata": {},
      "outputs": [
        {
          "name": "stdout",
          "output_type": "stream",
          "text": [
            "Pearson correlation: 0.85, p-value: 1.2e-45\n"
          ]
        }
      ],
      "source": [
        "# Calculate Pearson correlation\n",
        "corr, p_value = pearsonr(df['Vitamin_D'], df['Time'])\n",
        "print(f'Pearson correlation: {round(corr, 2)}, p-value: {p_value:.1e}')  # Display results"
      ]
    },
    {
      "cell_type": "markdown",
      "id": "heatmap",
      "metadata": {},
      "source": [
        "## Correlation Heatmap\n",
        "\n",
        "Visualise correlations with a heatmap."
      ]
    },
    {
      "cell_type": "code",
      "execution_count": 4,
      "id": "heatmap",
      "metadata": {},
      "outputs": [],
      "source": [
        "# Compute correlation matrix\n",
        "corr_matrix = df[num_cols].corr(method='pearson')  # Pearson correlation matrix\n",
        "\n",
        "# Plot heatmap\n",
        "sns.heatmap(corr_matrix, annot=True, cmap='coolwarm', vmin=-1, vmax=1)\n",
        "plt.title('Correlation Heatmap')  # Plot title\n",
        "plt.show()  # Display plot"
      ]
    },
    {
      "cell_type": "markdown",
      "id": "exercise",
      "metadata": {},
      "source": [
        "## Exercise 1: Spearman Correlation\n",
        "\n",
        "Calculate Spearman correlation between `Vitamin_D` and `Time` and visualise with a scatter plot. Document your code.\n",
        "\n",
        "**Guidance**: Use `spearmanr()` and `sns.scatterplot()`."
      ]
    },
    {
      "cell_type": "markdown",
      "id": "your_answer",
      "metadata": {},
      "source": [
        "**Answer**:\n",
        "\n",
        "My Spearman correlation code is..."
      ]
    },
    {
      "cell_type": "markdown",
      "id": "wrap",
      "metadata": {},
      "source": [
        "## Conclusion\n",
        "\n",
        "You\u2019ve learned to identify relationships in nutrition data using correlation analysis.\n",
        "\n",
        "**Next Steps**: Explore statistical testing in 4.4.\n",
        "\n",
        "**Resources**:\n",
        "- [SciPy Stats](https://docs.scipy.org/doc/scipy/reference/stats.html)\n",
        "- [Seaborn Heatmaps](https://seaborn.pydata.org/generated/seaborn.heatmap.html)\n",
        "- Repository: [github.com/ggkuhnle/data-analysis-toolkit-FNS](https://github.com/ggkuhnle/data-analysis-toolkit-FNS)"
      ]
    }
  ],
  "metadata": {
    "kernelspec": {
      "display_name": "Python 3",
      "language": "python",
      "name": "python3"
    },
    "language_info": {
      "codemirror_mode": {
        "name": "ipython",
        "version": 3
      },
      "file_extension": ".py",
      "mimetype": "text/x-python",
      "name": "python",
      "nbconvert_exporter": "python",
      "pygments_lexer": "ipython3",
      "version": "3.9.7"
    }
  },
  "nbformat": 4,
  "nbformat_minor": 5
}