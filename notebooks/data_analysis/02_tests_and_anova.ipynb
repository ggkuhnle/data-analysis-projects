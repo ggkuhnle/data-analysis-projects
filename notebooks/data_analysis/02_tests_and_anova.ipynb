{
 "cells": [
  {
   "cell_type": "markdown",
   "id": "a1bf479d",
   "metadata": {},
   "source": [
    "# 🧪 T-tests and ANOVA\n",
    "\n",
    "Testing group differences.\n",
    "```python\n",
    "from scipy.stats import ttest_ind\n",
    "```"
   ]
  }
 ],
 "metadata": {},
 "nbformat": 4,
 "nbformat_minor": 5
}
