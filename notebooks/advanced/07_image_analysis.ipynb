# 🧪 Image Analysis

_Basics of image processing in Python using `scikit-image`, `PIL`, or `opencv`._

🧪 **Exercise**: Analyse food texture variation from image data.